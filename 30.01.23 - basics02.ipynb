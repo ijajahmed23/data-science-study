{
 "cells": [
  {
   "cell_type": "code",
   "execution_count": 1,
   "id": "e264dde3-9ba5-4311-9c07-940449626a68",
   "metadata": {},
   "outputs": [
    {
     "name": "stdout",
     "output_type": "stream",
     "text": [
      "my age is  32\n"
     ]
    }
   ],
   "source": [
    "age=32\n",
    "print(\"my age is \",age)"
   ]
  },
  {
   "cell_type": "code",
   "execution_count": 2,
   "id": "a94f3700-1030-4c0b-ab90-758b4ebf5ba3",
   "metadata": {},
   "outputs": [
    {
     "name": "stdout",
     "output_type": "stream",
     "text": [
      "my age is {age}\n"
     ]
    }
   ],
   "source": [
    "print(\"my age is {age}\")"
   ]
  },
  {
   "cell_type": "markdown",
   "id": "584ca699-8dfd-4931-bd60-8f72f7d9e872",
   "metadata": {},
   "source": [
    "###FSTRING"
   ]
  },
  {
   "cell_type": "code",
   "execution_count": 3,
   "id": "8f831199-8c8e-40f9-aad6-1ecef3625b75",
   "metadata": {},
   "outputs": [
    {
     "name": "stdout",
     "output_type": "stream",
     "text": [
      "my age is 32\n"
     ]
    }
   ],
   "source": [
    "print(f\"my age is {age}\")"
   ]
  },
  {
   "cell_type": "code",
   "execution_count": 4,
   "id": "80874e8b-1662-451f-8c17-2b06ed512bae",
   "metadata": {},
   "outputs": [
    {
     "name": "stdout",
     "output_type": "stream",
     "text": [
      "my name is IJAJ and age is 32\n"
     ]
    }
   ],
   "source": [
    "name=\"IJAJ\"\n",
    "print(\"my name is {} and age is {}\".format(name,age))"
   ]
  },
  {
   "cell_type": "code",
   "execution_count": 5,
   "id": "505fa7f8-9a16-44c1-af36-c4fc01371ff9",
   "metadata": {},
   "outputs": [
    {
     "name": "stdout",
     "output_type": "stream",
     "text": [
      "my name is 32 and age is IJAJ\n"
     ]
    }
   ],
   "source": [
    "print(\"my name is {} and age is {}\".format(age,name))"
   ]
  },
  {
   "cell_type": "code",
   "execution_count": 6,
   "id": "6d37e5c0-4e99-424d-9d78-dd8e87dc7456",
   "metadata": {},
   "outputs": [
    {
     "name": "stdout",
     "output_type": "stream",
     "text": [
      "my name is IJAJ and age is 32\n"
     ]
    }
   ],
   "source": [
    "print(\"my name is {a} and age is {b}\".format(a=name,b=age))"
   ]
  },
  {
   "cell_type": "code",
   "execution_count": 8,
   "id": "44ffedce-9373-4bc7-8248-ff6aec8ffee1",
   "metadata": {},
   "outputs": [
    {
     "name": "stdin",
     "output_type": "stream",
     "text": [
      "enter name:  123rana\n"
     ]
    }
   ],
   "source": [
    "name=str(input(\"enter name: \"))"
   ]
  },
  {
   "cell_type": "code",
   "execution_count": 9,
   "id": "3889e901-46db-41a4-9de6-1b1cc662fe39",
   "metadata": {},
   "outputs": [
    {
     "data": {
      "text/plain": [
       "str"
      ]
     },
     "execution_count": 9,
     "metadata": {},
     "output_type": "execute_result"
    }
   ],
   "source": [
    "type(name)"
   ]
  },
  {
   "cell_type": "code",
   "execution_count": 10,
   "id": "f8fd01f0-0e43-4c72-a07a-612cc5e0e63b",
   "metadata": {},
   "outputs": [
    {
     "name": "stdin",
     "output_type": "stream",
     "text": [
      "enter age:  18.7\n"
     ]
    }
   ],
   "source": [
    "age=float(input(\"enter age: \"))"
   ]
  },
  {
   "cell_type": "code",
   "execution_count": 12,
   "id": "fce3c0d4-7f50-428e-aaa1-cb3837c828db",
   "metadata": {},
   "outputs": [
    {
     "name": "stdin",
     "output_type": "stream",
     "text": [
      "eneter age:  12\n"
     ]
    },
    {
     "name": "stdout",
     "output_type": "stream",
     "text": [
      "you are not eligible\n"
     ]
    }
   ],
   "source": [
    "age=int(input(\"eneter age: \"))\n",
    "if age>=18 and age<=45:\n",
    "    print(\"you are eligible\")\n",
    "else:\n",
    "    print(\"you are not eligible\")"
   ]
  },
  {
   "cell_type": "code",
   "execution_count": 13,
   "id": "447a8eb9-4ab9-4a03-b3c5-69de70ceb63f",
   "metadata": {},
   "outputs": [
    {
     "name": "stdin",
     "output_type": "stream",
     "text": [
      "enter price:  750\n"
     ]
    },
    {
     "name": "stdout",
     "output_type": "stream",
     "text": [
      "525.0\n"
     ]
    }
   ],
   "source": [
    "price=float(input(\"enter price: \"))\n",
    "if price<=1000:\n",
    "    print(price*70/100)\n",
    "elif price>1000:\n",
    "    print(price*80/100)\n",
    "else:\n",
    "    print(price)"
   ]
  },
  {
   "cell_type": "code",
   "execution_count": 14,
   "id": "5dfe010a-fcce-43ad-849d-138a0c75c318",
   "metadata": {},
   "outputs": [
    {
     "name": "stdin",
     "output_type": "stream",
     "text": [
      "enter price:  520\n"
     ]
    },
    {
     "name": "stdout",
     "output_type": "stream",
     "text": [
      "364.0\n"
     ]
    }
   ],
   "source": [
    "price=float(input(\"enter price: \"))\n",
    "if price<=1000:\n",
    "    print(price*70/100)\n",
    "else:\n",
    "    print(price*80/100)"
   ]
  },
  {
   "cell_type": "code",
   "execution_count": 17,
   "id": "5ea27738-14a6-4a60-9f5f-36b6740f0c3a",
   "metadata": {},
   "outputs": [
    {
     "name": "stdin",
     "output_type": "stream",
     "text": [
      "enter price:  2999\n"
     ]
    },
    {
     "name": "stdout",
     "output_type": "stream",
     "text": [
      "you are lucky\n",
      "1799.4\n"
     ]
    }
   ],
   "source": [
    "price=float(input(\"enter price: \"))\n",
    "if price<=1000:\n",
    "    print(price*70/100)\n",
    "elif price>1000 and price<=2000:\n",
    "    print(price*80/100)\n",
    "elif price>2000 and price<=3000:\n",
    "    if price==2999:\n",
    "        print(\"you are lucky\")\n",
    "    print(price*60/100)\n",
    "else:\n",
    "    print(price)"
   ]
  },
  {
   "cell_type": "markdown",
   "id": "5d29da90-9d78-4d27-9f00-43a1142cbda9",
   "metadata": {},
   "source": [
    "###LOOPS"
   ]
  },
  {
   "cell_type": "code",
   "execution_count": 22,
   "id": "22a3ddc4-0a7b-4c39-bda4-366fd203f3e9",
   "metadata": {},
   "outputs": [
    {
     "name": "stdout",
     "output_type": "stream",
     "text": [
      "26\n",
      "27\n",
      "28\n",
      "29\n",
      "30\n",
      "31\n",
      "32\n",
      "33\n",
      "34\n",
      "35\n",
      "36\n",
      "37\n",
      "38\n",
      "39\n",
      "40\n",
      "41\n",
      "42\n",
      "43\n",
      "44\n",
      "45\n",
      "46\n",
      "47\n",
      "48\n",
      "49\n",
      "50\n",
      "51\n",
      "52\n",
      "53\n",
      "54\n",
      "55\n",
      "56\n",
      "57\n",
      "58\n",
      "59\n",
      "60\n",
      "61\n",
      "retire\n"
     ]
    }
   ],
   "source": [
    "age=25\n",
    "i=1\n",
    "while age<=60:\n",
    "      age=age+1\n",
    "      print(age)\n",
    "else:\n",
    "    print(\"retire\")"
   ]
  },
  {
   "cell_type": "code",
   "execution_count": 23,
   "id": "43aeb93f-f2f2-4548-9e16-19fbfa9b3442",
   "metadata": {},
   "outputs": [
    {
     "name": "stdout",
     "output_type": "stream",
     "text": [
      "1000\n",
      "900\n",
      "800\n",
      "700\n",
      "600\n",
      "500\n",
      "400\n",
      "300\n",
      "200\n",
      "100\n",
      "put money\n"
     ]
    }
   ],
   "source": [
    "amount=1000\n",
    "while amount!=0:\n",
    "    print(amount)\n",
    "    amount=amount-100\n",
    "else:\n",
    "    print(\"put money\")"
   ]
  },
  {
   "cell_type": "code",
   "execution_count": 24,
   "id": "845f89b0-52a2-40bf-94cf-4769e0210ba8",
   "metadata": {},
   "outputs": [],
   "source": [
    "lst=[\"ijaj\",1,2,3,\"ahmed\"]"
   ]
  },
  {
   "cell_type": "code",
   "execution_count": 34,
   "id": "3f759b41-078c-45c1-8aca-09ead841a68c",
   "metadata": {},
   "outputs": [
    {
     "name": "stdout",
     "output_type": "stream",
     "text": [
      "['ijaj', 2, 'ahmed']\n"
     ]
    }
   ],
   "source": [
    "lst\n",
    "print(lst[0::2])"
   ]
  },
  {
   "cell_type": "code",
   "execution_count": 30,
   "id": "ea5b4ced-3668-4be1-8afd-4c3c6a14ff72",
   "metadata": {},
   "outputs": [
    {
     "name": "stdout",
     "output_type": "stream",
     "text": [
      "ijaj\n",
      "1\n",
      "2\n",
      "3\n",
      "ahmed\n"
     ]
    }
   ],
   "source": [
    "for x in lst:\n",
    "    print(x)"
   ]
  },
  {
   "cell_type": "code",
   "execution_count": 36,
   "id": "37af3b6d-c348-4700-b4fd-3b462c495a54",
   "metadata": {},
   "outputs": [
    {
     "name": "stdout",
     "output_type": "stream",
     "text": [
      "ijaj\n",
      "1\n",
      "2\n",
      "3\n",
      "lucky\n"
     ]
    }
   ],
   "source": [
    "for x in lst:\n",
    "    print(x)\n",
    "    if x==3:\n",
    "        print(\"lucky\")\n",
    "        break"
   ]
  },
  {
   "cell_type": "code",
   "execution_count": 35,
   "id": "1344db39-228a-458d-8a97-6e1b3059cadb",
   "metadata": {},
   "outputs": [
    {
     "name": "stdout",
     "output_type": "stream",
     "text": [
      "ijaj\n",
      "1\n",
      "2\n",
      "3\n",
      "lucky\n",
      "ahmed\n"
     ]
    }
   ],
   "source": [
    "for x in lst:\n",
    "    print(x)\n",
    "    if x==3:\n",
    "        print(\"lucky\")"
   ]
  },
  {
   "cell_type": "code",
   "execution_count": 64,
   "id": "4f2ee3d1-72fd-4d33-8a82-e67094df8c37",
   "metadata": {},
   "outputs": [
    {
     "name": "stdout",
     "output_type": "stream",
     "text": [
      "ijaj\n",
      "1\n",
      "2\n",
      "it is 3\n"
     ]
    }
   ],
   "source": [
    "for x in lst:\n",
    "    if x==3:\n",
    "        print(\"it is 3\")\n",
    "        break\n",
    "    print(x)\n",
    "        "
   ]
  },
  {
   "cell_type": "code",
   "execution_count": 63,
   "id": "0d5b225e-5f88-4822-af3e-dcf09b37ed69",
   "metadata": {},
   "outputs": [
    {
     "name": "stdout",
     "output_type": "stream",
     "text": [
      "ijaj\n",
      "1\n",
      "2\n",
      "it is 3\n",
      "ahmed\n"
     ]
    }
   ],
   "source": [
    "for x in lst:\n",
    "    if x==3:\n",
    "        print(\"it is 3\")\n",
    "        continue\n",
    "    print(x)"
   ]
  },
  {
   "cell_type": "code",
   "execution_count": 27,
   "id": "366bb449-baf4-46ae-a3e6-89645a7a6811",
   "metadata": {},
   "outputs": [
    {
     "data": {
      "text/plain": [
       "list"
      ]
     },
     "execution_count": 27,
     "metadata": {},
     "output_type": "execute_result"
    }
   ],
   "source": [
    "type(lst)"
   ]
  },
  {
   "cell_type": "code",
   "execution_count": 18,
   "id": "12ed00ea-9d90-4529-8668-76edb923508d",
   "metadata": {},
   "outputs": [
    {
     "name": "stdout",
     "output_type": "stream",
     "text": [
      "25\n",
      "26\n",
      "27\n",
      "28\n",
      "29\n",
      "30\n",
      "31\n",
      "32\n",
      "33\n",
      "34\n",
      "35\n",
      "36\n",
      "37\n",
      "38\n",
      "39\n",
      "40\n",
      "41\n",
      "42\n",
      "43\n",
      "44\n",
      "45\n",
      "46\n",
      "47\n",
      "48\n",
      "49\n",
      "50\n",
      "51\n",
      "52\n",
      "53\n",
      "54\n",
      "55\n",
      "56\n",
      "57\n",
      "58\n",
      "59\n",
      "60\n"
     ]
    }
   ],
   "source": [
    "age=25\n",
    "i=1\n",
    "while age<=60:\n",
    "    print(age)\n",
    "    age=age+1"
   ]
  },
  {
   "cell_type": "code",
   "execution_count": 40,
   "id": "0a5887ee-b323-47a4-8006-97b0cf3cda39",
   "metadata": {},
   "outputs": [
    {
     "name": "stdout",
     "output_type": "stream",
     "text": [
      "m\n",
      "a\n",
      "n\n",
      "g\n",
      "o\n"
     ]
    }
   ],
   "source": [
    "fruit=\"mango\"\n",
    "for a in fruit:\n",
    "    print(a, end=\"\\n\")"
   ]
  },
  {
   "cell_type": "code",
   "execution_count": 43,
   "id": "8931eea9-9b12-4a55-abc1-70ed7621ee13",
   "metadata": {},
   "outputs": [
    {
     "data": {
      "text/plain": [
       "'g'"
      ]
     },
     "execution_count": 43,
     "metadata": {},
     "output_type": "execute_result"
    }
   ],
   "source": [
    "fruit[3]"
   ]
  },
  {
   "cell_type": "code",
   "execution_count": 46,
   "id": "0f7fa574-e715-43dd-8916-c149d235d1ba",
   "metadata": {},
   "outputs": [
    {
     "name": "stdout",
     "output_type": "stream",
     "text": [
      "1 2 3 4 5 "
     ]
    }
   ],
   "source": [
    "for i in range(1,6):\n",
    "    print(i, end=\" \")"
   ]
  },
  {
   "cell_type": "code",
   "execution_count": 47,
   "id": "dccd14ca-ce69-43ce-9a0e-f0d1c2d2b386",
   "metadata": {},
   "outputs": [
    {
     "name": "stdout",
     "output_type": "stream",
     "text": [
      "135"
     ]
    }
   ],
   "source": [
    "for i in range(1,6,2):\n",
    "    print(i, end=\"\")"
   ]
  },
  {
   "cell_type": "code",
   "execution_count": 54,
   "id": "a33d2d83-8b5a-472c-aaa3-b488eb060e0f",
   "metadata": {},
   "outputs": [
    {
     "name": "stdin",
     "output_type": "stream",
     "text": [
      "number of steps:  5\n"
     ]
    },
    {
     "name": "stdout",
     "output_type": "stream",
     "text": [
      "*\n",
      "**\n",
      "***\n",
      "****\n",
      "*****\n"
     ]
    }
   ],
   "source": [
    "n=int(input(\"number of steps: \"))\n",
    "for i in range(0,n):\n",
    "    for j in range(0,i+1):\n",
    "        print(\"*\",end=\"\")\n",
    "    print(\"\\r\")"
   ]
  },
  {
   "cell_type": "code",
   "execution_count": 71,
   "id": "02955310-9a00-4e41-92e7-f7e56123144d",
   "metadata": {},
   "outputs": [
    {
     "name": "stdin",
     "output_type": "stream",
     "text": [
      "number of steps:  5\n"
     ]
    },
    {
     "name": "stdout",
     "output_type": "stream",
     "text": [
      "     *\n",
      "    * *\n",
      "   * * *\n",
      "  * * * *\n",
      " * * * * *\n"
     ]
    }
   ],
   "source": [
    "n=int(input(\"number of steps: \"))\n",
    "for i in range(1,n+1):\n",
    "    print(' '*(n-i) + ' *'*(i))"
   ]
  },
  {
   "cell_type": "code",
   "execution_count": null,
   "id": "0dc92b9a-47b6-4f2a-a634-ff7c61567222",
   "metadata": {},
   "outputs": [],
   "source": []
  }
 ],
 "metadata": {
  "kernelspec": {
   "display_name": "Python 3 (ipykernel)",
   "language": "python",
   "name": "python3"
  },
  "language_info": {
   "codemirror_mode": {
    "name": "ipython",
    "version": 3
   },
   "file_extension": ".py",
   "mimetype": "text/x-python",
   "name": "python",
   "nbconvert_exporter": "python",
   "pygments_lexer": "ipython3",
   "version": "3.10.8"
  }
 },
 "nbformat": 4,
 "nbformat_minor": 5
}
