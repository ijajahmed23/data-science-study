{
 "cells": [
  {
   "cell_type": "code",
   "execution_count": 1,
   "id": "62b61fc4-2f27-4542-b544-4f2ab6a0e29c",
   "metadata": {},
   "outputs": [
    {
     "data": {
      "text/plain": [
       "range(1, 11)"
      ]
     },
     "execution_count": 1,
     "metadata": {},
     "output_type": "execute_result"
    }
   ],
   "source": [
    "range(1,11)"
   ]
  },
  {
   "cell_type": "code",
   "execution_count": 7,
   "id": "6b771d03-557a-4b47-9a44-204f2d9068ed",
   "metadata": {},
   "outputs": [
    {
     "name": "stdout",
     "output_type": "stream",
     "text": [
      "1\n",
      "2\n",
      "3\n",
      "4\n",
      "5\n",
      "6\n",
      "7\n",
      "8\n",
      "9\n",
      "10\n"
     ]
    }
   ],
   "source": [
    "for i in range(1,11):\n",
    "       print(i)\n",
    "       "
   ]
  },
  {
   "cell_type": "code",
   "execution_count": 11,
   "id": "dd9e7c6c-c7c5-4445-aa20-4a5df06d5046",
   "metadata": {},
   "outputs": [],
   "source": [
    "l=[1,2,3,4,4,5.78,\"ijaj\",\"ahmed\"]"
   ]
  },
  {
   "cell_type": "code",
   "execution_count": 9,
   "id": "18ae05de-0894-4964-912a-b6e503132b0d",
   "metadata": {},
   "outputs": [],
   "source": [
    "def test1(a):\n",
    "    n=[]\n",
    "    for i in a:\n",
    "        if type(i)==int:\n",
    "            n.append(i)\n",
    "    return n"
   ]
  },
  {
   "cell_type": "code",
   "execution_count": 12,
   "id": "c10e7546-abf5-4c76-bd97-029ebf585d98",
   "metadata": {},
   "outputs": [
    {
     "data": {
      "text/plain": [
       "[1, 2, 3, 4, 4]"
      ]
     },
     "execution_count": 12,
     "metadata": {},
     "output_type": "execute_result"
    }
   ],
   "source": [
    "test1(l)"
   ]
  },
  {
   "cell_type": "code",
   "execution_count": 1,
   "id": "78085e11-66e8-4dc3-8d3c-c1d0a6a4a8e2",
   "metadata": {},
   "outputs": [],
   "source": [
    "def test_fibonacci(n):\n",
    "    a,b=0,1\n",
    "    for i in range(n):\n",
    "        yield a\n",
    "        a,b=b,a+b"
   ]
  },
  {
   "cell_type": "code",
   "execution_count": 2,
   "id": "086bf09e-6eb6-4893-9dbe-e2b3052c1d79",
   "metadata": {},
   "outputs": [
    {
     "data": {
      "text/plain": [
       "<generator object test_fibonacci at 0x7f5fac52cdd0>"
      ]
     },
     "execution_count": 2,
     "metadata": {},
     "output_type": "execute_result"
    }
   ],
   "source": [
    "test_fibonacci(10)"
   ]
  },
  {
   "cell_type": "code",
   "execution_count": 3,
   "id": "87cfcbcf-1fe6-4bf1-b00f-8dd0cb5e84cc",
   "metadata": {},
   "outputs": [
    {
     "name": "stdout",
     "output_type": "stream",
     "text": [
      "0\n",
      "1\n",
      "1\n",
      "2\n",
      "3\n",
      "5\n",
      "8\n",
      "13\n",
      "21\n",
      "34\n"
     ]
    }
   ],
   "source": [
    "for i in test_fibonacci(10):\n",
    "    print(i)"
   ]
  },
  {
   "cell_type": "code",
   "execution_count": 4,
   "id": "c4f35437-a10a-4979-9ebf-8676156f48d1",
   "metadata": {},
   "outputs": [],
   "source": [
    "def give_fibo(n):\n",
    "    x,y=0,1\n",
    "    for i in range(n):\n",
    "        yield x\n",
    "        x,y=y,x+y"
   ]
  },
  {
   "cell_type": "code",
   "execution_count": 5,
   "id": "e07c0257-ca03-49f0-8023-6d014403e99e",
   "metadata": {},
   "outputs": [
    {
     "data": {
      "text/plain": [
       "<generator object give_fibo at 0x7f5fac52dd90>"
      ]
     },
     "execution_count": 5,
     "metadata": {},
     "output_type": "execute_result"
    }
   ],
   "source": [
    "give_fibo(20)"
   ]
  },
  {
   "cell_type": "code",
   "execution_count": 6,
   "id": "393d05c5-a0f0-4328-a281-43c6401f58a8",
   "metadata": {},
   "outputs": [
    {
     "name": "stdout",
     "output_type": "stream",
     "text": [
      "0\n",
      "1\n",
      "1\n",
      "2\n",
      "3\n",
      "5\n",
      "8\n",
      "13\n",
      "21\n",
      "34\n",
      "55\n",
      "89\n",
      "144\n",
      "233\n",
      "377\n",
      "610\n",
      "987\n",
      "1597\n",
      "2584\n",
      "4181\n"
     ]
    }
   ],
   "source": [
    "for i in give_fibo(20):\n",
    "    print(i)"
   ]
  },
  {
   "cell_type": "code",
   "execution_count": null,
   "id": "bc5072d1-dd3d-4fce-81d9-ed4d449c783c",
   "metadata": {},
   "outputs": [],
   "source": []
  }
 ],
 "metadata": {
  "kernelspec": {
   "display_name": "Python 3 (ipykernel)",
   "language": "python",
   "name": "python3"
  },
  "language_info": {
   "codemirror_mode": {
    "name": "ipython",
    "version": 3
   },
   "file_extension": ".py",
   "mimetype": "text/x-python",
   "name": "python",
   "nbconvert_exporter": "python",
   "pygments_lexer": "ipython3",
   "version": "3.10.8"
  }
 },
 "nbformat": 4,
 "nbformat_minor": 5
}
