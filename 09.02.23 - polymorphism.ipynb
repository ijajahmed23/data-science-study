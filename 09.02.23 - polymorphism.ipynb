{
 "cells": [
  {
   "cell_type": "code",
   "execution_count": 1,
   "id": "3b580376-5310-4f15-8042-ca17688ffe07",
   "metadata": {},
   "outputs": [],
   "source": [
    "def test(a,b):\n",
    "    return a+b"
   ]
  },
  {
   "cell_type": "code",
   "execution_count": 4,
   "id": "1c586256-7d32-4f21-8714-aaf147480b7e",
   "metadata": {},
   "outputs": [
    {
     "data": {
      "text/plain": [
       "9"
      ]
     },
     "execution_count": 4,
     "metadata": {},
     "output_type": "execute_result"
    }
   ],
   "source": [
    "test(4,5) #addition"
   ]
  },
  {
   "cell_type": "code",
   "execution_count": 5,
   "id": "38b0b171-9d25-4ad6-a489-9835e9252678",
   "metadata": {},
   "outputs": [
    {
     "data": {
      "text/plain": [
       "'ijajahmed'"
      ]
     },
     "execution_count": 5,
     "metadata": {},
     "output_type": "execute_result"
    }
   ],
   "source": [
    "test(\"ijaj\",\"ahmed\") #concatenation"
   ]
  },
  {
   "cell_type": "code",
   "execution_count": 6,
   "id": "0f2ebc94-f74e-4083-8171-8420703fc9b4",
   "metadata": {},
   "outputs": [
    {
     "data": {
      "text/plain": [
       "[1, 2, 3, 4, 5, 6]"
      ]
     },
     "execution_count": 6,
     "metadata": {},
     "output_type": "execute_result"
    }
   ],
   "source": [
    "test([1,2,3],[4,5,6])"
   ]
  },
  {
   "cell_type": "code",
   "execution_count": 7,
   "id": "2831e223-8ecb-42b6-accf-192ce6c5d496",
   "metadata": {},
   "outputs": [],
   "source": [
    "class DataScience:\n",
    "    def syllabus(self):\n",
    "        print(\"method for data science syllabus\")"
   ]
  },
  {
   "cell_type": "code",
   "execution_count": 9,
   "id": "d5fc5ba1-3d4d-46f4-8949-161aec971fd1",
   "metadata": {},
   "outputs": [],
   "source": [
    "class WebDev:\n",
    "    def syllabus(self):\n",
    "        print(\"method for web dev syllabus\")"
   ]
  },
  {
   "cell_type": "code",
   "execution_count": 10,
   "id": "8d48f502-1574-4b48-be09-7a059532482b",
   "metadata": {},
   "outputs": [],
   "source": [
    "def class_parser(class_obj):\n",
    "    for i in class_obj:\n",
    "        i.syllabus()\n",
    "    \n",
    "    "
   ]
  },
  {
   "cell_type": "code",
   "execution_count": 11,
   "id": "94af8667-9568-4966-941f-0549d8e532b4",
   "metadata": {},
   "outputs": [],
   "source": [
    "obj_data_science=DataScience()"
   ]
  },
  {
   "cell_type": "code",
   "execution_count": 12,
   "id": "50da0187-d015-4ee4-82e5-3a5551bceb32",
   "metadata": {},
   "outputs": [],
   "source": [
    "obj_web_dev=WebDev()"
   ]
  },
  {
   "cell_type": "code",
   "execution_count": 13,
   "id": "4ae19fda-368a-47b3-ae97-1e7cfe0aeffa",
   "metadata": {},
   "outputs": [],
   "source": [
    "class_obj=[obj_data_science,obj_web_dev]"
   ]
  },
  {
   "cell_type": "code",
   "execution_count": 14,
   "id": "eb3a1965-674a-455e-b543-4c88380131d1",
   "metadata": {},
   "outputs": [
    {
     "name": "stdout",
     "output_type": "stream",
     "text": [
      "method for data science syllabus\n",
      "method for web dev syllabus\n"
     ]
    }
   ],
   "source": [
    "class_parser(class_obj)"
   ]
  },
  {
   "cell_type": "code",
   "execution_count": null,
   "id": "392d18f4-03f1-4db9-867a-19bdd5b51af5",
   "metadata": {},
   "outputs": [],
   "source": []
  }
 ],
 "metadata": {
  "kernelspec": {
   "display_name": "Python 3 (ipykernel)",
   "language": "python",
   "name": "python3"
  },
  "language_info": {
   "codemirror_mode": {
    "name": "ipython",
    "version": 3
   },
   "file_extension": ".py",
   "mimetype": "text/x-python",
   "name": "python",
   "nbconvert_exporter": "python",
   "pygments_lexer": "ipython3",
   "version": "3.10.8"
  }
 },
 "nbformat": 4,
 "nbformat_minor": 5
}
