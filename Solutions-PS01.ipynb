{
 "cells": [
  {
   "cell_type": "code",
   "execution_count": 1,
   "id": "eeb24848-b002-44d6-9dae-1e8de09f4555",
   "metadata": {},
   "outputs": [
    {
     "data": {
      "text/plain": [
       "'Q1. Write a Python program that defines a function called \"add_numbers\" that takes two arguments (i.e.,\\nnumbers) and returns their sum. Within the function, add the two numbers together and return the result\\nusing the return statement. Call the function with the values 5 and 6, and print out the returned result.\\nThis will result in the addition of 5 and 6, with the output of the program being the sum of these two\\nnumbers.'"
      ]
     },
     "execution_count": 1,
     "metadata": {},
     "output_type": "execute_result"
    }
   ],
   "source": [
    "'''Q1. Write a Python program that defines a function called \"add_numbers\" that takes two arguments (i.e.,\n",
    "numbers) and returns their sum. Within the function, add the two numbers together and return the result\n",
    "using the return statement. Call the function with the values 5 and 6, and print out the returned result.\n",
    "This will result in the addition of 5 and 6, with the output of the program being the sum of these two\n",
    "numbers.'''"
   ]
  },
  {
   "cell_type": "code",
   "execution_count": 2,
   "id": "47465973-eb9c-4cfc-9b92-e9f77445a9ad",
   "metadata": {},
   "outputs": [],
   "source": [
    "def add_numbers(a,b):\n",
    "    return a+b"
   ]
  },
  {
   "cell_type": "code",
   "execution_count": 3,
   "id": "c1420a1b-64c3-471a-9ec8-3de317dcd38c",
   "metadata": {},
   "outputs": [
    {
     "name": "stdout",
     "output_type": "stream",
     "text": [
      "11\n"
     ]
    }
   ],
   "source": [
    "print(add_numbers(5,6))"
   ]
  },
  {
   "cell_type": "code",
   "execution_count": 4,
   "id": "7c7ce825-bb52-4d3b-9b3e-82259a9c8ce1",
   "metadata": {},
   "outputs": [
    {
     "data": {
      "text/plain": [
       "\"Q2. Write a Python program that calculates the square root of a given number using a built-in function.\\nSpecifically, the program should take an integer or float input from the user, calculate its square root\\nusing the 'sqrt()' function from the 'math' module, and print out the result to the user. As an example,\\ncalculate the square root of the number 625 using this program, which should output the value of 25.\""
      ]
     },
     "execution_count": 4,
     "metadata": {},
     "output_type": "execute_result"
    }
   ],
   "source": [
    "'''Q2. Write a Python program that calculates the square root of a given number using a built-in function.\n",
    "Specifically, the program should take an integer or float input from the user, calculate its square root\n",
    "using the 'sqrt()' function from the 'math' module, and print out the result to the user. As an example,\n",
    "calculate the square root of the number 625 using this program, which should output the value of 25.'''"
   ]
  },
  {
   "cell_type": "code",
   "execution_count": 5,
   "id": "fafb4317-f976-45e0-8251-39f7de3f9e9d",
   "metadata": {},
   "outputs": [],
   "source": [
    "import math"
   ]
  },
  {
   "cell_type": "code",
   "execution_count": 6,
   "id": "d7e7fece-6c93-4dc3-ad86-f364cc18bd7e",
   "metadata": {},
   "outputs": [],
   "source": [
    "def SquareRoot(a):\n",
    "    return math.sqrt(a)"
   ]
  },
  {
   "cell_type": "code",
   "execution_count": 7,
   "id": "ffd8d287-08fa-4873-82b9-44b91a176bdc",
   "metadata": {},
   "outputs": [
    {
     "name": "stdout",
     "output_type": "stream",
     "text": [
      "25.0\n"
     ]
    }
   ],
   "source": [
    "print(SquareRoot(625))"
   ]
  },
  {
   "cell_type": "code",
   "execution_count": 1,
   "id": "ee56a866-d412-4585-bb22-ad41f2b536b9",
   "metadata": {},
   "outputs": [
    {
     "data": {
      "text/plain": [
       "'3.Write a program that prints all prime numbers between 0 to 50.'"
      ]
     },
     "execution_count": 1,
     "metadata": {},
     "output_type": "execute_result"
    }
   ],
   "source": [
    "'''3.Write a program that prints all prime numbers between 0 to 50.'''"
   ]
  },
  {
   "cell_type": "code",
   "execution_count": 6,
   "id": "030ade84-0012-4d32-ae18-73211982136c",
   "metadata": {},
   "outputs": [
    {
     "name": "stdout",
     "output_type": "stream",
     "text": [
      "2\n",
      "3\n",
      "5\n",
      "7\n",
      "11\n",
      "13\n",
      "17\n",
      "19\n",
      "23\n",
      "29\n",
      "31\n",
      "37\n",
      "41\n",
      "43\n",
      "47\n"
     ]
    }
   ],
   "source": [
    "for number in range(2,51):\n",
    "    is_prime=True\n",
    "    for i in range(2,number):\n",
    "        if number%i==0:\n",
    "            is_prime=False\n",
    "            break\n",
    "    if is_prime==True:\n",
    "        print(number)"
   ]
  },
  {
   "cell_type": "code",
   "execution_count": 16,
   "id": "c4ebbf11-c14a-4311-84a4-b9d1e6094793",
   "metadata": {},
   "outputs": [
    {
     "name": "stdin",
     "output_type": "stream",
     "text": [
      "Enter the upper limit:  60\n"
     ]
    },
    {
     "name": "stdout",
     "output_type": "stream",
     "text": [
      "2\n",
      "3\n",
      "5\n",
      "7\n",
      "11\n",
      "13\n",
      "17\n",
      "19\n",
      "23\n",
      "29\n",
      "31\n",
      "37\n",
      "41\n",
      "43\n",
      "47\n",
      "53\n",
      "59\n"
     ]
    }
   ],
   "source": [
    "n=int(input(\"Enter the upper limit: \"))\n",
    "for number in range(2,n+1):\n",
    "    is_prime=True\n",
    "    for i in range(2,number):\n",
    "        if number%i==0:\n",
    "            is_prime=False\n",
    "            break\n",
    "    if is_prime:\n",
    "        print(number)\n",
    "    "
   ]
  },
  {
   "cell_type": "code",
   "execution_count": 17,
   "id": "da900b3a-2852-4201-b412-1f138aa761d0",
   "metadata": {},
   "outputs": [
    {
     "data": {
      "text/plain": [
       "\"How can we swap the values of three variables (let's say a, b, and c) without using a fourth variable? \\nFor example, if we have a=5, b=8, and c=9, how can we obtain a=9, b=5, and c=8? \\nThe challenge is to perform this operation without using an additional variable to store any of the values during the swapping process.\""
      ]
     },
     "execution_count": 17,
     "metadata": {},
     "output_type": "execute_result"
    }
   ],
   "source": [
    "'''How can we swap the values of three variables (let's say a, b, and c) without using a fourth variable? \n",
    "For example, if we have a=5, b=8, and c=9, how can we obtain a=9, b=5, and c=8? \n",
    "The challenge is to perform this operation without using an additional variable to store any of the values during the swapping process.'''"
   ]
  },
  {
   "cell_type": "code",
   "execution_count": 18,
   "id": "b8ad15f5-b18f-4878-ae0e-854e859e1fe1",
   "metadata": {},
   "outputs": [
    {
     "name": "stdout",
     "output_type": "stream",
     "text": [
      "a =  9\n",
      "b =  5\n",
      "c =  8\n"
     ]
    }
   ],
   "source": [
    "a=5\n",
    "b=8\n",
    "c=9\n",
    "a,b,c=c,a,b\n",
    "print(\"a = \",a)\n",
    "print(\"b = \",b)\n",
    "print(\"c = \",c)"
   ]
  },
  {
   "cell_type": "code",
   "execution_count": 19,
   "id": "54e80d80-d6c1-4027-bd51-0203fc1ee8f9",
   "metadata": {},
   "outputs": [
    {
     "data": {
      "text/plain": [
       "'Can you write a program that determines the nature of a given number (in this case, 87) as being positive, negative, or zero? \\nThe program should be designed to take the number as input and perform the necessary calculations to determine \\nif the number is positive (i.e., greater than zero), negative (i.e., less than zero), or zero (i.e., equal to zero). \\nThe output of the program should indicate which of these three categories the given number falls into.'"
      ]
     },
     "execution_count": 19,
     "metadata": {},
     "output_type": "execute_result"
    }
   ],
   "source": [
    "'''Can you write a program that determines the nature of a given number (in this case, 87) as being positive, negative, or zero? \n",
    "The program should be designed to take the number as input and perform the necessary calculations to determine \n",
    "if the number is positive (i.e., greater than zero), negative (i.e., less than zero), or zero (i.e., equal to zero). \n",
    "The output of the program should indicate which of these three categories the given number falls into.'''"
   ]
  },
  {
   "cell_type": "code",
   "execution_count": 24,
   "id": "3356d88c-6039-47e2-853f-c9a74a59152d",
   "metadata": {},
   "outputs": [
    {
     "name": "stdin",
     "output_type": "stream",
     "text": [
      "Enter number:  87\n"
     ]
    },
    {
     "name": "stdout",
     "output_type": "stream",
     "text": [
      "positive\n"
     ]
    }
   ],
   "source": [
    "n=float(input(\"Enter number: \"))\n",
    "if n>0:\n",
    "    print(\"positive\")\n",
    "elif n<0:\n",
    "    print(\"negative\")\n",
    "else:\n",
    "    print(\"zero\")\n"
   ]
  },
  {
   "cell_type": "code",
   "execution_count": 25,
   "id": "3a6c02f6-82d4-4552-a0a8-c95760197ca6",
   "metadata": {},
   "outputs": [
    {
     "data": {
      "text/plain": [
       "'How can you create a program that determines whether a given number (in this case, 98) is even or odd? \\nThe program should be designed to take the number as input and perform the necessary calculations to determine \\nwhether it is divisible by two. If the number is divisible by two without leaving a remainder, it is an even number, \\nand if there is a remainder, it is an odd number. \\nThe output of the program should indicate whether the given number is even or odd.'"
      ]
     },
     "execution_count": 25,
     "metadata": {},
     "output_type": "execute_result"
    }
   ],
   "source": [
    "'''How can you create a program that determines whether a given number (in this case, 98) is even or odd? \n",
    "The program should be designed to take the number as input and perform the necessary calculations to determine \n",
    "whether it is divisible by two. If the number is divisible by two without leaving a remainder, it is an even number, \n",
    "and if there is a remainder, it is an odd number. \n",
    "The output of the program should indicate whether the given number is even or odd.'''"
   ]
  },
  {
   "cell_type": "code",
   "execution_count": 26,
   "id": "4ee9e85a-2ad9-432e-a68a-7eb30d97a347",
   "metadata": {},
   "outputs": [
    {
     "name": "stdin",
     "output_type": "stream",
     "text": [
      "Enter number:  24\n"
     ]
    },
    {
     "name": "stdout",
     "output_type": "stream",
     "text": [
      "even\n"
     ]
    }
   ],
   "source": [
    "n=int(input(\"Enter number: \"))\n",
    "if n%2==0:\n",
    "    print(\"even\")\n",
    "else:\n",
    "    print(\"odd\")"
   ]
  },
  {
   "cell_type": "code",
   "execution_count": 27,
   "id": "721e2674-d096-48b0-b735-d901240515de",
   "metadata": {},
   "outputs": [
    {
     "data": {
      "text/plain": [
       "'Write a program for sum of digits.the digits are 76543 and the output should be 25.'"
      ]
     },
     "execution_count": 27,
     "metadata": {},
     "output_type": "execute_result"
    }
   ],
   "source": [
    "'''Write a program for sum of digits.the digits are 76543 and the output should be 25.'''"
   ]
  },
  {
   "cell_type": "code",
   "execution_count": 33,
   "id": "4f783b8c-4a7b-4416-b6ca-e8df03429de8",
   "metadata": {},
   "outputs": [
    {
     "name": "stdout",
     "output_type": "stream",
     "text": [
      "The sum of digits is: 25\n"
     ]
    }
   ],
   "source": [
    "num = 76543\n",
    "sum_of_digits = 0\n",
    "\n",
    "while num > 0:\n",
    "    sum_of_digits += num % 10\n",
    "    num //= 10\n",
    "\n",
    "print(\"The sum of digits is:\", sum_of_digits)"
   ]
  },
  {
   "cell_type": "code",
   "execution_count": 45,
   "id": "ec4e1acf-c567-41a7-9ee8-96eeea5dfb7a",
   "metadata": {},
   "outputs": [
    {
     "name": "stdin",
     "output_type": "stream",
     "text": [
      "Enter a number:  12345\n"
     ]
    },
    {
     "name": "stdout",
     "output_type": "stream",
     "text": [
      "sum of digits  15\n"
     ]
    }
   ],
   "source": [
    "n=int(input(\"Enter a number: \"))\n",
    "sum_digits=0\n",
    "while(n>0):\n",
    "    sum_digits=sum_digits+n%10\n",
    "    n=n//10  #floor division...7//3=2...10/3=3...\n",
    "    \n",
    "\n",
    "print(\"sum of digits \",sum_digits)"
   ]
  },
  {
   "cell_type": "code",
   "execution_count": 46,
   "id": "5b222f53-0db5-4cc4-bec8-217238ec1453",
   "metadata": {},
   "outputs": [
    {
     "data": {
      "text/plain": [
       "'Write a program for reversing the given number 5436 and the output should be 6345.'"
      ]
     },
     "execution_count": 46,
     "metadata": {},
     "output_type": "execute_result"
    }
   ],
   "source": [
    "'''Write a program for reversing the given number 5436 and the output should be 6345.'''"
   ]
  },
  {
   "cell_type": "code",
   "execution_count": 48,
   "id": "3ed75633-ba88-4332-a058-a35fd42c9e2c",
   "metadata": {},
   "outputs": [
    {
     "name": "stdin",
     "output_type": "stream",
     "text": [
      "Enter a number:  12345\n"
     ]
    },
    {
     "name": "stdout",
     "output_type": "stream",
     "text": [
      "reversed number is  54321\n"
     ]
    }
   ],
   "source": [
    "n=int(input(\"Enter a number: \"))\n",
    "reverse=0\n",
    "while n>0:\n",
    "    digit=n%10 # Extract the rightmost digit of the number\n",
    "    reverse=(reverse*10)+digit  # Add the extracted digit to the reverse number\n",
    "    n//=10   # Remove the rightmost digit from the number\n",
    "print(\"reversed number is \",reverse)\n",
    "    "
   ]
  },
  {
   "cell_type": "code",
   "execution_count": 49,
   "id": "abea61c1-6d5f-4e77-b35e-ce266763d9ea",
   "metadata": {},
   "outputs": [
    {
     "data": {
      "text/plain": [
       "'9.Write a program to check a given number 371 is an Armstrong number?'"
      ]
     },
     "execution_count": 49,
     "metadata": {},
     "output_type": "execute_result"
    }
   ],
   "source": [
    "'''9.Write a program to check a given number 371 is an Armstrong number?'''"
   ]
  },
  {
   "cell_type": "code",
   "execution_count": 54,
   "id": "dc4af88a-f0a5-4dd6-86cc-66ebdc9200dd",
   "metadata": {},
   "outputs": [
    {
     "name": "stdin",
     "output_type": "stream",
     "text": [
      "Enter a number:  371\n"
     ]
    },
    {
     "name": "stdout",
     "output_type": "stream",
     "text": [
      "371  is an armstrong number\n"
     ]
    }
   ],
   "source": [
    "def is_armstrongnum(num):\n",
    "    sum_of_cubes=0\n",
    "    num_str=str(num)\n",
    "    num_len=len(str(num))\n",
    "    sum_of_cubes=sum(int(digits)**num_len for digits in num_str)\n",
    "    if sum_of_cubes==num:\n",
    "        return True\n",
    "    else:\n",
    "        return False\n",
    "        \n",
    "n=int(input(\"Enter a number: \"))\n",
    "if is_armstrongnum(n):\n",
    "    print(n, \" is an armstrong number\")\n",
    "else:\n",
    "    print(\" hell no!\")"
   ]
  },
  {
   "cell_type": "code",
   "execution_count": 61,
   "id": "33c80a76-aae1-4b13-b24d-1fc79d582bf4",
   "metadata": {},
   "outputs": [
    {
     "name": "stdin",
     "output_type": "stream",
     "text": [
      "Enter a number:  311\n"
     ]
    },
    {
     "name": "stdout",
     "output_type": "stream",
     "text": [
      "311 is not an Armstrong number\n"
     ]
    }
   ],
   "source": [
    "\n",
    "# Function to check if a number is an Armstrong number\n",
    "def is_armstrong(num):\n",
    "    # Get the number of digits in the given number\n",
    "    num_str = str(num)\n",
    "    num_digits = len(num_str)\n",
    "    \n",
    "    # Calculate the sum of the cubes of each digit\n",
    "    for digits in num_str\n",
    "    sum_of_cubes = sum([int(digit)**num_digits for digit in num_str])\n",
    "    \n",
    "    # Check if the sum of the cubes is equal to the original number\n",
    "    if sum_of_cubes == num:\n",
    "        return True\n",
    "    else:\n",
    "        return False\n",
    "\n",
    "# Test the function with the number 371\n",
    "num = int(input(\"Enter a number: \"))\n",
    "if is_armstrong(num):\n",
    "    print(num, \"is an Armstrong number\")\n",
    "else:\n",
    "    print(num, \"is not an Armstrong number\")\n",
    "\n",
    "\n",
    "    "
   ]
  },
  {
   "cell_type": "code",
   "execution_count": 63,
   "id": "862899b2-4d5e-471b-aa95-24e306f31f0c",
   "metadata": {},
   "outputs": [
    {
     "name": "stdin",
     "output_type": "stream",
     "text": [
      "Enter a number:  231\n"
     ]
    },
    {
     "name": "stdout",
     "output_type": "stream",
     "text": [
      "nein\n"
     ]
    }
   ],
   "source": [
    "def is_armstrongn(num):\n",
    "    num_str=str(num)\n",
    "    num_of_digits=len(num_str)\n",
    "    sum_of_cubes2=0\n",
    "    for digits in num_str:\n",
    "        sum_of_cubes2=sum_of_cubes2+int(digits)**num_of_digits\n",
    "        \n",
    "    if sum_of_cubes2==num:\n",
    "        return True\n",
    "    else:\n",
    "        return False\n",
    "    \n",
    "n=int(input(\"Enter a number: \"))\n",
    "if is_armstrongn(n):\n",
    "    print(\" yes armstrong\")\n",
    "else:\n",
    "    print(\"nein\")\n",
    "        "
   ]
  },
  {
   "cell_type": "code",
   "execution_count": 64,
   "id": "a63c5133-be04-4a97-b176-e97e9fed4e8c",
   "metadata": {},
   "outputs": [
    {
     "data": {
      "text/plain": [
       "'10. Write a program the given year is 1996 a leap year.'"
      ]
     },
     "execution_count": 64,
     "metadata": {},
     "output_type": "execute_result"
    }
   ],
   "source": [
    "'''10. Write a program the given year is 1996 a leap year.'''"
   ]
  },
  {
   "cell_type": "code",
   "execution_count": 68,
   "id": "921aa0fe-3799-4bad-a8c7-e568d1ec6889",
   "metadata": {},
   "outputs": [
    {
     "name": "stdin",
     "output_type": "stream",
     "text": [
      "Enter a year:  2002\n"
     ]
    },
    {
     "name": "stdout",
     "output_type": "stream",
     "text": [
      "nein\n"
     ]
    }
   ],
   "source": [
    "n=int(input(\"Enter a year: \"))\n",
    "if((n%4==0) and (n%100!=0)) or (n%400==0):\n",
    "    print(\"yes baby\")\n",
    "else:\n",
    "    print(\"nein\")"
   ]
  },
  {
   "cell_type": "code",
   "execution_count": null,
   "id": "45d995b3-91f4-42b9-96fb-6f3741db91cb",
   "metadata": {},
   "outputs": [],
   "source": []
  }
 ],
 "metadata": {
  "kernelspec": {
   "display_name": "Python 3 (ipykernel)",
   "language": "python",
   "name": "python3"
  },
  "language_info": {
   "codemirror_mode": {
    "name": "ipython",
    "version": 3
   },
   "file_extension": ".py",
   "mimetype": "text/x-python",
   "name": "python",
   "nbconvert_exporter": "python",
   "pygments_lexer": "ipython3",
   "version": "3.10.8"
  }
 },
 "nbformat": 4,
 "nbformat_minor": 5
}
