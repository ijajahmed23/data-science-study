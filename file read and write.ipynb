{
 "cells": [
  {
   "cell_type": "code",
   "execution_count": 2,
   "id": "0bb25f31-cc6e-467e-ab07-9d193c0119f3",
   "metadata": {},
   "outputs": [],
   "source": [
    "data={\n",
    "    \"name\":\"ijaj\",\n",
    "    \"mail_id\":\"ijaj@gmail.com\",\n",
    "    \"phone_number\":987654321,\n",
    "    \"subject\":[\"data science\",\"big data\",\"analytics\"]\n",
    "}"
   ]
  },
  {
   "cell_type": "code",
   "execution_count": 3,
   "id": "72bb6dc8-ee76-4983-8fe9-a7a181dffb16",
   "metadata": {},
   "outputs": [],
   "source": [
    "import json"
   ]
  },
  {
   "cell_type": "code",
   "execution_count": 4,
   "id": "6d5dbd7f-2cb6-4824-a81e-59b74249e47a",
   "metadata": {},
   "outputs": [],
   "source": [
    "with open(\"test1.json\",\"w\") as f:\n",
    "    json.dump(data,f)"
   ]
  },
  {
   "cell_type": "code",
   "execution_count": 5,
   "id": "dcac1431-f600-48ff-83c3-2d80fac6d493",
   "metadata": {},
   "outputs": [],
   "source": [
    "with open(\"test1.json\",\"r\") as f:\n",
    "    data1=json.load(f)"
   ]
  },
  {
   "cell_type": "code",
   "execution_count": 6,
   "id": "dc1bab33-86f5-49f0-af79-73e088cfb2d2",
   "metadata": {},
   "outputs": [
    {
     "data": {
      "text/plain": [
       "{'name': 'ijaj',\n",
       " 'mail_id': 'ijaj@gmail.com',\n",
       " 'phone_number': 987654321,\n",
       " 'subject': ['data science', 'big data', 'analytics']}"
      ]
     },
     "execution_count": 6,
     "metadata": {},
     "output_type": "execute_result"
    }
   ],
   "source": [
    "data1"
   ]
  },
  {
   "cell_type": "code",
   "execution_count": 7,
   "id": "92e633d3-47b5-446a-803e-82a8c04eef9f",
   "metadata": {},
   "outputs": [
    {
     "data": {
      "text/plain": [
       "'big data'"
      ]
     },
     "execution_count": 7,
     "metadata": {},
     "output_type": "execute_result"
    }
   ],
   "source": [
    "data1[\"subject\"][1]"
   ]
  },
  {
   "cell_type": "code",
   "execution_count": 8,
   "id": "2054799e-b5a5-445d-9b62-30a5e7af440c",
   "metadata": {},
   "outputs": [],
   "source": [
    "data=[[\"name\",\"mail id\",\"number\"],\n",
    "      [\"ijaj\",\"asgsh\",98977],\n",
    "      [\"rana\",\"gshsh\",98877]\n",
    "     ]"
   ]
  },
  {
   "cell_type": "code",
   "execution_count": 9,
   "id": "1a5e7191-537b-4329-a6c3-0a71cecdc44f",
   "metadata": {},
   "outputs": [],
   "source": [
    "import csv"
   ]
  },
  {
   "cell_type": "code",
   "execution_count": 16,
   "id": "de2c8ff5-641e-49ff-9c85-fbfca4ea6780",
   "metadata": {},
   "outputs": [],
   "source": [
    "with open(\"datacsv.csv\",\"w\") as f:\n",
    "    w=csv.writer(f)\n",
    "    for i in data:\n",
    "        w.writerow(i)"
   ]
  },
  {
   "cell_type": "code",
   "execution_count": 15,
   "id": "9b05f635-b120-465a-b861-b610b5cdf3c1",
   "metadata": {},
   "outputs": [
    {
     "data": {
      "text/plain": [
       "<_csv.writer at 0x7f0f86e4df60>"
      ]
     },
     "execution_count": 15,
     "metadata": {},
     "output_type": "execute_result"
    }
   ],
   "source": [
    "w"
   ]
  },
  {
   "cell_type": "code",
   "execution_count": 10,
   "id": "2c7bb287-7b8b-44aa-aecb-393354acf35b",
   "metadata": {},
   "outputs": [
    {
     "name": "stdout",
     "output_type": "stream",
     "text": [
      "['name', 'mail id', 'number']\n",
      "['ijaj', 'asgsh', '98977']\n",
      "['rana', 'gshsh', '98877']\n"
     ]
    }
   ],
   "source": [
    "with open(\"datacsv.csv\",\"r\") as f:\n",
    "    data3=csv.reader(f)\n",
    "    for i in data3:\n",
    "        print(i)"
   ]
  },
  {
   "cell_type": "code",
   "execution_count": 19,
   "id": "d6d2fdc9-e690-4b07-a9c6-3595e5c30d8a",
   "metadata": {},
   "outputs": [],
   "source": [
    "with open(\"bintest.bin\",\"wb\") as f:\n",
    "    f.write(b\"\\x01\\x02\\x03\")"
   ]
  },
  {
   "cell_type": "code",
   "execution_count": 20,
   "id": "0f333ab3-783a-43bc-8245-f0ee91d0719d",
   "metadata": {},
   "outputs": [
    {
     "name": "stdout",
     "output_type": "stream",
     "text": [
      "b'\\x01\\x02\\x03'\n"
     ]
    }
   ],
   "source": [
    "with open(\"bintest.bin\",\"rb\") as f:\n",
    "    print(f.read())"
   ]
  },
  {
   "cell_type": "code",
   "execution_count": 11,
   "id": "0236158b-9ae6-4ee2-9348-18b6ee06816c",
   "metadata": {},
   "outputs": [],
   "source": [
    "csv_data=[[\"name\",\"roll_no\",\"subject\"],\n",
    "          [\"ijaj\",1,\"math\"],\n",
    "          [\"rana\",2,\"physics\"]]"
   ]
  },
  {
   "cell_type": "code",
   "execution_count": 12,
   "id": "70ee3d78-4790-479a-8088-4dea325388c0",
   "metadata": {},
   "outputs": [],
   "source": [
    "with open(\"students.csv\",\"w\") as f:\n",
    "    w=csv.writer(f)\n",
    "    for i in csv_data:\n",
    "        w.writerow(i)"
   ]
  },
  {
   "cell_type": "code",
   "execution_count": 13,
   "id": "95e22653-5e4c-4e47-8fea-ef50fff056ae",
   "metadata": {},
   "outputs": [
    {
     "name": "stdout",
     "output_type": "stream",
     "text": [
      "['name', 'roll_no', 'subject']\n",
      "['ijaj', '1', 'math']\n",
      "['rana', '2', 'physics']\n"
     ]
    }
   ],
   "source": [
    "with open(\"students.csv\",\"r\") as f:\n",
    "    r=csv.reader(f)\n",
    "    for i in r:\n",
    "        print(i)"
   ]
  },
  {
   "cell_type": "code",
   "execution_count": null,
   "id": "664434cf-7606-46cd-9229-2aecb4773496",
   "metadata": {},
   "outputs": [],
   "source": []
  }
 ],
 "metadata": {
  "kernelspec": {
   "display_name": "Python 3 (ipykernel)",
   "language": "python",
   "name": "python3"
  },
  "language_info": {
   "codemirror_mode": {
    "name": "ipython",
    "version": 3
   },
   "file_extension": ".py",
   "mimetype": "text/x-python",
   "name": "python",
   "nbconvert_exporter": "python",
   "pygments_lexer": "ipython3",
   "version": "3.10.8"
  }
 },
 "nbformat": 4,
 "nbformat_minor": 5
}
