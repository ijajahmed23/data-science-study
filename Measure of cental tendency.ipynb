{
 "cells": [
  {
   "cell_type": "markdown",
   "id": "95e67a29-770c-4ee7-8808-79de5fbf172e",
   "metadata": {},
   "source": [
    "##mean"
   ]
  },
  {
   "cell_type": "code",
   "execution_count": 1,
   "id": "a3f33a1f-263c-4725-970f-a6a2c731bcb9",
   "metadata": {},
   "outputs": [],
   "source": [
    "age=[12,13,15,12,13,16,14]\n"
   ]
  },
  {
   "cell_type": "code",
   "execution_count": 2,
   "id": "6ff160b2-15c4-4a14-aa02-b7736f47ec36",
   "metadata": {},
   "outputs": [
    {
     "data": {
      "text/plain": [
       "13.571428571428571"
      ]
     },
     "execution_count": 2,
     "metadata": {},
     "output_type": "execute_result"
    }
   ],
   "source": [
    "(12+13+15+12+13+16+14)/7"
   ]
  },
  {
   "cell_type": "code",
   "execution_count": 4,
   "id": "bddf0fbb-a3f8-40fd-8645-2aa5ee1d84a1",
   "metadata": {},
   "outputs": [
    {
     "data": {
      "text/plain": [
       "13.571428571428571"
      ]
     },
     "execution_count": 4,
     "metadata": {},
     "output_type": "execute_result"
    }
   ],
   "source": [
    "import numpy as np\n",
    "np.mean(age)"
   ]
  },
  {
   "cell_type": "code",
   "execution_count": 5,
   "id": "d8c57f1d-9753-4f7c-8e91-19ff7a4efdad",
   "metadata": {},
   "outputs": [],
   "source": [
    "weights=[45,60.73,49,34,57,67,79]"
   ]
  },
  {
   "cell_type": "code",
   "execution_count": 6,
   "id": "e616cd94-4686-4ae5-b20a-69340963c052",
   "metadata": {},
   "outputs": [
    {
     "data": {
      "text/plain": [
       "55.96142857142858"
      ]
     },
     "execution_count": 6,
     "metadata": {},
     "output_type": "execute_result"
    }
   ],
   "source": [
    "np.mean(weights)"
   ]
  },
  {
   "cell_type": "code",
   "execution_count": 7,
   "id": "250b78cb-9bf9-4571-a400-df45c213d905",
   "metadata": {},
   "outputs": [
    {
     "data": {
      "text/plain": [
       "173.96625"
      ]
     },
     "execution_count": 7,
     "metadata": {},
     "output_type": "execute_result"
    }
   ],
   "source": [
    "weights2=[45,60.73,49,34,57,67,79,1000]\n",
    "np.mean(weights2)"
   ]
  },
  {
   "cell_type": "markdown",
   "id": "2bcef24a-c873-46a4-922f-136be990b6a3",
   "metadata": {},
   "source": [
    "##median"
   ]
  },
  {
   "cell_type": "code",
   "execution_count": 8,
   "id": "9d05584a-0863-43b4-b1f8-dccc6bd31b07",
   "metadata": {},
   "outputs": [
    {
     "data": {
      "text/plain": [
       "58.864999999999995"
      ]
     },
     "execution_count": 8,
     "metadata": {},
     "output_type": "execute_result"
    }
   ],
   "source": [
    "np.median(weights2)"
   ]
  },
  {
   "cell_type": "markdown",
   "id": "8840912e-6e52-4bb4-afc8-bff865957148",
   "metadata": {},
   "source": [
    "##MODE"
   ]
  },
  {
   "cell_type": "code",
   "execution_count": 9,
   "id": "4be0685c-c702-400d-9513-06d8b232d532",
   "metadata": {},
   "outputs": [],
   "source": [
    "from scipy import stats"
   ]
  },
  {
   "cell_type": "code",
   "execution_count": 12,
   "id": "c2c9312a-5b89-4fd9-a11f-1fe829d80607",
   "metadata": {},
   "outputs": [
    {
     "name": "stderr",
     "output_type": "stream",
     "text": [
      "/tmp/ipykernel_77/4197893964.py:1: FutureWarning: Unlike other reduction functions (e.g. `skew`, `kurtosis`), the default behavior of `mode` typically preserves the axis it acts along. In SciPy 1.11.0, this behavior will change: the default value of `keepdims` will become False, the `axis` over which the statistic is taken will be eliminated, and the value None will no longer be accepted. Set `keepdims` to True or False to avoid this warning.\n",
      "  stats.mode(weights)\n"
     ]
    },
    {
     "data": {
      "text/plain": [
       "ModeResult(mode=array([34.]), count=array([1]))"
      ]
     },
     "execution_count": 12,
     "metadata": {},
     "output_type": "execute_result"
    }
   ],
   "source": [
    "stats.mode(weights)"
   ]
  },
  {
   "cell_type": "code",
   "execution_count": null,
   "id": "f85420a8-10df-4356-8473-0fa380579af6",
   "metadata": {},
   "outputs": [],
   "source": []
  }
 ],
 "metadata": {
  "kernelspec": {
   "display_name": "Python 3 (ipykernel)",
   "language": "python",
   "name": "python3"
  },
  "language_info": {
   "codemirror_mode": {
    "name": "ipython",
    "version": 3
   },
   "file_extension": ".py",
   "mimetype": "text/x-python",
   "name": "python",
   "nbconvert_exporter": "python",
   "pygments_lexer": "ipython3",
   "version": "3.10.8"
  }
 },
 "nbformat": 4,
 "nbformat_minor": 5
}
