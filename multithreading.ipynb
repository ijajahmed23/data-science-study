{
 "cells": [
  {
   "cell_type": "code",
   "execution_count": 1,
   "id": "9d635fe7-afee-46ba-8325-e7632e8fe957",
   "metadata": {},
   "outputs": [],
   "source": [
    "import threading"
   ]
  },
  {
   "cell_type": "code",
   "execution_count": 2,
   "id": "5efdcb2b-c664-4dbe-84a3-296f691be8c1",
   "metadata": {},
   "outputs": [],
   "source": [
    "def test(id):\n",
    "    print(\"this is my test id %d\" %id)\n",
    "    "
   ]
  },
  {
   "cell_type": "code",
   "execution_count": 3,
   "id": "8a880d28-8486-481c-895e-5db999750f07",
   "metadata": {},
   "outputs": [
    {
     "name": "stdout",
     "output_type": "stream",
     "text": [
      "this is my test id 1917\n"
     ]
    }
   ],
   "source": [
    "test(1917)"
   ]
  },
  {
   "cell_type": "code",
   "execution_count": 4,
   "id": "52aa0aa2-81c0-44ee-b401-e8b66d140826",
   "metadata": {},
   "outputs": [
    {
     "name": "stdout",
     "output_type": "stream",
     "text": [
      "this is my test id 2\n"
     ]
    }
   ],
   "source": [
    "test(2)"
   ]
  },
  {
   "cell_type": "code",
   "execution_count": 5,
   "id": "0d74e9e8-3553-477d-b7c0-e6b23b1a367e",
   "metadata": {},
   "outputs": [
    {
     "name": "stdout",
     "output_type": "stream",
     "text": [
      "this is my test id 89\n"
     ]
    }
   ],
   "source": [
    "test(89)"
   ]
  },
  {
   "cell_type": "code",
   "execution_count": 7,
   "id": "87cc235c-ed91-4030-8951-79b0a3de32c0",
   "metadata": {},
   "outputs": [],
   "source": [
    "#to run all these functions simultaneiously, we need threading"
   ]
  },
  {
   "cell_type": "code",
   "execution_count": 15,
   "id": "a26f719d-d2d4-446c-8170-dd0f736252fb",
   "metadata": {},
   "outputs": [],
   "source": [
    "thred=[threading.Thread(target=test,args=(i,)) for i in [1917,2,89]] #all of these programs(here functions) are running in a single core(processor)"
   ]
  },
  {
   "cell_type": "code",
   "execution_count": 16,
   "id": "142895f7-f8e6-4ab2-bcb2-4ebcb132abf3",
   "metadata": {},
   "outputs": [
    {
     "data": {
      "text/plain": [
       "[<Thread(Thread-11 (test), initial)>,\n",
       " <Thread(Thread-12 (test), initial)>,\n",
       " <Thread(Thread-13 (test), initial)>]"
      ]
     },
     "execution_count": 16,
     "metadata": {},
     "output_type": "execute_result"
    }
   ],
   "source": [
    "thred"
   ]
  },
  {
   "cell_type": "code",
   "execution_count": 17,
   "id": "7833ce36-5f0e-460e-9d00-b3dcde69abdf",
   "metadata": {},
   "outputs": [
    {
     "name": "stdout",
     "output_type": "stream",
     "text": [
      "this is my test id 1917\n",
      "this is my test id 2\n",
      "this is my test id 89\n"
     ]
    }
   ],
   "source": [
    "for t in thred: #all of these programs(here functions) are running in a single core(processor) by default\n",
    "    t.start()"
   ]
  },
  {
   "cell_type": "code",
   "execution_count": 9,
   "id": "80de5bc0-4e17-4ddf-b99d-046328db3929",
   "metadata": {},
   "outputs": [],
   "source": [
    "import urllib.request"
   ]
  },
  {
   "cell_type": "code",
   "execution_count": 10,
   "id": "af4b407d-9ba8-4d42-88b7-dbaa41a8b909",
   "metadata": {},
   "outputs": [],
   "source": [
    "def file_download(url,filename):\n",
    "    urllib.request.urlretrieve(url,filename)"
   ]
  },
  {
   "cell_type": "code",
   "execution_count": 20,
   "id": "8ea5c6f4-bce8-4d8c-b478-94e1285ee122",
   "metadata": {},
   "outputs": [],
   "source": [
    "file_download(\"https://raw.githubusercontent.com/itsfoss/text-files/master/agatha.txt\",\"test1.txt\")"
   ]
  },
  {
   "cell_type": "code",
   "execution_count": 15,
   "id": "45695af7-35a5-4ccc-95b0-66d0fdecf960",
   "metadata": {},
   "outputs": [],
   "source": [
    "url_list=[\"https://raw.githubusercontent.com/itsfoss/text-files/master/agatha.txt\",\"https://raw.githubusercontent.com/itsfoss/text-files/master/sherlock.txt\",\"https://raw.githubusercontent.com/itsfoss/text-files/master/sample_log_file.txt\"]"
   ]
  },
  {
   "cell_type": "code",
   "execution_count": 18,
   "id": "54f05ded-2296-4a33-9b0e-37f43573660a",
   "metadata": {},
   "outputs": [
    {
     "data": {
      "text/plain": [
       "['https://raw.githubusercontent.com/itsfoss/text-files/master/agatha.txt',\n",
       " 'https://raw.githubusercontent.com/itsfoss/text-files/master/sherlock.txt',\n",
       " 'https://raw.githubusercontent.com/itsfoss/text-files/master/sample_log_file.txt']"
      ]
     },
     "execution_count": 18,
     "metadata": {},
     "output_type": "execute_result"
    }
   ],
   "source": [
    "url_list"
   ]
  },
  {
   "cell_type": "code",
   "execution_count": 16,
   "id": "e1743ca6-322b-4ce7-af69-74828cbc2634",
   "metadata": {},
   "outputs": [],
   "source": [
    "data_file_list=[\"data1.txt\",\"data2.txt\",\"data3.txt\"]"
   ]
  },
  {
   "cell_type": "code",
   "execution_count": 17,
   "id": "adf73074-360d-4520-99d2-a05226760131",
   "metadata": {},
   "outputs": [
    {
     "data": {
      "text/plain": [
       "['data1.txt', 'data2.txt', 'data3.txt']"
      ]
     },
     "execution_count": 17,
     "metadata": {},
     "output_type": "execute_result"
    }
   ],
   "source": [
    "data_file_list"
   ]
  },
  {
   "cell_type": "code",
   "execution_count": 19,
   "id": "3acba759-e45e-4a17-a858-9426da0ebeb2",
   "metadata": {},
   "outputs": [],
   "source": [
    "import threading\n",
    "thread=[threading.Thread(target=file_download,args=(url_list[i],data_file_list[i])) for i in range(len(data_file_list))]"
   ]
  },
  {
   "cell_type": "code",
   "execution_count": 20,
   "id": "383d5051-6158-41fb-92bf-07d0fb578daf",
   "metadata": {},
   "outputs": [],
   "source": [
    "for t in thread:\n",
    "    t.start()"
   ]
  },
  {
   "cell_type": "code",
   "execution_count": 1,
   "id": "f6a6a80e-5e82-4943-95c6-844101e027cf",
   "metadata": {},
   "outputs": [],
   "source": [
    "import time\n"
   ]
  },
  {
   "cell_type": "code",
   "execution_count": 17,
   "id": "190729cc-adbd-482f-87a7-0acc0e921106",
   "metadata": {},
   "outputs": [],
   "source": [
    "def test2(x):\n",
    "    for i in range(1,11):\n",
    "        print(\"test2 print the value of x %d and print the value of i %d\" %(x,i))\n",
    "        time.sleep(1) #sleep given so that other programs can use the same core"
   ]
  },
  {
   "cell_type": "code",
   "execution_count": 6,
   "id": "7abd6b10-4aed-4df7-a86d-b593965825bb",
   "metadata": {},
   "outputs": [
    {
     "name": "stdout",
     "output_type": "stream",
     "text": [
      "test2 print the value of x 10 and print the value of i 1\n",
      "test2 print the value of x 10 and print the value of i 2\n",
      "test2 print the value of x 10 and print the value of i 3\n",
      "test2 print the value of x 10 and print the value of i 4\n",
      "test2 print the value of x 10 and print the value of i 5\n",
      "test2 print the value of x 10 and print the value of i 6\n",
      "test2 print the value of x 10 and print the value of i 7\n",
      "test2 print the value of x 10 and print the value of i 8\n",
      "test2 print the value of x 10 and print the value of i 9\n",
      "test2 print the value of x 10 and print the value of i 10\n"
     ]
    }
   ],
   "source": [
    "test2(10)"
   ]
  },
  {
   "cell_type": "code",
   "execution_count": 7,
   "id": "2a479d26-1cd7-40f0-96c7-b77baf442ebd",
   "metadata": {},
   "outputs": [
    {
     "name": "stdout",
     "output_type": "stream",
     "text": [
      "test2 print the value of x 2 and print the value of i 1\n",
      "test2 print the value of x 2 and print the value of i 2\n",
      "test2 print the value of x 2 and print the value of i 3\n",
      "test2 print the value of x 2 and print the value of i 4\n",
      "test2 print the value of x 2 and print the value of i 5\n",
      "test2 print the value of x 2 and print the value of i 6\n",
      "test2 print the value of x 2 and print the value of i 7\n",
      "test2 print the value of x 2 and print the value of i 8\n",
      "test2 print the value of x 2 and print the value of i 9\n",
      "test2 print the value of x 2 and print the value of i 10\n"
     ]
    }
   ],
   "source": [
    "test2(2)"
   ]
  },
  {
   "cell_type": "code",
   "execution_count": 15,
   "id": "8497452b-a549-4a14-9488-7cc27d1ae899",
   "metadata": {},
   "outputs": [],
   "source": [
    "import threading\n",
    "thread2=[threading.Thread(target=test2,args=(i,)) for i in [10,2,20,5]]"
   ]
  },
  {
   "cell_type": "code",
   "execution_count": 16,
   "id": "72d0a5b9-021e-4ecf-b03d-79c8d8054970",
   "metadata": {},
   "outputs": [
    {
     "name": "stdout",
     "output_type": "stream",
     "text": [
      "test2 print the value of x 10 and print the value of i 1\n",
      "test2 print the value of x 2 and print the value of i 1\n",
      "test2 print the value of x 20 and print the value of i 1\n",
      "test2 print the value of x 5 and print the value of i 1\n",
      "test2 print the value of x 10 and print the value of i 2\n",
      "test2 print the value of x 2 and print the value of i 2\n",
      "test2 print the value of x 20 and print the value of i 2\n",
      "test2 print the value of x 5 and print the value of i 2\n",
      "test2 print the value of x 10 and print the value of i 3\n",
      "test2 print the value of x 2 and print the value of i 3\n",
      "test2 print the value of x 20 and print the value of i 3\n",
      "test2 print the value of x 5 and print the value of i 3\n",
      "test2 print the value of x 2 and print the value of i 4\n",
      "test2 print the value of x 20 and print the value of i 4\n",
      "test2 print the value of x 10 and print the value of i 4\n",
      "test2 print the value of x 5 and print the value of i 4\n",
      "test2 print the value of x 10 and print the value of i 5\n",
      "test2 print the value of x 2 and print the value of i 5\n",
      "test2 print the value of x 20 and print the value of i 5\n",
      "test2 print the value of x 5 and print the value of i 5\n",
      "test2 print the value of x 10 and print the value of i 6\n",
      "test2 print the value of x 2 and print the value of i 6\n",
      "test2 print the value of x 20 and print the value of i 6\n",
      "test2 print the value of x 5 and print the value of i 6\n",
      "test2 print the value of x 10 and print the value of i 7\n",
      "test2 print the value of x 2 and print the value of i 7\n",
      "test2 print the value of x 20 and print the value of i 7\n",
      "test2 print the value of x 5 and print the value of i 7\n",
      "test2 print the value of x 20 and print the value of i 8\n",
      "test2 print the value of x 10 and print the value of i 8\n",
      "test2 print the value of x 2 and print the value of i 8\n",
      "test2 print the value of x 5 and print the value of i 8\n",
      "test2 print the value of x 20 and print the value of i 9\n",
      "test2 print the value of x 10 and print the value of i 9\n",
      "test2 print the value of x 2 and print the value of i 9\n",
      "test2 print the value of x 5 and print the value of i 9\n",
      "test2 print the value of x 20 and print the value of i 10\n",
      "test2 print the value of x 10 and print the value of i 10\n",
      "test2 print the value of x 2 and print the value of i 10\n",
      "test2 print the value of x 5 and print the value of i 10\n"
     ]
    }
   ],
   "source": [
    "for t in thread2:\n",
    "    t.start()"
   ]
  },
  {
   "cell_type": "code",
   "execution_count": 19,
   "id": "5c6415f3-eee1-466c-998b-babfc52a5122",
   "metadata": {},
   "outputs": [
    {
     "name": "stdout",
     "output_type": "stream",
     "text": [
      "value of x 10 and value of shared_var 1\n",
      "value of x 2 and value of shared_var 2\n",
      "value of x 5 and value of shared_var 3\n",
      "value of x 2 and value of shared_var 4\n",
      "value of x 3 and value of shared_var 5\n"
     ]
    }
   ],
   "source": [
    "shared_var=0\n",
    "lock_var=threading.Lock()\n",
    "def test3(x):\n",
    "    global shared_var\n",
    "    with lock_var:\n",
    "        shared_var=shared_var+1\n",
    "        print(\"value of x %d and value of shared_var %d\" %(x,shared_var))\n",
    "        time.sleep(1)\n",
    "        \n",
    "thread5=[threading.Thread(target=test3,args=(i,)) for i in [10,2,5,2,3]]\n",
    "for t in thread5:\n",
    "    t.start()\n",
    "    "
   ]
  },
  {
   "cell_type": "code",
   "execution_count": 21,
   "id": "0a816d74-c940-43bb-9cb7-c96b4b249fad",
   "metadata": {},
   "outputs": [
    {
     "name": "stdout",
     "output_type": "stream",
     "text": [
      "value of x 1 and shared_var is 2\n",
      "value of x 2 and shared_var is 3\n",
      "value of x 2 and shared_var is 4\n",
      "value of x 3 and shared_var is 5\n",
      "value of x 4 and shared_var is 6\n",
      "value of x 4 and shared_var is 7\n",
      "value of x 5 and shared_var is 8\n"
     ]
    }
   ],
   "source": [
    "shared_var=1\n",
    "lock_var=threading.Lock()\n",
    "def test4(x):\n",
    "    global shared_var\n",
    "    with lock_var:\n",
    "        shared_var=shared_var+1\n",
    "        print(\"value of x %d and shared_var is %d\" %(x,shared_var))\n",
    "        time.sleep(1)\n",
    "        \n",
    "thread6=[threading.Thread(target=test4,args=(i,)) for i in [1,2,2,3,4,4,5]]\n",
    "for t in thread6:\n",
    "    t.start()"
   ]
  },
  {
   "cell_type": "code",
   "execution_count": 3,
   "id": "e56fbfe0-f884-4b05-b7ae-43a92886fc9c",
   "metadata": {},
   "outputs": [
    {
     "name": "stderr",
     "output_type": "stream",
     "text": [
      "Exception in thread Thread-5 (test4):\n",
      "Traceback (most recent call last):\n",
      "  File \"/opt/conda/lib/python3.10/threading.py\", line 1016, in _bootstrap_inner\n",
      "Exception in thread Thread-6 (test4):\n",
      "Traceback (most recent call last):\n",
      "  File \"/opt/conda/lib/python3.10/threading.py\", line 1016, in _bootstrap_inner\n",
      "    self.run()\n",
      "  File \"/opt/conda/lib/python3.10/threading.py\", line 953, in run\n",
      "    self._target(*self._args, **self._kwargs)\n",
      "  File \"/tmp/ipykernel_712/341383145.py\", line 10, in test4\n",
      "    self.run()\n",
      "  File \"/opt/conda/lib/python3.10/threading.py\", line 953, in run\n",
      "Exception in thread Thread-7 (test4):\n",
      "Traceback (most recent call last):\n",
      "  File \"/opt/conda/lib/python3.10/threading.py\", line 1016, in _bootstrap_inner\n",
      "NameError: name 'time' is not defined\n",
      "    self.run()\n",
      "  File \"/opt/conda/lib/python3.10/threading.py\", line 953, in run\n",
      "Exception in thread Thread-8 (test4):\n",
      "Traceback (most recent call last):\n",
      "  File \"/opt/conda/lib/python3.10/threading.py\", line 1016, in _bootstrap_inner\n",
      "    self.run()\n",
      "  File \"/opt/conda/lib/python3.10/threading.py\", line 953, in run\n",
      "    self._target(*self._args, **self._kwargs)\n",
      "  File \"/tmp/ipykernel_712/341383145.py\", line 10, in test4\n",
      "Exception in thread Thread-9 (test4):\n",
      "Traceback (most recent call last):\n",
      "  File \"/opt/conda/lib/python3.10/threading.py\", line 1016, in _bootstrap_inner\n",
      "    self._target(*self._args, **self._kwargs)\n",
      "  File \"/tmp/ipykernel_712/341383145.py\", line 10, in test4\n",
      "NameError: name 'time' is not defined\n",
      "NameError: name 'time' is not defined\n",
      "    self._target(*self._args, **self._kwargs)\n",
      "  File \"/tmp/ipykernel_712/341383145.py\", line 10, in test4\n",
      "    self.run()\n",
      "  File \"/opt/conda/lib/python3.10/threading.py\", line 953, in run\n",
      "Exception in thread Thread-10 (test4):\n",
      "Traceback (most recent call last):\n",
      "  File \"/opt/conda/lib/python3.10/threading.py\", line 1016, in _bootstrap_inner\n"
     ]
    },
    {
     "name": "stdout",
     "output_type": "stream",
     "text": [
      "value of x 89 and shared_var 10\n",
      "value of x 90 and shared_var 15\n",
      "value of x 91 and shared_var 20\n",
      "value of x 92 and shared_var 25\n",
      "value of x 93 and shared_var 30\n",
      "value of x 90 and shared_var 35\n"
     ]
    },
    {
     "name": "stderr",
     "output_type": "stream",
     "text": [
      "    self._target(*self._args, **self._kwargs)\n",
      "  File \"/tmp/ipykernel_712/341383145.py\", line 10, in test4\n",
      "    self.run()\n",
      "  File \"/opt/conda/lib/python3.10/threading.py\", line 953, in run\n",
      "NameError: name 'time' is not defined\n",
      "    self._target(*self._args, **self._kwargs)\n",
      "  File \"/tmp/ipykernel_712/341383145.py\", line 10, in test4\n",
      "NameError: name 'time' is not defined\n",
      "NameError: name 'time' is not defined\n"
     ]
    }
   ],
   "source": [
    "import threading\n",
    "shared_var=5\n",
    "lock_var=threading.Lock()\n",
    "\n",
    "def test4(x):\n",
    "    global shared_var\n",
    "    with lock_var:\n",
    "        shared_var+=5\n",
    "        print(\"value of x %d and shared_var %d\" %(x,shared_var))\n",
    "        time.sleep(1)\n",
    "\n",
    "thread8=[threading.Thread(target=test4,args=(i,)) for i in [89,90,91,92,93,90]]\n",
    "for t in thread8:\n",
    "    t.start()"
   ]
  },
  {
   "cell_type": "code",
   "execution_count": null,
   "id": "f5410542-5ee1-4a85-ad8f-f52413c8ed1c",
   "metadata": {},
   "outputs": [],
   "source": []
  }
 ],
 "metadata": {
  "kernelspec": {
   "display_name": "Python 3 (ipykernel)",
   "language": "python",
   "name": "python3"
  },
  "language_info": {
   "codemirror_mode": {
    "name": "ipython",
    "version": 3
   },
   "file_extension": ".py",
   "mimetype": "text/x-python",
   "name": "python",
   "nbconvert_exporter": "python",
   "pygments_lexer": "ipython3",
   "version": "3.10.8"
  }
 },
 "nbformat": 4,
 "nbformat_minor": 5
}
