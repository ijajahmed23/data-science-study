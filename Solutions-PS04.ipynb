{
 "cells": [
  {
   "cell_type": "code",
   "execution_count": 1,
   "id": "9f77b143-c736-45f3-bb48-ea5d124bc7b5",
   "metadata": {},
   "outputs": [
    {
     "data": {
      "text/plain": [
       "'Q1.Create a class called \"Person\" with properties for \"name\", \"age\", and \"gender\". Create an object of this class and print out its properties.'"
      ]
     },
     "execution_count": 1,
     "metadata": {},
     "output_type": "execute_result"
    }
   ],
   "source": [
    "'''Q1.Create a class called \"Person\" with properties for \"name\", \"age\", and \"gender\". Create an object of this class and print out its properties.'''"
   ]
  },
  {
   "cell_type": "code",
   "execution_count": 7,
   "id": "189233c0-ff0f-4e65-96c5-e943fecf9aa2",
   "metadata": {},
   "outputs": [
    {
     "name": "stdout",
     "output_type": "stream",
     "text": [
      "25\n",
      "male\n",
      "ijaj\n"
     ]
    }
   ],
   "source": [
    "class Person:\n",
    "    def __init__(self,name,age,gender):\n",
    "        self.name=name\n",
    "        self.age=age\n",
    "        self.gender=gender\n",
    "        \n",
    "person1=Person('ijaj','25','male')\n",
    "print(person1.age)\n",
    "print(person1.gender)\n",
    "print(person1.name) "
   ]
  },
  {
   "cell_type": "code",
   "execution_count": 8,
   "id": "39f9d703-2e69-4fbf-9b82-a8b18def5f95",
   "metadata": {},
   "outputs": [
    {
     "data": {
      "text/plain": [
       "'Q2. Write a Python class called \"Rectangle\" with attributes for \"width\" and \"height\". Implement methods to calculate the area and perimeter of the rectangle. Create an instance of this class and use it to print out the rectangle\\'s area and perimeter.'"
      ]
     },
     "execution_count": 8,
     "metadata": {},
     "output_type": "execute_result"
    }
   ],
   "source": [
    "'''Q2. Write a Python class called \"Rectangle\" with attributes for \"width\" and \"height\". Implement methods to calculate the area and perimeter of the rectangle. Create an instance of this class and use it to print out the rectangle's area and perimeter.'''"
   ]
  },
  {
   "cell_type": "code",
   "execution_count": 9,
   "id": "f99cd88d-0672-4a91-9b89-2f53ee0451bc",
   "metadata": {},
   "outputs": [
    {
     "name": "stdout",
     "output_type": "stream",
     "text": [
      "12\n",
      "14\n"
     ]
    }
   ],
   "source": [
    "class Rectangle:\n",
    "    def __init__(self,width,height):\n",
    "        self.width=width\n",
    "        self.height=height\n",
    "    def area(self):\n",
    "        return self.width*self.height\n",
    "    def perimeter(self):\n",
    "        return 2*(self.height+self.width)\n",
    "\n",
    "rect1=Rectangle(3,4)\n",
    "print(rect1.area())\n",
    "print(rect1.perimeter())"
   ]
  },
  {
   "cell_type": "code",
   "execution_count": 10,
   "id": "52dd9132-7bfb-41f3-9e9d-95a0ebcc0d5d",
   "metadata": {},
   "outputs": [
    {
     "data": {
      "text/plain": [
       "'\\nQ3. Write a Python class called \"BankAccount\" with attributes for \"balance\" and \"interest_rate\". \\nImplement methods to deposit and withdraw money from the account, as well as to calculate the interest earned on the balance based on the interest rate. \\nCreate an instance of this class and use it to test out the implemented methods for deposit, withdrawal, and interest calculation.'"
      ]
     },
     "execution_count": 10,
     "metadata": {},
     "output_type": "execute_result"
    }
   ],
   "source": [
    "'''\n",
    "Q3. Write a Python class called \"BankAccount\" with attributes for \"balance\" and \"interest_rate\". \n",
    "Implement methods to deposit and withdraw money from the account, as well as to calculate the interest earned on the balance based on the interest rate. \n",
    "Create an instance of this class and use it to test out the implemented methods for deposit, withdrawal, and interest calculation.'''"
   ]
  },
  {
   "cell_type": "code",
   "execution_count": 15,
   "id": "1e3620e5-861e-412f-adbc-c582f2982324",
   "metadata": {},
   "outputs": [
    {
     "name": "stdout",
     "output_type": "stream",
     "text": [
      "1500\n",
      "60.0\n"
     ]
    }
   ],
   "source": [
    "class BankAccount:\n",
    "    def __init__(self,balance,interest_rate):\n",
    "        self.balance=balance\n",
    "        self.interest_rate=interest_rate\n",
    "        \n",
    "    def deposit(self,amount):\n",
    "        self.balance += amount\n",
    "    \n",
    "    def withdraw(self,amount):\n",
    "        self.balance-=amount\n",
    "    \n",
    "    def interest(self):\n",
    "        return self.balance*self.interest_rate/100\n",
    "    \n",
    "sbi=BankAccount(1000,4)\n",
    "sbi.deposit(500)\n",
    "print(sbi.balance)\n",
    "print(sbi.interest())"
   ]
  },
  {
   "cell_type": "code",
   "execution_count": 16,
   "id": "74a3c688-4134-4869-8658-d7fe993d682c",
   "metadata": {},
   "outputs": [
    {
     "data": {
      "text/plain": [
       "'Q4. Write a Python class called \"Animal\" with attributes for \"name\" and \"species\". Create a subclass of \"Animal\" called \"Dog\" w\\nith additional attributes for \"breed\" and \"owner\". Implement both classes with appropriate methods and constructors to initialise their properties. Create instances of \\nboth classes and use them to print out the various properties of the animals and dogs, such as their names, species, breeds, and owners.'"
      ]
     },
     "execution_count": 16,
     "metadata": {},
     "output_type": "execute_result"
    }
   ],
   "source": [
    "'''Q4. Write a Python class called \"Animal\" with attributes for \"name\" and \"species\". Create a subclass of \"Animal\" called \"Dog\" w\n",
    "ith additional attributes for \"breed\" and \"owner\". Implement both classes with appropriate methods and constructors to initialise their properties. Create instances of \n",
    "both classes and use them to print out the various properties of the animals and dogs, such as their names, species, breeds, and owners.'''"
   ]
  },
  {
   "cell_type": "code",
   "execution_count": 17,
   "id": "0ab13ad1-1f19-425f-b29e-a263bf54b5ae",
   "metadata": {},
   "outputs": [
    {
     "name": "stdout",
     "output_type": "stream",
     "text": [
      "Animal name: Tiger\n",
      "Animal species: Feline\n",
      "Dog name: Max\n",
      "Dog species: Canine\n",
      "Dog breed: Labrador Retriever\n",
      "Dog owner: John\n"
     ]
    }
   ],
   "source": [
    "class Animal:\n",
    "    def __init__(self,name,species):\n",
    "        self.name=name\n",
    "        self.species=species\n",
    "        \n",
    "class Dog(Animal):\n",
    "    def __init__(self,name,species,breed,owner):\n",
    "        super().__init__(name,species)\n",
    "        self.breed=breed\n",
    "        self.owner=owner\n",
    "        \n",
    "# Create an object of the Animal class\n",
    "animal1 = Animal(\"Tiger\", \"Feline\")\n",
    "\n",
    "# Create an object of the Dog class\n",
    "dog1 = Dog(\"Max\", \"Canine\", \"Labrador Retriever\", \"John\")\n",
    "\n",
    "# Print out the properties of the animal1 object\n",
    "print(\"Animal name:\", animal1.name)\n",
    "print(\"Animal species:\", animal1.species)\n",
    "\n",
    "# Print out the properties of the dog1 object\n",
    "print(\"Dog name:\", dog1.name)\n",
    "print(\"Dog species:\", dog1.species)\n",
    "print(\"Dog breed:\", dog1.breed)\n",
    "print(\"Dog owner:\", dog1.owner)"
   ]
  },
  {
   "cell_type": "code",
   "execution_count": 18,
   "id": "ada2caab-7834-4c74-ac3b-f8f32194b60e",
   "metadata": {},
   "outputs": [
    {
     "name": "stdout",
     "output_type": "stream",
     "text": [
      "Animal name: Tiger\n",
      "Animal species: Feline\n",
      "Dog name: Max\n",
      "Dog species: Canine\n",
      "Dog breed: Labrador Retriever\n",
      "Dog owner: John\n"
     ]
    }
   ],
   "source": [
    "# Define the Animal class\n",
    "class Animal:\n",
    "    # Constructor method to initialize the name and species properties\n",
    "    def __init__(self, name, species):\n",
    "        self.name = name\n",
    "        self.species = species\n",
    "    \n",
    "# Define the Dog subclass, which inherits from Animal\n",
    "class Dog(Animal):\n",
    "    # Constructor method to initialize the breed and owner properties\n",
    "    def __init__(self, name, species, breed, owner):\n",
    "        # Call the parent class's constructor to initialize the name and species properties\n",
    "        super().__init__(name, species)\n",
    "        self.breed = breed\n",
    "        self.owner = owner\n",
    "\n",
    "# Create an object of the Animal class\n",
    "animal1 = Animal(\"Tiger\", \"Feline\")\n",
    "\n",
    "# Create an object of the Dog class\n",
    "dog1 = Dog(\"Max\", \"Canine\", \"Labrador Retriever\", \"John\")\n",
    "\n",
    "# Print out the properties of the animal1 object\n",
    "print(\"Animal name:\", animal1.name)\n",
    "print(\"Animal species:\", animal1.species)\n",
    "\n",
    "# Print out the properties of the dog1 object\n",
    "print(\"Dog name:\", dog1.name)\n",
    "print(\"Dog species:\", dog1.species)\n",
    "print(\"Dog breed:\", dog1.breed)\n",
    "print(\"Dog owner:\", dog1.owner)"
   ]
  },
  {
   "cell_type": "code",
   "execution_count": 19,
   "id": "3d66303a-e924-47e3-95fb-cc64b59beb6d",
   "metadata": {},
   "outputs": [
    {
     "data": {
      "text/plain": [
       "'Q5.Create a class called \"Car\" with properties for \"make\", \"model\", and \"year\". Create a subclass of \"Car\" called \"ElectricCar\" with additional properties for \"battery_size\" and \"range\". \\nCreate objects of both classes and print out their properties.'"
      ]
     },
     "execution_count": 19,
     "metadata": {},
     "output_type": "execute_result"
    }
   ],
   "source": [
    "'''Q5.Create a class called \"Car\" with properties for \"make\", \"model\", and \"year\". Create a subclass of \"Car\" called \"ElectricCar\" with additional properties for \"battery_size\" and \"range\". \n",
    "Create objects of both classes and print out their properties.'''"
   ]
  },
  {
   "cell_type": "code",
   "execution_count": 21,
   "id": "439ea4ee-013b-471f-bf64-2744b4138746",
   "metadata": {},
   "outputs": [
    {
     "name": "stdout",
     "output_type": "stream",
     "text": [
      "Car make: Toyota\n",
      "Car model: Camry\n",
      "Car year: 2019\n",
      "Electric car make: Tesla\n",
      "Electric car model: Model 3\n",
      "Electric car year: 2021\n",
      "Electric car battery size: 75\n",
      "Electric car range: 263\n"
     ]
    }
   ],
   "source": [
    "class Car:\n",
    "    def __init__(self,make,model,year):\n",
    "        self.make=make\n",
    "        self.model=model\n",
    "        self.year=year\n",
    "        \n",
    "class ElectricCar(Car):\n",
    "    def __init__(self,make,model,year,battery_size,range_car):\n",
    "        super().__init__(make,model,year)\n",
    "        self.battery_size=battery_size\n",
    "        self.range_car=range_car\n",
    "        \n",
    "# Create an object of the Car class\n",
    "car1 = Car(\"Toyota\", \"Camry\", 2019)\n",
    "\n",
    "# Create an object of the ElectricCar class\n",
    "electric_car1 = ElectricCar(\"Tesla\", \"Model 3\", 2021, 75, 263)\n",
    "\n",
    "# Print out the properties of the car1 object\n",
    "print(\"Car make:\", car1.make)\n",
    "print(\"Car model:\", car1.model)\n",
    "print(\"Car year:\", car1.year)\n",
    "\n",
    "# Print out the properties of the electric_car1 object\n",
    "print(\"Electric car make:\", electric_car1.make)\n",
    "print(\"Electric car model:\", electric_car1.model)\n",
    "print(\"Electric car year:\", electric_car1.year)\n",
    "print(\"Electric car battery size:\", electric_car1.battery_size)\n",
    "print(\"Electric car range:\", electric_car1.range_car)"
   ]
  },
  {
   "cell_type": "code",
   "execution_count": 22,
   "id": "7b143e99-08ec-4f76-98e8-4c13a4a70f4e",
   "metadata": {},
   "outputs": [
    {
     "name": "stdout",
     "output_type": "stream",
     "text": [
      "Car make: Toyota\n",
      "Car model: Camry\n",
      "Car year: 2019\n",
      "Electric car make: Tesla\n",
      "Electric car model: Model 3\n",
      "Electric car year: 2021\n",
      "Electric car battery size: 75\n",
      "Electric car range: 263\n"
     ]
    }
   ],
   "source": [
    "# Define the Car class\n",
    "class Car:\n",
    "    # Constructor method to initialize the make, model, and year properties\n",
    "    def __init__(self, make, model, year):\n",
    "        self.make = make\n",
    "        self.model = model\n",
    "        self.year = year\n",
    "\n",
    "# Define the ElectricCar subclass, which inherits from Car\n",
    "class ElectricCar(Car):\n",
    "    # Constructor method to initialize the battery_size and range properties\n",
    "    def __init__(self, make, model, year, battery_size, range):\n",
    "        # Call the parent class's constructor to initialize the make, model, and year properties\n",
    "        super().__init__(make, model, year)\n",
    "        self.battery_size = battery_size\n",
    "        self.range = range\n",
    "\n",
    "# Create an object of the Car class\n",
    "car1 = Car(\"Toyota\", \"Camry\", 2019)\n",
    "\n",
    "# Create an object of the ElectricCar class\n",
    "electric_car1 = ElectricCar(\"Tesla\", \"Model 3\", 2021, 75, 263)\n",
    "\n",
    "# Print out the properties of the car1 object\n",
    "print(\"Car make:\", car1.make)\n",
    "print(\"Car model:\", car1.model)\n",
    "print(\"Car year:\", car1.year)\n",
    "\n",
    "# Print out the properties of the electric_car1 object\n",
    "print(\"Electric car make:\", electric_car1.make)\n",
    "print(\"Electric car model:\", electric_car1.model)\n",
    "print(\"Electric car year:\", electric_car1.year)\n",
    "print(\"Electric car battery size:\", electric_car1.battery_size)\n",
    "print(\"Electric car range:\", electric_car1.range)"
   ]
  },
  {
   "cell_type": "code",
   "execution_count": 23,
   "id": "99944c09-4b07-4eb3-b377-0f28c8e5fec2",
   "metadata": {},
   "outputs": [
    {
     "data": {
      "text/plain": [
       "'Q6.Create a class called \"Student\" with properties for \"name\" and \"id\". Create a subclass of \"Student\" called \"GraduateStudent\" with additional properties for \"advisor\" and \"research_area\". Create objects of both classes and print out their properties.'"
      ]
     },
     "execution_count": 23,
     "metadata": {},
     "output_type": "execute_result"
    }
   ],
   "source": [
    "'''Q6.Create a class called \"Student\" with properties for \"name\" and \"id\". Create a subclass of \"Student\" called \"GraduateStudent\" with additional properties for \"advisor\" and \"research_area\". Create objects of both classes and print out their properties.'''"
   ]
  },
  {
   "cell_type": "code",
   "execution_count": 25,
   "id": "30afa002-c8c4-44b0-8d07-77fb0aedfc14",
   "metadata": {},
   "outputs": [
    {
     "name": "stdout",
     "output_type": "stream",
     "text": [
      "Student name: John Doe\n",
      "Student id: 12345\n",
      "Graduate student name: Jane Smith\n",
      "Graduate student id: 67890\n",
      "Graduate student advisor: Dr. Johnson\n",
      "Graduate student research area: Computer Science\n"
     ]
    }
   ],
   "source": [
    "class Student:\n",
    "    def __init__(self,name,stud_id):\n",
    "        self.name=name\n",
    "        self.stud_id=stud_id\n",
    "        \n",
    "class GraduateStudent(Student):\n",
    "    def __init__(self,name,stud_id,advisor,research_area):\n",
    "        super().__init__(name,stud_id)\n",
    "        self.advisor=advisor\n",
    "        self.research_area=research_area\n",
    "        \n",
    "# Create an object of the Student class\n",
    "student1 = Student(\"John Doe\", 12345)\n",
    "\n",
    "# Create an object of the GraduateStudent class\n",
    "grad_student1 = GraduateStudent(\"Jane Smith\", 67890, \"Dr. Johnson\", \"Computer Science\")\n",
    "\n",
    "# Print out the properties of the student1 object\n",
    "print(\"Student name:\", student1.name)\n",
    "print(\"Student id:\", student1.stud_id)\n",
    "\n",
    "# Print out the properties of the grad_student1 object\n",
    "print(\"Graduate student name:\", grad_student1.name)\n",
    "print(\"Graduate student id:\", grad_student1.stud_id)\n",
    "print(\"Graduate student advisor:\", grad_student1.advisor)\n",
    "print(\"Graduate student research area:\", grad_student1.research_area)"
   ]
  },
  {
   "cell_type": "code",
   "execution_count": 26,
   "id": "444fd071-c7e4-4696-a5a7-a15ea99e9c41",
   "metadata": {},
   "outputs": [
    {
     "name": "stdout",
     "output_type": "stream",
     "text": [
      "Student name: John Doe\n",
      "Student id: 12345\n",
      "Graduate student name: Jane Smith\n",
      "Graduate student id: 67890\n",
      "Graduate student advisor: Dr. Johnson\n",
      "Graduate student research area: Computer Science\n"
     ]
    }
   ],
   "source": [
    "# Define the Student class\n",
    "class Student:\n",
    "    # Constructor method to initialize the name and id properties\n",
    "    def __init__(self, name, id):\n",
    "        self.name = name\n",
    "        self.id = id\n",
    "\n",
    "# Define the GraduateStudent subclass, which inherits from Student\n",
    "class GraduateStudent(Student):\n",
    "    # Constructor method to initialize the advisor and research_area properties\n",
    "    def __init__(self, name, id, advisor, research_area):\n",
    "        # Call the parent class's constructor to initialize the name and id properties\n",
    "        super().__init__(name, id)\n",
    "        self.advisor = advisor\n",
    "        self.research_area = research_area\n",
    "\n",
    "# Create an object of the Student class\n",
    "student1 = Student(\"John Doe\", 12345)\n",
    "\n",
    "# Create an object of the GraduateStudent class\n",
    "grad_student1 = GraduateStudent(\"Jane Smith\", 67890, \"Dr. Johnson\", \"Computer Science\")\n",
    "\n",
    "# Print out the properties of the student1 object\n",
    "print(\"Student name:\", student1.name)\n",
    "print(\"Student id:\", student1.id)\n",
    "\n",
    "# Print out the properties of the grad_student1 object\n",
    "print(\"Graduate student name:\", grad_student1.name)\n",
    "print(\"Graduate student id:\", grad_student1.id)\n",
    "print(\"Graduate student advisor:\", grad_student1.advisor)\n",
    "print(\"Graduate student research area:\", grad_student1.research_area)"
   ]
  },
  {
   "cell_type": "code",
   "execution_count": 27,
   "id": "e88c4853-dde1-4954-ab2a-9f03853aa09c",
   "metadata": {},
   "outputs": [
    {
     "data": {
      "text/plain": [
       "'Q7. Create a class called \"Shape\" with methods to calculate the area and perimeter of the shape. \\nCreate subclasses of \"Shape\" for \"Rectangle\", \"Circle\", and \"Triangle\" with their own methods for calculating area and perimeter. \\nCreate objects of each class and print out their area and perimeter.'"
      ]
     },
     "execution_count": 27,
     "metadata": {},
     "output_type": "execute_result"
    }
   ],
   "source": [
    "'''Q7. Create a class called \"Shape\" with methods to calculate the area and perimeter of the shape. \n",
    "Create subclasses of \"Shape\" for \"Rectangle\", \"Circle\", and \"Triangle\" with their own methods for calculating area and perimeter. \n",
    "Create objects of each class and print out their area and perimeter.'''"
   ]
  },
  {
   "cell_type": "code",
   "execution_count": 31,
   "id": "62d99932-63c5-4ec1-8481-02c8bb698958",
   "metadata": {},
   "outputs": [
    {
     "name": "stdout",
     "output_type": "stream",
     "text": [
      "Rectangle area: 15\n",
      "Rectangle perimeter: 16\n",
      "Circle area: 50.26548245743669\n",
      "Circle perimeter: 25.132741228718345\n",
      "Triangle area: 6.0\n",
      "Triangle perimeter: 12\n"
     ]
    }
   ],
   "source": [
    "import math\n",
    "class Shape:\n",
    "    def calculate_area(self):\n",
    "        pass\n",
    "    def calculate_perimeter(self):\n",
    "        pass\n",
    "\n",
    "class Rectangle(Shape):\n",
    "    def __init__(self,height,width):\n",
    "        self.height=height\n",
    "        self.width=width\n",
    "        \n",
    "    def calculate_area(self):\n",
    "        return self.height*self.width\n",
    "    def calculate_perimeter(self):\n",
    "        return (self.height+self.width)*2\n",
    "    \n",
    "class Circle(Shape):\n",
    "    def __init__(self,radius):\n",
    "        self.radius=radius\n",
    "    def calculate_area(self):\n",
    "        return math.pi*(self.radius**2)\n",
    "    def calculate_perimeter(self):\n",
    "        return 2*math.pi*self.radius\n",
    "    \n",
    "class Triangle(Shape):\n",
    "    def __init__(self,a,b,c):\n",
    "        self.a=a\n",
    "        self.b=b\n",
    "        self.c=c\n",
    "    def calculate_area(self):\n",
    "        s=(self.a+self.b+self.c)/2\n",
    "        return math.sqrt(s*(s-self.a)*(s-self.b)*(s-self.c))\n",
    "    def calculate_perimeter(self):\n",
    "        return self.a+self.b+self.c\n",
    "    \n",
    "# Create objects of each class and print out their area and perimeter\n",
    "rectangle = Rectangle(5, 3)\n",
    "print(\"Rectangle area:\", rectangle.calculate_area())\n",
    "print(\"Rectangle perimeter:\", rectangle.calculate_perimeter())\n",
    "\n",
    "circle = Circle(4)\n",
    "print(\"Circle area:\", circle.calculate_area())\n",
    "print(\"Circle perimeter:\", circle.calculate_perimeter())\n",
    "\n",
    "triangle = Triangle(3, 4, 5)\n",
    "print(\"Triangle area:\", triangle.calculate_area())\n",
    "print(\"Triangle perimeter:\", triangle.calculate_perimeter())\n",
    "    \n",
    "    "
   ]
  },
  {
   "cell_type": "code",
   "execution_count": 32,
   "id": "a4bf84aa-43e8-4625-b5d9-12bdd21e249e",
   "metadata": {},
   "outputs": [
    {
     "name": "stdout",
     "output_type": "stream",
     "text": [
      "Rectangle area: 15\n",
      "Rectangle perimeter: 16\n",
      "Circle area: 50.26548245743669\n",
      "Circle perimeter: 25.132741228718345\n",
      "Triangle area: 6.0\n",
      "Triangle perimeter: 12\n"
     ]
    }
   ],
   "source": [
    "import math\n",
    "\n",
    "# Define the Shape class\n",
    "class Shape:\n",
    "    def calculate_area(self):\n",
    "        pass\n",
    "    \n",
    "    def calculate_perimeter(self):\n",
    "        pass\n",
    "\n",
    "# Define the Rectangle class, which inherits from Shape\n",
    "class Rectangle(Shape):\n",
    "    def __init__(self, width, height):\n",
    "        self.width = width\n",
    "        self.height = height\n",
    "    \n",
    "    def calculate_area(self):\n",
    "        return self.width * self.height\n",
    "    \n",
    "    def calculate_perimeter(self):\n",
    "        return 2 * (self.width + self.height)\n",
    "\n",
    "# Define the Circle class, which inherits from Shape\n",
    "class Circle(Shape):\n",
    "    def __init__(self, radius):\n",
    "        self.radius = radius\n",
    "    \n",
    "    def calculate_area(self):\n",
    "        return math.pi * self.radius ** 2\n",
    "    \n",
    "    def calculate_perimeter(self):\n",
    "        return 2 * math.pi * self.radius\n",
    "\n",
    "# Define the Triangle class, which inherits from Shape\n",
    "class Triangle(Shape):\n",
    "    def __init__(self, a, b, c):\n",
    "        self.a = a\n",
    "        self.b = b\n",
    "        self.c = c\n",
    "    \n",
    "    def calculate_area(self):\n",
    "        s = (self.a + self.b + self.c) / 2\n",
    "        return math.sqrt(s * (s - self.a) * (s - self.b) * (s - self.c))\n",
    "    \n",
    "    def calculate_perimeter(self):\n",
    "        return self.a + self.b + self.c\n",
    "\n",
    "# Create objects of each class and print out their area and perimeter\n",
    "rectangle = Rectangle(5, 3)\n",
    "print(\"Rectangle area:\", rectangle.calculate_area())\n",
    "print(\"Rectangle perimeter:\", rectangle.calculate_perimeter())\n",
    "\n",
    "circle = Circle(4)\n",
    "print(\"Circle area:\", circle.calculate_area())\n",
    "print(\"Circle perimeter:\", circle.calculate_perimeter())\n",
    "\n",
    "triangle = Triangle(3, 4, 5)\n",
    "print(\"Triangle area:\", triangle.calculate_area())\n",
    "print(\"Triangle perimeter:\", triangle.calculate_perimeter())"
   ]
  },
  {
   "cell_type": "code",
   "execution_count": 33,
   "id": "11ecfe6d-4ab6-41c1-8835-ca7e5b4ec9f7",
   "metadata": {},
   "outputs": [
    {
     "data": {
      "text/plain": [
       "'Q8.Create a class called \"Employee\" with properties for \"name\", \"id\", and \"salary\". \\nAdd methods to give the employee a raise and to calculate their annual salary. \\nCreate objects of this class and test out the methods.'"
      ]
     },
     "execution_count": 33,
     "metadata": {},
     "output_type": "execute_result"
    }
   ],
   "source": [
    "'''Q8.Create a class called \"Employee\" with properties for \"name\", \"id\", and \"salary\". \n",
    "Add methods to give the employee a raise and to calculate their annual salary. \n",
    "Create objects of this class and test out the methods.'''"
   ]
  },
  {
   "cell_type": "code",
   "execution_count": 34,
   "id": "4dea3228-7ba6-488f-a530-142e558a9ec9",
   "metadata": {},
   "outputs": [
    {
     "name": "stdout",
     "output_type": "stream",
     "text": [
      "Initial salary: 50000\n",
      "New salary: 51000\n",
      "Annual salary: 612000\n"
     ]
    }
   ],
   "source": [
    "class Employee:\n",
    "    def __init__(self,name,emp_id,salary):\n",
    "        self.name=name\n",
    "        self.emp_id=emp_id\n",
    "        self.salary=salary\n",
    "    \n",
    "    def give_raise(self,amount):\n",
    "        self.salary+=amount\n",
    "    def annual_salary(self):\n",
    "        return self.salary*12\n",
    "    \n",
    "# create an employee object\n",
    "employee1 = Employee(\"John Doe\", 12345, 50000)\n",
    "\n",
    "# print out the initial salary\n",
    "print(\"Initial salary:\", employee1.salary)\n",
    "\n",
    "# give the employee a raise of $1000\n",
    "employee1.give_raise(1000)\n",
    "\n",
    "# print out the new salary\n",
    "print(\"New salary:\", employee1.salary)\n",
    "\n",
    "# print out the annual salary\n",
    "print(\"Annual salary:\", employee1.annual_salary())\n",
    "        "
   ]
  },
  {
   "cell_type": "code",
   "execution_count": 35,
   "id": "5c9c47a5-50ca-401c-b061-17d8896abf74",
   "metadata": {},
   "outputs": [
    {
     "name": "stdout",
     "output_type": "stream",
     "text": [
      "Initial salary: 50000\n",
      "New salary: 51000\n",
      "Annual salary: 612000\n"
     ]
    }
   ],
   "source": [
    "class Employee:\n",
    "    def __init__(self, name, id, salary):\n",
    "        self.name = name\n",
    "        self.id = id\n",
    "        self.salary = salary\n",
    "\n",
    "    def give_raise(self, amount):\n",
    "        self.salary += amount\n",
    "\n",
    "    def annual_salary(self):\n",
    "        return self.salary * 12\n",
    "\n",
    "# create an employee object\n",
    "employee1 = Employee(\"John Doe\", 12345, 50000)\n",
    "\n",
    "# print out the initial salary\n",
    "print(\"Initial salary:\", employee1.salary)\n",
    "\n",
    "# give the employee a raise of $1000\n",
    "employee1.give_raise(1000)\n",
    "\n",
    "# print out the new salary\n",
    "print(\"New salary:\", employee1.salary)\n",
    "\n",
    "# print out the annual salary\n",
    "print(\"Annual salary:\", employee1.annual_salary())"
   ]
  },
  {
   "cell_type": "code",
   "execution_count": 36,
   "id": "d64b5050-f7a7-4e11-bd03-e0fdd7ac5b60",
   "metadata": {},
   "outputs": [
    {
     "data": {
      "text/plain": [
       "'Q9.Create a class called \"Book\" with properties for \"title\", \"author\", and \"publisher\". \\nCreate a subclass of \"Book\" called \"Ebook\" with additional properties for \"file_format\" and \"file_size\". \\nCreate objects of both classes and print out their properties.'"
      ]
     },
     "execution_count": 36,
     "metadata": {},
     "output_type": "execute_result"
    }
   ],
   "source": [
    "'''Q9.Create a class called \"Book\" with properties for \"title\", \"author\", and \"publisher\". \n",
    "Create a subclass of \"Book\" called \"Ebook\" with additional properties for \"file_format\" and \"file_size\". \n",
    "Create objects of both classes and print out their properties.'''"
   ]
  },
  {
   "cell_type": "code",
   "execution_count": 37,
   "id": "94059b86-4774-4cd8-970e-004652a62b12",
   "metadata": {},
   "outputs": [
    {
     "name": "stdout",
     "output_type": "stream",
     "text": [
      "Book title: To Kill a Mockingbird\n",
      "Book author: Harper Lee\n",
      "Book publisher: J. B. Lippincott & Co.\n",
      "Ebook title: The Hunger Games\n",
      "Ebook author: Suzanne Collins\n",
      "Ebook publisher: Scholastic Corporation\n",
      "Ebook file format: PDF\n",
      "Ebook file size: 2.5 MB\n"
     ]
    }
   ],
   "source": [
    "class Book:\n",
    "    def __init__(self,title,author,publisher):\n",
    "        self.title=title\n",
    "        self.author=author\n",
    "        self.publisher=publisher\n",
    "        \n",
    "class Ebook(Book):\n",
    "    def __init__(self,title,author,publisher,file_format,file_size):\n",
    "        super().__init__(title,author,publisher)\n",
    "        self.file_format=file_format\n",
    "        self.file_size=file_size\n",
    "        \n",
    "# Create an object of the Book class\n",
    "book1 = Book(\"To Kill a Mockingbird\", \"Harper Lee\", \"J. B. Lippincott & Co.\")\n",
    "\n",
    "# Create an object of the Ebook class\n",
    "ebook1 = Ebook(\"The Hunger Games\", \"Suzanne Collins\", \"Scholastic Corporation\", \"PDF\", \"2.5 MB\")\n",
    "\n",
    "# Print out the properties of book1\n",
    "print(\"Book title:\", book1.title)\n",
    "print(\"Book author:\", book1.author)\n",
    "print(\"Book publisher:\", book1.publisher)\n",
    "\n",
    "# Print out the properties of ebook1\n",
    "print(\"Ebook title:\", ebook1.title)\n",
    "print(\"Ebook author:\", ebook1.author)\n",
    "print(\"Ebook publisher:\", ebook1.publisher)\n",
    "print(\"Ebook file format:\", ebook1.file_format)\n",
    "print(\"Ebook file size:\", ebook1.file_size)"
   ]
  },
  {
   "cell_type": "code",
   "execution_count": 38,
   "id": "8cd55a82-eab5-4d20-b5a1-a0f68d0f0223",
   "metadata": {},
   "outputs": [
    {
     "name": "stdout",
     "output_type": "stream",
     "text": [
      "Book title: To Kill a Mockingbird\n",
      "Book author: Harper Lee\n",
      "Book publisher: J. B. Lippincott & Co.\n",
      "Ebook title: The Hunger Games\n",
      "Ebook author: Suzanne Collins\n",
      "Ebook publisher: Scholastic Corporation\n",
      "Ebook file format: PDF\n",
      "Ebook file size: 2.5 MB\n"
     ]
    }
   ],
   "source": [
    "class Book:\n",
    "    def __init__(self, title, author, publisher):\n",
    "        self.title = title\n",
    "        self.author = author\n",
    "        self.publisher = publisher\n",
    "        \n",
    "class Ebook(Book):\n",
    "    def __init__(self, title, author, publisher, file_format, file_size):\n",
    "        super().__init__(title, author, publisher)\n",
    "        self.file_format = file_format\n",
    "        self.file_size = file_size\n",
    "\n",
    "# Create an object of the Book class\n",
    "book1 = Book(\"To Kill a Mockingbird\", \"Harper Lee\", \"J. B. Lippincott & Co.\")\n",
    "\n",
    "# Create an object of the Ebook class\n",
    "ebook1 = Ebook(\"The Hunger Games\", \"Suzanne Collins\", \"Scholastic Corporation\", \"PDF\", \"2.5 MB\")\n",
    "\n",
    "# Print out the properties of book1\n",
    "print(\"Book title:\", book1.title)\n",
    "print(\"Book author:\", book1.author)\n",
    "print(\"Book publisher:\", book1.publisher)\n",
    "\n",
    "# Print out the properties of ebook1\n",
    "print(\"Ebook title:\", ebook1.title)\n",
    "print(\"Ebook author:\", ebook1.author)\n",
    "print(\"Ebook publisher:\", ebook1.publisher)\n",
    "print(\"Ebook file format:\", ebook1.file_format)\n",
    "print(\"Ebook file size:\", ebook1.file_size)"
   ]
  },
  {
   "cell_type": "code",
   "execution_count": 39,
   "id": "54421e08-f656-4505-8cf9-9700c278984f",
   "metadata": {},
   "outputs": [
    {
     "data": {
      "text/plain": [
       "'Q10.Create a class called \"Bank\" with properties for \"name\" and \"accounts\". \\nAdd methods to create new accounts, deposit and withdraw money from accounts, and to calculate the total balance of all accounts. \\nCreate an object of this class and test out the methods.'"
      ]
     },
     "execution_count": 39,
     "metadata": {},
     "output_type": "execute_result"
    }
   ],
   "source": [
    "'''Q10.Create a class called \"Bank\" with properties for \"name\" and \"accounts\". \n",
    "Add methods to create new accounts, deposit and withdraw money from accounts, and to calculate the total balance of all accounts. \n",
    "Create an object of this class and test out the methods.'''"
   ]
  },
  {
   "cell_type": "code",
   "execution_count": 41,
   "id": "e6bc7535-6c7b-4276-ba3a-ed1937aab9d2",
   "metadata": {},
   "outputs": [
    {
     "name": "stdout",
     "output_type": "stream",
     "text": [
      "Total balance: 1800\n"
     ]
    }
   ],
   "source": [
    "class Bank:\n",
    "    def __init__(self, name):\n",
    "        self.name = name\n",
    "        self.accounts = {}\n",
    "\n",
    "    def create_account(self, account_name, initial_balance=0):\n",
    "        self.accounts[account_name] = initial_balance\n",
    "\n",
    "    def deposit(self, account_name, amount):\n",
    "        if account_name not in self.accounts:\n",
    "            raise ValueError(f\"No account named '{account_name}' exists in the bank.\")\n",
    "        self.accounts[account_name] += amount\n",
    "\n",
    "    def withdraw(self, account_name, amount):\n",
    "        if account_name not in self.accounts:\n",
    "            raise ValueError(f\"No account named '{account_name}' exists in the bank.\")\n",
    "        if self.accounts[account_name] < amount:\n",
    "            raise ValueError(\"Insufficient funds.\")\n",
    "        self.accounts[account_name] -= amount\n",
    "\n",
    "    def total_balance(self):\n",
    "        return sum(self.accounts.values())\n",
    "\n",
    "    # Create a new bank object\n",
    "my_bank = Bank(\"My Bank\")\n",
    "\n",
    "# Create two new accounts with initial balances\n",
    "my_bank.create_account(\"Alice\", 1000)\n",
    "my_bank.create_account(\"Bob\", 500)\n",
    "\n",
    "# Deposit money into Alice's account\n",
    "my_bank.deposit(\"Alice\", 500)\n",
    "\n",
    "# Withdraw money from Bob's account\n",
    "my_bank.withdraw(\"Bob\", 200)\n",
    "\n",
    "# Print the total balance of all accounts in the bank\n",
    "print(\"Total balance:\", my_bank.total_balance())\n"
   ]
  },
  {
   "cell_type": "code",
   "execution_count": null,
   "id": "2023643f-a0c3-48f2-8e3d-1b5d1ba3d2f8",
   "metadata": {},
   "outputs": [],
   "source": []
  }
 ],
 "metadata": {
  "kernelspec": {
   "display_name": "Python 3 (ipykernel)",
   "language": "python",
   "name": "python3"
  },
  "language_info": {
   "codemirror_mode": {
    "name": "ipython",
    "version": 3
   },
   "file_extension": ".py",
   "mimetype": "text/x-python",
   "name": "python",
   "nbconvert_exporter": "python",
   "pygments_lexer": "ipython3",
   "version": "3.10.8"
  }
 },
 "nbformat": 4,
 "nbformat_minor": 5
}
