{
 "cells": [
  {
   "cell_type": "code",
   "execution_count": 1,
   "id": "fa263da6-6c01-4e83-b78f-e298e454d590",
   "metadata": {},
   "outputs": [],
   "source": [
    "def test(a,b,c,d,e):\n",
    "    pass"
   ]
  },
  {
   "cell_type": "code",
   "execution_count": 2,
   "id": "fd3dddb2-d30b-4381-ac44-0ec3bbcf5af3",
   "metadata": {},
   "outputs": [
    {
     "ename": "TypeError",
     "evalue": "test() missing 5 required positional arguments: 'a', 'b', 'c', 'd', and 'e'",
     "output_type": "error",
     "traceback": [
      "\u001b[0;31m---------------------------------------------------------------------------\u001b[0m",
      "\u001b[0;31mTypeError\u001b[0m                                 Traceback (most recent call last)",
      "Cell \u001b[0;32mIn[2], line 1\u001b[0m\n\u001b[0;32m----> 1\u001b[0m \u001b[43mtest\u001b[49m\u001b[43m(\u001b[49m\u001b[43m)\u001b[49m\n",
      "\u001b[0;31mTypeError\u001b[0m: test() missing 5 required positional arguments: 'a', 'b', 'c', 'd', and 'e'"
     ]
    }
   ],
   "source": [
    "test()"
   ]
  },
  {
   "cell_type": "code",
   "execution_count": 6,
   "id": "b5264876-52d2-436e-afc0-298f1247ac05",
   "metadata": {},
   "outputs": [
    {
     "ename": "TypeError",
     "evalue": "test() takes 5 positional arguments but 6 were given",
     "output_type": "error",
     "traceback": [
      "\u001b[0;31m---------------------------------------------------------------------------\u001b[0m",
      "\u001b[0;31mTypeError\u001b[0m                                 Traceback (most recent call last)",
      "Cell \u001b[0;32mIn[6], line 1\u001b[0m\n\u001b[0;32m----> 1\u001b[0m \u001b[43mtest\u001b[49m\u001b[43m(\u001b[49m\u001b[38;5;241;43m1\u001b[39;49m\u001b[43m,\u001b[49m\u001b[38;5;241;43m3\u001b[39;49m\u001b[43m,\u001b[49m\u001b[38;5;241;43m4\u001b[39;49m\u001b[43m,\u001b[49m\u001b[38;5;241;43m5\u001b[39;49m\u001b[43m,\u001b[49m\u001b[38;5;241;43m6\u001b[39;49m\u001b[43m,\u001b[49m\u001b[38;5;241;43m2\u001b[39;49m\u001b[43m)\u001b[49m\n",
      "\u001b[0;31mTypeError\u001b[0m: test() takes 5 positional arguments but 6 were given"
     ]
    }
   ],
   "source": [
    "test(1,3,4,5,6,2)"
   ]
  },
  {
   "cell_type": "code",
   "execution_count": 10,
   "id": "52152cff-b1ec-4483-aec0-5d009bda0a6b",
   "metadata": {},
   "outputs": [],
   "source": [
    "def test1(*args):  #*args = steric of args\n",
    "    return args"
   ]
  },
  {
   "cell_type": "code",
   "execution_count": 8,
   "id": "b899150d-5eb5-4ed4-8d24-fec5be2a6b5a",
   "metadata": {},
   "outputs": [
    {
     "data": {
      "text/plain": [
       "(1,)"
      ]
     },
     "execution_count": 8,
     "metadata": {},
     "output_type": "execute_result"
    }
   ],
   "source": [
    "test1(1)"
   ]
  },
  {
   "cell_type": "code",
   "execution_count": 9,
   "id": "5acbb988-26e3-45ca-acc8-e31a36839b64",
   "metadata": {},
   "outputs": [
    {
     "data": {
      "text/plain": [
       "(1, 2, 3, 4, 5, 6, 7, 'ijaj', [2, 3, 4], (3, 4, 5))"
      ]
     },
     "execution_count": 9,
     "metadata": {},
     "output_type": "execute_result"
    }
   ],
   "source": [
    "test1(1,2,3,4,5,6,7,\"ijaj\",[2,3,4],(3,4,5))"
   ]
  },
  {
   "cell_type": "code",
   "execution_count": 11,
   "id": "11c35e26-4d4e-4a51-af53-b21ff67dd8e1",
   "metadata": {},
   "outputs": [],
   "source": [
    "def test2(*ijaj):\n",
    "    return ijaj"
   ]
  },
  {
   "cell_type": "code",
   "execution_count": 12,
   "id": "94d1734c-124f-4b11-bb50-15e6dc2dea2b",
   "metadata": {},
   "outputs": [
    {
     "data": {
      "text/plain": [
       "(2, 3, 45)"
      ]
     },
     "execution_count": 12,
     "metadata": {},
     "output_type": "execute_result"
    }
   ],
   "source": [
    "test2(2,3,45)"
   ]
  },
  {
   "cell_type": "code",
   "execution_count": 13,
   "id": "7707d081-2fa4-4e79-8fe0-f1bf091939d8",
   "metadata": {},
   "outputs": [],
   "source": [
    "def test3(*args,a):\n",
    "    return args,a"
   ]
  },
  {
   "cell_type": "code",
   "execution_count": 14,
   "id": "0e72cfe6-3561-4456-8d55-9b116febe58b",
   "metadata": {},
   "outputs": [
    {
     "ename": "TypeError",
     "evalue": "test3() missing 1 required keyword-only argument: 'a'",
     "output_type": "error",
     "traceback": [
      "\u001b[0;31m---------------------------------------------------------------------------\u001b[0m",
      "\u001b[0;31mTypeError\u001b[0m                                 Traceback (most recent call last)",
      "Cell \u001b[0;32mIn[14], line 1\u001b[0m\n\u001b[0;32m----> 1\u001b[0m \u001b[43mtest3\u001b[49m\u001b[43m(\u001b[49m\u001b[38;5;241;43m1\u001b[39;49m\u001b[43m)\u001b[49m\n",
      "\u001b[0;31mTypeError\u001b[0m: test3() missing 1 required keyword-only argument: 'a'"
     ]
    }
   ],
   "source": [
    "test3(1)"
   ]
  },
  {
   "cell_type": "code",
   "execution_count": 15,
   "id": "fb7b4c0f-b298-4ccf-aa57-82fe3c2d71f1",
   "metadata": {},
   "outputs": [
    {
     "ename": "TypeError",
     "evalue": "test3() missing 1 required keyword-only argument: 'a'",
     "output_type": "error",
     "traceback": [
      "\u001b[0;31m---------------------------------------------------------------------------\u001b[0m",
      "\u001b[0;31mTypeError\u001b[0m                                 Traceback (most recent call last)",
      "Cell \u001b[0;32mIn[15], line 1\u001b[0m\n\u001b[0;32m----> 1\u001b[0m \u001b[43mtest3\u001b[49m\u001b[43m(\u001b[49m\u001b[38;5;241;43m1\u001b[39;49m\u001b[43m,\u001b[49m\u001b[38;5;241;43m2\u001b[39;49m\u001b[43m)\u001b[49m\n",
      "\u001b[0;31mTypeError\u001b[0m: test3() missing 1 required keyword-only argument: 'a'"
     ]
    }
   ],
   "source": [
    "test3(1,2)"
   ]
  },
  {
   "cell_type": "code",
   "execution_count": 16,
   "id": "54e15d6f-002c-42e2-ad80-5d9d2402c646",
   "metadata": {},
   "outputs": [
    {
     "data": {
      "text/plain": [
       "((1,), 2)"
      ]
     },
     "execution_count": 16,
     "metadata": {},
     "output_type": "execute_result"
    }
   ],
   "source": [
    "test3(1,a=2)"
   ]
  },
  {
   "cell_type": "code",
   "execution_count": 17,
   "id": "fa92b9e7-6e49-466d-81d5-492c01add3f2",
   "metadata": {},
   "outputs": [
    {
     "data": {
      "text/plain": [
       "((1, 2, 3, 4), [2, 3, 4, (4, 5)])"
      ]
     },
     "execution_count": 17,
     "metadata": {},
     "output_type": "execute_result"
    }
   ],
   "source": [
    "test3(1,2,3,4,a=[2,3,4,(4,5)])"
   ]
  },
  {
   "cell_type": "code",
   "execution_count": 19,
   "id": "5141064c-99de-465b-8198-62dc4d68df15",
   "metadata": {},
   "outputs": [],
   "source": [
    "def test4(*args):   #holds data in a tuple\n",
    "    l=[]\n",
    "    for i in args:\n",
    "        if type(i)==list:\n",
    "            l.append(i)\n",
    "    return l\n",
    "    "
   ]
  },
  {
   "cell_type": "code",
   "execution_count": 21,
   "id": "961c53cf-3264-4783-80f7-cc001ed14eaa",
   "metadata": {},
   "outputs": [
    {
     "data": {
      "text/plain": [
       "[[1, 2, 3], ['ijaj', 'ahmed', 4.56]]"
      ]
     },
     "execution_count": 21,
     "metadata": {},
     "output_type": "execute_result"
    }
   ],
   "source": [
    "test4(1,2,3,[1,2,3],(4,5,6),[\"ijaj\",\"ahmed\",4.56])"
   ]
  },
  {
   "cell_type": "code",
   "execution_count": 22,
   "id": "d3cb442b-089a-4d9c-9774-935c50495de8",
   "metadata": {},
   "outputs": [],
   "source": [
    "def test5(**kwargs):  #**kwargs means n number of key value pairs (dictionary) can be taken as input\n",
    "    return kwargs\n",
    "    "
   ]
  },
  {
   "cell_type": "code",
   "execution_count": 23,
   "id": "a4aa68be-58f1-4a84-a3ec-a98f2ab748f9",
   "metadata": {},
   "outputs": [
    {
     "data": {
      "text/plain": [
       "{}"
      ]
     },
     "execution_count": 23,
     "metadata": {},
     "output_type": "execute_result"
    }
   ],
   "source": [
    "test5()"
   ]
  },
  {
   "cell_type": "code",
   "execution_count": 24,
   "id": "82614602-d40b-42db-9066-9ed368741d86",
   "metadata": {},
   "outputs": [
    {
     "data": {
      "text/plain": [
       "dict"
      ]
     },
     "execution_count": 24,
     "metadata": {},
     "output_type": "execute_result"
    }
   ],
   "source": [
    "type(test5())"
   ]
  },
  {
   "cell_type": "code",
   "execution_count": 25,
   "id": "a70626d4-7a91-4140-8ced-5e64687e3dce",
   "metadata": {},
   "outputs": [
    {
     "data": {
      "text/plain": [
       "{'a': 1, 'b': 2.34, 'c': [1, 2, 3, 4], 'd': ('ijaj', 'ahmed')}"
      ]
     },
     "execution_count": 25,
     "metadata": {},
     "output_type": "execute_result"
    }
   ],
   "source": [
    "test5(a=1,b=2.34,c=[1,2,3,4],d=(\"ijaj\",\"ahmed\"))"
   ]
  },
  {
   "cell_type": "code",
   "execution_count": 26,
   "id": "1b5c869d-408e-4c5c-ad07-5c27af879a61",
   "metadata": {},
   "outputs": [],
   "source": [
    "def test6(**kwargs):\n",
    "    for i in kwargs.keys():\n",
    "        if type(kwargs[i])==list:\n",
    "            return i, kwargs[i]\n",
    "            "
   ]
  },
  {
   "cell_type": "code",
   "execution_count": 27,
   "id": "df805049-5fff-4635-a0a9-1ad099fec643",
   "metadata": {},
   "outputs": [
    {
     "data": {
      "text/plain": [
       "('c', [1, 2, 3, 4])"
      ]
     },
     "execution_count": 27,
     "metadata": {},
     "output_type": "execute_result"
    }
   ],
   "source": [
    "test6(a=34,b=4.56,c=[1,2,3,4],d=(\"ijaj\",\"ahmed\"))"
   ]
  },
  {
   "cell_type": "code",
   "execution_count": 31,
   "id": "733d1374-20f2-4e88-ab2c-60899dda3e3d",
   "metadata": {},
   "outputs": [],
   "source": [
    "def test7(**rana):\n",
    "    for i in rana.keys():\n",
    "        if type(rana[i])==tuple:\n",
    "            return i,rana[i]"
   ]
  },
  {
   "cell_type": "code",
   "execution_count": 32,
   "id": "e93e56d6-67ca-43fc-8275-9d949f9edf3d",
   "metadata": {},
   "outputs": [
    {
     "data": {
      "text/plain": [
       "('d', ('ijaj', 'ahmed'))"
      ]
     },
     "execution_count": 32,
     "metadata": {},
     "output_type": "execute_result"
    }
   ],
   "source": [
    "test7(a=34,b=4.56,c=[1,2,3,4],d=(\"ijaj\",\"ahmed\"))"
   ]
  },
  {
   "cell_type": "code",
   "execution_count": 33,
   "id": "017c646b-28ee-4554-a70e-12a66dc8c70b",
   "metadata": {},
   "outputs": [],
   "source": [
    "def test8(*args, **kwargs):\n",
    "    return args,kwargs"
   ]
  },
  {
   "cell_type": "code",
   "execution_count": 35,
   "id": "3f5196d5-689b-495f-8b40-b19a94bd861f",
   "metadata": {},
   "outputs": [
    {
     "data": {
      "text/plain": [
       "((1, 2, 4.56), {'a': 34, 'b': 98})"
      ]
     },
     "execution_count": 35,
     "metadata": {},
     "output_type": "execute_result"
    }
   ],
   "source": [
    "test8(1,2,4.56,a=34,b=98)"
   ]
  },
  {
   "cell_type": "code",
   "execution_count": null,
   "id": "b8614c94-78e5-4339-869a-f5821d5dcdd8",
   "metadata": {},
   "outputs": [],
   "source": []
  }
 ],
 "metadata": {
  "kernelspec": {
   "display_name": "Python 3 (ipykernel)",
   "language": "python",
   "name": "python3"
  },
  "language_info": {
   "codemirror_mode": {
    "name": "ipython",
    "version": 3
   },
   "file_extension": ".py",
   "mimetype": "text/x-python",
   "name": "python",
   "nbconvert_exporter": "python",
   "pygments_lexer": "ipython3",
   "version": "3.10.8"
  }
 },
 "nbformat": 4,
 "nbformat_minor": 5
}
