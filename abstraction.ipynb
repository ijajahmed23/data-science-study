{
 "cells": [
  {
   "cell_type": "code",
   "execution_count": 11,
   "id": "6778c328-538d-4624-bd2f-c8acdadd20e5",
   "metadata": {},
   "outputs": [],
   "source": [
    "import abc  #abstraction is a blueprint of a structure..you define the structure of parent clas\n",
    "#...subclasses can define the method operations from parent clas\n",
    "\n",
    "class DataScienceClass:\n",
    "    \n",
    "    @abc.abstractmethod\n",
    "    def student_details(self):\n",
    "        pass\n",
    "    \n",
    "    @abc.abstractmethod\n",
    "    def student_assignment(self):\n",
    "        pass\n",
    "    \n",
    "    @abc.abstractmethod\n",
    "    def student_marks(self):\n",
    "        pass\n",
    "    \n",
    "    "
   ]
  },
  {
   "cell_type": "code",
   "execution_count": 12,
   "id": "0cb3f1b7-2fd0-4fa7-9111-ce3a50f7d047",
   "metadata": {},
   "outputs": [],
   "source": [
    "class myclass1(DataScienceClass):\n",
    "    \n",
    "    def student_details(self):\n",
    "        return \"it will try to return a details of my class1\"\n",
    "    \n",
    "    def student_assignment(self):\n",
    "        return \"it will try to return assignments of my class1\"\n",
    "    \n",
    "    def student_marks(self):\n",
    "        return \"it will try to return marks of my class1\""
   ]
  },
  {
   "cell_type": "code",
   "execution_count": 13,
   "id": "347b67bd-7dfc-4ea2-88bb-733e622c53ea",
   "metadata": {},
   "outputs": [],
   "source": [
    "class myclass2(DataScienceClass):\n",
    "    \n",
    "    def student_details(self):\n",
    "        return \"this will return details of my class2\"\n",
    "    \n",
    "    def student_marks(self):\n",
    "        return \"this will return marks of my class2\"\n",
    "        "
   ]
  },
  {
   "cell_type": "code",
   "execution_count": 14,
   "id": "b5f52df1-6f46-4cb2-b16e-d8ec8368226d",
   "metadata": {},
   "outputs": [
    {
     "data": {
      "text/plain": [
       "'it will try to return a details of my class1'"
      ]
     },
     "execution_count": 14,
     "metadata": {},
     "output_type": "execute_result"
    }
   ],
   "source": [
    "ds=myclass1()\n",
    "ds.student_details()"
   ]
  },
  {
   "cell_type": "code",
   "execution_count": 15,
   "id": "a365620b-e0c4-4f42-8a47-cdb91da3273c",
   "metadata": {},
   "outputs": [
    {
     "data": {
      "text/plain": [
       "'this will return marks of my class2'"
      ]
     },
     "execution_count": 15,
     "metadata": {},
     "output_type": "execute_result"
    }
   ],
   "source": [
    "wd=myclass2()\n",
    "wd.student_marks()"
   ]
  },
  {
   "cell_type": "code",
   "execution_count": 17,
   "id": "993193cf-a948-41bd-a54e-ba172ad3d976",
   "metadata": {},
   "outputs": [],
   "source": [
    "import abc\n",
    "class Shape:\n",
    "    @abc.abstractmethod\n",
    "    def area(self):\n",
    "        pass\n",
    "\n",
    "    @abc.abstractmethod\n",
    "    def perimeter(self):\n",
    "        pass"
   ]
  },
  {
   "cell_type": "code",
   "execution_count": 18,
   "id": "009e96fc-0bd7-4dc8-b59c-959a6d31a0b1",
   "metadata": {},
   "outputs": [],
   "source": [
    "class Rectangle(Shape):\n",
    "    def __init__(self,height,width):\n",
    "        self.height=height\n",
    "        self.width=width\n",
    "        \n",
    "    def area(self):\n",
    "        return self.height*self.width\n",
    "    \n",
    "    def perimeter(self):\n",
    "        return 2*(self.height+self.width)"
   ]
  },
  {
   "cell_type": "code",
   "execution_count": 19,
   "id": "b180e13e-a7d1-4bc2-aa8c-8900a6644885",
   "metadata": {},
   "outputs": [
    {
     "data": {
      "text/plain": [
       "12"
      ]
     },
     "execution_count": 19,
     "metadata": {},
     "output_type": "execute_result"
    }
   ],
   "source": [
    "re=Rectangle(3,4)\n",
    "re.area()"
   ]
  },
  {
   "cell_type": "code",
   "execution_count": 20,
   "id": "e2bf54a4-d3d4-49dd-9ce0-c491b08b519f",
   "metadata": {},
   "outputs": [
    {
     "data": {
      "text/plain": [
       "14"
      ]
     },
     "execution_count": 20,
     "metadata": {},
     "output_type": "execute_result"
    }
   ],
   "source": [
    "re.perimeter()"
   ]
  },
  {
   "cell_type": "code",
   "execution_count": null,
   "id": "0f17f1b6-410c-498f-b745-8e8f80280b0c",
   "metadata": {},
   "outputs": [],
   "source": []
  }
 ],
 "metadata": {
  "kernelspec": {
   "display_name": "Python 3 (ipykernel)",
   "language": "python",
   "name": "python3"
  },
  "language_info": {
   "codemirror_mode": {
    "name": "ipython",
    "version": 3
   },
   "file_extension": ".py",
   "mimetype": "text/x-python",
   "name": "python",
   "nbconvert_exporter": "python",
   "pygments_lexer": "ipython3",
   "version": "3.10.8"
  }
 },
 "nbformat": 4,
 "nbformat_minor": 5
}
