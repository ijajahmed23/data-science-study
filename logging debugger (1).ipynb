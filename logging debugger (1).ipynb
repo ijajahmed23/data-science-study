{
 "cells": [
  {
   "cell_type": "code",
   "execution_count": 1,
   "id": "5ed8761d-e395-4c74-885b-30ac1b893d33",
   "metadata": {},
   "outputs": [
    {
     "name": "stdout",
     "output_type": "stream",
     "text": [
      "this my prnt stmt\n"
     ]
    }
   ],
   "source": [
    "print(\"this my prnt stmt\")"
   ]
  },
  {
   "cell_type": "code",
   "execution_count": 2,
   "id": "c2069014-3f48-476b-b5b4-0c4861b640d3",
   "metadata": {},
   "outputs": [],
   "source": [
    "import logging"
   ]
  },
  {
   "cell_type": "code",
   "execution_count": 17,
   "id": "c8116af1-ecb9-4b05-ab8b-f2a23d3adc03",
   "metadata": {},
   "outputs": [],
   "source": [
    "logging.basicConfig(filename=\"test.log\",level=logging.INFO)"
   ]
  },
  {
   "cell_type": "code",
   "execution_count": 6,
   "id": "e9afc5e9-487d-483d-ba9c-25f17b20a54c",
   "metadata": {},
   "outputs": [],
   "source": [
    "logging.info(\"this is my test log\")"
   ]
  },
  {
   "cell_type": "code",
   "execution_count": 16,
   "id": "a09ddc58-44f4-49e6-a4d6-2ec951aed9de",
   "metadata": {},
   "outputs": [
    {
     "ename": "AttributeError",
     "evalue": "module 'logging' has no attribute 'noset'",
     "output_type": "error",
     "traceback": [
      "\u001b[0;31m---------------------------------------------------------------------------\u001b[0m",
      "\u001b[0;31mAttributeError\u001b[0m                            Traceback (most recent call last)",
      "Cell \u001b[0;32mIn[16], line 5\u001b[0m\n\u001b[1;32m      3\u001b[0m logging\u001b[38;5;241m.\u001b[39mwarning(\u001b[38;5;124m\"\u001b[39m\u001b[38;5;124mwarning this is\u001b[39m\u001b[38;5;124m\"\u001b[39m)\n\u001b[1;32m      4\u001b[0m logging\u001b[38;5;241m.\u001b[39mdebug(\u001b[38;5;124m\"\u001b[39m\u001b[38;5;124mthis my debug\u001b[39m\u001b[38;5;124m\"\u001b[39m)\n\u001b[0;32m----> 5\u001b[0m \u001b[43mlogging\u001b[49m\u001b[38;5;241;43m.\u001b[39;49m\u001b[43mnoset\u001b[49m(\u001b[38;5;124m\"\u001b[39m\u001b[38;5;124mnoset related log\u001b[39m\u001b[38;5;124m\"\u001b[39m)\n",
      "\u001b[0;31mAttributeError\u001b[0m: module 'logging' has no attribute 'noset'"
     ]
    }
   ],
   "source": [
    "logging.error(\"critical error\")\n",
    "logging.critical(\"this a crit error\")\n",
    "logging.warning(\"warning this is\")\n",
    "logging.debug(\"this my debug\")\n",
    "logging.noset(\"noset related log\")"
   ]
  },
  {
   "cell_type": "code",
   "execution_count": 8,
   "id": "8084ce80-5bfc-4453-9e72-1ece599600cd",
   "metadata": {},
   "outputs": [
    {
     "ename": "SyntaxError",
     "evalue": "invalid syntax (3027634766.py, line 1)",
     "output_type": "error",
     "traceback": [
      "\u001b[0;36m  Cell \u001b[0;32mIn[8], line 1\u001b[0;36m\u001b[0m\n\u001b[0;31m    1. NOSET\u001b[0m\n\u001b[0m       ^\u001b[0m\n\u001b[0;31mSyntaxError\u001b[0m\u001b[0;31m:\u001b[0m invalid syntax\n"
     ]
    }
   ],
   "source": [
    "1. NOSET\n",
    "2. DEBUG\n",
    "3. INFO\n",
    "4. WARNING\n",
    "5. ERROR\n",
    "6. CRITICAL"
   ]
  },
  {
   "cell_type": "code",
   "execution_count": 22,
   "id": "3822545a-27a2-4a8a-a825-1aec2da47dae",
   "metadata": {},
   "outputs": [],
   "source": [
    "logging.shutdown()"
   ]
  },
  {
   "cell_type": "code",
   "execution_count": 1,
   "id": "c5e5c069-a7f8-456e-973e-4e00e1baf081",
   "metadata": {},
   "outputs": [],
   "source": [
    "import logging\n",
    "logging.basicConfig(filename=\"log_test.log\",level=logging.DEBUG,format=\"%(asctime)s %(message)s\")"
   ]
  },
  {
   "cell_type": "code",
   "execution_count": 2,
   "id": "5b397cfa-e1fd-4fbb-9c87-d404eb32aaf1",
   "metadata": {},
   "outputs": [],
   "source": [
    "logging.info(\"this is my log\")\n",
    "logging.debug(\"debug\")\n",
    "logging.warning(\"tghis a warning\")\n",
    "logging.error(\"error\")\n",
    "logging.critical(\"critical shit\")"
   ]
  },
  {
   "cell_type": "code",
   "execution_count": 1,
   "id": "e82a9827-b6ba-42bc-a329-7d203199b9ef",
   "metadata": {},
   "outputs": [],
   "source": [
    "import logging\n",
    "logging.basicConfig(filename=\"log_test2.log\",level=logging.DEBUG,format=\"%(asctime)s %(name)s %(levelname)s %(message)s\")"
   ]
  },
  {
   "cell_type": "code",
   "execution_count": 2,
   "id": "d90457ac-a50f-48ed-8813-fb3cf8fa35d1",
   "metadata": {},
   "outputs": [],
   "source": [
    "logging.info(\"this is my log\")\n",
    "logging.debug(\"debug\")\n",
    "logging.warning(\"tghis a warning\")\n",
    "logging.error(\"error\")\n",
    "logging.critical(\"critical shit\")"
   ]
  },
  {
   "cell_type": "code",
   "execution_count": 4,
   "id": "61fef9ec-fec8-4288-a49c-578f83ef0c9a",
   "metadata": {},
   "outputs": [],
   "source": [
    "l=[1,2,3,4,[4,5,6],\"ijaj\",\"ahmed\"]"
   ]
  },
  {
   "cell_type": "code",
   "execution_count": 7,
   "id": "e4ca2593-9771-41f5-8dcb-e1b8154587c4",
   "metadata": {},
   "outputs": [],
   "source": [
    "l1_int=[]\n",
    "l2_str=[]\n",
    "for i in l:\n",
    "    logging.info(\"this the start of my loop {}\".format(l))\n",
    "    logging.info(\"value of i {}\".format(i))\n",
    "    if type(i)==list:\n",
    "        for j in i:\n",
    "            logging.info(\"value of i {i} and j {j}\".format(i=i,j=j))\n",
    "            if type(j)==int:\n",
    "                l1_int.append(j)\n",
    "            elif type(j)==str:\n",
    "                l2_str.append(j)\n",
    "    elif type(i)==int:\n",
    "        l1_int.append(i)\n",
    "    else:\n",
    "        if type(i)==str:\n",
    "            l2_str.append(i)\n",
    "logging.info(\"this is the end\")"
   ]
  },
  {
   "cell_type": "code",
   "execution_count": 6,
   "id": "55cb3f5b-d627-4ad1-950c-475e3f27d731",
   "metadata": {},
   "outputs": [
    {
     "name": "stdout",
     "output_type": "stream",
     "text": [
      "[1, 2, 3, 4, 4, 5, 6]\n",
      "['ijaj', 'ahmed']\n"
     ]
    }
   ],
   "source": [
    "print(l1_int)\n",
    "print(l2_str)"
   ]
  },
  {
   "cell_type": "code",
   "execution_count": null,
   "id": "a153014f-9dff-462d-a5f4-c316dffec952",
   "metadata": {},
   "outputs": [],
   "source": []
  }
 ],
 "metadata": {
  "kernelspec": {
   "display_name": "Python 3 (ipykernel)",
   "language": "python",
   "name": "python3"
  },
  "language_info": {
   "codemirror_mode": {
    "name": "ipython",
    "version": 3
   },
   "file_extension": ".py",
   "mimetype": "text/x-python",
   "name": "python",
   "nbconvert_exporter": "python",
   "pygments_lexer": "ipython3",
   "version": "3.10.8"
  }
 },
 "nbformat": 4,
 "nbformat_minor": 5
}
