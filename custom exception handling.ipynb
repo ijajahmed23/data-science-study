{
 "cells": [
  {
   "cell_type": "code",
   "execution_count": 2,
   "id": "56e7a88c-14ec-412f-b90b-c3358f8882e8",
   "metadata": {},
   "outputs": [
    {
     "name": "stdin",
     "output_type": "stream",
     "text": [
      "Enter your age:  -234\n"
     ]
    }
   ],
   "source": [
    "age=int(input(\"Enter your age: \"))"
   ]
  },
  {
   "cell_type": "code",
   "execution_count": 4,
   "id": "f9fb39c9-ef43-4ed5-b97d-b8eb09d793e5",
   "metadata": {},
   "outputs": [],
   "source": [
    "class validateage(Exception):\n",
    "    def __init__(self,msg):\n",
    "        self.msg=msg"
   ]
  },
  {
   "cell_type": "code",
   "execution_count": 5,
   "id": "432b45d1-3161-4873-93d7-5c94ef22c82d",
   "metadata": {},
   "outputs": [],
   "source": [
    "def validate_age(age):\n",
    "    if age<0:\n",
    "        raise validateage(\"age cannot be negative\")\n",
    "    elif age>200:\n",
    "        raise validateage(\"age is too high\")\n",
    "    else:\n",
    "        raise validateage(\"this is a valid age\")"
   ]
  },
  {
   "cell_type": "code",
   "execution_count": 10,
   "id": "236dc9a2-947b-4824-b70c-9cb7c308783a",
   "metadata": {},
   "outputs": [
    {
     "name": "stdin",
     "output_type": "stream",
     "text": [
      "Enter your age:  12\n"
     ]
    },
    {
     "name": "stdout",
     "output_type": "stream",
     "text": [
      "this is a valid age\n"
     ]
    }
   ],
   "source": [
    "try:\n",
    "    age=int(input(\"Enter your age: \"))\n",
    "    validate_age(age)\n",
    "except validateage as e:\n",
    "    print(e)"
   ]
  },
  {
   "cell_type": "code",
   "execution_count": 16,
   "id": "1ed4969b-afcd-4ffc-9fe4-8181e9c3cc6c",
   "metadata": {},
   "outputs": [],
   "source": [
    "class validateage(Exception):\n",
    "    def __init__(self,msg):\n",
    "        self.msg=msg"
   ]
  },
  {
   "cell_type": "code",
   "execution_count": 17,
   "id": "dfa0f2c2-635d-4ae1-9cdc-fbf10466abd7",
   "metadata": {},
   "outputs": [],
   "source": [
    "def validate_age(age):\n",
    "    if age<=0:\n",
    "        raise validateage(\"cannot be zero or negative\")\n",
    "    elif age>200:\n",
    "        raise validateage(\"too high\")\n",
    "    else:\n",
    "        raise validateage(\"yes, valid!\")"
   ]
  },
  {
   "cell_type": "code",
   "execution_count": 20,
   "id": "714e57f5-509a-46d0-9797-bf4543398519",
   "metadata": {},
   "outputs": [
    {
     "name": "stdin",
     "output_type": "stream",
     "text": [
      "enter age:  234\n"
     ]
    },
    {
     "name": "stdout",
     "output_type": "stream",
     "text": [
      "too high\n"
     ]
    }
   ],
   "source": [
    "try:\n",
    "    n=int(input(\"enter age: \"))\n",
    "    validate_age(n)\n",
    "except validateage as v:\n",
    "    print(v)"
   ]
  },
  {
   "cell_type": "code",
   "execution_count": null,
   "id": "d4f88c1f-14e7-43b7-b24d-d9379a921669",
   "metadata": {},
   "outputs": [],
   "source": []
  }
 ],
 "metadata": {
  "kernelspec": {
   "display_name": "Python 3 (ipykernel)",
   "language": "python",
   "name": "python3"
  },
  "language_info": {
   "codemirror_mode": {
    "name": "ipython",
    "version": 3
   },
   "file_extension": ".py",
   "mimetype": "text/x-python",
   "name": "python",
   "nbconvert_exporter": "python",
   "pygments_lexer": "ipython3",
   "version": "3.10.8"
  }
 },
 "nbformat": 4,
 "nbformat_minor": 5
}
