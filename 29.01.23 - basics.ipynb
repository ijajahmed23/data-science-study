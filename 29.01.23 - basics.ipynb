{
 "cells": [
  {
   "cell_type": "code",
   "execution_count": 2,
   "id": "462b9212-5969-4aed-9206-8b9961c16db9",
   "metadata": {},
   "outputs": [],
   "source": [
    "a=10"
   ]
  },
  {
   "cell_type": "code",
   "execution_count": 3,
   "id": "90f76d51-6bb3-4ea7-b092-bceef914d2a7",
   "metadata": {},
   "outputs": [
    {
     "data": {
      "text/plain": [
       "10"
      ]
     },
     "execution_count": 3,
     "metadata": {},
     "output_type": "execute_result"
    }
   ],
   "source": [
    "a"
   ]
  },
  {
   "cell_type": "markdown",
   "id": "d572fa46-c750-4c30-8db5-7b7032e331b7",
   "metadata": {},
   "source": [
    "########intro"
   ]
  },
  {
   "cell_type": "code",
   "execution_count": 4,
   "id": "a578ddee-9ca9-4b60-b19e-617e6ef8f2a9",
   "metadata": {},
   "outputs": [
    {
     "data": {
      "text/plain": [
       "2"
      ]
     },
     "execution_count": 4,
     "metadata": {},
     "output_type": "execute_result"
    }
   ],
   "source": [
    "1+1"
   ]
  },
  {
   "cell_type": "markdown",
   "id": "80d7ea53-91bd-4e63-aac3-b43ec43505a8",
   "metadata": {},
   "source": [
    "####Numbers"
   ]
  },
  {
   "cell_type": "code",
   "execution_count": 6,
   "id": "99a665d5-a837-4b18-99e8-cd06ebe88ce7",
   "metadata": {},
   "outputs": [
    {
     "name": "stdout",
     "output_type": "stream",
     "text": [
      "4\n"
     ]
    }
   ],
   "source": [
    "print(1+3)"
   ]
  },
  {
   "cell_type": "code",
   "execution_count": 14,
   "id": "61c473e1-68e7-4b28-b1c8-9d3d344c46a0",
   "metadata": {},
   "outputs": [
    {
     "name": "stdout",
     "output_type": "stream",
     "text": [
      "Hello\n",
      "world\n"
     ]
    }
   ],
   "source": [
    "print(\"Hello\\nworld\")"
   ]
  },
  {
   "cell_type": "markdown",
   "id": "e5c925eb-8b68-48b6-a2e4-547df691e26e",
   "metadata": {},
   "source": [
    "###Variable assignment"
   ]
  },
  {
   "cell_type": "code",
   "execution_count": 15,
   "id": "d145a351-d776-4756-9c84-47ad5c7385f0",
   "metadata": {},
   "outputs": [],
   "source": [
    "name=\"ijaj\"\n",
    "number=10"
   ]
  },
  {
   "cell_type": "code",
   "execution_count": 16,
   "id": "e3574142-5564-41bb-8ecd-ce3645878a85",
   "metadata": {},
   "outputs": [
    {
     "data": {
      "text/plain": [
       "'ijaj'"
      ]
     },
     "execution_count": 16,
     "metadata": {},
     "output_type": "execute_result"
    }
   ],
   "source": [
    "name"
   ]
  },
  {
   "cell_type": "code",
   "execution_count": 17,
   "id": "98e31113-ee38-4344-822d-ebb66c485eb6",
   "metadata": {},
   "outputs": [
    {
     "name": "stdout",
     "output_type": "stream",
     "text": [
      "10\n"
     ]
    }
   ],
   "source": [
    "print(number)"
   ]
  },
  {
   "cell_type": "code",
   "execution_count": 18,
   "id": "420ca1be-667d-4fb1-80a9-ddbbc1b7f570",
   "metadata": {},
   "outputs": [],
   "source": [
    "number=20"
   ]
  },
  {
   "cell_type": "code",
   "execution_count": 19,
   "id": "b3b1dbc5-bd44-493f-8fd2-1fff0e3b1319",
   "metadata": {},
   "outputs": [
    {
     "name": "stdout",
     "output_type": "stream",
     "text": [
      "20\n"
     ]
    }
   ],
   "source": [
    "print(number)"
   ]
  },
  {
   "cell_type": "code",
   "execution_count": 20,
   "id": "41895738-e619-4323-a7dd-2a77288e4bf4",
   "metadata": {},
   "outputs": [
    {
     "data": {
      "text/plain": [
       "int"
      ]
     },
     "execution_count": 20,
     "metadata": {},
     "output_type": "execute_result"
    }
   ],
   "source": [
    "type(number)"
   ]
  },
  {
   "cell_type": "code",
   "execution_count": 21,
   "id": "8e9f8d00-0cfe-4109-a035-96da9e82a4c2",
   "metadata": {},
   "outputs": [
    {
     "data": {
      "text/plain": [
       "str"
      ]
     },
     "execution_count": 21,
     "metadata": {},
     "output_type": "execute_result"
    }
   ],
   "source": [
    "type(\"stri\")"
   ]
  },
  {
   "cell_type": "code",
   "execution_count": 22,
   "id": "79b8bed0-15ab-4ca3-b945-97387bfe7c8c",
   "metadata": {},
   "outputs": [],
   "source": [
    "decimal_num=2.5"
   ]
  },
  {
   "cell_type": "code",
   "execution_count": 23,
   "id": "1d4ee917-f4f1-4bb9-8658-780bbc3aa88f",
   "metadata": {},
   "outputs": [
    {
     "data": {
      "text/plain": [
       "2.5"
      ]
     },
     "execution_count": 23,
     "metadata": {},
     "output_type": "execute_result"
    }
   ],
   "source": [
    "decimal_num"
   ]
  },
  {
   "cell_type": "code",
   "execution_count": 24,
   "id": "6f7a6e73-32d2-43a5-bb22-2ef8d163a63d",
   "metadata": {},
   "outputs": [
    {
     "data": {
      "text/plain": [
       "float"
      ]
     },
     "execution_count": 24,
     "metadata": {},
     "output_type": "execute_result"
    }
   ],
   "source": [
    "type(decimal_num)"
   ]
  },
  {
   "cell_type": "code",
   "execution_count": 26,
   "id": "1e69fe10-317d-424e-8d6c-594399027a45",
   "metadata": {},
   "outputs": [
    {
     "data": {
      "text/plain": [
       "(1+2j)"
      ]
     },
     "execution_count": 26,
     "metadata": {},
     "output_type": "execute_result"
    }
   ],
   "source": [
    "1+2j"
   ]
  },
  {
   "cell_type": "code",
   "execution_count": 27,
   "id": "71a56927-5b5b-40e4-9e73-f2ba49e2afc0",
   "metadata": {},
   "outputs": [
    {
     "data": {
      "text/plain": [
       "complex"
      ]
     },
     "execution_count": 27,
     "metadata": {},
     "output_type": "execute_result"
    }
   ],
   "source": [
    "type(1+2j)"
   ]
  },
  {
   "cell_type": "code",
   "execution_count": 28,
   "id": "a0a99895-a1b4-4238-acca-c6470b9cc04f",
   "metadata": {},
   "outputs": [],
   "source": [
    "a=10\n",
    "A=20"
   ]
  },
  {
   "cell_type": "code",
   "execution_count": 29,
   "id": "65a427a6-d65f-4b01-9173-a6ba8a954595",
   "metadata": {},
   "outputs": [
    {
     "data": {
      "text/plain": [
       "(10, 20)"
      ]
     },
     "execution_count": 29,
     "metadata": {},
     "output_type": "execute_result"
    }
   ],
   "source": [
    "a,A"
   ]
  },
  {
   "cell_type": "code",
   "execution_count": 31,
   "id": "4eee95ce-f1ab-452b-9c8d-ee603ed08674",
   "metadata": {},
   "outputs": [],
   "source": [
    "a=\"int\""
   ]
  },
  {
   "cell_type": "code",
   "execution_count": 32,
   "id": "d1a0b55f-6de6-4fee-8053-351030916b97",
   "metadata": {},
   "outputs": [
    {
     "data": {
      "text/plain": [
       "'int'"
      ]
     },
     "execution_count": 32,
     "metadata": {},
     "output_type": "execute_result"
    }
   ],
   "source": [
    "a"
   ]
  },
  {
   "cell_type": "code",
   "execution_count": 33,
   "id": "2eed9472-20f1-446e-aaba-0a8bb00c2cf9",
   "metadata": {},
   "outputs": [],
   "source": [
    "int=32"
   ]
  },
  {
   "cell_type": "code",
   "execution_count": 34,
   "id": "ca4f88fd-03e3-4971-af57-be50c4be8622",
   "metadata": {},
   "outputs": [
    {
     "data": {
      "text/plain": [
       "32"
      ]
     },
     "execution_count": 34,
     "metadata": {},
     "output_type": "execute_result"
    }
   ],
   "source": [
    "int"
   ]
  },
  {
   "cell_type": "code",
   "execution_count": 36,
   "id": "f4cfabea-6017-43b0-ac7b-5a0ffabd637f",
   "metadata": {},
   "outputs": [
    {
     "data": {
      "text/plain": [
       "bool"
      ]
     },
     "execution_count": 36,
     "metadata": {},
     "output_type": "execute_result"
    }
   ],
   "source": [
    "type(True)"
   ]
  },
  {
   "cell_type": "code",
   "execution_count": 37,
   "id": "62cc8d3c-60b2-4dbd-bd87-11125753e4ed",
   "metadata": {},
   "outputs": [
    {
     "data": {
      "text/plain": [
       "False"
      ]
     },
     "execution_count": 37,
     "metadata": {},
     "output_type": "execute_result"
    }
   ],
   "source": [
    "True and False"
   ]
  },
  {
   "cell_type": "code",
   "execution_count": 38,
   "id": "38e47bb3-aa0d-4c1c-9a69-d7b51b4a2773",
   "metadata": {},
   "outputs": [
    {
     "data": {
      "text/plain": [
       "True"
      ]
     },
     "execution_count": 38,
     "metadata": {},
     "output_type": "execute_result"
    }
   ],
   "source": [
    "False or True"
   ]
  },
  {
   "cell_type": "code",
   "execution_count": 39,
   "id": "320ff517-b7ac-4951-979d-9045847f2f2d",
   "metadata": {},
   "outputs": [
    {
     "data": {
      "text/plain": [
       "False"
      ]
     },
     "execution_count": 39,
     "metadata": {},
     "output_type": "execute_result"
    }
   ],
   "source": [
    "not True"
   ]
  },
  {
   "cell_type": "code",
   "execution_count": 40,
   "id": "71b6651e-a08d-4cd0-a5a7-70b142ff39a9",
   "metadata": {},
   "outputs": [
    {
     "data": {
      "text/plain": [
       "bool"
      ]
     },
     "execution_count": 40,
     "metadata": {},
     "output_type": "execute_result"
    }
   ],
   "source": [
    "type(not True)"
   ]
  },
  {
   "cell_type": "code",
   "execution_count": 41,
   "id": "b3d018df-e3a0-480c-bc22-967317f81eb1",
   "metadata": {},
   "outputs": [
    {
     "data": {
      "text/plain": [
       "False"
      ]
     },
     "execution_count": 41,
     "metadata": {},
     "output_type": "execute_result"
    }
   ],
   "source": [
    "bool(0)"
   ]
  },
  {
   "cell_type": "code",
   "execution_count": 42,
   "id": "2ce94c5f-ed61-4fb9-b062-f504ec4f3a7f",
   "metadata": {},
   "outputs": [
    {
     "data": {
      "text/plain": [
       "True"
      ]
     },
     "execution_count": 42,
     "metadata": {},
     "output_type": "execute_result"
    }
   ],
   "source": [
    "bool(1)"
   ]
  },
  {
   "cell_type": "code",
   "execution_count": null,
   "id": "4d8e6507-8143-4413-878d-5cce4ecac85b",
   "metadata": {},
   "outputs": [],
   "source": [
    "type"
   ]
  },
  {
   "cell_type": "code",
   "execution_count": 43,
   "id": "ee5160aa-4741-4028-a475-0c251cf0bf25",
   "metadata": {},
   "outputs": [
    {
     "data": {
      "text/plain": [
       "'3'"
      ]
     },
     "execution_count": 43,
     "metadata": {},
     "output_type": "execute_result"
    }
   ],
   "source": [
    "str(3)"
   ]
  },
  {
   "cell_type": "code",
   "execution_count": 44,
   "id": "43aa4b4a-4704-4d78-8aab-9845d7beccf6",
   "metadata": {},
   "outputs": [
    {
     "data": {
      "text/plain": [
       "int"
      ]
     },
     "execution_count": 44,
     "metadata": {},
     "output_type": "execute_result"
    }
   ],
   "source": [
    "type(3)"
   ]
  },
  {
   "cell_type": "code",
   "execution_count": 46,
   "id": "85c92f40-fdd9-40ab-aa91-224fca265241",
   "metadata": {},
   "outputs": [
    {
     "name": "stdout",
     "output_type": "stream",
     "text": [
      "3\n",
      "<class 'str'>\n"
     ]
    }
   ],
   "source": [
    "a=str(3)\n",
    "print(a)\n",
    "print(type(a))"
   ]
  },
  {
   "cell_type": "markdown",
   "id": "9af74b4f-f2a2-4e31-867e-b9430d8fb3f2",
   "metadata": {},
   "source": [
    "###DYNAMIC TYPING"
   ]
  },
  {
   "cell_type": "code",
   "execution_count": 52,
   "id": "769225fa-a6a6-4a85-85ef-c5513535bab4",
   "metadata": {},
   "outputs": [
    {
     "data": {
      "text/plain": [
       "'1111111111111111111111111111111111111111111111111111111111111111111111111111111111111111111111111111'"
      ]
     },
     "execution_count": 52,
     "metadata": {},
     "output_type": "execute_result"
    }
   ],
   "source": [
    "\"1\"*100"
   ]
  },
  {
   "cell_type": "code",
   "execution_count": 53,
   "id": "4518bd18-46e1-41ee-8349-ba8c50892ede",
   "metadata": {},
   "outputs": [
    {
     "data": {
      "text/plain": [
       "'abcabcabcabcabc'"
      ]
     },
     "execution_count": 53,
     "metadata": {},
     "output_type": "execute_result"
    }
   ],
   "source": [
    "\"abc\"*5"
   ]
  },
  {
   "cell_type": "code",
   "execution_count": 56,
   "id": "f155c98e-709a-4d74-bd00-064c1749e1a4",
   "metadata": {},
   "outputs": [
    {
     "data": {
      "text/plain": [
       "True"
      ]
     },
     "execution_count": 56,
     "metadata": {},
     "output_type": "execute_result"
    }
   ],
   "source": [
    "bool(3)"
   ]
  },
  {
   "cell_type": "code",
   "execution_count": 57,
   "id": "347dfbf1-b9ff-4fca-a990-6a43d2b63574",
   "metadata": {},
   "outputs": [
    {
     "data": {
      "text/plain": [
       "True"
      ]
     },
     "execution_count": 57,
     "metadata": {},
     "output_type": "execute_result"
    }
   ],
   "source": [
    "bool(-99)"
   ]
  },
  {
   "cell_type": "code",
   "execution_count": null,
   "id": "bfffc8f8-dd16-4e8b-81a2-71ab582b3d56",
   "metadata": {},
   "outputs": [],
   "source": []
  },
  {
   "cell_type": "code",
   "execution_count": null,
   "id": "6ab2a4a7-d515-4596-ad93-ca1bf2bf2979",
   "metadata": {},
   "outputs": [],
   "source": []
  },
  {
   "cell_type": "code",
   "execution_count": null,
   "id": "cf338e92-2fea-4db2-8509-875f41d214f6",
   "metadata": {},
   "outputs": [],
   "source": []
  },
  {
   "cell_type": "code",
   "execution_count": 55,
   "id": "72a7cb2b-a123-475f-b68c-a4db165b604f",
   "metadata": {},
   "outputs": [
    {
     "ename": "TypeError",
     "evalue": "can't multiply sequence by non-int of type 'str'",
     "output_type": "error",
     "traceback": [
      "\u001b[0;31m---------------------------------------------------------------------------\u001b[0m",
      "\u001b[0;31mTypeError\u001b[0m                                 Traceback (most recent call last)",
      "Cell \u001b[0;32mIn[55], line 1\u001b[0m\n\u001b[0;32m----> 1\u001b[0m \u001b[38;5;124;43m\"\u001b[39;49m\u001b[38;5;124;43m1\u001b[39;49m\u001b[38;5;124;43m\"\u001b[39;49m\u001b[38;5;241;43m*\u001b[39;49m\u001b[38;5;124;43m\"\u001b[39;49m\u001b[38;5;124;43m1\u001b[39;49m\u001b[38;5;124;43m\"\u001b[39;49m\n",
      "\u001b[0;31mTypeError\u001b[0m: can't multiply sequence by non-int of type 'str'"
     ]
    }
   ],
   "source": [
    "\"1\"*\"1\""
   ]
  },
  {
   "cell_type": "code",
   "execution_count": null,
   "id": "a44950f9-d213-46c4-beff-7798cf9d6023",
   "metadata": {},
   "outputs": [],
   "source": []
  }
 ],
 "metadata": {
  "kernelspec": {
   "display_name": "Python 3 (ipykernel)",
   "language": "python",
   "name": "python3"
  },
  "language_info": {
   "codemirror_mode": {
    "name": "ipython",
    "version": 3
   },
   "file_extension": ".py",
   "mimetype": "text/x-python",
   "name": "python",
   "nbconvert_exporter": "python",
   "pygments_lexer": "ipython3",
   "version": "3.10.8"
  }
 },
 "nbformat": 4,
 "nbformat_minor": 5
}
