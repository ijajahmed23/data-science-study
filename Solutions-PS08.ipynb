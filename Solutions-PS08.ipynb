{
 "cells": [
  {
   "cell_type": "code",
   "execution_count": 1,
   "id": "e2a50e40-c29e-49a9-a030-a0449ff88afb",
   "metadata": {},
   "outputs": [
    {
     "data": {
      "text/plain": [
       "'\\n1.Write a Python program to create two processes that print out the numbers from 1 to 10 simultaneously.\\n'"
      ]
     },
     "execution_count": 1,
     "metadata": {},
     "output_type": "execute_result"
    }
   ],
   "source": [
    "'''\n",
    "1.Write a Python program to create two processes that print out the numbers from 1 to 10 simultaneously.\n",
    "'''"
   ]
  },
  {
   "cell_type": "code",
   "execution_count": 2,
   "id": "4e454cdb-e788-4a40-b510-eaab0f11a9cc",
   "metadata": {},
   "outputs": [
    {
     "name": "stdout",
     "output_type": "stream",
     "text": [
      "1\n",
      "2\n",
      "3\n",
      "4\n",
      "5\n",
      "6\n",
      "7\n",
      "8\n",
      "9\n",
      "10\n"
     ]
    }
   ],
   "source": [
    "from multiprocessing import Process\n",
    "\n",
    "def print_num(start,end):\n",
    "    for i in range(start,end+1):\n",
    "        print(i)\n",
    "        \n",
    "if __name__ == '__main__':\n",
    "    p1=Process(target=print_num,args=(1,5))\n",
    "    p2=Process(target=print_num,args=(6,10))\n",
    "    \n",
    "    p1.start()\n",
    "    p1.join()\n",
    "    \n",
    "    p2.start()\n",
    "    p2.join()\n",
    "    "
   ]
  },
  {
   "cell_type": "code",
   "execution_count": 3,
   "id": "2fdf417d-fc9d-4457-af9f-7514843f26fa",
   "metadata": {},
   "outputs": [
    {
     "data": {
      "text/plain": [
       "'\\n2.Write a Python program that creates four processes and computes the sum of the first 1000 integers using multiprocessing\\n'"
      ]
     },
     "execution_count": 3,
     "metadata": {},
     "output_type": "execute_result"
    }
   ],
   "source": [
    "'''\n",
    "2.Write a Python program that creates four processes and computes the sum of the first 1000 integers using multiprocessing\n",
    "'''"
   ]
  },
  {
   "cell_type": "code",
   "execution_count": null,
   "id": "86a0eccd-d397-4f76-b428-9c01442c6640",
   "metadata": {},
   "outputs": [],
   "source": [
    "from multiprocessing import Process\n",
    "\n",
    "def sum_int(start,end):\n",
    "    for i in range(start,end+1):\n",
    "        print(i)\n",
    "        \n",
    "if __name__ == '__main__':\n",
    "    p1=Process(target=sum_int,args=(1,250))\n",
    "    p2=Process(target=sum_int,args=(251,500))\n",
    "    p3=Process(target=sum_int,args=(501,750))\n",
    "    p4=Process(target=sum_int,args=(751,1001))\n",
    "    \n",
    "    p1.start()\n",
    "    p2.start()\n",
    "    p3.start()\n",
    "    p4.start()\n",
    "    \n",
    "    p1.join() \n",
    "    p2.join()\n",
    "    p3.join()\n",
    "    p4.join()\n",
    "    \n",
    "    \n",
    "    "
   ]
  },
  {
   "cell_type": "code",
   "execution_count": 4,
   "id": "da458394-dc6e-4a52-b9e6-a7bd8db0db57",
   "metadata": {},
   "outputs": [
    {
     "data": {
      "text/plain": [
       "'\\n3.Write a Python program that creates two processes and communicates between them using a Queue. The first process should send a list of numbers to the second process, which should calculate the sum of the numbers and send it back to the first process.\\n'"
      ]
     },
     "execution_count": 4,
     "metadata": {},
     "output_type": "execute_result"
    }
   ],
   "source": [
    "'''\n",
    "3.Write a Python program that creates two processes and communicates between them using a Queue. The first process should send a list of numbers to the second process, which should calculate the sum of the numbers and send it back to the first process.\n",
    "'''"
   ]
  },
  {
   "cell_type": "code",
   "execution_count": 5,
   "id": "e52e4d77-f558-41c1-8471-d6bc0f1e952b",
   "metadata": {},
   "outputs": [
    {
     "name": "stdout",
     "output_type": "stream",
     "text": [
      "the sum of numbers in [1, 2, 3, 4, 5, 6] is 21\n"
     ]
    }
   ],
   "source": [
    "from multiprocessing import Process,Queue\n",
    "\n",
    "def sum_cal(n,q):\n",
    "    total=sum(n)\n",
    "    q.put(total)\n",
    "    \n",
    "if __name__=='__main__':\n",
    "    numbers=[1,2,3,4,5,6]\n",
    "    q=Queue()\n",
    "    p=Process(target=sum_cal,args=(numbers,q))\n",
    "    p.start()\n",
    "    result=q.get()\n",
    "    \n",
    "    print(f'the sum of numbers in {numbers} is {result}')"
   ]
  },
  {
   "cell_type": "code",
   "execution_count": 6,
   "id": "f0239bbe-4c33-44c7-b023-2f75fb7dd479",
   "metadata": {},
   "outputs": [
    {
     "data": {
      "text/plain": [
       "'\\n4.Write a program to find the maximum number in a list of lists using multiprocessing.\\n'"
      ]
     },
     "execution_count": 6,
     "metadata": {},
     "output_type": "execute_result"
    }
   ],
   "source": [
    "'''\n",
    "4.Write a program to find the maximum number in a list of lists using multiprocessing.\n",
    "'''"
   ]
  },
  {
   "cell_type": "code",
   "execution_count": 8,
   "id": "0b358de6-5463-45e0-99f6-54d480416953",
   "metadata": {},
   "outputs": [
    {
     "name": "stdout",
     "output_type": "stream",
     "text": [
      "9\n"
     ]
    }
   ],
   "source": [
    "import multiprocessing\n",
    "\n",
    "def find_max(numbers):\n",
    "    return max(numbers)\n",
    "\n",
    "if __name__ == '__main__':\n",
    "    lst=[[1,2,3],[6,7,8,9],[2,3,4]]\n",
    "    with multiprocessing.Pool(processes=4) as pool:\n",
    "        result=pool.map(find_max,lst)\n",
    "        \n",
    "    print(max(result))"
   ]
  },
  {
   "cell_type": "code",
   "execution_count": 9,
   "id": "7874509e-ab11-4e71-ae53-7b66cc1d4140",
   "metadata": {},
   "outputs": [
    {
     "data": {
      "text/plain": [
       "'\\n5.Write a Python program that uses the Pool class from the multiprocessing module to calculate the squares of a list of integers.\\n'"
      ]
     },
     "execution_count": 9,
     "metadata": {},
     "output_type": "execute_result"
    }
   ],
   "source": [
    "'''\n",
    "5.Write a Python program that uses the Pool class from the multiprocessing module to calculate the squares of a list of integers.\n",
    "'''"
   ]
  },
  {
   "cell_type": "code",
   "execution_count": 11,
   "id": "03b34f91-192e-4eee-9254-06eb13a8193c",
   "metadata": {},
   "outputs": [
    {
     "name": "stdout",
     "output_type": "stream",
     "text": [
      "the square value of list [1, 2, 3, 4, 5, 6] is [1, 4, 9, 16, 25, 36]\n"
     ]
    }
   ],
   "source": [
    "import multiprocessing\n",
    "\n",
    "def return_square(x):\n",
    "    return x**2\n",
    "\n",
    "if __name__ == '__main__':\n",
    "    lst=[1,2,3,4,5,6]\n",
    "    with multiprocessing.Pool(processes=3) as pool:\n",
    "        result=pool.map(return_square,lst)\n",
    "        \n",
    "    print(f'the square value of list {lst} is {result}')"
   ]
  },
  {
   "cell_type": "code",
   "execution_count": 12,
   "id": "c3924d5f-0b0e-4b8a-8711-75d849441706",
   "metadata": {},
   "outputs": [
    {
     "data": {
      "text/plain": [
       "'\\n6.How do you create a new process using the multiprocessing module in Python?\\n'"
      ]
     },
     "execution_count": 12,
     "metadata": {},
     "output_type": "execute_result"
    }
   ],
   "source": [
    "'''\n",
    "6.How do you create a new process using the multiprocessing module in Python?\n",
    "'''"
   ]
  },
  {
   "cell_type": "code",
   "execution_count": 13,
   "id": "a571432b-bc58-4e0e-827d-f6a21595d28e",
   "metadata": {},
   "outputs": [
    {
     "name": "stdout",
     "output_type": "stream",
     "text": [
      "this is my main process\n",
      "this is my child process\n"
     ]
    }
   ],
   "source": [
    "import multiprocessing\n",
    "\n",
    "def print_name():\n",
    "    print('this is my child process')\n",
    "    \n",
    "if __name__ == '__main__':\n",
    "    print('this is my main process')\n",
    "    p=multiprocessing.Process(target=print_name)\n",
    "    p.start()\n",
    "    p.join()"
   ]
  },
  {
   "cell_type": "code",
   "execution_count": 14,
   "id": "fa9514bb-b147-40ef-a83f-f9bf19a95504",
   "metadata": {},
   "outputs": [
    {
     "data": {
      "text/plain": [
       "'\\n7.How do you use a Pool to execute a function with multiple arguments in parallel?\\n'"
      ]
     },
     "execution_count": 14,
     "metadata": {},
     "output_type": "execute_result"
    }
   ],
   "source": [
    "'''\n",
    "7.How do you use a Pool to execute a function with multiple arguments in parallel?\n",
    "'''"
   ]
  },
  {
   "cell_type": "code",
   "execution_count": 15,
   "id": "a0325889-e53b-4163-a104-c90d2c2d58b1",
   "metadata": {},
   "outputs": [
    {
     "name": "stdout",
     "output_type": "stream",
     "text": [
      "the product list of [(1, 2), (3, 4), (5, 6), (7, 8)] is [2, 12, 30, 56]\n"
     ]
    }
   ],
   "source": [
    "import multiprocessing\n",
    "\n",
    "def do_mul(a,b):\n",
    "    return a*b\n",
    "\n",
    "if __name__ == '__main__':\n",
    "    args_list=[(1,2),(3,4),(5,6),(7,8)]\n",
    "    with multiprocessing.Pool(processes=4) as pool:\n",
    "        result=pool.starmap(do_mul,args_list)\n",
    "    \n",
    "    print(f'the product list of {args_list} is {result}')"
   ]
  },
  {
   "cell_type": "code",
   "execution_count": 16,
   "id": "532e8c60-d7a5-4827-a31c-8e977aba01aa",
   "metadata": {},
   "outputs": [
    {
     "data": {
      "text/plain": [
       "'\\n8.Write a Python program to calculate the sum of squares of numbers in a list using multiprocessing.\\n'"
      ]
     },
     "execution_count": 16,
     "metadata": {},
     "output_type": "execute_result"
    }
   ],
   "source": [
    "'''\n",
    "8.Write a Python program to calculate the sum of squares of numbers in a list using multiprocessing.\n",
    "'''"
   ]
  },
  {
   "cell_type": "code",
   "execution_count": 19,
   "id": "b0096fa0-271e-4441-a078-2514974b6610",
   "metadata": {},
   "outputs": [
    {
     "name": "stdout",
     "output_type": "stream",
     "text": [
      "total sum squares of [1, 2, 3, 4, 5, 6] is 91\n"
     ]
    }
   ],
   "source": [
    "import multiprocessing\n",
    "\n",
    "def sum_squares(l):\n",
    "    result=sum([i**2 for i in l])\n",
    "    return result\n",
    "\n",
    "if __name__ == '__main__':\n",
    "    lst=[1,2,3,4,5,6]\n",
    "    with multiprocessing.Pool(processes=3) as pool:\n",
    "        chunk_size=len(lst)//3\n",
    "        chunks=[lst[i:i+chunk_size] for i in range(0,len(lst),chunk_size)]\n",
    "        result=pool.map(sum_squares,chunks)\n",
    "        pool.close()\n",
    "        total=sum(result)\n",
    "        print(f'total sum squares of {lst} is {total}')"
   ]
  },
  {
   "cell_type": "code",
   "execution_count": 20,
   "id": "ea081f52-8e9b-49a7-bdd0-a729438267e2",
   "metadata": {},
   "outputs": [
    {
     "data": {
      "text/plain": [
       "'\\n9.Write a Python program that uses the multiprocessing module to calculate the sum of a large list of integers.\\n'"
      ]
     },
     "execution_count": 20,
     "metadata": {},
     "output_type": "execute_result"
    }
   ],
   "source": [
    "'''\n",
    "9.Write a Python program that uses the multiprocessing module to calculate the sum of a large list of integers.\n",
    "'''"
   ]
  },
  {
   "cell_type": "code",
   "execution_count": 23,
   "id": "a930b3f5-9c51-44e2-8724-79c6e7d29fb7",
   "metadata": {},
   "outputs": [
    {
     "name": "stdout",
     "output_type": "stream",
     "text": [
      "the chunks compute and give this: [3, 7, 11, 15, 19, 11]\n",
      "the sum list of [1, 2, 3, 4, 5, 6, 7, 8, 9, 10, 11] is 66\n"
     ]
    }
   ],
   "source": [
    "import multiprocessing\n",
    "\n",
    "def sum_numbers(l):\n",
    "    return sum(l)\n",
    "\n",
    "if __name__ == '__main__':\n",
    "    lst=[1,2,3,4,5,6,7,8,9,10,11]\n",
    "    with multiprocessing.Pool(processes=5) as pool:\n",
    "        chunk_size=len(lst)//5\n",
    "        chunks=[lst[i:i+chunk_size] for i in range(0,len(lst),chunk_size)]\n",
    "        result=pool.map(sum_numbers,chunks)\n",
    "        pool.close()\n",
    "        total=sum(result)\n",
    "        print(f'the chunks compute and give this: {result}')\n",
    "        print(f'the sum list of {lst} is {total}')\n",
    "        "
   ]
  },
  {
   "cell_type": "code",
   "execution_count": 22,
   "id": "c2912138-939c-4d95-8da5-efc0ca6f2922",
   "metadata": {},
   "outputs": [
    {
     "data": {
      "text/plain": [
       "'\\n10.Write a Python program that uses the multiprocessing module to parallelize the computation of the factorial of a number.\\n'"
      ]
     },
     "execution_count": 22,
     "metadata": {},
     "output_type": "execute_result"
    }
   ],
   "source": [
    "'''\n",
    "10.Write a Python program that uses the multiprocessing module to parallelize the computation of the factorial of a number.\n",
    "'''"
   ]
  },
  {
   "cell_type": "code",
   "execution_count": 26,
   "id": "3585fbf4-942b-4b6a-880e-2c40f897c11f",
   "metadata": {},
   "outputs": [
    {
     "name": "stdout",
     "output_type": "stream",
     "text": [
      "the chunk outputs are:  [1, 2, 6, 24, 120, 720, 5040, 40320, 362880, 3628800]\n",
      "the factorial of 10 is 3628800\n"
     ]
    }
   ],
   "source": [
    "import multiprocessing\n",
    "\n",
    "def factorial(n):\n",
    "    if n==0:\n",
    "        return 1\n",
    "    else:\n",
    "        return n*factorial(n-1)\n",
    "    \n",
    "def factorial_worker(a):\n",
    "    return factorial(a)\n",
    "    \n",
    "if __name__ == '__main__':\n",
    "    num=10\n",
    "    with multiprocessing.Pool(processes=4) as pool:\n",
    "        result=pool.map(factorial_worker,range(1,num+1))\n",
    "        print(f'the chunk outputs are: ',result)\n",
    "        print(f'the factorial of {num} is {result[-1]}')"
   ]
  },
  {
   "cell_type": "code",
   "execution_count": null,
   "id": "2647cbee-d047-4bbb-8b33-f7819aedccaf",
   "metadata": {},
   "outputs": [],
   "source": []
  }
 ],
 "metadata": {
  "kernelspec": {
   "display_name": "Python 3 (ipykernel)",
   "language": "python",
   "name": "python3"
  },
  "language_info": {
   "codemirror_mode": {
    "name": "ipython",
    "version": 3
   },
   "file_extension": ".py",
   "mimetype": "text/x-python",
   "name": "python",
   "nbconvert_exporter": "python",
   "pygments_lexer": "ipython3",
   "version": "3.10.8"
  }
 },
 "nbformat": 4,
 "nbformat_minor": 5
}
