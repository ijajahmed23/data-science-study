{
 "cells": [
  {
   "cell_type": "code",
   "execution_count": 2,
   "id": "c34148ab-edc1-4323-aea3-9d39944173e1",
   "metadata": {},
   "outputs": [
    {
     "data": {
      "text/plain": [
       "'\\n1.Write a Python program that prompts the user for two integers and divides the first integer by the second integer. If the either variable are none integer then print the value error and second integer is zero, catch the ZeroDivisionError and print an error message to the user.\\n'"
      ]
     },
     "execution_count": 2,
     "metadata": {},
     "output_type": "execute_result"
    }
   ],
   "source": [
    "'''\n",
    "1.Write a Python program that prompts the user for two integers and divides the first integer by the second integer. If the either variable are none integer then print the value error and second integer is zero, catch the ZeroDivisionError and print an error message to the user.\n",
    "'''"
   ]
  },
  {
   "cell_type": "code",
   "execution_count": 5,
   "id": "87345bec-7fa1-40fe-b567-788db1e8231a",
   "metadata": {},
   "outputs": [
    {
     "name": "stdin",
     "output_type": "stream",
     "text": [
      "Enter first integer:  3\n",
      "Enter second integer:  0\n"
     ]
    },
    {
     "name": "stdout",
     "output_type": "stream",
     "text": [
      "Error: division by zero. Please enter a non-zero value for the second integer.\n"
     ]
    },
    {
     "name": "stdin",
     "output_type": "stream",
     "text": [
      "Enter first integer:  5\n",
      "Enter second integer:  5\n"
     ]
    },
    {
     "name": "stdout",
     "output_type": "stream",
     "text": [
      "Result:  1.0\n"
     ]
    }
   ],
   "source": [
    "while True:\n",
    "    try:\n",
    "        x=int(input('Enter first integer: '))\n",
    "        y=int(input('Enter second integer: '))\n",
    "        result=x/y\n",
    "        print(\"Result: \",result)\n",
    "        break\n",
    "    except ValueError:\n",
    "        print('enter integers only')\n",
    "    except ZeroDivisionError:\n",
    "        print('Error: division by zero. Please enter a non-zero value for the second integer.')"
   ]
  },
  {
   "cell_type": "code",
   "execution_count": 6,
   "id": "4f9f4d00-58b8-4ab2-9611-cf8d1ce73c1a",
   "metadata": {},
   "outputs": [
    {
     "data": {
      "text/plain": [
       "'2.Write a Python program that prompts the user for a password and checks whether the password meets certain criteria (e.g., at least 8 characters, contains at least one uppercase letter, etc.). If the password does not meet the criteria, raise a custom exception called PasswordError with a custom error message.\\n'"
      ]
     },
     "execution_count": 6,
     "metadata": {},
     "output_type": "execute_result"
    }
   ],
   "source": [
    "'''2.Write a Python program that prompts the user for a password and checks whether the password meets certain criteria (e.g., at least 8 characters, contains at least one uppercase letter, etc.). If the password does not meet the criteria, raise a custom exception called PasswordError with a custom error message.\n",
    "'''"
   ]
  },
  {
   "cell_type": "code",
   "execution_count": 10,
   "id": "9e29501c-db63-4ea5-b4fc-d3e8a933533d",
   "metadata": {},
   "outputs": [
    {
     "name": "stdin",
     "output_type": "stream",
     "text": [
      "Enter a password:  Rana@1997\n"
     ]
    },
    {
     "name": "stdout",
     "output_type": "stream",
     "text": [
      "Password is valid!\n"
     ]
    }
   ],
   "source": [
    "class PasswordError(Exception):\n",
    "    pass\n",
    "\n",
    "def check_password(pwd):\n",
    "    if len(pwd)<8:\n",
    "        raise PasswordError('Error: Password must be at least 8 characters long')\n",
    "    elif not any(i.isupper() for i in pwd):\n",
    "        raise PasswordError('Error: Password must contain at least one uppercase letter')\n",
    "    elif not any(i.islower() for i in pwd):\n",
    "        raise PasswordError('Error: Error: Password must contain at least one lowercase letter')\n",
    "    elif not any(i.isdigit() for i in pwd):\n",
    "        raise PasswordError('Error: Password must contain at least one digit')\n",
    "    elif not any(i in ['@','#','%'] for i in pwd):\n",
    "        raise PasswordError('Error: Password must contain at least one of the following special characters: % # @')\n",
    "    else:\n",
    "        print('Password is valid!')\n",
    "        \n",
    "password=input('Enter a password: ')\n",
    "\n",
    "try:\n",
    "    check_password(password)\n",
    "except PasswordError as e:\n",
    "    print(e)"
   ]
  },
  {
   "cell_type": "code",
   "execution_count": 11,
   "id": "d7046116-a6e5-43c0-8e60-0d104e875cbc",
   "metadata": {},
   "outputs": [
    {
     "data": {
      "text/plain": [
       "'\\n3.Write a Python program that prompts the user for a number and calculates the square root of the number using the math.sqrt() function. If the number is negative, raise a ValueError with a custom error message.\\n'"
      ]
     },
     "execution_count": 11,
     "metadata": {},
     "output_type": "execute_result"
    }
   ],
   "source": [
    "'''\n",
    "3.Write a Python program that prompts the user for a number and calculates the square root of the number using the math.sqrt() function. If the number is negative, raise a ValueError with a custom error message.\n",
    "'''"
   ]
  },
  {
   "cell_type": "code",
   "execution_count": 13,
   "id": "477577e0-115a-427a-a502-1725effd03a3",
   "metadata": {},
   "outputs": [
    {
     "name": "stdin",
     "output_type": "stream",
     "text": [
      "Enter a number:  -5\n"
     ]
    },
    {
     "name": "stdout",
     "output_type": "stream",
     "text": [
      "Error: number cannot be negative.\n"
     ]
    },
    {
     "name": "stdin",
     "output_type": "stream",
     "text": [
      "Enter a number:  4.5\n"
     ]
    },
    {
     "name": "stdout",
     "output_type": "stream",
     "text": [
      "the square root of 4.5 is 2.1213203435596424\n"
     ]
    }
   ],
   "source": [
    "import math\n",
    "\n",
    "while True:\n",
    "    try:\n",
    "        num=float(input('Enter a number: '))\n",
    "        if num<0:\n",
    "            raise ValueError('Error: number cannot be negative.')\n",
    "        \n",
    "        result=math.sqrt(num)\n",
    "        print(f'the square root of {num} is {result}')\n",
    "        break\n",
    "    except ValueError as e:\n",
    "        print(e)"
   ]
  },
  {
   "cell_type": "code",
   "execution_count": 14,
   "id": "0be3f36b-9560-4113-ad5e-22a3d92a1d40",
   "metadata": {},
   "outputs": [
    {
     "data": {
      "text/plain": [
       "'\\n4.Write a Python program that prompts the user for a list of integers and calculates the average of the list. If the list is empty, raise a ValueError with a custom error message.\\n'"
      ]
     },
     "execution_count": 14,
     "metadata": {},
     "output_type": "execute_result"
    }
   ],
   "source": [
    "'''\n",
    "4.Write a Python program that prompts the user for a list of integers and calculates the average of the list. If the list is empty, raise a ValueError with a custom error message.\n",
    "'''"
   ]
  },
  {
   "cell_type": "code",
   "execution_count": 23,
   "id": "fb44f1a2-80a4-4f0c-a143-74135307a26b",
   "metadata": {},
   "outputs": [
    {
     "name": "stdin",
     "output_type": "stream",
     "text": [
      "Enter a list of numbers separated by space:  1 2 3 4 5\n"
     ]
    },
    {
     "name": "stdout",
     "output_type": "stream",
     "text": [
      "Average of [1, 2, 3, 4, 5] is 3.0\n"
     ]
    }
   ],
   "source": [
    "try:\n",
    "    my_list=[int(n) for n in input('Enter a list of numbers separated by space: ').split()]\n",
    "    if len(my_list)==0:\n",
    "        raise ValueError('Error: List is empty.') \n",
    "    avg=sum(my_list)/len(my_list)\n",
    "    print(f'Average of {my_list} is {avg}')\n",
    "except ValueError as e:\n",
    "    print('Error: ',e)"
   ]
  },
  {
   "cell_type": "code",
   "execution_count": 25,
   "id": "f23d0712-eaaa-492b-94a4-df41b2be7e85",
   "metadata": {},
   "outputs": [
    {
     "data": {
      "text/plain": [
       "'\\n5.Write a function that takes a string as input and returns the number of vowels in the string. If the input is not a string, raise a TypeError with a custom error message.\\n'"
      ]
     },
     "execution_count": 25,
     "metadata": {},
     "output_type": "execute_result"
    }
   ],
   "source": [
    "'''\n",
    "5.Write a function that takes a string as input and returns the number of vowels in the string. If the input is not a string, raise a TypeError with a custom error message.\n",
    "'''"
   ]
  },
  {
   "cell_type": "code",
   "execution_count": 26,
   "id": "6ecbb25b-3290-4c5e-acc8-f8ec60e233eb",
   "metadata": {},
   "outputs": [
    {
     "data": {
      "text/plain": [
       "11"
      ]
     },
     "execution_count": 26,
     "metadata": {},
     "output_type": "execute_result"
    }
   ],
   "source": [
    "def count_vowels(s):\n",
    "    if not isinstance(s,str):\n",
    "        raise TypeError('Error: Input must be a string.')\n",
    "    vowels='aeiouAEIOU'\n",
    "    count=0\n",
    "    for i in s:\n",
    "        if i in vowels:\n",
    "            count += 1\n",
    "    return count\n",
    "\n",
    "count_vowels(\"The quick brown fox jumps over the lazy dog\")"
   ]
  },
  {
   "cell_type": "code",
   "execution_count": 27,
   "id": "543003d7-e8ff-4a94-9646-642a970fd37b",
   "metadata": {},
   "outputs": [
    {
     "data": {
      "text/plain": [
       "'\\n7.write a python program how to handle simple runtime error?\\n'"
      ]
     },
     "execution_count": 27,
     "metadata": {},
     "output_type": "execute_result"
    }
   ],
   "source": [
    "'''\n",
    "6.write a python program how to handle simple runtime error?\n",
    "'''"
   ]
  },
  {
   "cell_type": "code",
   "execution_count": 1,
   "id": "b41c1335-6926-450e-abf8-b9271c608f51",
   "metadata": {},
   "outputs": [
    {
     "name": "stdout",
     "output_type": "stream",
     "text": [
      "second element:  2\n",
      "An error occurred\n"
     ]
    }
   ],
   "source": [
    "a=[1,2,3]\n",
    "try:\n",
    "    print('second element: ',a[1])\n",
    "    print('fourth element: ',a[3])\n",
    "except:\n",
    "    print('An error occurred')"
   ]
  },
  {
   "cell_type": "code",
   "execution_count": 2,
   "id": "a3e5d1ba-1629-43b7-9464-ccf0759f25dc",
   "metadata": {},
   "outputs": [
    {
     "data": {
      "text/plain": [
       "'\\n7.write a program how to handle multiple errors with one answer:# Program to handle multiple errors with one\\n'"
      ]
     },
     "execution_count": 2,
     "metadata": {},
     "output_type": "execute_result"
    }
   ],
   "source": [
    "'''\n",
    "7.write a program how to handle multiple errors with one answer:# Program to handle multiple errors with one\n",
    "'''"
   ]
  },
  {
   "cell_type": "code",
   "execution_count": 6,
   "id": "d14164b7-5874-4069-8b54-c0196fb17d22",
   "metadata": {},
   "outputs": [
    {
     "name": "stdin",
     "output_type": "stream",
     "text": [
      "Enter one number:  2\n",
      "Enter another number:  0\n"
     ]
    },
    {
     "name": "stdout",
     "output_type": "stream",
     "text": [
      "Error: division by zero\n"
     ]
    }
   ],
   "source": [
    "try:\n",
    "    x=int(input('Enter one number: '))\n",
    "    y=int(input('Enter another number: '))\n",
    "    z=x/y\n",
    "    print('the result is ',z)\n",
    "except (ValueError,ZeroDivisionError) as e:\n",
    "    print('Error:',e)\n",
    "          "
   ]
  },
  {
   "cell_type": "code",
   "execution_count": 8,
   "id": "87ec0880-c95f-4207-88a9-f16619f55f0d",
   "metadata": {},
   "outputs": [
    {
     "data": {
      "text/plain": [
       "'\\n8.write a program to print the reciprocal of even numbers note:we might want to run a certain block of code if the code block inside try runs without any errors. For these cases, you can use the optional else keyword with the try statement.\\n'"
      ]
     },
     "execution_count": 8,
     "metadata": {},
     "output_type": "execute_result"
    }
   ],
   "source": [
    "'''\n",
    "8.write a program to print the reciprocal of even numbers note:we might want to run a certain block of code if the code block inside try runs without any errors. For these cases, you can use the optional else keyword with the try statement.\n",
    "'''"
   ]
  },
  {
   "cell_type": "code",
   "execution_count": 11,
   "id": "6769c78c-30bf-4ca6-abcc-0077caf48615",
   "metadata": {},
   "outputs": [
    {
     "name": "stdin",
     "output_type": "stream",
     "text": [
      "Enter a number:  4\n"
     ]
    },
    {
     "name": "stdout",
     "output_type": "stream",
     "text": [
      "Reciprocal of 4 is 0.25\n"
     ]
    }
   ],
   "source": [
    "try:\n",
    "    num=int(input('Enter a number: '))\n",
    "    assert num%2==0\n",
    "except:\n",
    "    print('Error: Not an even number.')\n",
    "else:\n",
    "    reciprocal=1/num\n",
    "    print(f'Reciprocal of {num} is {reciprocal}')"
   ]
  },
  {
   "cell_type": "code",
   "execution_count": 12,
   "id": "ee1fd774-da6f-4b6d-9b8b-f62be3ca8dea",
   "metadata": {},
   "outputs": [
    {
     "data": {
      "text/plain": [
       "'\\n9.How to handle exceptions using the try, except, and finally statements write code\\n'"
      ]
     },
     "execution_count": 12,
     "metadata": {},
     "output_type": "execute_result"
    }
   ],
   "source": [
    "'''\n",
    "9.How to handle exceptions using the try, except, and finally statements write code\n",
    "'''"
   ]
  },
  {
   "cell_type": "code",
   "execution_count": 16,
   "id": "192e67e3-e34c-453c-a37d-d7956b02adf3",
   "metadata": {},
   "outputs": [
    {
     "name": "stdin",
     "output_type": "stream",
     "text": [
      "Enter a number:  5\n"
     ]
    },
    {
     "name": "stdout",
     "output_type": "stream",
     "text": [
      "Reciprocal of 5 is 0.2\n",
      "Thank you for using this program!\n"
     ]
    }
   ],
   "source": [
    "try:\n",
    "    n=int(input('Enter a number: '))\n",
    "    reciprocal=1/n\n",
    "    print(f'Reciprocal of {n} is {reciprocal}')\n",
    "except ValueError:\n",
    "    print('Error: You must enter a valid number')\n",
    "except ZeroDivisionError:\n",
    "    print('Error: You cannot divide by zero')\n",
    "finally:                                      #always runs irrespective of situations\n",
    "    print('Thank you for using this program!')\n",
    "    \n",
    "          \n",
    "    "
   ]
  },
  {
   "cell_type": "code",
   "execution_count": null,
   "id": "b340b86b-4c15-4b2e-bfbe-6f4686154ce9",
   "metadata": {},
   "outputs": [],
   "source": []
  }
 ],
 "metadata": {
  "kernelspec": {
   "display_name": "Python 3 (ipykernel)",
   "language": "python",
   "name": "python3"
  },
  "language_info": {
   "codemirror_mode": {
    "name": "ipython",
    "version": 3
   },
   "file_extension": ".py",
   "mimetype": "text/x-python",
   "name": "python",
   "nbconvert_exporter": "python",
   "pygments_lexer": "ipython3",
   "version": "3.10.8"
  }
 },
 "nbformat": 4,
 "nbformat_minor": 5
}
