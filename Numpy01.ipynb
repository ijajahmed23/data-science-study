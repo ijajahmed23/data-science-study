{
 "cells": [
  {
   "cell_type": "code",
   "execution_count": 8,
   "id": "712fde88-4044-47cf-ba7c-d10c74495bcf",
   "metadata": {},
   "outputs": [],
   "source": [
    "import numpy as np\n",
    "#created for array and matrix manipulation"
   ]
  },
  {
   "cell_type": "code",
   "execution_count": 3,
   "id": "d2e310f9-62bc-41ed-8ffb-b78bc63078c4",
   "metadata": {},
   "outputs": [],
   "source": [
    "l=[1,2,3,4,5]"
   ]
  },
  {
   "cell_type": "code",
   "execution_count": 9,
   "id": "7843b028-45d3-4be3-8cfb-6b67c0f80ffd",
   "metadata": {},
   "outputs": [],
   "source": [
    "arr=np.array(l)\n",
    "#list to array conv"
   ]
  },
  {
   "cell_type": "code",
   "execution_count": 10,
   "id": "5fbbd2c1-c09a-4c1c-b92b-f02c3ecac0fb",
   "metadata": {},
   "outputs": [
    {
     "data": {
      "text/plain": [
       "array([1, 2, 3, 4, 5])"
      ]
     },
     "execution_count": 10,
     "metadata": {},
     "output_type": "execute_result"
    }
   ],
   "source": [
    "arr"
   ]
  },
  {
   "cell_type": "code",
   "execution_count": 12,
   "id": "0438937c-341b-4577-988d-7498215238f6",
   "metadata": {},
   "outputs": [
    {
     "data": {
      "text/plain": [
       "numpy.ndarray"
      ]
     },
     "execution_count": 12,
     "metadata": {},
     "output_type": "execute_result"
    }
   ],
   "source": [
    "type(arr)\n",
    "#n dimensional array"
   ]
  },
  {
   "cell_type": "code",
   "execution_count": 13,
   "id": "2054c8de-f6b9-4381-9564-c2ef9d1e7e70",
   "metadata": {},
   "outputs": [
    {
     "data": {
      "text/plain": [
       "array([1, 2, 3, 4, 5])"
      ]
     },
     "execution_count": 13,
     "metadata": {},
     "output_type": "execute_result"
    }
   ],
   "source": [
    "np.asarray(l)"
   ]
  },
  {
   "cell_type": "code",
   "execution_count": 15,
   "id": "95927c9d-21c9-48e7-9bcd-5778cf59f566",
   "metadata": {},
   "outputs": [],
   "source": [
    "arr1=np.array([[1,2,3],[3,4,5]])"
   ]
  },
  {
   "cell_type": "code",
   "execution_count": 18,
   "id": "a73c85f2-e865-4b82-9d0b-ccc09e5f2814",
   "metadata": {},
   "outputs": [
    {
     "data": {
      "text/plain": [
       "1"
      ]
     },
     "execution_count": 18,
     "metadata": {},
     "output_type": "execute_result"
    }
   ],
   "source": [
    "arr.ndim\n",
    "#checks dimension of array"
   ]
  },
  {
   "cell_type": "code",
   "execution_count": 19,
   "id": "7c83b3c9-d9bf-4581-9a01-973895cedcd0",
   "metadata": {},
   "outputs": [
    {
     "data": {
      "text/plain": [
       "2"
      ]
     },
     "execution_count": 19,
     "metadata": {},
     "output_type": "execute_result"
    }
   ],
   "source": [
    "arr1.ndim"
   ]
  },
  {
   "cell_type": "code",
   "execution_count": 22,
   "id": "af3f7ddf-4382-49f8-9833-2becc44f3038",
   "metadata": {},
   "outputs": [
    {
     "data": {
      "text/plain": [
       "array([[1, 2, 3],\n",
       "       [3, 4, 5]])"
      ]
     },
     "execution_count": 22,
     "metadata": {},
     "output_type": "execute_result"
    }
   ],
   "source": [
    "arr1\n",
    "#rows are X axis (index: 0 and 1)...columns are Y axis (index:0,1,2)\n",
    "#(X,Y)-->(0,0)=1,(0,1)=2,(0,2)=3,(1,0)=3,(1,1)=4,(1,2)=5"
   ]
  },
  {
   "cell_type": "code",
   "execution_count": 29,
   "id": "9b81cd18-7ee4-4253-b280-2ecdef138d26",
   "metadata": {},
   "outputs": [],
   "source": [
    "mat=np.matrix(l)\n",
    "#matrix always have 2 dim...array has 1 dim\n",
    "#matrix is one type of array only...say like collection of array"
   ]
  },
  {
   "cell_type": "code",
   "execution_count": 26,
   "id": "a73d880a-cbaa-4560-b300-2afe9336b3bc",
   "metadata": {},
   "outputs": [
    {
     "data": {
      "text/plain": [
       "matrix([[1, 2, 3, 4, 5]])"
      ]
     },
     "execution_count": 26,
     "metadata": {},
     "output_type": "execute_result"
    }
   ],
   "source": [
    "mat"
   ]
  },
  {
   "cell_type": "code",
   "execution_count": 31,
   "id": "2493996d-20f0-4ae1-83bf-36ae4e1e536c",
   "metadata": {},
   "outputs": [
    {
     "data": {
      "text/plain": [
       "array([1, 2, 3, 4, 5])"
      ]
     },
     "execution_count": 31,
     "metadata": {},
     "output_type": "execute_result"
    }
   ],
   "source": [
    "np.asanyarray(l)\n",
    "#l was a list hence, asanyarray converted list to array"
   ]
  },
  {
   "cell_type": "code",
   "execution_count": 30,
   "id": "c7960606-059f-4031-b3b9-9e1e28d69898",
   "metadata": {},
   "outputs": [
    {
     "data": {
      "text/plain": [
       "matrix([[1, 2, 3, 4, 5]])"
      ]
     },
     "execution_count": 30,
     "metadata": {},
     "output_type": "execute_result"
    }
   ],
   "source": [
    "np.asanyarray(mat)\n",
    "#if something is already in any form of array, asanyarray will not make changes\n",
    "#here mat is a matrix which is kind of an array only"
   ]
  },
  {
   "cell_type": "code",
   "execution_count": 32,
   "id": "b76b1f78-6461-4603-a59b-1e404c24a5e0",
   "metadata": {},
   "outputs": [
    {
     "data": {
      "text/plain": [
       "array([1, 2, 3, 4, 5])"
      ]
     },
     "execution_count": 32,
     "metadata": {},
     "output_type": "execute_result"
    }
   ],
   "source": [
    "arr"
   ]
  },
  {
   "cell_type": "code",
   "execution_count": 33,
   "id": "f71385a2-c885-4a94-b028-c98f66620d9f",
   "metadata": {},
   "outputs": [],
   "source": [
    "a=arr"
   ]
  },
  {
   "cell_type": "code",
   "execution_count": 34,
   "id": "af504623-b9e0-460f-bd99-b6b7d5f5d797",
   "metadata": {},
   "outputs": [
    {
     "data": {
      "text/plain": [
       "array([1, 2, 3, 4, 5])"
      ]
     },
     "execution_count": 34,
     "metadata": {},
     "output_type": "execute_result"
    }
   ],
   "source": [
    "a"
   ]
  },
  {
   "cell_type": "code",
   "execution_count": 35,
   "id": "1d42aa8a-acfd-47e7-8357-a3660fe0b5ed",
   "metadata": {},
   "outputs": [],
   "source": [
    "arr[0]=100"
   ]
  },
  {
   "cell_type": "code",
   "execution_count": 36,
   "id": "4edf4fc1-a41f-40e4-af90-cfd48563fc62",
   "metadata": {},
   "outputs": [
    {
     "data": {
      "text/plain": [
       "array([100,   2,   3,   4,   5])"
      ]
     },
     "execution_count": 36,
     "metadata": {},
     "output_type": "execute_result"
    }
   ],
   "source": [
    "arr"
   ]
  },
  {
   "cell_type": "code",
   "execution_count": 37,
   "id": "f0b08718-21e3-4d14-b51c-851d805e2589",
   "metadata": {},
   "outputs": [
    {
     "data": {
      "text/plain": [
       "array([100,   2,   3,   4,   5])"
      ]
     },
     "execution_count": 37,
     "metadata": {},
     "output_type": "execute_result"
    }
   ],
   "source": [
    "a"
   ]
  },
  {
   "cell_type": "code",
   "execution_count": 43,
   "id": "f9f0b4f8-bed8-4a55-aba1-8db519b78aee",
   "metadata": {},
   "outputs": [],
   "source": [
    "b=np.copy(arr)\n",
    "#np.copy creates a new memory location unlike normal assignment operation\n",
    "#this is deep copy"
   ]
  },
  {
   "cell_type": "code",
   "execution_count": 39,
   "id": "ed6240a5-3b55-4c88-b4d6-2254bfb441aa",
   "metadata": {},
   "outputs": [
    {
     "data": {
      "text/plain": [
       "array([100,   2,   3,   4,   5])"
      ]
     },
     "execution_count": 39,
     "metadata": {},
     "output_type": "execute_result"
    }
   ],
   "source": [
    "b"
   ]
  },
  {
   "cell_type": "code",
   "execution_count": 40,
   "id": "88821e79-9d42-42a3-ae78-b2f56ac8d64a",
   "metadata": {},
   "outputs": [],
   "source": [
    "arr[1]=700"
   ]
  },
  {
   "cell_type": "code",
   "execution_count": 41,
   "id": "33c79b9e-2970-4a28-91c1-383c38f406e9",
   "metadata": {},
   "outputs": [
    {
     "data": {
      "text/plain": [
       "array([100, 700,   3,   4,   5])"
      ]
     },
     "execution_count": 41,
     "metadata": {},
     "output_type": "execute_result"
    }
   ],
   "source": [
    "arr"
   ]
  },
  {
   "cell_type": "code",
   "execution_count": 42,
   "id": "3a8bc9d5-1776-49be-916a-ca7f82f90417",
   "metadata": {},
   "outputs": [
    {
     "data": {
      "text/plain": [
       "array([100,   2,   3,   4,   5])"
      ]
     },
     "execution_count": 42,
     "metadata": {},
     "output_type": "execute_result"
    }
   ],
   "source": [
    "b"
   ]
  },
  {
   "cell_type": "code",
   "execution_count": 45,
   "id": "6e396c50-a81b-47f8-90de-bc78dbb1f293",
   "metadata": {},
   "outputs": [
    {
     "data": {
      "text/plain": [
       "array([[ True, False, False],\n",
       "       [False,  True, False],\n",
       "       [False, False,  True]])"
      ]
     },
     "execution_count": 45,
     "metadata": {},
     "output_type": "execute_result"
    }
   ],
   "source": [
    "np.fromfunction(lambda i,j : i==j, (3,3))\n",
    "#True only in (0,0),(1,1) and (2,2) places"
   ]
  },
  {
   "cell_type": "code",
   "execution_count": 46,
   "id": "b6d9b099-d687-4448-99a3-6f88fe1f8154",
   "metadata": {},
   "outputs": [
    {
     "data": {
      "text/plain": [
       "array([[0., 0., 0.],\n",
       "       [0., 1., 2.],\n",
       "       [0., 2., 4.]])"
      ]
     },
     "execution_count": 46,
     "metadata": {},
     "output_type": "execute_result"
    }
   ],
   "source": [
    "np.fromfunction(lambda i,j : i*j, (3,3))"
   ]
  },
  {
   "cell_type": "code",
   "execution_count": 48,
   "id": "cfabfc6b-6fc7-4055-aee3-147f1efc569a",
   "metadata": {},
   "outputs": [
    {
     "data": {
      "text/plain": [
       "[0, 1, 4, 9, 16]"
      ]
     },
     "execution_count": 48,
     "metadata": {},
     "output_type": "execute_result"
    }
   ],
   "source": [
    "list(i*i for i in range(5))"
   ]
  },
  {
   "cell_type": "code",
   "execution_count": 49,
   "id": "8a3f8662-d695-419e-b884-dd818d666eaf",
   "metadata": {},
   "outputs": [],
   "source": [
    "iterable=(i*i for i in range(5))"
   ]
  },
  {
   "cell_type": "code",
   "execution_count": 50,
   "id": "b82f3f02-fc1d-4c11-9a71-bba779dfb2a9",
   "metadata": {},
   "outputs": [
    {
     "data": {
      "text/plain": [
       "array([ 0.,  1.,  4.,  9., 16.])"
      ]
     },
     "execution_count": 50,
     "metadata": {},
     "output_type": "execute_result"
    }
   ],
   "source": [
    "np.fromiter(iterable,float)"
   ]
  },
  {
   "cell_type": "code",
   "execution_count": 51,
   "id": "9d16ac18-bc73-43a8-971b-bab6f775179e",
   "metadata": {},
   "outputs": [
    {
     "data": {
      "text/plain": [
       "array([23., 45., 56.])"
      ]
     },
     "execution_count": 51,
     "metadata": {},
     "output_type": "execute_result"
    }
   ],
   "source": [
    "np.fromstring('23 45 56',sep=\" \")"
   ]
  },
  {
   "cell_type": "code",
   "execution_count": 52,
   "id": "df1d73fd-c2d8-4a87-b2f1-7f3d8baca9d9",
   "metadata": {},
   "outputs": [
    {
     "data": {
      "text/plain": [
       "array([23., 45., 56.])"
      ]
     },
     "execution_count": 52,
     "metadata": {},
     "output_type": "execute_result"
    }
   ],
   "source": [
    "np.fromstring('23,45,56',sep=\",\")"
   ]
  },
  {
   "cell_type": "code",
   "execution_count": 53,
   "id": "ff6d497f-d799-4be1-a6f8-7331016300fb",
   "metadata": {},
   "outputs": [
    {
     "data": {
      "text/plain": [
       "array([[1, 2, 3],\n",
       "       [3, 4, 5]])"
      ]
     },
     "execution_count": 53,
     "metadata": {},
     "output_type": "execute_result"
    }
   ],
   "source": [
    "arr1"
   ]
  },
  {
   "cell_type": "code",
   "execution_count": 54,
   "id": "e5e807f2-eb7e-416d-8653-90208dd1fb9d",
   "metadata": {},
   "outputs": [
    {
     "data": {
      "text/plain": [
       "1"
      ]
     },
     "execution_count": 54,
     "metadata": {},
     "output_type": "execute_result"
    }
   ],
   "source": [
    "arr.ndim"
   ]
  },
  {
   "cell_type": "code",
   "execution_count": 55,
   "id": "16347ff3-b031-46bd-80d7-930aba0443c9",
   "metadata": {},
   "outputs": [
    {
     "data": {
      "text/plain": [
       "2"
      ]
     },
     "execution_count": 55,
     "metadata": {},
     "output_type": "execute_result"
    }
   ],
   "source": [
    "arr1.ndim"
   ]
  },
  {
   "cell_type": "code",
   "execution_count": 58,
   "id": "bdf26f21-e964-432d-b63d-2cb0cd296982",
   "metadata": {},
   "outputs": [
    {
     "data": {
      "text/plain": [
       "5"
      ]
     },
     "execution_count": 58,
     "metadata": {},
     "output_type": "execute_result"
    }
   ],
   "source": [
    "arr.size\n",
    "#returns total no of elements"
   ]
  },
  {
   "cell_type": "code",
   "execution_count": 59,
   "id": "d712ecf7-6588-48b8-b9b3-76f63969839e",
   "metadata": {},
   "outputs": [
    {
     "data": {
      "text/plain": [
       "6"
      ]
     },
     "execution_count": 59,
     "metadata": {},
     "output_type": "execute_result"
    }
   ],
   "source": [
    "arr1.size"
   ]
  },
  {
   "cell_type": "code",
   "execution_count": 60,
   "id": "71b24649-f357-424e-a03d-53de1d862b10",
   "metadata": {},
   "outputs": [
    {
     "data": {
      "text/plain": [
       "(5,)"
      ]
     },
     "execution_count": 60,
     "metadata": {},
     "output_type": "execute_result"
    }
   ],
   "source": [
    "arr.shape"
   ]
  },
  {
   "cell_type": "code",
   "execution_count": 61,
   "id": "8f04dfb4-3ea8-473f-ae0d-9e08c67fe92b",
   "metadata": {},
   "outputs": [
    {
     "data": {
      "text/plain": [
       "(2, 3)"
      ]
     },
     "execution_count": 61,
     "metadata": {},
     "output_type": "execute_result"
    }
   ],
   "source": [
    "arr1.shape"
   ]
  },
  {
   "cell_type": "code",
   "execution_count": 62,
   "id": "2f84191e-fa83-4034-b3d5-f2afb3ee2527",
   "metadata": {},
   "outputs": [
    {
     "data": {
      "text/plain": [
       "dtype('int64')"
      ]
     },
     "execution_count": 62,
     "metadata": {},
     "output_type": "execute_result"
    }
   ],
   "source": [
    "arr.dtype"
   ]
  },
  {
   "cell_type": "code",
   "execution_count": 63,
   "id": "054febdf-a616-4486-ba30-bbd3b6ad736f",
   "metadata": {},
   "outputs": [
    {
     "data": {
      "text/plain": [
       "dtype('int64')"
      ]
     },
     "execution_count": 63,
     "metadata": {},
     "output_type": "execute_result"
    }
   ],
   "source": [
    "arr1.dtype"
   ]
  },
  {
   "cell_type": "code",
   "execution_count": null,
   "id": "8c3de754-2a32-4b22-ac2e-9ce266ddfa35",
   "metadata": {},
   "outputs": [],
   "source": []
  }
 ],
 "metadata": {
  "kernelspec": {
   "display_name": "Python 3 (ipykernel)",
   "language": "python",
   "name": "python3"
  },
  "language_info": {
   "codemirror_mode": {
    "name": "ipython",
    "version": 3
   },
   "file_extension": ".py",
   "mimetype": "text/x-python",
   "name": "python",
   "nbconvert_exporter": "python",
   "pygments_lexer": "ipython3",
   "version": "3.10.8"
  }
 },
 "nbformat": 4,
 "nbformat_minor": 5
}
