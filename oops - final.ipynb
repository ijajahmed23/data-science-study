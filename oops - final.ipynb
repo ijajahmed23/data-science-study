{
 "cells": [
  {
   "cell_type": "markdown",
   "id": "f24cbd9c-d029-4449-bb68-097d46196f1f",
   "metadata": {},
   "source": [
    "##Polymorphism (Multiple - poly, Morph - faces)\n",
    "1. Method overriding\n",
    "2. Method overloading\n",
    "3. Operator overriding"
   ]
  },
  {
   "cell_type": "code",
   "execution_count": 1,
   "id": "4d5bf990-db50-4aca-93e3-65037eadcf88",
   "metadata": {},
   "outputs": [],
   "source": [
    "class Geometry:\n",
    "    def area(self,radius):\n",
    "        return 3.14*radius*radius\n",
    "    \n",
    "    def area(self,l,b):\n",
    "        return l*b\n",
    "\n",
    "    "
   ]
  },
  {
   "cell_type": "code",
   "execution_count": 2,
   "id": "e98f7959-deb0-4dfe-b147-01a75a75a73d",
   "metadata": {},
   "outputs": [],
   "source": [
    "m=Geometry()"
   ]
  },
  {
   "cell_type": "code",
   "execution_count": 3,
   "id": "9d6986ef-6455-43bc-9cbc-eef04926d0dd",
   "metadata": {},
   "outputs": [
    {
     "ename": "TypeError",
     "evalue": "Geometry.area() missing 1 required positional argument: 'b'",
     "output_type": "error",
     "traceback": [
      "\u001b[0;31m---------------------------------------------------------------------------\u001b[0m",
      "\u001b[0;31mTypeError\u001b[0m                                 Traceback (most recent call last)",
      "Cell \u001b[0;32mIn[3], line 1\u001b[0m\n\u001b[0;32m----> 1\u001b[0m \u001b[43mm\u001b[49m\u001b[38;5;241;43m.\u001b[39;49m\u001b[43marea\u001b[49m\u001b[43m(\u001b[49m\u001b[38;5;241;43m4\u001b[39;49m\u001b[43m)\u001b[49m \u001b[38;5;66;03m#in java, this will work but method overloading in pure term is not allowed in python\u001b[39;00m\n",
      "\u001b[0;31mTypeError\u001b[0m: Geometry.area() missing 1 required positional argument: 'b'"
     ]
    }
   ],
   "source": [
    "m.area(4) #in java, this will work but method overloading in pure term is not allowed in python"
   ]
  },
  {
   "cell_type": "code",
   "execution_count": 4,
   "id": "87fe096e-158d-4a90-acd2-51a7d0b84f10",
   "metadata": {},
   "outputs": [
    {
     "data": {
      "text/plain": [
       "20"
      ]
     },
     "execution_count": 4,
     "metadata": {},
     "output_type": "execute_result"
    }
   ],
   "source": [
    "m.area(4,5)"
   ]
  },
  {
   "cell_type": "code",
   "execution_count": 8,
   "id": "e4f232d1-bdab-4e9a-be7a-4d2e707fae0d",
   "metadata": {},
   "outputs": [],
   "source": [
    "#to tackle this"
   ]
  },
  {
   "cell_type": "code",
   "execution_count": 5,
   "id": "bad7a987-fe66-4d3f-8796-aec010c3f1c9",
   "metadata": {},
   "outputs": [],
   "source": [
    "class Geometry:\n",
    "    def area(self,a,b=0):\n",
    "        if b==0:\n",
    "            print(\"circle - area: \",3.14*a*a)\n",
    "        else:\n",
    "            print(\"rect - area: \",a*b)\n"
   ]
  },
  {
   "cell_type": "code",
   "execution_count": 7,
   "id": "8b89649f-c8ce-40d8-84cd-9c90bab9455f",
   "metadata": {},
   "outputs": [],
   "source": [
    "n=Geometry()"
   ]
  },
  {
   "cell_type": "code",
   "execution_count": 8,
   "id": "4e7138b8-549d-4f6c-b9aa-2ead6698a14a",
   "metadata": {},
   "outputs": [
    {
     "name": "stdout",
     "output_type": "stream",
     "text": [
      "circle - area:  50.24\n"
     ]
    }
   ],
   "source": [
    "n.area(4)"
   ]
  },
  {
   "cell_type": "code",
   "execution_count": 9,
   "id": "e1351e4d-c718-4bc6-b5be-933e7d1be4b1",
   "metadata": {},
   "outputs": [
    {
     "name": "stdout",
     "output_type": "stream",
     "text": [
      "rect - area:  20\n"
     ]
    }
   ],
   "source": [
    "n.area(4,5)"
   ]
  },
  {
   "cell_type": "code",
   "execution_count": 10,
   "id": "2750a508-6608-4ea6-810d-5af13cef192a",
   "metadata": {},
   "outputs": [
    {
     "data": {
      "text/plain": [
       "'helloworld'"
      ]
     },
     "execution_count": 10,
     "metadata": {},
     "output_type": "execute_result"
    }
   ],
   "source": [
    "\"hello\"+\"world\""
   ]
  },
  {
   "cell_type": "code",
   "execution_count": 6,
   "id": "fcd15524-5688-4a90-8ce2-8939bb025984",
   "metadata": {},
   "outputs": [],
   "source": [
    "class geom:\n",
    "    def area(self,a,b=0):\n",
    "        if b==0:\n",
    "            print(\"circle - area: \",3.14*a*a)\n",
    "        else:\n",
    "            print(\"rect - area: \",a*b) "
   ]
  },
  {
   "cell_type": "code",
   "execution_count": null,
   "id": "5e43afec-9c56-4ce6-9c40-288234a8ebcd",
   "metadata": {},
   "outputs": [],
   "source": []
  }
 ],
 "metadata": {
  "kernelspec": {
   "display_name": "Python 3 (ipykernel)",
   "language": "python",
   "name": "python3"
  },
  "language_info": {
   "codemirror_mode": {
    "name": "ipython",
    "version": 3
   },
   "file_extension": ".py",
   "mimetype": "text/x-python",
   "name": "python",
   "nbconvert_exporter": "python",
   "pygments_lexer": "ipython3",
   "version": "3.10.8"
  }
 },
 "nbformat": 4,
 "nbformat_minor": 5
}
