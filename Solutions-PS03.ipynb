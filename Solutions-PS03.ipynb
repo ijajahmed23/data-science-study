{
 "cells": [
  {
   "cell_type": "code",
   "execution_count": 1,
   "id": "0c72bd4c-4fd4-43e5-90cd-0b5f2ed9655c",
   "metadata": {},
   "outputs": [
    {
     "data": {
      "text/plain": [
       "'Q1.Create a dictionary called fruits with the following key-value pairs: \"apple\": 0.75 \"banana\": 1.25 \"orange\": 0.90 Then, print out the price of a banana.'"
      ]
     },
     "execution_count": 1,
     "metadata": {},
     "output_type": "execute_result"
    }
   ],
   "source": [
    "'''Q1.Create a dictionary called fruits with the following key-value pairs: \"apple\": 0.75 \"banana\": 1.25 \"orange\": 0.90 Then, print out the price of a banana.'''"
   ]
  },
  {
   "cell_type": "code",
   "execution_count": 2,
   "id": "a9970885-1b20-4815-8e97-37b175dd2257",
   "metadata": {},
   "outputs": [
    {
     "name": "stdout",
     "output_type": "stream",
     "text": [
      "1.25\n"
     ]
    }
   ],
   "source": [
    "fruits={\"apple\":0.75,\n",
    "        \"banana\":1.25,\n",
    "        \"orange\":0.90}\n",
    "print(fruits['banana'])"
   ]
  },
  {
   "cell_type": "code",
   "execution_count": 3,
   "id": "3b1be8ce-3cd0-41b3-b5f7-1644e53be551",
   "metadata": {},
   "outputs": [
    {
     "data": {
      "text/plain": [
       "{'apple': 0.75, 'banana': 1.25, 'orange': 0.9}"
      ]
     },
     "execution_count": 3,
     "metadata": {},
     "output_type": "execute_result"
    }
   ],
   "source": [
    "fruits"
   ]
  },
  {
   "cell_type": "code",
   "execution_count": 4,
   "id": "7a96b0ad-393f-4c45-8d70-5fdaa1da0e81",
   "metadata": {},
   "outputs": [
    {
     "data": {
      "text/plain": [
       "'Q2.Create an empty dictionary called ages. Add the following key-value pairs to the dictionary: \"Alice\": 30 \"Bob\": 25 \"Charlie\": 35 Then, print out the age of Charlie.'"
      ]
     },
     "execution_count": 4,
     "metadata": {},
     "output_type": "execute_result"
    }
   ],
   "source": [
    "'''Q2.Create an empty dictionary called ages. Add the following key-value pairs to the dictionary: \"Alice\": 30 \"Bob\": 25 \"Charlie\": 35 Then, print out the age of Charlie.'''"
   ]
  },
  {
   "cell_type": "code",
   "execution_count": 5,
   "id": "06c86c67-c191-4645-b353-e7ec7ed44a64",
   "metadata": {},
   "outputs": [
    {
     "name": "stdout",
     "output_type": "stream",
     "text": [
      "{'Alice': 30, 'bob': 25, 'Charlie': 35}\n"
     ]
    }
   ],
   "source": [
    "ages={}\n",
    "ages['Alice']=30\n",
    "ages['bob']=25\n",
    "ages['Charlie']=35\n",
    "print(ages)"
   ]
  },
  {
   "cell_type": "code",
   "execution_count": 6,
   "id": "e33f3b22-859a-4ed0-94fa-228aac365f84",
   "metadata": {},
   "outputs": [
    {
     "name": "stdout",
     "output_type": "stream",
     "text": [
      "35\n"
     ]
    }
   ],
   "source": [
    "# Create an empty dictionary called ages\n",
    "ages = {}\n",
    "\n",
    "# Add the given key-value pairs to the dictionary\n",
    "ages[\"Alice\"] = 30\n",
    "ages[\"Bob\"] = 25\n",
    "ages[\"Charlie\"] = 35\n",
    "\n",
    "# Print out the age of Charlie\n",
    "print(ages[\"Charlie\"])"
   ]
  },
  {
   "cell_type": "code",
   "execution_count": 7,
   "id": "8737e32c-649f-4408-9294-95771f4df6ea",
   "metadata": {},
   "outputs": [
    {
     "data": {
      "text/plain": [
       "'Q3.Write a function called word_count(text) that takes a string as input and returns a dictionary where each key is a word in the text and its value is the number of times that word appears in the text. For example, word_count(\"hello world hello\") should return {\"hello\": 2, \"world\": 1}.'"
      ]
     },
     "execution_count": 7,
     "metadata": {},
     "output_type": "execute_result"
    }
   ],
   "source": [
    "'''Q3.Write a function called word_count(text) that takes a string as input and returns a dictionary where each key is a word in the text and its value is the number of times that word appears in the text. For example, word_count(\"hello world hello\") should return {\"hello\": 2, \"world\": 1}.'''"
   ]
  },
  {
   "cell_type": "code",
   "execution_count": 8,
   "id": "6ee0237d-c01f-42e3-832a-7ffc8e449686",
   "metadata": {},
   "outputs": [
    {
     "name": "stdout",
     "output_type": "stream",
     "text": [
      "{'hello': 2, 'world': 1}\n"
     ]
    }
   ],
   "source": [
    "def word_count(text):\n",
    "    # Convert the input string to lowercase and split into words\n",
    "    words = text.lower().split()\n",
    "    # Initialize an empty dictionary\n",
    "    counts = {}\n",
    "    # Loop through the words and count the number of occurrences of each word\n",
    "    for word in words:\n",
    "        if word in counts:\n",
    "            counts[word] += 1\n",
    "        else:\n",
    "            counts[word] = 1\n",
    "    # Return the resulting dictionary\n",
    "    return counts\n",
    "\n",
    "# Example usage\n",
    "text = \"hello world hello\"\n",
    "counts = word_count(text)\n",
    "print(counts)"
   ]
  },
  {
   "cell_type": "code",
   "execution_count": 9,
   "id": "806c8deb-4c69-40cd-8e64-28b996cf8e3c",
   "metadata": {},
   "outputs": [
    {
     "data": {
      "text/plain": [
       "'Q4.Create a dictionary called phone_book with the following key-value pairs: \"Alice\": \"555-1234\" \"Bob\": \"555-5678\" \"Charlie\": \"555-9012\" Then, prompt the user to enter a name and print out the corresponding phone number. If the name is not in the phone book, print out a message saying that the name was not found.'"
      ]
     },
     "execution_count": 9,
     "metadata": {},
     "output_type": "execute_result"
    }
   ],
   "source": [
    "'''Q4.Create a dictionary called phone_book with the following key-value pairs: \"Alice\": \"555-1234\" \"Bob\": \"555-5678\" \"Charlie\": \"555-9012\" Then, prompt the user to enter a name and print out the corresponding phone number. If the name is not in the phone book, print out a message saying that the name was not found.'''"
   ]
  },
  {
   "cell_type": "code",
   "execution_count": 13,
   "id": "36f7eb6d-0a00-4283-a1e0-1d8306ad3a1d",
   "metadata": {},
   "outputs": [
    {
     "name": "stdin",
     "output_type": "stream",
     "text": [
      "Enter a name:  Alice\n"
     ]
    },
    {
     "name": "stdout",
     "output_type": "stream",
     "text": [
      "Alice's phone number is 555-1234\n"
     ]
    }
   ],
   "source": [
    "phone_book={\"Alice\":\"555-1234\",\n",
    "            \"Bob\": \"555-5678\",\n",
    "            \"Charlie\": \"555-9012\"}\n",
    "\n",
    "name=input(\"Enter a name: \")\n",
    "if name in phone_book:\n",
    "    print(f\"{name}'s phone number is {phone_book[name]}\")\n",
    "else:\n",
    "    print(f\"{name} is not in our phone book\")"
   ]
  },
  {
   "cell_type": "code",
   "execution_count": 14,
   "id": "b06da5c2-5b50-4845-85fb-5d63e4b24dc8",
   "metadata": {},
   "outputs": [
    {
     "name": "stdin",
     "output_type": "stream",
     "text": [
      "Enter a name to lookup in the phone book:  Alice\n"
     ]
    },
    {
     "name": "stdout",
     "output_type": "stream",
     "text": [
      "Alice's phone number is 555-1234.\n"
     ]
    }
   ],
   "source": [
    "# create phone_book dictionary\n",
    "phone_book = {\n",
    "    \"Alice\": \"555-1234\",\n",
    "    \"Bob\": \"555-5678\",\n",
    "    \"Charlie\": \"555-9012\"\n",
    "}\n",
    "\n",
    "# prompt user to enter a name\n",
    "name = input(\"Enter a name to lookup in the phone book: \")\n",
    "\n",
    "# lookup phone number by name\n",
    "if name in phone_book:\n",
    "    phone_number = phone_book[name]\n",
    "    print(f\"{name}'s phone number is {phone_number}.\")\n",
    "else:\n",
    "    print(f\"{name} was not found in the phone book.\")"
   ]
  },
  {
   "cell_type": "code",
   "execution_count": 2,
   "id": "c4a97b67-5f68-4127-9638-cafa910e2f5c",
   "metadata": {},
   "outputs": [
    {
     "data": {
      "text/plain": [
       "'Q5.Write a program that prompts the user to enter a number between 1 and 10. If the number is less than 5, print out \"Too low!\", otherwise print out \"Too high!\".'"
      ]
     },
     "execution_count": 2,
     "metadata": {},
     "output_type": "execute_result"
    }
   ],
   "source": [
    "'''Q5.Write a program that prompts the user to enter a number between 1 and 10. If the number is less than 5, print out \"Too low!\", otherwise print out \"Too high!\".'''"
   ]
  },
  {
   "cell_type": "code",
   "execution_count": 3,
   "id": "42494619-545a-4065-904c-3eab5e26e969",
   "metadata": {},
   "outputs": [
    {
     "name": "stdin",
     "output_type": "stream",
     "text": [
      "Enter a number:  6\n"
     ]
    },
    {
     "name": "stdout",
     "output_type": "stream",
     "text": [
      "Too high!\n"
     ]
    }
   ],
   "source": [
    "n=int(input(\"Enter a number: \"))\n",
    "if n<5:\n",
    "    print(\"Too low!\")\n",
    "else:\n",
    "    print(\"Too high!\")"
   ]
  },
  {
   "cell_type": "code",
   "execution_count": 4,
   "id": "e0601fdf-0252-4dc8-919f-e78aeba9160b",
   "metadata": {},
   "outputs": [
    {
     "data": {
      "text/plain": [
       "'Q6.Write a program that prompts the user to enter a password. If the password is \"password123\", print out \"Access granted\", otherwise print out \"Access denied\".'"
      ]
     },
     "execution_count": 4,
     "metadata": {},
     "output_type": "execute_result"
    }
   ],
   "source": [
    "'''Q6.Write a program that prompts the user to enter a password. If the password is \"password123\", print out \"Access granted\", otherwise print out \"Access denied\".'''"
   ]
  },
  {
   "cell_type": "code",
   "execution_count": 7,
   "id": "e40c1d79-8493-413c-852a-266c65e7b006",
   "metadata": {},
   "outputs": [
    {
     "name": "stdin",
     "output_type": "stream",
     "text": [
      "Enter password password123\n"
     ]
    },
    {
     "name": "stdout",
     "output_type": "stream",
     "text": [
      "Access granted\n"
     ]
    }
   ],
   "source": [
    "n=input(\"Enter password\" )\n",
    "if n==\"password123\":\n",
    "    print(\"Access granted\")\n",
    "else:\n",
    "    print(\"Access denied\")"
   ]
  },
  {
   "cell_type": "code",
   "execution_count": 8,
   "id": "12ce6de9-7b03-4b7a-b9b6-b3130513897b",
   "metadata": {},
   "outputs": [
    {
     "data": {
      "text/plain": [
       "'Q7.Write a program that prompts the user to enter a positive integer. Then, use a loop to print out all the odd numbers from 1 to that integer.'"
      ]
     },
     "execution_count": 8,
     "metadata": {},
     "output_type": "execute_result"
    }
   ],
   "source": [
    "'''Q7.Write a program that prompts the user to enter a positive integer. Then, use a loop to print out all the odd numbers from 1 to that integer.'''"
   ]
  },
  {
   "cell_type": "code",
   "execution_count": 10,
   "id": "27af42d6-ebb7-4f84-b93f-555638c7df89",
   "metadata": {},
   "outputs": [
    {
     "name": "stdin",
     "output_type": "stream",
     "text": [
      "Enter a number:  9\n"
     ]
    },
    {
     "name": "stdout",
     "output_type": "stream",
     "text": [
      "1\n",
      "3\n",
      "5\n",
      "7\n",
      "9\n"
     ]
    }
   ],
   "source": [
    "n=int(input(\"Enter a number: \"))\n",
    "for i in range(1,n+1,2):\n",
    "    print(i)"
   ]
  },
  {
   "cell_type": "code",
   "execution_count": 11,
   "id": "30a55f2f-d507-4f21-95a8-9572fb3003d9",
   "metadata": {},
   "outputs": [
    {
     "name": "stdin",
     "output_type": "stream",
     "text": [
      "Enter a positive integer:  22\n"
     ]
    },
    {
     "name": "stdout",
     "output_type": "stream",
     "text": [
      "1\n",
      "3\n",
      "5\n",
      "7\n",
      "9\n",
      "11\n",
      "13\n",
      "15\n",
      "17\n",
      "19\n",
      "21\n"
     ]
    }
   ],
   "source": [
    "# Using for loop\n",
    "# prompt user to enter a positive integer\n",
    "num = int(input(\"Enter a positive integer: \"))\n",
    "\n",
    "# print out all the odd numbers from 1 to num\n",
    "for i in range(1, num+1, 2):\n",
    "    print(i)"
   ]
  },
  {
   "cell_type": "code",
   "execution_count": 12,
   "id": "7282d880-7997-494c-8adb-02bbfd405668",
   "metadata": {},
   "outputs": [
    {
     "name": "stdin",
     "output_type": "stream",
     "text": [
      "Enter a positive integer:  7\n"
     ]
    },
    {
     "name": "stdout",
     "output_type": "stream",
     "text": [
      "1\n",
      "3\n",
      "5\n",
      "7\n"
     ]
    }
   ],
   "source": [
    "# Using while loop\n",
    "# prompt user to enter a positive integer\n",
    "num = int(input(\"Enter a positive integer: \"))\n",
    "\n",
    "# initialize counter to 1\n",
    "i = 1\n",
    "\n",
    "# print out all the odd numbers from 1 to num\n",
    "while i <= num:\n",
    "    print(i)\n",
    "    i += 2"
   ]
  },
  {
   "cell_type": "code",
   "execution_count": 13,
   "id": "ea1235dc-da9f-4dbc-ad2c-5da94a4d5ff5",
   "metadata": {},
   "outputs": [
    {
     "data": {
      "text/plain": [
       "'Q8.Write a program that generates a random number between 1 and 100 and then prompts the user to guess the number. If the user\\'s guess is too low, print out \"Too low!\", if the guess is too high, print out \"Too high!\", \\nand if the guess is correct, print out \"You win!\".'"
      ]
     },
     "execution_count": 13,
     "metadata": {},
     "output_type": "execute_result"
    }
   ],
   "source": [
    "'''Q8.Write a program that generates a random number between 1 and 100 and then prompts the user to guess the number. If the user's guess is too low, print out \"Too low!\", if the guess is too high, print out \"Too high!\", \n",
    "and if the guess is correct, print out \"You win!\".'''"
   ]
  },
  {
   "cell_type": "code",
   "execution_count": 16,
   "id": "04d24ab2-2f37-4ae9-82bf-7594bc448e0f",
   "metadata": {},
   "outputs": [
    {
     "name": "stdin",
     "output_type": "stream",
     "text": [
      "Enter a number between 1 and 100:  2\n"
     ]
    },
    {
     "name": "stdout",
     "output_type": "stream",
     "text": [
      "Too low!\n"
     ]
    }
   ],
   "source": [
    "import random\n",
    "num=random.randint(1,100)\n",
    "n=int(input(\"Enter a number between 1 and 100: \"))\n",
    "if n!=num:\n",
    "    if n<num:\n",
    "        print(\"Too low!\")\n",
    "    else:\n",
    "        print(\"Too high!\")\n",
    "else:\n",
    "    print(\"You win!\")"
   ]
  },
  {
   "cell_type": "code",
   "execution_count": 17,
   "id": "3b1f1259-d970-410d-8cb2-7092bc6e9c91",
   "metadata": {},
   "outputs": [
    {
     "data": {
      "text/plain": [
       "'Q9.Write a program that generates a random number between 1 and 10 and then prompts the user to guess the number. \\nThe user has three attempts to guess the number. If the user guesses correctly within three attempts, \\nprint out \"You win!\", otherwise print out \"You lose!\".'"
      ]
     },
     "execution_count": 17,
     "metadata": {},
     "output_type": "execute_result"
    }
   ],
   "source": [
    "'''Q9.Write a program that generates a random number between 1 and 10 and then prompts the user to guess the number. \n",
    "The user has three attempts to guess the number. If the user guesses correctly within three attempts, \n",
    "print out \"You win!\", otherwise print out \"You lose!\".'''"
   ]
  },
  {
   "cell_type": "code",
   "execution_count": 18,
   "id": "6dff5b7d-d60e-4521-acb5-053344b42cc5",
   "metadata": {},
   "outputs": [
    {
     "name": "stdin",
     "output_type": "stream",
     "text": [
      "Enter number:  34\n"
     ]
    },
    {
     "name": "stdout",
     "output_type": "stream",
     "text": [
      "Too low!\n"
     ]
    },
    {
     "name": "stdin",
     "output_type": "stream",
     "text": [
      "Enter number:  45\n"
     ]
    },
    {
     "name": "stdout",
     "output_type": "stream",
     "text": [
      "Too high!\n"
     ]
    },
    {
     "name": "stdin",
     "output_type": "stream",
     "text": [
      "Enter number:  40\n"
     ]
    },
    {
     "name": "stdout",
     "output_type": "stream",
     "text": [
      "Too low!\n",
      "You lose\n"
     ]
    }
   ],
   "source": [
    "import random\n",
    "num=random.randint(1,100)\n",
    "attempts=3\n",
    "while attempts>0:\n",
    "    n=int(input(\"Enter number: \"))\n",
    "    if n<num:\n",
    "        print(\"Too low!\")\n",
    "    elif n>num:\n",
    "        print(\"Too high!\")\n",
    "    else:\n",
    "        print(\"You win!\")\n",
    "        break\n",
    "    attempts=attempts-1\n",
    "\n",
    "if attempts==0:\n",
    "    print(\"You lose\")"
   ]
  },
  {
   "cell_type": "code",
   "execution_count": 20,
   "id": "9c9a8086-f476-48b7-84d9-c40ba993f97e",
   "metadata": {},
   "outputs": [
    {
     "data": {
      "text/plain": [
       "'Q10.Write a program that prompts the user to enter their age and then prints out whether they are a child (age 0-12), \\na teenager (age 13-19), an adult (age 20-59), or a senior (age 60+)'"
      ]
     },
     "execution_count": 20,
     "metadata": {},
     "output_type": "execute_result"
    }
   ],
   "source": [
    "'''Q10.Write a program that prompts the user to enter their age and then prints out whether they are a child (age 0-12), \n",
    "a teenager (age 13-19), an adult (age 20-59), or a senior (age 60+)'''"
   ]
  },
  {
   "cell_type": "code",
   "execution_count": 21,
   "id": "85b4a6de-c7b9-424c-99ac-682c33157ee4",
   "metadata": {},
   "outputs": [
    {
     "name": "stdin",
     "output_type": "stream",
     "text": [
      "Enter your age:  23\n"
     ]
    },
    {
     "name": "stdout",
     "output_type": "stream",
     "text": [
      "adult\n"
     ]
    }
   ],
   "source": [
    "age=int(input(\"Enter your age: \"))\n",
    "if age<12 and age>0:\n",
    "    print(\"child\")\n",
    "elif age>13 and age <20:\n",
    "    print(\"teenager\")\n",
    "elif age>20 and age<59:\n",
    "    print(\"adult\")\n",
    "else:\n",
    "    print(\"senior\")"
   ]
  },
  {
   "cell_type": "code",
   "execution_count": null,
   "id": "2a8e2741-eba6-4387-95e6-79059ee37285",
   "metadata": {},
   "outputs": [],
   "source": []
  }
 ],
 "metadata": {
  "kernelspec": {
   "display_name": "Python 3 (ipykernel)",
   "language": "python",
   "name": "python3"
  },
  "language_info": {
   "codemirror_mode": {
    "name": "ipython",
    "version": 3
   },
   "file_extension": ".py",
   "mimetype": "text/x-python",
   "name": "python",
   "nbconvert_exporter": "python",
   "pygments_lexer": "ipython3",
   "version": "3.10.8"
  }
 },
 "nbformat": 4,
 "nbformat_minor": 5
}
