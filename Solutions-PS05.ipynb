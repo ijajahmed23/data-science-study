{
 "cells": [
  {
   "cell_type": "code",
   "execution_count": 1,
   "id": "109a0f29-75f2-43c7-a46f-125755be6985",
   "metadata": {},
   "outputs": [
    {
     "data": {
      "text/plain": [
       "'Q1.Can you create a Python program that reads a text file and counts the number of words contained within it? The program should be designed to read the file and break it down into individual words, using spaces, punctuation marks, and other delimiters to separate the words. It should then count the number of words found in the file and display this count as output. The program should be flexible enough to work with different text files and should be able to handle a variety of formatting and punctuation styles.'"
      ]
     },
     "execution_count": 1,
     "metadata": {},
     "output_type": "execute_result"
    }
   ],
   "source": [
    "'''Q1.Can you create a Python program that reads a text file and counts the number of words contained within it? The program should be designed to read the file and break it down into individual words, using spaces, punctuation marks, and other delimiters to separate the words. It should then count the number of words found in the file and display this count as output. The program should be flexible enough to work with different text files and should be able to handle a variety of formatting and punctuation styles.'''"
   ]
  },
  {
   "cell_type": "code",
   "execution_count": 8,
   "id": "f067637d-1c83-40d6-bcce-14d68845f2e6",
   "metadata": {},
   "outputs": [
    {
     "name": "stdout",
     "output_type": "stream",
     "text": [
      "number of words:  11\n",
      "the words are: \n",
      "HELLO\n",
      "MY\n",
      "NAME\n",
      "IS\n",
      "IJAJ\n",
      "AND\n",
      "I\n",
      "AM\n",
      "25\n",
      "YEARS\n",
      "OLD\n"
     ]
    }
   ],
   "source": [
    "with open('test1.txt','r') as file:\n",
    "    words=file.read().upper().replace('\\n',' ').replace(',',' ').replace('.',' ').split()\n",
    "num_words=len(words)\n",
    "print('number of words: ',num_words)\n",
    "print('the words are: ')\n",
    "for i in words:\n",
    "    print(i)"
   ]
  },
  {
   "cell_type": "code",
   "execution_count": 18,
   "id": "f189bace-e77f-4bfc-afc3-337d8d4d8e55",
   "metadata": {},
   "outputs": [
    {
     "name": "stdout",
     "output_type": "stream",
     "text": [
      "number of words:  11\n",
      "the words are: \n",
      "Hello\n",
      "my\n",
      "name\n",
      "is\n",
      "Ijaj\n",
      "and\n",
      "I\n",
      "am\n",
      "25\n",
      "years\n",
      "old.\n"
     ]
    }
   ],
   "source": [
    "import re\n",
    "\n",
    "with open('test1.txt','r') as file:\n",
    "    read_file=file.read()\n",
    "    words0=re.sub(r\"\\n|,\",\" \",read_file)\n",
    "    words=words0.split()\n",
    "    \n",
    "num_words=len(words)\n",
    "print('number of words: ',num_words)\n",
    "print('the words are: ')\n",
    "for i in words:\n",
    "    print(i)"
   ]
  },
  {
   "cell_type": "code",
   "execution_count": 19,
   "id": "3b42e0c8-b776-473d-9f09-bf5b938679e9",
   "metadata": {},
   "outputs": [
    {
     "data": {
      "text/plain": [
       "'Q2. Could you help me create a Python program that can find and display the longest word in a text file? The program should be able to read any text file and separate its contents into individual words, taking into account various delimiters like spaces, punctuation marks, and other characters. Then, it should compare the length of each word and determine which one is the longest, and finally, print that word as output. The program should be versatile enough to work with various text files and be able to handle different formatting styles and punctuation.'"
      ]
     },
     "execution_count": 19,
     "metadata": {},
     "output_type": "execute_result"
    }
   ],
   "source": [
    "'''Q2. Could you help me create a Python program that can find and display the longest word in a text file? The program should be able to read any text file and separate its contents into individual words, taking into account various delimiters like spaces, punctuation marks, and other characters. Then, it should compare the length of each word and determine which one is the longest, and finally, print that word as output. The program should be versatile enough to work with various text files and be able to handle different formatting styles and punctuation.'''"
   ]
  },
  {
   "cell_type": "code",
   "execution_count": 26,
   "id": "b46a7b0c-8603-468b-affc-320bc9a84ec5",
   "metadata": {},
   "outputs": [
    {
     "name": "stdout",
     "output_type": "stream",
     "text": [
      "the longest word is:  kolkata\n",
      "\n",
      "the words are: \n",
      "hello\n",
      "my\n",
      "name\n",
      "is\n",
      "ijaj\n",
      "and\n",
      "i\n",
      "am\n",
      "25\n",
      "years\n",
      "old\n",
      "hello\n",
      "i\n",
      "am\n",
      "putu\n",
      "and\n",
      "i\n",
      "live\n",
      "in\n",
      "kolkata\n"
     ]
    }
   ],
   "source": [
    "with open('test2.txt','r') as file:\n",
    "    file_read=file.read()\n",
    "    words=file_read.lower().replace('/n',' ').replace(',',' ').replace('.',' ').split()\n",
    "    \n",
    "max_word=max(words,key=len)\n",
    "print('the longest word is: ',max_word)\n",
    "print('\\nthe words are: ')\n",
    "for i in words:\n",
    "    print(i)\n",
    "\n",
    "    "
   ]
  },
  {
   "cell_type": "code",
   "execution_count": 62,
   "id": "97b8b2c1-81f6-4e11-a4e2-8fe57a73bd8f",
   "metadata": {},
   "outputs": [
    {
     "data": {
      "text/plain": [
       "'Q3.Write a Python program to read a text file and print out the most frequent word(s) in the file.\\n'"
      ]
     },
     "execution_count": 62,
     "metadata": {},
     "output_type": "execute_result"
    }
   ],
   "source": [
    "'''Q3.Write a Python program to read a text file and print out the most frequent word(s) in the file.\n",
    "'''"
   ]
  },
  {
   "cell_type": "code",
   "execution_count": 84,
   "id": "d7c68540-93bb-42bd-9fc2-7379508740f9",
   "metadata": {},
   "outputs": [
    {
     "name": "stdout",
     "output_type": "stream",
     "text": [
      "most common word(s): \n",
      "i: 3 times\n",
      "('i', 3)\n",
      "('hello', 2)\n",
      "('and', 2)\n",
      "('am', 2)\n",
      "('my', 1)\n",
      "('name', 1)\n",
      "('is', 1)\n",
      "('ijaj', 1)\n",
      "('25', 1)\n",
      "('years', 1)\n",
      "('old', 1)\n",
      "('putu', 1)\n",
      "('live', 1)\n",
      "('in', 1)\n",
      "('kolkata', 1)\n"
     ]
    }
   ],
   "source": [
    "from collections import Counter\n",
    "\n",
    "with open('test2.txt','r') as file:\n",
    "    text=file.read()\n",
    "    words=text.lower().replace('\\n',' ').replace(',',' ').replace('.',' ').split()\n",
    "    \n",
    "word_count=Counter(words)\n",
    "most_common=word_count.most_common()\n",
    "max_count=most_common[0][1]\n",
    "\n",
    "print('most common word(s): ')\n",
    "for (a,b) in most_common:\n",
    "    if b==max_count:\n",
    "        print(f'{a}: {b} times')\n",
    "    else:\n",
    "        break\n",
    "        \n",
    "for i in most_common:\n",
    "    print(i)"
   ]
  },
  {
   "cell_type": "code",
   "execution_count": 61,
   "id": "79448a8a-b688-4c7f-a02c-8e3ae8477d90",
   "metadata": {},
   "outputs": [
    {
     "data": {
      "text/plain": [
       "'Q4. How can you use Python to count the number of rows in a CSV file?\\n'"
      ]
     },
     "execution_count": 61,
     "metadata": {},
     "output_type": "execute_result"
    }
   ],
   "source": [
    "'''Q4. How can you use Python to count the number of rows in a CSV file?\n",
    "'''"
   ]
  },
  {
   "cell_type": "code",
   "execution_count": 20,
   "id": "34af6225-3f8b-4b28-ae01-54941f67bfe4",
   "metadata": {},
   "outputs": [
    {
     "name": "stdout",
     "output_type": "stream",
     "text": [
      "number of data rows: 4\n"
     ]
    }
   ],
   "source": [
    "import csv\n",
    "\n",
    "with open('test4.csv','r') as file:\n",
    "    csv_read=csv.reader(file)\n",
    "    next(csv_read)\n",
    "    num_rows=sum(1 for i in csv_read)\n",
    "\n",
    "    print(f'number of data rows: {num_rows}')"
   ]
  },
  {
   "cell_type": "code",
   "execution_count": 19,
   "id": "994f8a49-58af-4118-b4e0-fcfe4a6b259d",
   "metadata": {},
   "outputs": [
    {
     "ename": "StopIteration",
     "evalue": "",
     "output_type": "error",
     "traceback": [
      "\u001b[0;31m---------------------------------------------------------------------------\u001b[0m",
      "\u001b[0;31mStopIteration\u001b[0m                             Traceback (most recent call last)",
      "Cell \u001b[0;32mIn[19], line 6\u001b[0m\n\u001b[1;32m      4\u001b[0m csv_read0\u001b[38;5;241m=\u001b[39mcsv\u001b[38;5;241m.\u001b[39mreader(file)\n\u001b[1;32m      5\u001b[0m csv_read\u001b[38;5;241m=\u001b[39m\u001b[38;5;28mlist\u001b[39m(csv_read0)\n\u001b[0;32m----> 6\u001b[0m \u001b[38;5;28;43mnext\u001b[39;49m\u001b[43m(\u001b[49m\u001b[43mcsv_read0\u001b[49m\u001b[43m)\u001b[49m\n\u001b[1;32m      7\u001b[0m num_rows\u001b[38;5;241m=\u001b[39m\u001b[38;5;241m0\u001b[39m\n\u001b[1;32m      8\u001b[0m \u001b[38;5;28;01mfor\u001b[39;00m i \u001b[38;5;129;01min\u001b[39;00m \u001b[38;5;28mrange\u001b[39m(\u001b[38;5;241m1\u001b[39m,\u001b[38;5;28mlen\u001b[39m(csv_read)\u001b[38;5;241m-\u001b[39m\u001b[38;5;241m1\u001b[39m):\n",
      "\u001b[0;31mStopIteration\u001b[0m: "
     ]
    }
   ],
   "source": [
    "import csv\n",
    "\n",
    "with open('test4.csv','r') as file:\n",
    "    csv_read0=csv.reader(file)\n",
    "    csv_read=list(csv_read0)\n",
    "    next(csv_read0)\n",
    "    num_rows=0\n",
    "    for i in range(1,len(csv_read)-1):\n",
    "        num_rows+=1\n",
    "    number_rows=num_rows\n",
    "\n",
    "    print(f'number of rows: {number_rows}')"
   ]
  },
  {
   "cell_type": "code",
   "execution_count": 24,
   "id": "da21bcd6-c8f9-4e6a-83e4-6f66e46061c9",
   "metadata": {},
   "outputs": [],
   "source": [
    "#Q5. How can you use Python to calculate the average of a specific column in a CSV file?"
   ]
  },
  {
   "cell_type": "code",
   "execution_count": null,
   "id": "48bcdbcf-1bb2-4a79-9ef7-93471dd5fc02",
   "metadata": {},
   "outputs": [
    {
     "name": "stdout",
     "output_type": "stream",
     "text": [
      "the average of column 4 is: 7.5\n",
      "[6.0, 7.0, 8.0, 9.0]\n"
     ]
    }
   ],
   "source": [
    "import csv\n",
    "\n",
    "filename='test4.csv'\n",
    "column_index=4\n",
    "\n",
    "with open(filename,'r') as file:\n",
    "    reader=csv.reader(file)\n",
    "    next(reader)\n",
    "    values=[float(i[column_index]) for i in reader]\n",
    "    \n",
    "average=sum(values)/len(values)\n",
    "print(f'the average of column {column_index} is: {average}')\n",
    "print(values)"
   ]
  },
  {
   "cell_type": "code",
   "execution_count": 36,
   "id": "a8da5875-8cff-4100-8e59-3f87e66c3620",
   "metadata": {},
   "outputs": [
    {
     "name": "stdout",
     "output_type": "stream",
     "text": [
      "The average of column 2 in test4.csv is 3.5\n"
     ]
    }
   ],
   "source": [
    "import csv\n",
    "\n",
    "filename = \"test4.csv\"  # replace with the name of your CSV file\n",
    "column_index = 2  # replace with the index of the column you want to calculate the average of\n",
    "\n",
    "with open(filename, 'r') as csvfile:\n",
    "    reader = csv.reader(csvfile)\n",
    "    next(reader)  # skip header row\n",
    "    values = [float(row[column_index]) for row in reader]\n",
    "\n",
    "average = sum(values) / len(values)\n",
    "print(f\"The average of column {column_index} in {filename} is {average}\")"
   ]
  },
  {
   "cell_type": "code",
   "execution_count": 33,
   "id": "0441f461-b261-4f87-b7e2-c530e51f7b8d",
   "metadata": {},
   "outputs": [
    {
     "data": {
      "text/plain": [
       "'\\nQ6.Write a Python program to read a JSON file and print out the value of a specified key.\\n'"
      ]
     },
     "execution_count": 33,
     "metadata": {},
     "output_type": "execute_result"
    }
   ],
   "source": [
    "'''\n",
    "Q6.Write a Python program to read a JSON file and print out the value of a specified key.\n",
    "'''"
   ]
  },
  {
   "cell_type": "code",
   "execution_count": 40,
   "id": "3b468bc6-f56d-4046-b0f8-be090ad66509",
   "metadata": {},
   "outputs": [],
   "source": [
    "import json\n",
    "\n",
    "data={'name':'ijaj',\n",
    "      'roll':3,\n",
    "      'city':'kolkata'}\n",
    "json_data=json.dumps(data)\n",
    "with open('test5.json','w') as file:\n",
    "    file.write(json_data)"
   ]
  },
  {
   "cell_type": "code",
   "execution_count": 44,
   "id": "25e96bbf-2766-4cde-a396-6157d0541f6d",
   "metadata": {},
   "outputs": [
    {
     "name": "stdout",
     "output_type": "stream",
     "text": [
      "the value of name in test5.json is ijaj\n"
     ]
    }
   ],
   "source": [
    "import json\n",
    "\n",
    "filename='test5.json'\n",
    "key='name'\n",
    "\n",
    "with open('test5.json','r') as f:\n",
    "    text=json.load(f)\n",
    "    \n",
    "value=text[key]\n",
    "print(f'the value of {key} in {filename} is {value}')"
   ]
  },
  {
   "cell_type": "code",
   "execution_count": 45,
   "id": "9196f2ef-aca9-4fb1-8aa1-62ccc8ad84a4",
   "metadata": {},
   "outputs": [
    {
     "data": {
      "text/plain": [
       "'\\nQ7. Can you provide a Python code snippet to write a list of strings into a text file where each string is written on a new line?\\n'"
      ]
     },
     "execution_count": 45,
     "metadata": {},
     "output_type": "execute_result"
    }
   ],
   "source": [
    "'''\n",
    "Q7. Can you provide a Python code snippet to write a list of strings into a text file where each string is written on a new line?\n",
    "'''"
   ]
  },
  {
   "cell_type": "code",
   "execution_count": 47,
   "id": "1e08e9e9-22dd-4918-86ab-33a588282fec",
   "metadata": {},
   "outputs": [],
   "source": [
    "my_string=['ijaj','rana','kamalesh','niljit','sakil','putu2']\n",
    "\n",
    "with open('test6.txt','w') as file:\n",
    "    for i in my_string:\n",
    "        file.write(i+'\\n')"
   ]
  },
  {
   "cell_type": "code",
   "execution_count": 48,
   "id": "c0b2317f-5ef9-4263-aa8b-b2b0a2b6e90a",
   "metadata": {},
   "outputs": [],
   "source": [
    "strings = [\"Hello\", \"world\", \"how\", \"are\", \"you\"]\n",
    "filename = \"example.txt\"  # replace with the name of the text file you want to create\n",
    "\n",
    "with open(filename, 'w') as textfile:\n",
    "    for s in strings:\n",
    "        textfile.write(s + '\\n')"
   ]
  },
  {
   "cell_type": "code",
   "execution_count": 49,
   "id": "096bff21-7ba6-4afb-a969-92b5062fe763",
   "metadata": {},
   "outputs": [
    {
     "data": {
      "text/plain": [
       "'\\nQ8. Can you provide a Python code to read a binary file and display the data in hexadecimal format.\\n'"
      ]
     },
     "execution_count": 49,
     "metadata": {},
     "output_type": "execute_result"
    }
   ],
   "source": [
    "'''\n",
    "Q8. Can you provide a Python code to read a binary file and display the data in hexadecimal format.\n",
    "'''"
   ]
  },
  {
   "cell_type": "code",
   "execution_count": 55,
   "id": "517e02cc-5087-4c21-8aae-8f623df55673",
   "metadata": {},
   "outputs": [],
   "source": [
    "import struct\n",
    "\n",
    "# Sample data to be written to the binary file\n",
    "name = b\"John\"\n",
    "age = 25\n",
    "height = 1.75\n",
    "\n",
    "# Pack the data into bytes\n",
    "packed_data = struct.pack(\"5sif\", name, age, height)\n",
    "\n",
    "# Write the packed data to a binary file\n",
    "with open(\"sample.bin\", \"wb\") as f:\n",
    "    f.write(packed_data)\n"
   ]
  },
  {
   "cell_type": "code",
   "execution_count": 56,
   "id": "3e1baecf-1244-471a-9b6a-cdd6ce135bba",
   "metadata": {},
   "outputs": [
    {
     "name": "stdout",
     "output_type": "stream",
     "text": [
      "the hex value of bin data sample.bin is 4a6f686e00000000190000000000e03f\n"
     ]
    }
   ],
   "source": [
    "import binascii\n",
    "filename='sample.bin'\n",
    "with open(filename,'rb') as f:\n",
    "    data=f.read()\n",
    "    hex_data=binascii.hexlify(data).decode()\n",
    "\n",
    "print(f'the hex value of bin data {filename} is {hex_data}')"
   ]
  },
  {
   "cell_type": "code",
   "execution_count": 60,
   "id": "67a0b18c-2959-48e3-afe1-28083febaf05",
   "metadata": {},
   "outputs": [
    {
     "data": {
      "text/plain": [
       "'\\nQ9. Can you write a Python code to read a Comma-Separated Values (CSV) file, apply a specific condition to each row, and create a new CSV file that contains only the rows that satisfy the condition? For example, if the CSV file contains information about products and their prices, you may want to create a new CSV file that only includes the products that are within a certain price range. The program should be able to read the CSV file, compare the values in each row to the specified condition, and write the rows that meet the criteria to a new CSV file.\\n'"
      ]
     },
     "execution_count": 60,
     "metadata": {},
     "output_type": "execute_result"
    }
   ],
   "source": [
    "'''\n",
    "Q9. Can you write a Python code to read a Comma-Separated Values (CSV) file, apply a specific condition to each row, and create a new CSV file that contains only the rows that satisfy the condition? For example, if the CSV file contains information about products and their prices, you may want to create a new CSV file that only includes the products that are within a certain price range. The program should be able to read the CSV file, compare the values in each row to the specified condition, and write the rows that meet the criteria to a new CSV file.\n",
    "'''"
   ]
  },
  {
   "cell_type": "code",
   "execution_count": 75,
   "id": "ab425ccc-10a5-4d3c-8697-b5fd7ed35541",
   "metadata": {},
   "outputs": [],
   "source": [
    "import csv\n",
    "\n",
    "input_file='test4.csv'\n",
    "output_file='test7.csv'\n",
    "condition_col=4\n",
    "condition_val=7\n",
    "\n",
    "with open(input_file,'r') as in_file,open(output_file,'w') as out_file:\n",
    "    reader=csv.reader(in_file)\n",
    "    next(reader)\n",
    "    loader=csv.writer(out_file)\n",
    "      \n",
    "    for i in reader:\n",
    "        if float(i[condition_col])>float(condition_val):\n",
    "            loader.writerow(i)\n",
    "        \n",
    "    "
   ]
  },
  {
   "cell_type": "code",
   "execution_count": 81,
   "id": "01a2460e-638f-4f67-93e6-bec43372ebcb",
   "metadata": {},
   "outputs": [],
   "source": [
    "import csv\n",
    "\n",
    "input_file='test4.csv'\n",
    "output_file='test8.csv'\n",
    "condition_col=2\n",
    "condition_val=3\n",
    "\n",
    "with open(input_file,'r') as in_file:\n",
    "    reader=csv.reader(in_file)\n",
    "    next(reader)\n",
    "    with open(output_file,'w') as out_file:\n",
    "        loader=csv.writer(out_file)\n",
    "        for i in reader:\n",
    "            if float(i[condition_col])>float(condition_val):\n",
    "                loader.writerow(i)"
   ]
  },
  {
   "cell_type": "code",
   "execution_count": 82,
   "id": "8a834ec4-01b2-4db4-a91e-95ab312c6927",
   "metadata": {},
   "outputs": [
    {
     "data": {
      "text/plain": [
       "'\\nQ10.Write a Python program to read a text file, count the frequency of each word, and write the results to a new text file.\\n'"
      ]
     },
     "execution_count": 82,
     "metadata": {},
     "output_type": "execute_result"
    }
   ],
   "source": [
    "'''\n",
    "Q10.Write a Python program to read a text file, count the frequency of each word, and write the results to a new text file.\n",
    "'''"
   ]
  },
  {
   "cell_type": "code",
   "execution_count": 102,
   "id": "99db2f74-1f52-4966-8a75-99310642de81",
   "metadata": {},
   "outputs": [],
   "source": [
    "from collections import Counter\n",
    "\n",
    "input_file='test2.txt'\n",
    "output_file='text9.file'\n",
    "\n",
    "with open(input_file,'r') as in_file:\n",
    "    words0=in_file.read().lower().replace('\\n',' ').replace(',',' ').replace('.',' ').split()\n",
    "    words=Counter(words0)\n",
    "    most_common=words.most_common()\n",
    "    with open(output_file,'w') as out_file:\n",
    "        for (i,j) in most_common:\n",
    "            out_file.write(f'{i} : {j} time(s)\\n')\n",
    "            \n",
    "        "
   ]
  },
  {
   "cell_type": "code",
   "execution_count": 101,
   "id": "fee0781d-652a-4fa8-a13c-48742e6df1f2",
   "metadata": {},
   "outputs": [],
   "source": [
    "input_filename = \"test2.txt\"  # replace with the name of your input text file\n",
    "output_filename = \"output.txt\"  # replace with the name of the output text file\n",
    "\n",
    "# Define a function to count the frequency of each word in a list\n",
    "def count_word_frequency(words):\n",
    "    frequency = {}\n",
    "    for word in words:\n",
    "        if word in frequency:\n",
    "            frequency[word] += 1\n",
    "        else:\n",
    "            frequency[word] = 1\n",
    "    return frequency\n",
    "\n",
    "# Read the input text file and count the frequency of each word\n",
    "with open(input_filename, 'r') as input_file:\n",
    "    text = input_file.read()\n",
    "    words = text.split()\n",
    "    word_frequency = count_word_frequency(words)\n",
    "\n",
    "# Write the word frequency data to the output text file\n",
    "with open(output_filename, 'w') as output_file:\n",
    "    for word, count in word_frequency.items():\n",
    "        output_file.write(f\"{word}: {count}\\n\")"
   ]
  },
  {
   "cell_type": "code",
   "execution_count": null,
   "id": "26de529d-d655-47a8-b693-106a78a34115",
   "metadata": {},
   "outputs": [],
   "source": []
  }
 ],
 "metadata": {
  "kernelspec": {
   "display_name": "Python 3 (ipykernel)",
   "language": "python",
   "name": "python3"
  },
  "language_info": {
   "codemirror_mode": {
    "name": "ipython",
    "version": 3
   },
   "file_extension": ".py",
   "mimetype": "text/x-python",
   "name": "python",
   "nbconvert_exporter": "python",
   "pygments_lexer": "ipython3",
   "version": "3.10.8"
  }
 },
 "nbformat": 4,
 "nbformat_minor": 5
}
