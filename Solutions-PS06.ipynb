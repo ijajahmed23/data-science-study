{
 "cells": [
  {
   "cell_type": "code",
   "execution_count": 1,
   "id": "7f829153-2808-45d4-b521-603d4113c08b",
   "metadata": {},
   "outputs": [
    {
     "data": {
      "text/plain": [
       "'\\nQ1.Write a program that prints the first 10 even numbers using a for loop.\\n'"
      ]
     },
     "execution_count": 1,
     "metadata": {},
     "output_type": "execute_result"
    }
   ],
   "source": [
    "'''\n",
    "Q1.Write a program that prints the first 10 even numbers using a for loop.\n",
    "'''"
   ]
  },
  {
   "cell_type": "code",
   "execution_count": 2,
   "id": "a7365102-04d5-4f03-9aae-13ad8bca9210",
   "metadata": {},
   "outputs": [
    {
     "name": "stdout",
     "output_type": "stream",
     "text": [
      "2\n",
      "4\n",
      "6\n",
      "8\n",
      "10\n",
      "12\n",
      "14\n",
      "16\n",
      "18\n",
      "20\n"
     ]
    }
   ],
   "source": [
    "for i in range(2,21,2):\n",
    "    print(i)"
   ]
  },
  {
   "cell_type": "code",
   "execution_count": 3,
   "id": "dfc4150f-09b7-4771-b4ce-b7d9ea4df27e",
   "metadata": {},
   "outputs": [
    {
     "data": {
      "text/plain": [
       "'\\nQ2.Write a program that takes a list of strings and prints out each string in reverse order using a for loop.\\n'"
      ]
     },
     "execution_count": 3,
     "metadata": {},
     "output_type": "execute_result"
    }
   ],
   "source": [
    "'''\n",
    "Q2.Write a program that takes a list of strings and prints out each string in reverse order using a for loop.\n",
    "'''"
   ]
  },
  {
   "cell_type": "code",
   "execution_count": 6,
   "id": "40ce92c1-fb01-4b51-a67f-96a4009ebf8c",
   "metadata": {},
   "outputs": [
    {
     "name": "stdout",
     "output_type": "stream",
     "text": [
      "jaji\n",
      "demha\n",
      "anar\n",
      "utup\n",
      "likas\n"
     ]
    }
   ],
   "source": [
    "my_string=['ijaj','ahmed','rana','putu','sakil']\n",
    "\n",
    "for i in my_string:\n",
    "    print(i[::-1])\n",
    "        \n",
    "    "
   ]
  },
  {
   "cell_type": "code",
   "execution_count": 7,
   "id": "4ab8a5cb-e6ee-47a5-94e4-2f8dcbc975b4",
   "metadata": {},
   "outputs": [
    {
     "data": {
      "text/plain": [
       "'\\nQ3.Write a program that prints the multiplication table of a given number using a for loop.\\n'"
      ]
     },
     "execution_count": 7,
     "metadata": {},
     "output_type": "execute_result"
    }
   ],
   "source": [
    "'''\n",
    "Q3.Write a program that prints the multiplication table of a given number using a for loop.\n",
    "'''"
   ]
  },
  {
   "cell_type": "code",
   "execution_count": 11,
   "id": "b2b22eb0-0b62-4192-bb0e-b7832c7d479f",
   "metadata": {},
   "outputs": [
    {
     "name": "stdin",
     "output_type": "stream",
     "text": [
      "Enter a number:  19\n"
     ]
    },
    {
     "name": "stdout",
     "output_type": "stream",
     "text": [
      "\n",
      "table of 19: \n",
      "19 x 1 = 19\n",
      "19 x 2 = 38\n",
      "19 x 3 = 57\n",
      "19 x 4 = 76\n",
      "19 x 5 = 95\n",
      "19 x 6 = 114\n",
      "19 x 7 = 133\n",
      "19 x 8 = 152\n",
      "19 x 9 = 171\n",
      "19 x 10 = 190\n"
     ]
    }
   ],
   "source": [
    "n=int(input(\"Enter a number: \"))\n",
    "\n",
    "print(f\"\\ntable of {n}: \")\n",
    "for i in range(1,11):\n",
    "    print(f'{n} x {i} = {n*i}')"
   ]
  },
  {
   "cell_type": "code",
   "execution_count": 13,
   "id": "814f006f-443c-406b-94fc-593747d994dd",
   "metadata": {},
   "outputs": [
    {
     "data": {
      "text/plain": [
       "'\\nQ4.Write a program that takes a list of integers as input and returns the sum of all the numbers in the list using a for loop.\\n'"
      ]
     },
     "execution_count": 13,
     "metadata": {},
     "output_type": "execute_result"
    }
   ],
   "source": [
    "'''\n",
    "Q4.Write a program that takes a list of integers as input and returns the sum of all the numbers in the list using a for loop.\n",
    "'''"
   ]
  },
  {
   "cell_type": "code",
   "execution_count": 14,
   "id": "46c07e88-9b72-41a9-b633-6ba03f08bb21",
   "metadata": {},
   "outputs": [
    {
     "name": "stdout",
     "output_type": "stream",
     "text": [
      "the sum of list is: 21\n"
     ]
    }
   ],
   "source": [
    "def sum_list(lst):\n",
    "    total=0\n",
    "    for i in lst:\n",
    "        total+=i\n",
    "    return total\n",
    "\n",
    "my_list=[1,2,3,4,5,6]\n",
    "print(f'the sum of list is: {sum_list(my_list)}')"
   ]
  },
  {
   "cell_type": "code",
   "execution_count": 15,
   "id": "d340aba8-940b-47a4-adfc-7366fa2ddf4a",
   "metadata": {},
   "outputs": [
    {
     "data": {
      "text/plain": [
       "'\\nQ5.Write a program that prompts the user for a positive integer and then prints out all the prime numbers up to that number using a for loop.\\n'"
      ]
     },
     "execution_count": 15,
     "metadata": {},
     "output_type": "execute_result"
    }
   ],
   "source": [
    "'''\n",
    "Q5.Write a program that prompts the user for a positive integer and then prints out all the prime numbers up to that number using a for loop.\n",
    "'''"
   ]
  },
  {
   "cell_type": "code",
   "execution_count": 20,
   "id": "f16c0fb5-dfb4-4755-8573-428bd48e0eb9",
   "metadata": {},
   "outputs": [
    {
     "name": "stdin",
     "output_type": "stream",
     "text": [
      "Enter a number:  56\n"
     ]
    },
    {
     "name": "stdout",
     "output_type": "stream",
     "text": [
      "the prime numbers before 56 are: \n",
      "2\n",
      "3\n",
      "5\n",
      "7\n",
      "11\n",
      "13\n",
      "17\n",
      "19\n",
      "23\n",
      "29\n",
      "31\n",
      "37\n",
      "41\n",
      "43\n",
      "47\n",
      "53\n"
     ]
    }
   ],
   "source": [
    "num=int(input(\"Enter a number: \"))\n",
    "\n",
    "print(f\"the prime numbers before {num} are: \")\n",
    "for i in range(2,num+1):\n",
    "    is_prime=True\n",
    "    for j in range(2,i):\n",
    "        if i%j==0:\n",
    "            is_prime=False\n",
    "            break\n",
    "    if is_prime:\n",
    "        print(i)"
   ]
  },
  {
   "cell_type": "code",
   "execution_count": 21,
   "id": "244c9ec4-f0db-42a3-9bd5-3d2109412136",
   "metadata": {},
   "outputs": [
    {
     "data": {
      "text/plain": [
       "'\\nQ6.Write a program that prompts the user to enter a password until the correct password is entered using a while loop.\\n'"
      ]
     },
     "execution_count": 21,
     "metadata": {},
     "output_type": "execute_result"
    }
   ],
   "source": [
    "'''\n",
    "Q6.Write a program that prompts the user to enter a password until the correct password is entered using a while loop.\n",
    "'''"
   ]
  },
  {
   "cell_type": "code",
   "execution_count": 22,
   "id": "3239e2ce-7add-4925-b13d-f4bfe6f83198",
   "metadata": {},
   "outputs": [
    {
     "name": "stdin",
     "output_type": "stream",
     "text": [
      "Enter you password:  1234\n"
     ]
    },
    {
     "name": "stdout",
     "output_type": "stream",
     "text": [
      "wrong password\n"
     ]
    },
    {
     "name": "stdin",
     "output_type": "stream",
     "text": [
      "Enter your password:  2345\n"
     ]
    },
    {
     "name": "stdout",
     "output_type": "stream",
     "text": [
      "wrong password\n"
     ]
    },
    {
     "name": "stdin",
     "output_type": "stream",
     "text": [
      "Enter your password:  password123\n"
     ]
    },
    {
     "name": "stdout",
     "output_type": "stream",
     "text": [
      "wrong password\n"
     ]
    },
    {
     "name": "stdin",
     "output_type": "stream",
     "text": [
      "Enter your password:  password@123\n"
     ]
    },
    {
     "name": "stdout",
     "output_type": "stream",
     "text": [
      "correct password\n"
     ]
    }
   ],
   "source": [
    "password='password@123'\n",
    "\n",
    "s=input(\"Enter you password: \")\n",
    "\n",
    "while s!=password:\n",
    "    print(\"wrong password\")\n",
    "    s=input(\"Enter your password: \")\n",
    "    \n",
    "print(\"correct password\")"
   ]
  },
  {
   "cell_type": "code",
   "execution_count": 23,
   "id": "1447d91d-39d1-40cc-bd34-5fafc364ce79",
   "metadata": {},
   "outputs": [
    {
     "data": {
      "text/plain": [
       "'\\nQ7.Write a program that takes a list of strings and prints out each string in reverse order using a while loop.\\n'"
      ]
     },
     "execution_count": 23,
     "metadata": {},
     "output_type": "execute_result"
    }
   ],
   "source": [
    "'''\n",
    "Q7.Write a program that takes a list of strings and prints out each string in reverse order using a while loop.\n",
    "'''"
   ]
  },
  {
   "cell_type": "code",
   "execution_count": 29,
   "id": "4449a3c4-e78a-4352-b29d-7d2badb70edb",
   "metadata": {},
   "outputs": [
    {
     "name": "stdout",
     "output_type": "stream",
     "text": [
      "the strings in reversed order: \n",
      "\n",
      "jaji\n",
      "demha\n",
      "utup\n",
      "likas\n"
     ]
    }
   ],
   "source": [
    "my_string=['ijaj','ahmed','putu','sakil']\n",
    "\n",
    "print(f'the strings in reversed order: \\n')\n",
    "for i in my_string:\n",
    "    print(i[::-1])"
   ]
  },
  {
   "cell_type": "code",
   "execution_count": 37,
   "id": "7df8e4a0-95dc-4af8-a57b-954944ad7b90",
   "metadata": {},
   "outputs": [
    {
     "name": "stdout",
     "output_type": "stream",
     "text": [
      "jaji\n",
      "\n",
      "emha\n",
      "\n",
      "utup\n",
      "\n",
      "ikas\n",
      "\n"
     ]
    }
   ],
   "source": [
    "my_string=['ijaj','ahmed','putu','sakil']\n",
    "\n",
    "for i in my_string:\n",
    "    index=len(my_string)-1\n",
    "    while index>=0:\n",
    "        print(i[index],end='')\n",
    "        index-=1\n",
    "    print('\\n')\n",
    "        "
   ]
  },
  {
   "cell_type": "code",
   "execution_count": 38,
   "id": "91c8d006-6e1d-4aa9-8760-bcb0a8b3c6b6",
   "metadata": {},
   "outputs": [
    {
     "data": {
      "text/plain": [
       "'\\nQ8.Write a program that prompts the user to enter a positive integer and then prints out all the Fibonacci numbers up to that number using a while loop.\\n'"
      ]
     },
     "execution_count": 38,
     "metadata": {},
     "output_type": "execute_result"
    }
   ],
   "source": [
    "'''\n",
    "Q8.Write a program that prompts the user to enter a positive integer and then prints out all the Fibonacci numbers up to that number using a while loop.\n",
    "'''"
   ]
  },
  {
   "cell_type": "code",
   "execution_count": 44,
   "id": "91151a3b-6ddb-4981-80d3-a1f66d4a86e3",
   "metadata": {},
   "outputs": [
    {
     "name": "stdin",
     "output_type": "stream",
     "text": [
      "Enter a number to calculate fibonacci:  7\n"
     ]
    },
    {
     "name": "stdout",
     "output_type": "stream",
     "text": [
      "0\n",
      "1\n",
      "1\n",
      "2\n",
      "3\n",
      "5\n",
      "8\n"
     ]
    }
   ],
   "source": [
    "n=int(input(\"Enter a number to calculate fibonacci: \"))\n",
    "\n",
    "fib1=0\n",
    "fib2=1\n",
    "print(fib1)\n",
    "print(fib2)\n",
    "\n",
    "while fib2<=n:\n",
    "    fib3=fib1+fib2\n",
    "    print(fib3)\n",
    "    fib1=fib2\n",
    "    fib2=fib3\n",
    "      "
   ]
  },
  {
   "cell_type": "code",
   "execution_count": 42,
   "id": "bcd9dc28-1788-41b4-8746-adcd782d001e",
   "metadata": {},
   "outputs": [
    {
     "name": "stdin",
     "output_type": "stream",
     "text": [
      "Enter a number:  7\n"
     ]
    },
    {
     "name": "stdout",
     "output_type": "stream",
     "text": [
      "0\n",
      "1\n",
      "1\n",
      "2\n",
      "3\n",
      "5\n"
     ]
    }
   ],
   "source": [
    "num=int(input(\"Enter a number: \"))\n",
    "\n",
    "a,b=0,1\n",
    "\n",
    "while a<=num:\n",
    "    print(a)\n",
    "    a,b=b,a+b"
   ]
  },
  {
   "cell_type": "code",
   "execution_count": 45,
   "id": "42b9100e-731d-4719-8178-3a4b4cb6741b",
   "metadata": {},
   "outputs": [
    {
     "data": {
      "text/plain": [
       "'\\nQ9.Write a program that takes a list of integers as input and returns the product of all the numbers in the list using a while loop.\\n'"
      ]
     },
     "execution_count": 45,
     "metadata": {},
     "output_type": "execute_result"
    }
   ],
   "source": [
    "'''\n",
    "Q9.Write a program that takes a list of integers as input and returns the product of all the numbers in the list using a while loop.\n",
    "'''"
   ]
  },
  {
   "cell_type": "code",
   "execution_count": 46,
   "id": "4791163c-ae0e-4598-99d2-f05eed4c5649",
   "metadata": {},
   "outputs": [
    {
     "name": "stdout",
     "output_type": "stream",
     "text": [
      "720\n"
     ]
    }
   ],
   "source": [
    "my_list=[1,2,3,4,5,6]\n",
    "product=1\n",
    "for i in my_list:\n",
    "    product *=i\n",
    "print(product)"
   ]
  },
  {
   "cell_type": "code",
   "execution_count": 49,
   "id": "84888e1c-1fe7-4809-ac79-91b509658f62",
   "metadata": {},
   "outputs": [
    {
     "name": "stdout",
     "output_type": "stream",
     "text": [
      "720\n"
     ]
    }
   ],
   "source": [
    "my_list=[1,2,3,4,5,6]\n",
    "\n",
    "index=0\n",
    "product=1\n",
    "\n",
    "while index<len(my_list):\n",
    "    product *= my_list[index]\n",
    "    index +=1\n",
    "\n",
    "print(product)"
   ]
  },
  {
   "cell_type": "code",
   "execution_count": 50,
   "id": "e3648e52-41d4-446a-80e1-7c372b236e90",
   "metadata": {},
   "outputs": [
    {
     "data": {
      "text/plain": [
       "'\\nQ10.Write a program that prompts the user to enter a positive integer and then prints out the factorial of that number using a while loop.\\n'"
      ]
     },
     "execution_count": 50,
     "metadata": {},
     "output_type": "execute_result"
    }
   ],
   "source": [
    "'''\n",
    "Q10.Write a program that prompts the user to enter a positive integer and then prints out the factorial of that number using a while loop.\n",
    "'''"
   ]
  },
  {
   "cell_type": "code",
   "execution_count": 51,
   "id": "1741ed54-3472-4c14-8924-67dd6087e1f2",
   "metadata": {},
   "outputs": [
    {
     "name": "stdin",
     "output_type": "stream",
     "text": [
      "Enter a number:  5\n"
     ]
    },
    {
     "name": "stdout",
     "output_type": "stream",
     "text": [
      "5! = 120\n"
     ]
    }
   ],
   "source": [
    "num=int(input(\"Enter a number: \"))\n",
    "\n",
    "factorial=1\n",
    "for i in range(1,num+1):\n",
    "    factorial *= i\n",
    "    \n",
    "print(f'{num}! = {factorial}')"
   ]
  },
  {
   "cell_type": "code",
   "execution_count": 53,
   "id": "851bcec8-d83c-4572-83e5-b6a8906d8169",
   "metadata": {},
   "outputs": [
    {
     "name": "stdin",
     "output_type": "stream",
     "text": [
      "Enter number:  5\n"
     ]
    },
    {
     "name": "stdout",
     "output_type": "stream",
     "text": [
      "5! = 120\n"
     ]
    }
   ],
   "source": [
    "num=int(input(\"Enter number: \"))\n",
    "\n",
    "factorial=1\n",
    "i=1\n",
    "while i<=num:\n",
    "    factorial *= i\n",
    "    i +=1\n",
    "print(f'{num}! = {factorial}')"
   ]
  },
  {
   "cell_type": "code",
   "execution_count": null,
   "id": "bde70f68-f64d-4d39-ab76-f2ccd1e7344f",
   "metadata": {},
   "outputs": [],
   "source": []
  }
 ],
 "metadata": {
  "kernelspec": {
   "display_name": "Python 3 (ipykernel)",
   "language": "python",
   "name": "python3"
  },
  "language_info": {
   "codemirror_mode": {
    "name": "ipython",
    "version": 3
   },
   "file_extension": ".py",
   "mimetype": "text/x-python",
   "name": "python",
   "nbconvert_exporter": "python",
   "pygments_lexer": "ipython3",
   "version": "3.10.8"
  }
 },
 "nbformat": 4,
 "nbformat_minor": 5
}
