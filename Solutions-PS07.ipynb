{
 "cells": [
  {
   "cell_type": "code",
   "execution_count": 1,
   "id": "57c9468f-877b-4978-a1ad-bbe45051ca47",
   "metadata": {},
   "outputs": [
    {
     "data": {
      "text/plain": [
       "'\\n1.Write a program that spawns two threads. One thread should print even numbers between 0 and 10, and the other thread should print odd numbers between 1 and 9.\\n'"
      ]
     },
     "execution_count": 1,
     "metadata": {},
     "output_type": "execute_result"
    }
   ],
   "source": [
    "'''\n",
    "1.Write a program that spawns two threads. One thread should print even numbers between 0 and 10, and the other thread should print odd numbers between 1 and 9.\n",
    "'''"
   ]
  },
  {
   "cell_type": "code",
   "execution_count": 4,
   "id": "9ec685e6-a091-45fe-9d28-cd56eb8b832e",
   "metadata": {},
   "outputs": [
    {
     "name": "stdout",
     "output_type": "stream",
     "text": [
      "0\n",
      "2\n",
      "4\n",
      "6\n",
      "8\n",
      "10\n",
      "1\n",
      "3\n",
      "5\n",
      "7\n",
      "9\n"
     ]
    }
   ],
   "source": [
    "import threading\n",
    "\n",
    "def print_even():\n",
    "    for i in range(0,11,2):\n",
    "        print(i)\n",
    "        \n",
    "def print_odd():\n",
    "    for i in range(1,10,2):\n",
    "        print(i)\n",
    "        \n",
    "#create threads\n",
    "t1=threading.Thread(target=print_even)\n",
    "t2=threading.Thread(target=print_odd)\n",
    "\n",
    "#start threads\n",
    "t1.start()\n",
    "t2.start()\n",
    "\n",
    "#wait for threads to end\n",
    "t1.join()\n",
    "t2.join()"
   ]
  },
  {
   "cell_type": "code",
   "execution_count": 5,
   "id": "a8211130-7cf9-4695-8286-fb76f302614f",
   "metadata": {},
   "outputs": [
    {
     "data": {
      "text/plain": [
       "'\\n2.Write a program that generates a list of random numbers and sorts them using multithreading. Use two threads to sort the first half and the second half of the list in parallel.\\n'"
      ]
     },
     "execution_count": 5,
     "metadata": {},
     "output_type": "execute_result"
    }
   ],
   "source": [
    "'''\n",
    "2.Write a program that generates a list of random numbers and sorts them using multithreading. Use two threads to sort the first half and the second half of the list in parallel.\n",
    "'''"
   ]
  },
  {
   "cell_type": "code",
   "execution_count": 10,
   "id": "e7a72ede-b079-497e-880b-94d5257b7130",
   "metadata": {},
   "outputs": [
    {
     "name": "stderr",
     "output_type": "stream",
     "text": [
      "Exception in thread Thread-17 (sort_numbers):\n",
      "Traceback (most recent call last):\n",
      "  File \"/opt/conda/lib/python3.10/threading.py\", line 1016, in _bootstrap_inner\n",
      "Exception in thread Thread-18 (sort_numbers):\n",
      "Traceback (most recent call last):\n",
      "  File \"/opt/conda/lib/python3.10/threading.py\", line 1016, in _bootstrap_inner\n",
      "    self.run()\n",
      "  File \"/opt/conda/lib/python3.10/threading.py\", line 953, in run\n",
      "    self.run()\n",
      "  File \"/opt/conda/lib/python3.10/threading.py\", line 953, in run\n",
      "    self._target(*self._args, **self._kwargs)\n",
      "  File \"/tmp/ipykernel_158/4078192173.py\", line 8, in sort_numbers\n",
      "    self._target(*self._args, **self._kwargs)\n",
      "  File \"/tmp/ipykernel_158/4078192173.py\", line 8, in sort_numbers\n",
      "NameError: name 'lst' is not defined. Did you mean: 'list'?\n",
      "NameError: name 'lst' is not defined. Did you mean: 'list'?\n"
     ]
    },
    {
     "name": "stdout",
     "output_type": "stream",
     "text": [
      "original list:  [22, 26, 11, 99, 20, 20, 91, 32, 15, 53]\n",
      "sorted list:  [11, 15, 20, 20, 22, 26, 32, 53, 91, 99]\n"
     ]
    }
   ],
   "source": [
    "import threading\n",
    "import random\n",
    "\n",
    "my_list=[random.randint(1,100) for _ in range(10)]\n",
    "print(\"original list: \",my_list)\n",
    "\n",
    "def sort_numbers(start,end):\n",
    "    lst[start:end]=sorted(lst[start:end])\n",
    "    \n",
    "#create two separate threads\n",
    "t1=threading.Thread(target=sort_numbers,args=(0,len(my_list)//2))\n",
    "t2=threading.Thread(target=sort_numbers,args=(len(my_list)//2,len(my_list)))\n",
    "\n",
    "#start threading\n",
    "t1.start()\n",
    "t2.start()\n",
    "\n",
    "#wait for threads to end\n",
    "t1.join()\n",
    "t2.join()\n",
    "\n",
    "sorted_list=sorted(my_list)\n",
    "\n",
    "print(\"sorted list: \",sorted_list)\n",
    "         \n",
    "         "
   ]
  },
  {
   "cell_type": "code",
   "execution_count": 12,
   "id": "17d21fac-6168-405a-898f-eae282f11964",
   "metadata": {},
   "outputs": [
    {
     "data": {
      "text/plain": [
       "'\\n3.Write a program that simulates a bank account transaction. The program should create two threads, one for a deposit and one for a withdrawal. The deposit thread should add  100 to the account, and the withdrawal thread should withdraw 50 from the account. Run the program for 10 iterations.\\n'"
      ]
     },
     "execution_count": 12,
     "metadata": {},
     "output_type": "execute_result"
    }
   ],
   "source": [
    "'''\n",
    "3.Write a program that simulates a bank account transaction. The program should create two threads, one for a deposit and one for a withdrawal. The deposit thread should add  100 to the account, and the withdrawal thread should withdraw 50 from the account. Run the program for 10 iterations.\n",
    "'''"
   ]
  },
  {
   "cell_type": "code",
   "execution_count": null,
   "id": "32e7903f-2b59-49ca-b69a-43dfe523f30d",
   "metadata": {},
   "outputs": [],
   "source": [
    "import threading\n",
    "\n",
    "balance=0\n",
    "lock=threading.Lock()\n",
    "\n",
    "def deposit_amt():\n",
    "    global balance\n",
    "    for i in range(10):\n",
    "        lock.acquire()\n",
    "        balance += 100\n",
    "        print(f\"Deposited 100\\nCurrent balance {balance}\")\n",
    "        lock.release()\n",
    "        \n",
    "def withdraw_amt():\n",
    "    global balance\n",
    "    for i in range(10):\n",
    "        lock.acquire()\n",
    "        balance -= 50\n",
    "        print(f'Withdrawn 50\\nCurrent balance {balance}')\n",
    "        lock.release()\n",
    "            \n",
    "            \n",
    "#create threads\n",
    "thread_deposit=threading.Thread(target=deposit_amt)\n",
    "thread_withdraw=threading.Thread(target=withdraw_amt)\n",
    "\n",
    "#start threads\n",
    "thread_deposit.start()\n",
    "thread_withdraw.start()\n",
    "\n",
    "#wait for threads to end\n",
    "thread_deposit.join()\n",
    "thread_withdraw.join()\n",
    "        "
   ]
  },
  {
   "cell_type": "code",
   "execution_count": 14,
   "id": "f9b5b08f-ec75-4c73-babb-1ab0861a568a",
   "metadata": {},
   "outputs": [
    {
     "data": {
      "text/plain": [
       "\"\\n4.Write a Python program that creates a thread to print out the current date and time every 5 seconds. The program should continue running until the user presses the 'q' key.\\n\""
      ]
     },
     "execution_count": 14,
     "metadata": {},
     "output_type": "execute_result"
    }
   ],
   "source": [
    "'''\n",
    "4.Write a Python program that creates a thread to print out the current date and time every 5 seconds. The program should continue running until the user presses the 'q' key.\n",
    "'''"
   ]
  },
  {
   "cell_type": "code",
   "execution_count": 2,
   "id": "7fe32a34-ee74-4098-a296-01ac22140280",
   "metadata": {},
   "outputs": [
    {
     "name": "stdout",
     "output_type": "stream",
     "text": [
      "2023-03-06 20:35:10.964288\n",
      "2023-03-06 20:35:12\n",
      "2023-03-06 20:35:15.969551\n"
     ]
    },
    {
     "name": "stdin",
     "output_type": "stream",
     "text": [
      " q\n"
     ]
    },
    {
     "name": "stdout",
     "output_type": "stream",
     "text": [
      "2023-03-06 20:35:17\n",
      "2023-03-06 20:35:20.974699\n",
      "2023-03-06 20:35:22\n",
      "2023-03-06 20:35:25.979849\n",
      "2023-03-06 20:35:27\n",
      "2023-03-06 20:35:30.985000\n",
      "2023-03-06 20:35:32\n",
      "2023-03-06 20:35:35.990139\n",
      "2023-03-06 20:35:37\n",
      "2023-03-06 20:35:40.995275\n",
      "2023-03-06 20:35:42\n",
      "2023-03-06 20:35:46.000422\n",
      "2023-03-06 20:35:47\n",
      "2023-03-06 20:35:51.005573\n",
      "2023-03-06 20:35:52\n",
      "2023-03-06 20:35:56.010716\n",
      "2023-03-06 20:35:57\n",
      "2023-03-06 20:36:01.015859\n",
      "2023-03-06 20:36:02\n",
      "2023-03-06 20:36:06.019875\n",
      "2023-03-06 20:36:07\n",
      "2023-03-06 20:36:11.025019\n",
      "2023-03-06 20:36:12\n",
      "2023-03-06 20:36:16.030166\n",
      "2023-03-06 20:36:17\n",
      "2023-03-06 20:36:21.035416\n",
      "2023-03-06 20:36:22\n",
      "2023-03-06 20:36:26.040559\n",
      "2023-03-06 20:36:27\n",
      "2023-03-06 20:36:31.045707\n",
      "2023-03-06 20:36:32\n",
      "2023-03-06 20:36:36.050850\n",
      "2023-03-06 20:36:37\n",
      "2023-03-06 20:36:41.055988\n",
      "2023-03-06 20:36:42\n"
     ]
    }
   ],
   "source": [
    "import datetime\n",
    "import threading\n",
    "import time\n",
    "\n",
    "def print_time():\n",
    "    while True:\n",
    "        print(datetime.datetime.now())\n",
    "        time.sleep(5)\n",
    "        \n",
    "#create thtread\n",
    "t=threading.Thread(target=print_time)\n",
    "\n",
    "#start thread\n",
    "t.start()\n",
    "\n",
    "#wait for q to be entered\n",
    "while True:\n",
    "    if input()=='q':\n",
    "        break\n",
    "        "
   ]
  },
  {
   "cell_type": "code",
   "execution_count": 1,
   "id": "0a54e3f9-a867-4801-aace-850fd537cf4e",
   "metadata": {},
   "outputs": [
    {
     "name": "stdout",
     "output_type": "stream",
     "text": [
      "2023-03-06 20:34:32\n",
      "2023-03-06 20:34:37\n",
      "2023-03-06 20:34:42\n"
     ]
    },
    {
     "name": "stdin",
     "output_type": "stream",
     "text": [
      " q\n"
     ]
    },
    {
     "name": "stdout",
     "output_type": "stream",
     "text": [
      "2023-03-06 20:34:47\n",
      "2023-03-06 20:34:52\n",
      "2023-03-06 20:34:57\n",
      "2023-03-06 20:35:02\n",
      "2023-03-06 20:35:07\n"
     ]
    }
   ],
   "source": [
    "import threading\n",
    "import time\n",
    "\n",
    "def print_time():\n",
    "    while True:\n",
    "        print(time.strftime(\"%Y-%m-%d %H:%M:%S\", time.localtime()))\n",
    "        time.sleep(5)\n",
    "\n",
    "t = threading.Thread(target=print_time)\n",
    "t.start()\n",
    "\n",
    "while True:\n",
    "    if input() == 'q':\n",
    "        break\n",
    "        \n"
   ]
  },
  {
   "cell_type": "code",
   "execution_count": null,
   "id": "c0e06252-2949-4eaf-ba5c-9f7cc7b2a5ef",
   "metadata": {},
   "outputs": [],
   "source": [
    "'''\n",
    "5.Write a Python program that creates two threads. Each thread should print out the numbers from 1 to 10. The two threads should run concurrently and print out the numbers in an interleaved fashion.\n",
    "'''"
   ]
  },
  {
   "cell_type": "code",
   "execution_count": 3,
   "id": "1ff34072-e2ef-4fcd-8f7d-0fd2bdc473a3",
   "metadata": {},
   "outputs": [
    {
     "name": "stdout",
     "output_type": "stream",
     "text": [
      "1\n",
      "2\n",
      "3\n",
      "4\n",
      "5\n",
      "6\n",
      "7\n",
      "8\n",
      "9\n",
      "10\n",
      "1\n",
      "2\n",
      "3\n",
      "4\n",
      "5\n",
      "6\n",
      "7\n",
      "8\n",
      "9\n",
      "10\n",
      "2023-03-06 20:36:46.061124\n",
      "2023-03-06 20:36:47\n",
      "2023-03-06 20:36:51.063881\n",
      "2023-03-06 20:36:52\n",
      "2023-03-06 20:36:56.069022\n",
      "2023-03-06 20:36:57\n",
      "2023-03-06 20:37:01.074160\n",
      "2023-03-06 20:37:02\n",
      "2023-03-06 20:37:06.079363\n",
      "2023-03-06 20:37:07\n",
      "2023-03-06 20:37:11.083879\n",
      "2023-03-06 20:37:12\n",
      "2023-03-06 20:37:16.089032\n",
      "2023-03-06 20:37:17\n",
      "2023-03-06 20:37:21.094169\n",
      "2023-03-06 20:37:22\n",
      "2023-03-06 20:37:26.099298\n",
      "2023-03-06 20:37:27\n",
      "2023-03-06 20:37:31.103862\n",
      "2023-03-06 20:37:32\n",
      "2023-03-06 20:37:36.107893\n",
      "2023-03-06 20:37:37\n",
      "2023-03-06 20:37:41.111857\n",
      "2023-03-06 20:37:42\n"
     ]
    }
   ],
   "source": [
    "import threading\n",
    "\n",
    "def print_numbers(start,end):\n",
    "    for i in range(start,end+1):\n",
    "        print(i)\n",
    "        \n",
    "#create threads\n",
    "t1=threading.Thread(target=print_numbers,args=(1,10))\n",
    "t2=threading.Thread(target=print_numbers,args=(1,10))\n",
    "\n",
    "#start threads\n",
    "t1.start()\n",
    "t2.start()\n",
    "\n",
    "#wait for threads to end\n",
    "t1.join()\n",
    "t2.join()\n"
   ]
  },
  {
   "cell_type": "code",
   "execution_count": null,
   "id": "5066d32c-95b7-4f1d-a6a6-27f1d9a8fb5f",
   "metadata": {},
   "outputs": [],
   "source": [
    "'''\n",
    "\n",
    "6.Write a Python program to create a shared variable between two threads and increment its value in each thread.\n",
    "'''"
   ]
  },
  {
   "cell_type": "code",
   "execution_count": 5,
   "id": "90d3ab78-c57c-4f76-ab9f-77509796428f",
   "metadata": {},
   "outputs": [
    {
     "name": "stdout",
     "output_type": "stream",
     "text": [
      "shared value: 2\n",
      "2023-03-06 20:45:03\n",
      "2023-03-06 20:45:06.560418\n",
      "2023-03-06 20:45:08\n",
      "2023-03-06 20:45:11.565576\n",
      "2023-03-06 20:45:13\n",
      "2023-03-06 20:45:16.570744\n",
      "2023-03-06 20:45:18\n",
      "2023-03-06 20:45:21.575896\n",
      "2023-03-06 20:45:23\n",
      "2023-03-06 20:45:26.581042\n",
      "2023-03-06 20:45:28\n",
      "2023-03-06 20:45:31.586184\n",
      "2023-03-06 20:45:33\n",
      "2023-03-06 20:45:36.591366\n",
      "2023-03-06 20:45:38\n",
      "2023-03-06 20:45:41.596502\n",
      "2023-03-06 20:45:43\n",
      "2023-03-06 20:45:46.601632\n",
      "2023-03-06 20:45:48\n",
      "2023-03-06 20:45:51.606767\n",
      "2023-03-06 20:45:53\n",
      "2023-03-06 20:45:56.611903\n",
      "2023-03-06 20:45:58\n",
      "2023-03-06 20:46:01.617047\n",
      "2023-03-06 20:46:03\n",
      "2023-03-06 20:46:06.619860\n",
      "2023-03-06 20:46:08\n",
      "2023-03-06 20:46:11.625000\n",
      "2023-03-06 20:46:13\n",
      "2023-03-06 20:46:16.630137\n",
      "2023-03-06 20:46:18\n"
     ]
    }
   ],
   "source": [
    "import threading\n",
    "import time\n",
    "\n",
    "shared_val=0\n",
    "lock=threading.Lock()\n",
    "\n",
    "def increment_val():\n",
    "    global shared_val\n",
    "    lock.acquire()\n",
    "    shared_val += 1\n",
    "    lock.release()\n",
    "    \n",
    "t1=threading.Thread(target=increment_val)\n",
    "t2=threading.Thread(target=increment_val)\n",
    "\n",
    "t1.start()\n",
    "t2.start()\n",
    "\n",
    "t1.join()\n",
    "t2.join()\n",
    "\n",
    "print(f'shared value: {shared_val}')\n"
   ]
  },
  {
   "cell_type": "code",
   "execution_count": 6,
   "id": "3a5aae6d-447b-419b-9ff2-96f746fb0624",
   "metadata": {},
   "outputs": [
    {
     "data": {
      "text/plain": [
       "'\\nHere\\'s a Python program that creates a thread to count down from 5 to 0 and prints \"Blastoff!\" when the count reaches 0:\\n'"
      ]
     },
     "execution_count": 6,
     "metadata": {},
     "output_type": "execute_result"
    },
    {
     "name": "stdout",
     "output_type": "stream",
     "text": [
      "2023-03-06 20:47:51.727936\n",
      "2023-03-06 20:47:53\n",
      "2023-03-06 20:47:56.733090\n",
      "2023-03-06 20:47:58\n",
      "2023-03-06 20:48:01.738245\n",
      "2023-03-06 20:48:03\n"
     ]
    }
   ],
   "source": [
    "'''\n",
    "Here's a Python program that creates a thread to count down from 5 to 0 and prints \"Blastoff!\" when the count reaches 0:\n",
    "'''"
   ]
  },
  {
   "cell_type": "code",
   "execution_count": 8,
   "id": "692a1c75-0894-4ad6-8c65-aa85fdcb0c75",
   "metadata": {},
   "outputs": [
    {
     "name": "stdout",
     "output_type": "stream",
     "text": [
      "2023-03-06 20:52:01.981621\n",
      "5\n",
      "4\n",
      "2023-03-06 20:52:03\n",
      "3\n",
      "2\n",
      "1\n",
      "2023-03-06 20:52:06.986776\n",
      "Blast Off!\n",
      "2023-03-06 20:52:08\n",
      "2023-03-06 20:52:11.991908\n"
     ]
    }
   ],
   "source": [
    "import threading\n",
    "import time\n",
    "\n",
    "def count_down():\n",
    "    for i in range(5,0,-1):\n",
    "        print(i)\n",
    "        time.sleep(1)\n",
    "    print('Blast Off!')\n",
    "\n",
    "t=threading.Thread(target=count_down)\n",
    "t.start()\n",
    "\n",
    "          \n",
    "    "
   ]
  },
  {
   "cell_type": "code",
   "execution_count": null,
   "id": "2545d261-3fa9-48a4-ba40-cc0fcb18e2d1",
   "metadata": {},
   "outputs": [],
   "source": [
    "'''\n",
    "8.Write a program that creates a thread to print the Fibonacci sequence up to a certain number n. The main thread should prompt the user for the value of n.\n",
    "'''"
   ]
  },
  {
   "cell_type": "code",
   "execution_count": 9,
   "id": "2419c3b1-bd8b-4417-978b-4a3d4033e593",
   "metadata": {},
   "outputs": [
    {
     "name": "stdout",
     "output_type": "stream",
     "text": [
      "2023-03-06 20:56:19\n"
     ]
    },
    {
     "name": "stdin",
     "output_type": "stream",
     "text": [
      "enter a number:  9\n"
     ]
    },
    {
     "name": "stdout",
     "output_type": "stream",
     "text": [
      "0 1 1 2 3 5 8 2023-03-06 20:56:22.236485\n",
      "2023-03-06 20:56:24\n",
      "2023-03-06 20:56:27.241664\n"
     ]
    }
   ],
   "source": [
    "import threading\n",
    "\n",
    "def fib_number(n):\n",
    "    a,b=0,1\n",
    "    while a<=n:\n",
    "        print(a,end=\" \")\n",
    "        a,b=b,a+b\n",
    "\n",
    "n=int(input(\"enter a number: \"))\n",
    "t=threading.Thread(target=fib_number,args=(n,))\n",
    "t.start()\n",
    "t.join()\n",
    "      "
   ]
  },
  {
   "cell_type": "code",
   "execution_count": 10,
   "id": "df3a57c5-cb10-4281-a1d3-c646a5ff25b1",
   "metadata": {},
   "outputs": [
    {
     "data": {
      "text/plain": [
       "'\\n9.Write a program that creates two threads to add and subtract numbers from a shared variable. The shared variable should start at 0, and each thread should perform 10 iterations of adding or subtracting a random integer between 1 and 10. The program should print the final value of the shared variable.\\n'"
      ]
     },
     "execution_count": 10,
     "metadata": {},
     "output_type": "execute_result"
    },
    {
     "name": "stdout",
     "output_type": "stream",
     "text": [
      "2023-03-06 20:57:27.303395\n",
      "2023-03-06 20:57:29\n"
     ]
    }
   ],
   "source": [
    "'''\n",
    "9.Write a program that creates two threads to add and subtract numbers from a shared variable. The shared variable should start at 0, and each thread should perform 10 iterations of adding or subtracting a random integer between 1 and 10. The program should print the final value of the shared variable.\n",
    "'''"
   ]
  },
  {
   "cell_type": "code",
   "execution_count": null,
   "id": "515284a4-10a1-4470-8491-5d11d599a5e0",
   "metadata": {},
   "outputs": [],
   "source": [
    "import threading\n",
    "import random\n",
    "\n",
    "shared_val=0\n",
    "lock=threading.Lock()\n",
    "\n",
    "def add_num():\n",
    "    global shared_val\n",
    "    for i in range(10):\n",
    "        lock.acquire()\n",
    "        shared_val += random.randint(1,10)\n",
    "        lock.release()\n",
    "\n",
    "def sub_num():\n",
    "    global shared_val\n",
    "    for i in range(10):\n",
    "        lock.acquire()\n",
    "        shared_val -= random.randint(1,10)\n",
    "        lock.release()\n",
    "        \n",
    "t1=threading.Thread(target=add_num)\n",
    "t2=threading.Thread(target=sub_num)\n",
    "\n",
    "t1.start()\n",
    "t2.start()\n",
    "\n",
    "t1.join()\n",
    "t2.join()\n",
    "\n",
    "print('shared val: ',shared_val)"
   ]
  },
  {
   "cell_type": "code",
   "execution_count": null,
   "id": "01914ea9-e585-41b9-9b6d-a0fd951aa677",
   "metadata": {},
   "outputs": [],
   "source": [
    "'''\n",
    "10.Write a program that creates a thread to calculate the sum of the numbers from 1 to 100 and prints the result.\n",
    "'''"
   ]
  },
  {
   "cell_type": "code",
   "execution_count": 22,
   "id": "b4de9d74-b15e-4f16-836c-c6689bbe22e0",
   "metadata": {},
   "outputs": [
    {
     "name": "stdout",
     "output_type": "stream",
     "text": [
      "sum of numbers from 1 to 100 is  5050\n",
      "2023-03-06 21:53:25.642392\n",
      "2023-03-06 21:53:27\n"
     ]
    }
   ],
   "source": [
    "import threading\n",
    "\n",
    "def sum_numbers():\n",
    "    result=sum(i for i in range(1,101))\n",
    "    print('sum of numbers from 1 to 100 is ',result)\n",
    "    \n",
    "t=threading.Thread(target=sum_numbers)\n",
    "t.start()\n",
    "t.join()"
   ]
  },
  {
   "cell_type": "code",
   "execution_count": 15,
   "id": "6761bc01-f9b0-4d03-a4b7-bea428e09fa0",
   "metadata": {},
   "outputs": [
    {
     "name": "stdout",
     "output_type": "stream",
     "text": [
      "The sum of the numbers from 1 to 100 is: 5050\n",
      "2023-03-06 21:50:35.471423\n",
      "2023-03-06 21:50:37\n"
     ]
    }
   ],
   "source": [
    "import threading\n",
    "\n",
    "def sum_numbers():\n",
    "    result = sum(range(1, 101))\n",
    "    print(\"The sum of the numbers from 1 to 100 is:\", result)\n",
    "\n",
    "thread = threading.Thread(target=sum_numbers)\n",
    "thread.start()\n",
    "thread.join()\n"
   ]
  },
  {
   "cell_type": "code",
   "execution_count": null,
   "id": "dbf8b97b-4231-43a3-a9a3-c62e3e15d4c6",
   "metadata": {},
   "outputs": [],
   "source": []
  }
 ],
 "metadata": {
  "kernelspec": {
   "display_name": "Python 3 (ipykernel)",
   "language": "python",
   "name": "python3"
  },
  "language_info": {
   "codemirror_mode": {
    "name": "ipython",
    "version": 3
   },
   "file_extension": ".py",
   "mimetype": "text/x-python",
   "name": "python",
   "nbconvert_exporter": "python",
   "pygments_lexer": "ipython3",
   "version": "3.10.8"
  }
 },
 "nbformat": 4,
 "nbformat_minor": 5
}
