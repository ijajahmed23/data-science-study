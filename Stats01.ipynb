{
 "cells": [
  {
   "cell_type": "code",
   "execution_count": 1,
   "id": "e31acf9e-f842-4611-9f05-5cc3486b6bd0",
   "metadata": {},
   "outputs": [],
   "source": [
    "#statistics is collecting, organizing and analyzing data"
   ]
  },
  {
   "cell_type": "code",
   "execution_count": 3,
   "id": "00d00b70-9657-45d4-a6f2-2c76e4c5eb6e",
   "metadata": {},
   "outputs": [],
   "source": [
    "#data is fact or pieces of information"
   ]
  },
  {
   "cell_type": "code",
   "execution_count": 4,
   "id": "f2cc9a9d-800c-4fe6-b2ff-a32551208031",
   "metadata": {},
   "outputs": [],
   "source": [
    "#data...eg...heigths os students...IQ of students"
   ]
  },
  {
   "cell_type": "code",
   "execution_count": 5,
   "id": "b35c303b-4250-4a20-9c07-28d0a6da77b1",
   "metadata": {},
   "outputs": [
    {
     "data": {
      "text/plain": [
       "'Types of Statistics'"
      ]
     },
     "execution_count": 5,
     "metadata": {},
     "output_type": "execute_result"
    }
   ],
   "source": [
    "'''Types of Statistics'''"
   ]
  },
  {
   "cell_type": "code",
   "execution_count": 8,
   "id": "48c7684a-fcc5-4329-ada7-e10cfe9c1956",
   "metadata": {},
   "outputs": [],
   "source": [
    "#1. Descriptive Stats - Organizing and summarizing the data\n",
    "#2. Inferential Stats - It consists of using data you have measured to form conclusion"
   ]
  },
  {
   "cell_type": "code",
   "execution_count": null,
   "id": "2d3da4a1-5527-4e8c-8a64-51fab961acdb",
   "metadata": {},
   "outputs": [],
   "source": []
  }
 ],
 "metadata": {
  "kernelspec": {
   "display_name": "Python 3 (ipykernel)",
   "language": "python",
   "name": "python3"
  },
  "language_info": {
   "codemirror_mode": {
    "name": "ipython",
    "version": 3
   },
   "file_extension": ".py",
   "mimetype": "text/x-python",
   "name": "python",
   "nbconvert_exporter": "python",
   "pygments_lexer": "ipython3",
   "version": "3.10.8"
  }
 },
 "nbformat": 4,
 "nbformat_minor": 5
}
