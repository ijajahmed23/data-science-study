{
 "cells": [
  {
   "cell_type": "code",
   "execution_count": 3,
   "id": "b6e66bac-eb14-4e95-8bc3-94dc86429810",
   "metadata": {},
   "outputs": [
    {
     "name": "stdout",
     "output_type": "stream",
     "text": [
      "helllo\n"
     ]
    }
   ],
   "source": [
    "print(\"helllo\")"
   ]
  },
  {
   "cell_type": "code",
   "execution_count": 4,
   "id": "4ca1b706-4077-43bc-8932-0a38039d0ec3",
   "metadata": {},
   "outputs": [],
   "source": [
    "l=[1,2,3,4]"
   ]
  },
  {
   "cell_type": "code",
   "execution_count": 5,
   "id": "e48b0a2e-a8e1-42ba-8885-dc9203e09448",
   "metadata": {},
   "outputs": [
    {
     "data": {
      "text/plain": [
       "4"
      ]
     },
     "execution_count": 5,
     "metadata": {},
     "output_type": "execute_result"
    }
   ],
   "source": [
    "len(l)"
   ]
  },
  {
   "cell_type": "code",
   "execution_count": 7,
   "id": "a8808aa4-e7ce-4f9a-b2df-0ff404162250",
   "metadata": {},
   "outputs": [],
   "source": [
    "def test():\n",
    "    pass\n",
    "    "
   ]
  },
  {
   "cell_type": "code",
   "execution_count": 8,
   "id": "8f19e0ac-6cd3-4e82-aa95-0f1979d95ad1",
   "metadata": {},
   "outputs": [],
   "source": [
    "test()"
   ]
  },
  {
   "cell_type": "code",
   "execution_count": 2,
   "id": "4f62b810-e5f8-490d-9dac-86b0fecb2271",
   "metadata": {},
   "outputs": [],
   "source": [
    "def test1():\n",
    "    print(\"this is my first function\")"
   ]
  },
  {
   "cell_type": "code",
   "execution_count": 5,
   "id": "6649b6c9-3fb9-4b44-8352-a1de26141088",
   "metadata": {},
   "outputs": [
    {
     "name": "stdout",
     "output_type": "stream",
     "text": [
      "this is my first function\n"
     ]
    }
   ],
   "source": [
    "test1()"
   ]
  },
  {
   "cell_type": "code",
   "execution_count": 16,
   "id": "7af50d47-797d-4dcc-b906-b9219344ffdc",
   "metadata": {},
   "outputs": [
    {
     "name": "stdout",
     "output_type": "stream",
     "text": [
      "this is my first function\n"
     ]
    }
   ],
   "source": [
    "stri=test1()"
   ]
  },
  {
   "cell_type": "code",
   "execution_count": 18,
   "id": "73112e1f-814d-43b1-94fd-cf44994a5f62",
   "metadata": {},
   "outputs": [],
   "source": [
    "stri"
   ]
  },
  {
   "cell_type": "code",
   "execution_count": 9,
   "id": "14585873-6c06-458d-99f7-e6892e38da1c",
   "metadata": {},
   "outputs": [
    {
     "name": "stdout",
     "output_type": "stream",
     "text": [
      "this is my first function\n"
     ]
    },
    {
     "data": {
      "text/plain": [
       "'None ijaj'"
      ]
     },
     "execution_count": 9,
     "metadata": {},
     "output_type": "execute_result"
    }
   ],
   "source": [
    "str(test1())+ \" ijaj\"  #print always returns Nonetype by default"
   ]
  },
  {
   "cell_type": "code",
   "execution_count": 11,
   "id": "24a031b8-f110-4fe8-9ad5-3e3060b1ac54",
   "metadata": {},
   "outputs": [],
   "source": [
    "def test2():\n",
    "    return \"this is my function\""
   ]
  },
  {
   "cell_type": "code",
   "execution_count": 12,
   "id": "c16cafba-aaa9-4144-b34e-55eee940923f",
   "metadata": {},
   "outputs": [
    {
     "data": {
      "text/plain": [
       "'this is my function'"
      ]
     },
     "execution_count": 12,
     "metadata": {},
     "output_type": "execute_result"
    }
   ],
   "source": [
    "test2()"
   ]
  },
  {
   "cell_type": "code",
   "execution_count": 13,
   "id": "52c6e2f8-64b0-457c-bccc-39a5ad080153",
   "metadata": {},
   "outputs": [
    {
     "data": {
      "text/plain": [
       "'this is my function ijaj'"
      ]
     },
     "execution_count": 13,
     "metadata": {},
     "output_type": "execute_result"
    }
   ],
   "source": [
    "test2()+\" ijaj\""
   ]
  },
  {
   "cell_type": "code",
   "execution_count": 17,
   "id": "70f84238-84b0-4844-bb20-5de1369044a5",
   "metadata": {},
   "outputs": [
    {
     "data": {
      "text/plain": [
       "'this is my function45'"
      ]
     },
     "execution_count": 17,
     "metadata": {},
     "output_type": "execute_result"
    }
   ],
   "source": [
    "test2()+str(45)"
   ]
  },
  {
   "cell_type": "code",
   "execution_count": 18,
   "id": "30d3f611-97d7-4780-9e9d-81134c0ebe63",
   "metadata": {},
   "outputs": [],
   "source": [
    "def test3():\n",
    "    return 1,4,\"ijaj\",4.52"
   ]
  },
  {
   "cell_type": "code",
   "execution_count": 19,
   "id": "c07df62a-c4bc-4130-bd1f-2815531dc3b2",
   "metadata": {},
   "outputs": [
    {
     "data": {
      "text/plain": [
       "(1, 4, 'ijaj', 4.52)"
      ]
     },
     "execution_count": 19,
     "metadata": {},
     "output_type": "execute_result"
    }
   ],
   "source": [
    "test3()"
   ]
  },
  {
   "cell_type": "code",
   "execution_count": 20,
   "id": "dc57813b-4049-49f0-9e7e-174fd0eb0e5b",
   "metadata": {},
   "outputs": [
    {
     "data": {
      "text/plain": [
       "tuple"
      ]
     },
     "execution_count": 20,
     "metadata": {},
     "output_type": "execute_result"
    }
   ],
   "source": [
    "type(test3())"
   ]
  },
  {
   "cell_type": "code",
   "execution_count": 21,
   "id": "5668e93b-1a83-4d1e-aca8-9debe75df442",
   "metadata": {},
   "outputs": [],
   "source": [
    "a=1,2,3,4,5"
   ]
  },
  {
   "cell_type": "code",
   "execution_count": 22,
   "id": "c2ca5f08-d438-4e0b-acf7-f34b0f6b0d2c",
   "metadata": {},
   "outputs": [
    {
     "data": {
      "text/plain": [
       "(1, 2, 3, 4, 5)"
      ]
     },
     "execution_count": 22,
     "metadata": {},
     "output_type": "execute_result"
    }
   ],
   "source": [
    "a"
   ]
  },
  {
   "cell_type": "code",
   "execution_count": 23,
   "id": "0e6fa74d-7f73-4357-8894-11edb77df895",
   "metadata": {},
   "outputs": [],
   "source": [
    "a,b,c,d = 1,2,3,4.5"
   ]
  },
  {
   "cell_type": "code",
   "execution_count": 24,
   "id": "5624d891-5197-40bb-bf50-0b8c0147f134",
   "metadata": {},
   "outputs": [
    {
     "data": {
      "text/plain": [
       "4.5"
      ]
     },
     "execution_count": 24,
     "metadata": {},
     "output_type": "execute_result"
    }
   ],
   "source": [
    "d"
   ]
  },
  {
   "cell_type": "code",
   "execution_count": 25,
   "id": "428894ef-7e8b-4bc4-aeef-c8fd32417d83",
   "metadata": {},
   "outputs": [
    {
     "data": {
      "text/plain": [
       "3"
      ]
     },
     "execution_count": 25,
     "metadata": {},
     "output_type": "execute_result"
    }
   ],
   "source": [
    "c"
   ]
  },
  {
   "cell_type": "code",
   "execution_count": 26,
   "id": "79af3beb-4936-439e-a5cf-3ddb90703395",
   "metadata": {},
   "outputs": [
    {
     "data": {
      "text/plain": [
       "2"
      ]
     },
     "execution_count": 26,
     "metadata": {},
     "output_type": "execute_result"
    }
   ],
   "source": [
    "b"
   ]
  },
  {
   "cell_type": "code",
   "execution_count": 27,
   "id": "80806c31-4e0e-457b-9c0e-2edf676f4eb6",
   "metadata": {},
   "outputs": [
    {
     "data": {
      "text/plain": [
       "1"
      ]
     },
     "execution_count": 27,
     "metadata": {},
     "output_type": "execute_result"
    }
   ],
   "source": [
    "a"
   ]
  },
  {
   "cell_type": "code",
   "execution_count": 28,
   "id": "3fb458dc-7a9d-4302-933d-51913e275b48",
   "metadata": {},
   "outputs": [
    {
     "data": {
      "text/plain": [
       "(1, 4.5)"
      ]
     },
     "execution_count": 28,
     "metadata": {},
     "output_type": "execute_result"
    }
   ],
   "source": [
    "a,d"
   ]
  },
  {
   "cell_type": "code",
   "execution_count": 29,
   "id": "31097f0f-cfe7-4c6b-b59f-ab432ec40588",
   "metadata": {},
   "outputs": [
    {
     "data": {
      "text/plain": [
       "(1, 4, 'ijaj', 4.52)"
      ]
     },
     "execution_count": 29,
     "metadata": {},
     "output_type": "execute_result"
    }
   ],
   "source": [
    "test3()"
   ]
  },
  {
   "cell_type": "code",
   "execution_count": 30,
   "id": "62f98840-3319-43ba-840a-d80f15f9ed84",
   "metadata": {},
   "outputs": [
    {
     "data": {
      "text/plain": [
       "'ijaj'"
      ]
     },
     "execution_count": 30,
     "metadata": {},
     "output_type": "execute_result"
    }
   ],
   "source": [
    "test3()[2]"
   ]
  },
  {
   "cell_type": "code",
   "execution_count": 31,
   "id": "ff7b4b39-551e-4406-8460-211612d3b073",
   "metadata": {},
   "outputs": [
    {
     "data": {
      "text/plain": [
       "4.52"
      ]
     },
     "execution_count": 31,
     "metadata": {},
     "output_type": "execute_result"
    }
   ],
   "source": [
    "test3()[3]"
   ]
  },
  {
   "cell_type": "code",
   "execution_count": 32,
   "id": "615b81ce-cbf8-42bd-9389-ab51e53e22ab",
   "metadata": {},
   "outputs": [
    {
     "data": {
      "text/plain": [
       "int"
      ]
     },
     "execution_count": 32,
     "metadata": {},
     "output_type": "execute_result"
    }
   ],
   "source": [
    "type(test3()[0])"
   ]
  },
  {
   "cell_type": "code",
   "execution_count": 33,
   "id": "0fe9e219-8b63-4dd1-982c-2e78b6d00cbb",
   "metadata": {},
   "outputs": [],
   "source": [
    "a,b,c,d = test3()"
   ]
  },
  {
   "cell_type": "code",
   "execution_count": 34,
   "id": "a7e213fd-e2bd-427b-914f-deddfe38c86a",
   "metadata": {},
   "outputs": [
    {
     "data": {
      "text/plain": [
       "(1, 4.52)"
      ]
     },
     "execution_count": 34,
     "metadata": {},
     "output_type": "execute_result"
    }
   ],
   "source": [
    "a,d"
   ]
  },
  {
   "cell_type": "code",
   "execution_count": 35,
   "id": "1b14e910-0462-45e3-ae03-69a77ddad801",
   "metadata": {},
   "outputs": [
    {
     "data": {
      "text/plain": [
       "(4, 'ijaj')"
      ]
     },
     "execution_count": 35,
     "metadata": {},
     "output_type": "execute_result"
    }
   ],
   "source": [
    "b,c"
   ]
  },
  {
   "cell_type": "code",
   "execution_count": 36,
   "id": "cb570228-7cfb-4f28-acf6-2fd3bee571f2",
   "metadata": {},
   "outputs": [],
   "source": [
    "def test4():\n",
    "    a=3*4+5\n",
    "    return a"
   ]
  },
  {
   "cell_type": "code",
   "execution_count": 37,
   "id": "00c8914e-bbeb-4952-bba6-0699cb77e442",
   "metadata": {},
   "outputs": [
    {
     "data": {
      "text/plain": [
       "17"
      ]
     },
     "execution_count": 37,
     "metadata": {},
     "output_type": "execute_result"
    }
   ],
   "source": [
    "test4()"
   ]
  },
  {
   "cell_type": "code",
   "execution_count": 38,
   "id": "47deb50a-3dcb-45ba-a1da-0691d1f1e69f",
   "metadata": {},
   "outputs": [
    {
     "data": {
      "text/plain": [
       "int"
      ]
     },
     "execution_count": 38,
     "metadata": {},
     "output_type": "execute_result"
    }
   ],
   "source": [
    "type(test4())"
   ]
  },
  {
   "cell_type": "code",
   "execution_count": 39,
   "id": "821b6a4f-c888-4bbd-8b83-3b34897ae1e9",
   "metadata": {},
   "outputs": [],
   "source": [
    "def test5(a,b):\n",
    "    c=a+b\n",
    "    return c"
   ]
  },
  {
   "cell_type": "code",
   "execution_count": 40,
   "id": "20435864-c429-4eff-8656-9d062cc86aa5",
   "metadata": {},
   "outputs": [
    {
     "data": {
      "text/plain": [
       "37"
      ]
     },
     "execution_count": 40,
     "metadata": {},
     "output_type": "execute_result"
    }
   ],
   "source": [
    "test5(13,24)"
   ]
  },
  {
   "cell_type": "code",
   "execution_count": 41,
   "id": "2d14cfb4-419e-410b-8821-445936016cde",
   "metadata": {},
   "outputs": [
    {
     "data": {
      "text/plain": [
       "'ijajahmed'"
      ]
     },
     "execution_count": 41,
     "metadata": {},
     "output_type": "execute_result"
    }
   ],
   "source": [
    "test5(\"ijaj\",\"ahmed\")"
   ]
  },
  {
   "cell_type": "code",
   "execution_count": 44,
   "id": "8aeac847-d719-4c78-9d7b-01ebcaa94a52",
   "metadata": {},
   "outputs": [
    {
     "data": {
      "text/plain": [
       "[1, 2, 3, 4, 4, 5, 6, 7]"
      ]
     },
     "execution_count": 44,
     "metadata": {},
     "output_type": "execute_result"
    }
   ],
   "source": [
    "test5([1,2,3,4],[4,5,6,7])"
   ]
  },
  {
   "cell_type": "code",
   "execution_count": 47,
   "id": "d29c37c9-4564-4b3d-871d-c654dbbacdfd",
   "metadata": {},
   "outputs": [
    {
     "data": {
      "text/plain": [
       "(1, 2, 3, 4, 4, 5, 6, 7)"
      ]
     },
     "execution_count": 47,
     "metadata": {},
     "output_type": "execute_result"
    }
   ],
   "source": [
    "tuple(test5([1,2,3,4],[4,5,6,7]))"
   ]
  },
  {
   "cell_type": "code",
   "execution_count": 48,
   "id": "05a73549-e27b-4afd-8546-b0d52d8da76b",
   "metadata": {},
   "outputs": [
    {
     "data": {
      "text/plain": [
       "'ijajahmed'"
      ]
     },
     "execution_count": 48,
     "metadata": {},
     "output_type": "execute_result"
    }
   ],
   "source": [
    "test5(b=\"ahmed\",a=\"ijaj\")"
   ]
  },
  {
   "cell_type": "code",
   "execution_count": 54,
   "id": "58eeaf75-2221-4013-b1fc-64122e3d04f2",
   "metadata": {},
   "outputs": [],
   "source": [
    "l=[1,2,3,\"ijaj\",4.56,[2,3,8,9,\"rana\"]] #list within a list"
   ]
  },
  {
   "cell_type": "code",
   "execution_count": 51,
   "id": "63b19834-f43c-4676-81e7-c57c88d354b7",
   "metadata": {},
   "outputs": [
    {
     "data": {
      "text/plain": [
       "[1, 2, 3, 'ijaj', 4.56, [2, 3, 8, 9, 'rana']]"
      ]
     },
     "execution_count": 51,
     "metadata": {},
     "output_type": "execute_result"
    }
   ],
   "source": [
    "l"
   ]
  },
  {
   "cell_type": "markdown",
   "id": "1c30562c-7392-4279-8bbd-cf7844b3806b",
   "metadata": {},
   "source": [
    "##create a function which will filter out all numeric values"
   ]
  },
  {
   "cell_type": "code",
   "execution_count": 52,
   "id": "4278d421-d5c7-4e07-a50b-10a0892d7241",
   "metadata": {},
   "outputs": [],
   "source": [
    "def test6(a):\n",
    "    n=[]\n",
    "    for i in a:\n",
    "        if type(i)==int or type(i)==float:\n",
    "            n.append(i)\n",
    "    return n\n",
    "    "
   ]
  },
  {
   "cell_type": "code",
   "execution_count": 53,
   "id": "7c48df9f-674e-40e9-a708-1a98bbf14701",
   "metadata": {},
   "outputs": [
    {
     "data": {
      "text/plain": [
       "[1, 2, 3, 4.56]"
      ]
     },
     "execution_count": 53,
     "metadata": {},
     "output_type": "execute_result"
    }
   ],
   "source": [
    "test6(l)"
   ]
  },
  {
   "cell_type": "code",
   "execution_count": 55,
   "id": "ff445e16-a993-4566-a36a-d2be466e2636",
   "metadata": {},
   "outputs": [
    {
     "data": {
      "text/plain": [
       "[1, 2, 3, 'ijaj', 4.56, [2, 3, 8, 9, 'rana']]"
      ]
     },
     "execution_count": 55,
     "metadata": {},
     "output_type": "execute_result"
    }
   ],
   "source": [
    "l"
   ]
  },
  {
   "cell_type": "code",
   "execution_count": 56,
   "id": "60d46dfb-8a03-4723-b92b-eb0e66062829",
   "metadata": {},
   "outputs": [],
   "source": [
    "def test7(a):\n",
    "    n=[]\n",
    "    for i in a:\n",
    "        if type(i)==list:\n",
    "            for j in i:\n",
    "                if type(j)==int or type(j)==float:\n",
    "                    n.append(j)\n",
    "        else:\n",
    "            if type(i)==int or type(i)==float:\n",
    "                n.append(i)\n",
    "    return n"
   ]
  },
  {
   "cell_type": "code",
   "execution_count": 57,
   "id": "4c5c1ae4-80f2-4e8b-9c8a-686d737e5da2",
   "metadata": {},
   "outputs": [
    {
     "data": {
      "text/plain": [
       "[1, 2, 3, 4.56, 2, 3, 8, 9]"
      ]
     },
     "execution_count": 57,
     "metadata": {},
     "output_type": "execute_result"
    }
   ],
   "source": [
    "test7(l)"
   ]
  },
  {
   "cell_type": "code",
   "execution_count": null,
   "id": "84926aa8-ae1b-4402-8fb7-397bbe86a150",
   "metadata": {},
   "outputs": [],
   "source": []
  }
 ],
 "metadata": {
  "kernelspec": {
   "display_name": "Python 3 (ipykernel)",
   "language": "python",
   "name": "python3"
  },
  "language_info": {
   "codemirror_mode": {
    "name": "ipython",
    "version": 3
   },
   "file_extension": ".py",
   "mimetype": "text/x-python",
   "name": "python",
   "nbconvert_exporter": "python",
   "pygments_lexer": "ipython3",
   "version": "3.10.8"
  }
 },
 "nbformat": 4,
 "nbformat_minor": 5
}
