{
 "cells": [
  {
   "cell_type": "code",
   "execution_count": 1,
   "id": "e287049b-05e7-4b1d-99bf-5a35bab0cbe0",
   "metadata": {},
   "outputs": [],
   "source": [
    "n=3\n",
    "p=2"
   ]
  },
  {
   "cell_type": "code",
   "execution_count": 2,
   "id": "040a814b-d115-4b6f-9421-7255d6898933",
   "metadata": {},
   "outputs": [],
   "source": [
    "def test(n,p):\n",
    "    return n**p"
   ]
  },
  {
   "cell_type": "code",
   "execution_count": 3,
   "id": "46d13b01-3071-47e3-b1fc-6c04507d923e",
   "metadata": {},
   "outputs": [
    {
     "data": {
      "text/plain": [
       "16"
      ]
     },
     "execution_count": 3,
     "metadata": {},
     "output_type": "execute_result"
    }
   ],
   "source": [
    "test(2,4)"
   ]
  },
  {
   "cell_type": "code",
   "execution_count": 4,
   "id": "8df57e30-a6a1-43cd-ac90-8124d8b4c46a",
   "metadata": {},
   "outputs": [
    {
     "data": {
      "text/plain": [
       "6561"
      ]
     },
     "execution_count": 4,
     "metadata": {},
     "output_type": "execute_result"
    }
   ],
   "source": [
    "test(9,4)"
   ]
  },
  {
   "cell_type": "code",
   "execution_count": 6,
   "id": "a5eead7a-eedb-4f0b-a990-3b862b77d759",
   "metadata": {},
   "outputs": [],
   "source": [
    "a=lambda n,p:n**p"
   ]
  },
  {
   "cell_type": "code",
   "execution_count": 7,
   "id": "0a9addde-e6d0-43f0-9a71-df968a0033d1",
   "metadata": {},
   "outputs": [
    {
     "data": {
      "text/plain": [
       "16"
      ]
     },
     "execution_count": 7,
     "metadata": {},
     "output_type": "execute_result"
    }
   ],
   "source": [
    "a(2,4)"
   ]
  },
  {
   "cell_type": "code",
   "execution_count": 8,
   "id": "b9730c9a-9742-48b5-9d3b-27dccdf82bb1",
   "metadata": {},
   "outputs": [
    {
     "data": {
      "text/plain": [
       "6561"
      ]
     },
     "execution_count": 8,
     "metadata": {},
     "output_type": "execute_result"
    }
   ],
   "source": [
    "a(9,4)"
   ]
  },
  {
   "cell_type": "code",
   "execution_count": 9,
   "id": "c69d512b-414c-4493-a42f-1afc42c5c49c",
   "metadata": {},
   "outputs": [],
   "source": [
    "add=lambda x,y:x+y"
   ]
  },
  {
   "cell_type": "code",
   "execution_count": 10,
   "id": "2ceab6c7-d28e-4ca6-8fc6-688d02c36f45",
   "metadata": {},
   "outputs": [
    {
     "data": {
      "text/plain": [
       "7.4"
      ]
     },
     "execution_count": 10,
     "metadata": {},
     "output_type": "execute_result"
    }
   ],
   "source": [
    "add(2.4,5)"
   ]
  },
  {
   "cell_type": "code",
   "execution_count": 11,
   "id": "43b118b3-de93-4169-a9d2-86fb7fb9ce4f",
   "metadata": {},
   "outputs": [],
   "source": [
    "c_to_f=lambda c:(9*c/5)+32"
   ]
  },
  {
   "cell_type": "code",
   "execution_count": 12,
   "id": "b17a559a-3458-452a-b9aa-9032394696a8",
   "metadata": {},
   "outputs": [
    {
     "data": {
      "text/plain": [
       "73.4"
      ]
     },
     "execution_count": 12,
     "metadata": {},
     "output_type": "execute_result"
    }
   ],
   "source": [
    "c_to_f(23)"
   ]
  },
  {
   "cell_type": "code",
   "execution_count": 13,
   "id": "952a332c-247d-4ccd-86b4-8c2d07a16cea",
   "metadata": {},
   "outputs": [
    {
     "data": {
      "text/plain": [
       "93.2"
      ]
     },
     "execution_count": 13,
     "metadata": {},
     "output_type": "execute_result"
    }
   ],
   "source": [
    "c_to_f(34)"
   ]
  },
  {
   "cell_type": "code",
   "execution_count": 14,
   "id": "9de5e6e2-240b-4f01-b04f-0029e5ee4ea1",
   "metadata": {},
   "outputs": [],
   "source": [
    "max_two=lambda a,b:a if a>b else b"
   ]
  },
  {
   "cell_type": "code",
   "execution_count": 15,
   "id": "429526f0-2648-4334-9f79-00a254df13a6",
   "metadata": {},
   "outputs": [
    {
     "data": {
      "text/plain": [
       "3.3"
      ]
     },
     "execution_count": 15,
     "metadata": {},
     "output_type": "execute_result"
    }
   ],
   "source": [
    "max_two(3,3.3)"
   ]
  },
  {
   "cell_type": "code",
   "execution_count": 16,
   "id": "df0dcbf6-b465-4431-ad9a-346d5f85d169",
   "metadata": {},
   "outputs": [],
   "source": [
    "s=\"ijajahmed\""
   ]
  },
  {
   "cell_type": "code",
   "execution_count": 17,
   "id": "a7e1a377-1b67-49bb-adc8-9868aee0a929",
   "metadata": {},
   "outputs": [],
   "source": [
    "len_st=lambda s:len(s)"
   ]
  },
  {
   "cell_type": "code",
   "execution_count": 18,
   "id": "3b19b961-1986-42ad-9024-7e1dcb55a4a7",
   "metadata": {},
   "outputs": [
    {
     "data": {
      "text/plain": [
       "9"
      ]
     },
     "execution_count": 18,
     "metadata": {},
     "output_type": "execute_result"
    }
   ],
   "source": [
    "len_st(s)"
   ]
  },
  {
   "cell_type": "code",
   "execution_count": null,
   "id": "f00d6e15-5f18-450d-b016-e2e5f3420dfe",
   "metadata": {},
   "outputs": [],
   "source": []
  }
 ],
 "metadata": {
  "kernelspec": {
   "display_name": "Python 3 (ipykernel)",
   "language": "python",
   "name": "python3"
  },
  "language_info": {
   "codemirror_mode": {
    "name": "ipython",
    "version": 3
   },
   "file_extension": ".py",
   "mimetype": "text/x-python",
   "name": "python",
   "nbconvert_exporter": "python",
   "pygments_lexer": "ipython3",
   "version": "3.10.8"
  }
 },
 "nbformat": 4,
 "nbformat_minor": 5
}
