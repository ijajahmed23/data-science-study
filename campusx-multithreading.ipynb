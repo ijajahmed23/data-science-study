{
 "cells": [
  {
   "cell_type": "code",
   "execution_count": 4,
   "id": "f66cd9ff-9130-414a-8225-9ed3cbbc4117",
   "metadata": {},
   "outputs": [],
   "source": [
    "from time import time,sleep\n",
    "\n",
    "start_time=time()"
   ]
  },
  {
   "cell_type": "code",
   "execution_count": 5,
   "id": "c134c0cc-3b0e-4be2-b1d3-cee70375d035",
   "metadata": {},
   "outputs": [
    {
     "data": {
      "text/plain": [
       "1676485572.345244"
      ]
     },
     "execution_count": 5,
     "metadata": {},
     "output_type": "execute_result"
    }
   ],
   "source": [
    "start_time"
   ]
  },
  {
   "cell_type": "code",
   "execution_count": 6,
   "id": "0a195799-bf0e-4f12-8445-79a6303eb326",
   "metadata": {},
   "outputs": [
    {
     "name": "stdout",
     "output_type": "stream",
     "text": [
      "Going to sleep...\n",
      "Woke up...\n",
      "Going to sleep...\n",
      "Woke up...\n",
      "Main thread ended in 2.002617120742798 seconds\n"
     ]
    }
   ],
   "source": [
    "from time import time,sleep\n",
    "\n",
    "start_time=time()\n",
    "\n",
    "def something():\n",
    "    print(\"Going to sleep...\")\n",
    "    sleep(1)\n",
    "    print(\"Woke up...\")\n",
    "    \n",
    "something()\n",
    "something()\n",
    "\n",
    "end_time=time()\n",
    "print(f\"Main thread ended in {end_time-start_time} seconds\")"
   ]
  },
  {
   "cell_type": "code",
   "execution_count": 10,
   "id": "4508db99-2b91-4e1c-a345-e8d60f1e91ff",
   "metadata": {},
   "outputs": [
    {
     "name": "stdout",
     "output_type": "stream",
     "text": [
      "Going to sleep...\n",
      "Woke up...\n",
      "Going to sleep...\n",
      "Woke up...\n",
      "Going to sleep...\n",
      "Woke up...\n",
      "Going to sleep...\n",
      "Woke up...\n",
      "Going to sleep...\n",
      "Woke up...\n",
      "Going to sleep...\n",
      "Woke up...\n",
      "Going to sleep...\n",
      "Woke up...\n",
      "Going to sleep...\n",
      "Woke up...\n",
      "Going to sleep...\n",
      "Woke up...\n",
      "Going to sleep...\n",
      "Woke up...\n",
      "Main thread ended in 10.01157832145691 seconds\n"
     ]
    }
   ],
   "source": [
    "from time import time,sleep\n",
    "\n",
    "start_time=time()\n",
    "\n",
    "def something():\n",
    "    print(f\"Going to sleep...\")\n",
    "    sleep(1)\n",
    "    print(\"Woke up...\")\n",
    "    \n",
    "for _ in range(10):\n",
    "    something()\n",
    "\n",
    "end_time=time()\n",
    "print(f\"Main thread ended in {end_time-start_time} seconds\")"
   ]
  },
  {
   "cell_type": "code",
   "execution_count": 18,
   "id": "aa121e88-4ffa-40ed-9bd6-3924ece04c6d",
   "metadata": {},
   "outputs": [
    {
     "name": "stdout",
     "output_type": "stream",
     "text": [
      "Going to sleep...0\n",
      "Main thread ended in 0.0016925334930419922 seconds\n",
      "Woken up...0\n"
     ]
    }
   ],
   "source": [
    "from time import time,sleep\n",
    "import threading\n",
    "\n",
    "start_time=time()\n",
    "def something(id):\n",
    "    \n",
    "    print(f\"Going to sleep...{id}\")\n",
    "    sleep(1)\n",
    "    print(f\"Woken up...{id}\")\n",
    "    \n",
    "#t1=[threading.Thread(target=something,args=(i,)) for i in range(1,11)]\n",
    "t1=threading.Thread(target=something,args=[0])\n",
    "#for t in t1:\n",
    "t1.start()\n",
    "          \n",
    "end_time=time()\n",
    "print(f\"Main thread ended in {end_time-start_time} seconds\")"
   ]
  },
  {
   "cell_type": "code",
   "execution_count": 4,
   "id": "a07cda80-2340-4ec1-92be-24632e6d6693",
   "metadata": {},
   "outputs": [
    {
     "name": "stdout",
     "output_type": "stream",
     "text": [
      "going to sleep...1\n",
      "going to sleep...2\n",
      "woken up...1\n",
      "woken up...2\n",
      "main program ended in 1.0028753280639648 seconds\n"
     ]
    }
   ],
   "source": [
    "from time import time,sleep\n",
    "import threading\n",
    "\n",
    "start_time=time()\n",
    "def somet(id):\n",
    "    print(f\"going to sleep...{id}\")\n",
    "    sleep(1)\n",
    "    print(f\"woken up...{id}\")\n",
    "    \n",
    "t2=threading.Thread(target=somet,args=[1])\n",
    "t3=threading.Thread(target=somet,args=[2])\n",
    "t2.start()\n",
    "t3.start()\n",
    "t2.join() #main thread waits for t1 and t2 child tghread to end for thius join()\n",
    "t3.join()\n",
    "          \n",
    "end_time=time()\n",
    "print(f\"main program ended in {end_time-start_time} seconds\")"
   ]
  },
  {
   "cell_type": "code",
   "execution_count": 2,
   "id": "80b867c9-732a-4852-b872-7041f3d3df90",
   "metadata": {},
   "outputs": [
    {
     "name": "stdout",
     "output_type": "stream",
     "text": [
      "going to sleep...0\n",
      "going to sleep...1\n",
      "going to sleep...2\n",
      "going to sleep...3\n",
      "going to sleep...4\n",
      "going to sleep...5\n",
      "going to sleep...6\n",
      "going to sleep...7\n",
      "going to sleep...8\n",
      "going to sleep...9\n",
      "woken up...0\n",
      "woken up...3\n",
      "woken up...1\n",
      "woken up...2\n",
      "woken up...4\n",
      "woken up...5\n",
      "woken up...7\n",
      "woken up...6\n",
      "woken up...8\n",
      "woken up...9\n",
      "main thread ended in 1.0063419342041016 seconds\n"
     ]
    }
   ],
   "source": [
    "from time import time,sleep\n",
    "import threading\n",
    "\n",
    "start_time=time()\n",
    "def something(id):\n",
    "    print(f\"going to sleep...{id}\")\n",
    "    sleep(1)\n",
    "    print(f\"woken up...{id}\")\n",
    "    \n",
    "threads=[threading.Thread(target=something,args=[i]) for i in range(10)]\n",
    "\n",
    "for t in threads:\n",
    "    t.start()\n",
    "\n",
    "for t in threads:\n",
    "    t.join()\n",
    "\n",
    "end_time=time()\n",
    "print(f\"main thread ended in {end_time-start_time} seconds\")"
   ]
  },
  {
   "cell_type": "code",
   "execution_count": 12,
   "id": "5e6facf6-3a58-4ecd-b23a-865c76329b56",
   "metadata": {},
   "outputs": [
    {
     "name": "stdout",
     "output_type": "stream",
     "text": [
      "200\n"
     ]
    }
   ],
   "source": [
    "import threading\n",
    "balance=200\n",
    "lock=threading.Lock()\n",
    "\n",
    "def deposit(amount,times,lock):\n",
    "    global balance\n",
    "    for _ in range(times):\n",
    "        lock.acquire()\n",
    "        balance+=amount\n",
    "        lock.release()\n",
    "\n",
    "def withdraw(amount,times,lock):\n",
    "    global balance\n",
    "    for _ in range(times):\n",
    "        lock.acquire()\n",
    "        balance-=amount\n",
    "        lock.release()\n",
    "        \n",
    "deposit_thread=threading.Thread(target=deposit,args=[1,1000000,lock])\n",
    "withdraw_thread=threading.Thread(target=withdraw,args=[1,1000000,lock])\n",
    "\n",
    "deposit_thread.start()\n",
    "withdraw_thread.start()\n",
    "\n",
    "deposit_thread.join()\n",
    "withdraw_thread.join()\n",
    "\n",
    "print(balance)\n"
   ]
  },
  {
   "cell_type": "code",
   "execution_count": null,
   "id": "5536582d-f391-410a-a989-097c2b2b3b23",
   "metadata": {},
   "outputs": [],
   "source": []
  }
 ],
 "metadata": {
  "kernelspec": {
   "display_name": "Python 3 (ipykernel)",
   "language": "python",
   "name": "python3"
  },
  "language_info": {
   "codemirror_mode": {
    "name": "ipython",
    "version": 3
   },
   "file_extension": ".py",
   "mimetype": "text/x-python",
   "name": "python",
   "nbconvert_exporter": "python",
   "pygments_lexer": "ipython3",
   "version": "3.10.8"
  }
 },
 "nbformat": 4,
 "nbformat_minor": 5
}
