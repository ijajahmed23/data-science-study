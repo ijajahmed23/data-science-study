{
 "cells": [
  {
   "cell_type": "code",
   "execution_count": 14,
   "id": "f973d729-5fdf-4bdc-abe7-da7b00d8ec9e",
   "metadata": {},
   "outputs": [],
   "source": [
    "import requests\n",
    "from bs4 import BeautifulSoup as bs\n",
    "from urllib.request import urlopen\n",
    "import logging"
   ]
  },
  {
   "cell_type": "code",
   "execution_count": 16,
   "id": "d25afcd9-571f-46c6-b5e3-b9db1415d6f4",
   "metadata": {},
   "outputs": [],
   "source": [
    "flipkart_url=\"https://www.flipkart.com/search?q=\"+\"iphone14maxpro\""
   ]
  },
  {
   "cell_type": "code",
   "execution_count": 17,
   "id": "24c2773f-2fff-465f-af0c-46ed3f274bc0",
   "metadata": {},
   "outputs": [
    {
     "data": {
      "text/plain": [
       "'https://www.flipkart.com/search?q=iphone14maxpro'"
      ]
     },
     "execution_count": 17,
     "metadata": {},
     "output_type": "execute_result"
    }
   ],
   "source": [
    "flipkart_url"
   ]
  },
  {
   "cell_type": "code",
   "execution_count": 18,
   "id": "1f55f490-75f5-41d7-95d1-3d6a7c963a11",
   "metadata": {},
   "outputs": [],
   "source": [
    "urlclient=urlopen(flipkart_url)"
   ]
  },
  {
   "cell_type": "code",
   "execution_count": 19,
   "id": "a1c3a143-6fb2-47c4-b115-73f68eec7946",
   "metadata": {},
   "outputs": [],
   "source": [
    "flipkart_page=urlclient.read()"
   ]
  },
  {
   "cell_type": "code",
   "execution_count": 20,
   "id": "6c6b950c-8972-42a8-9e95-b075b74bba18",
   "metadata": {},
   "outputs": [],
   "source": [
    "flipkart_html=bs(flipkart_page,'html.parser')"
   ]
  },
  {
   "cell_type": "code",
   "execution_count": 21,
   "id": "9ca4adc8-08bb-4ad2-ba70-941d27871246",
   "metadata": {},
   "outputs": [
    {
     "data": {
      "text/plain": [
       "'https://www.flipkart.com/apple-iphone-14-pro-max-gold-128-gb/p/itm898d084d8a65f?pid=MOBGHWFHGDS3H5S9&amp;lid=LSTMOBGHWFHGDS3H5S9JO90DA&amp;marketplace=FLIPKART&amp;q=iphone14maxpro&amp;store=tyy%2F4io&amp;srno=s_1_1&amp;otracker=search&amp;iid=9215c13d-12af-4726-b570-e7e8ceba0e27.MOBGHWFHGDS3H5S9.SEARCH&amp;ssid=drk98gres00000001677003381389&amp;qH=fbf1e18ecb52ad9f'"
      ]
     },
     "execution_count": 21,
     "metadata": {},
     "output_type": "execute_result"
    }
   ],
   "source": [
    "\"https://www.flipkart.com\"+\"/apple-iphone-14-pro-max-gold-128-gb/p/itm898d084d8a65f?pid=MOBGHWFHGDS3H5S9&amp;lid=LSTMOBGHWFHGDS3H5S9JO90DA&amp;marketplace=FLIPKART&amp;q=iphone14maxpro&amp;store=tyy%2F4io&amp;srno=s_1_1&amp;otracker=search&amp;iid=9215c13d-12af-4726-b570-e7e8ceba0e27.MOBGHWFHGDS3H5S9.SEARCH&amp;ssid=drk98gres00000001677003381389&amp;qH=fbf1e18ecb52ad9f\""
   ]
  },
  {
   "cell_type": "code",
   "execution_count": 23,
   "id": "265428ae-2b6b-455a-a835-6a6f8b82ca24",
   "metadata": {},
   "outputs": [],
   "source": [
    "bigbox=flipkart_html.find_all(\"div\",{\"class\":\"_1AtVbE col-12-12\"})"
   ]
  },
  {
   "cell_type": "code",
   "execution_count": 24,
   "id": "35be1a23-8e89-419e-ad4c-399153e727d8",
   "metadata": {},
   "outputs": [
    {
     "data": {
      "text/plain": [
       "29"
      ]
     },
     "execution_count": 24,
     "metadata": {},
     "output_type": "execute_result"
    }
   ],
   "source": [
    "len(bigbox)"
   ]
  },
  {
   "cell_type": "code",
   "execution_count": 32,
   "id": "297f883c-624a-4102-9a3b-1eaf299dcbb3",
   "metadata": {},
   "outputs": [],
   "source": [
    "del bigbox[0:2]"
   ]
  },
  {
   "cell_type": "code",
   "execution_count": 38,
   "id": "f484f3ca-10c9-44cb-abbd-1775b0f53bde",
   "metadata": {},
   "outputs": [],
   "source": [
    "productlink=\"https://www.flipkart.com\"+bigbox[0].div.div.div.a[\"href\"]"
   ]
  },
  {
   "cell_type": "code",
   "execution_count": 37,
   "id": "8104c2c8-370a-4f93-920c-f1bc3d9d62d2",
   "metadata": {},
   "outputs": [
    {
     "name": "stdout",
     "output_type": "stream",
     "text": [
      "https://www.flipkart.com/apple-iphone-14-pro-max-gold-128-gb/p/itm898d084d8a65f?pid=MOBGHWFHGDS3H5S9&lid=LSTMOBGHWFHGDS3H5S9JO90DA&marketplace=FLIPKART&q=iphone14maxpro&store=tyy%2F4io&srno=s_1_1&otracker=search&fm=organic&iid=ba544097-1d87-42e2-a644-bf4e85a6e69e.MOBGHWFHGDS3H5S9.SEARCH&ppt=None&ppn=None&ssid=5rhdlinmi80000001677004883073&qH=fbf1e18ecb52ad9f\n",
      "https://www.flipkart.com/apple-iphone-14-pro-max-deep-purple-256-gb/p/itm5d37f9e956ec7?pid=MOBGHWFHKTTFUQEH&lid=LSTMOBGHWFHKTTFUQEHOOGMRO&marketplace=FLIPKART&q=iphone14maxpro&store=tyy%2F4io&srno=s_1_2&otracker=search&fm=organic&iid=ba544097-1d87-42e2-a644-bf4e85a6e69e.MOBGHWFHKTTFUQEH.SEARCH&ppt=None&ppn=None&ssid=5rhdlinmi80000001677004883073&qH=fbf1e18ecb52ad9f\n",
      "https://www.flipkart.com/apple-iphone-14-pro-max-deep-purple-128-gb/p/itm5256789ae40c7?pid=MOBGHWFHCWHXRZZJ&lid=LSTMOBGHWFHCWHXRZZJNGJFTD&marketplace=FLIPKART&q=iphone14maxpro&store=tyy%2F4io&srno=s_1_3&otracker=search&fm=organic&iid=ba544097-1d87-42e2-a644-bf4e85a6e69e.MOBGHWFHCWHXRZZJ.SEARCH&ppt=None&ppn=None&ssid=5rhdlinmi80000001677004883073&qH=fbf1e18ecb52ad9f\n",
      "https://www.flipkart.com/apple-iphone-14-pro-max-space-black-128-gb/p/itm9aed88fe43457?pid=MOBGHWFHCNVGGMZF&lid=LSTMOBGHWFHCNVGGMZFHADKOT&marketplace=FLIPKART&q=iphone14maxpro&store=tyy%2F4io&srno=s_1_4&otracker=search&fm=organic&iid=ba544097-1d87-42e2-a644-bf4e85a6e69e.MOBGHWFHCNVGGMZF.SEARCH&ppt=None&ppn=None&ssid=5rhdlinmi80000001677004883073&qH=fbf1e18ecb52ad9f\n",
      "https://www.flipkart.com/apple-iphone-14-pro-max-silver-128-gb/p/itmb520f3bdf56d5?pid=MOBGHWFHXFGNUZJA&lid=LSTMOBGHWFHXFGNUZJAJYYEBE&marketplace=FLIPKART&q=iphone14maxpro&store=tyy%2F4io&srno=s_1_5&otracker=search&fm=organic&iid=ba544097-1d87-42e2-a644-bf4e85a6e69e.MOBGHWFHXFGNUZJA.SEARCH&ppt=None&ppn=None&ssid=5rhdlinmi80000001677004883073&qH=fbf1e18ecb52ad9f\n",
      "https://www.flipkart.com/apple-iphone-14-pro-max-space-black-1-tb/p/itm60b62b9408788?pid=MOBGHWFHSHH7UP2Y&lid=LSTMOBGHWFHSHH7UP2YTSCSQN&marketplace=FLIPKART&q=iphone14maxpro&store=tyy%2F4io&srno=s_1_6&otracker=search&fm=organic&iid=ba544097-1d87-42e2-a644-bf4e85a6e69e.MOBGHWFHSHH7UP2Y.SEARCH&ppt=None&ppn=None&ssid=5rhdlinmi80000001677004883073&qH=fbf1e18ecb52ad9f\n",
      "https://www.flipkart.com/apple-iphone-14-pro-max-deep-purple-512-gb/p/itmf7d9a6db35ddd?pid=MOBGHWFHK5GZRHS3&lid=LSTMOBGHWFHK5GZRHS3XOKI1D&marketplace=FLIPKART&q=iphone14maxpro&store=tyy%2F4io&srno=s_1_7&otracker=search&fm=organic&iid=ba544097-1d87-42e2-a644-bf4e85a6e69e.MOBGHWFHK5GZRHS3.SEARCH&ppt=None&ppn=None&ssid=5rhdlinmi80000001677004883073&qH=fbf1e18ecb52ad9f\n",
      "https://www.flipkart.com/apple-iphone-14-pro-max-silver-1-tb/p/itm674918cf10f1d?pid=MOBGHWFHHURZWVKE&lid=LSTMOBGHWFHHURZWVKEHJCEFO&marketplace=FLIPKART&q=iphone14maxpro&store=tyy%2F4io&srno=s_1_8&otracker=search&fm=organic&iid=ba544097-1d87-42e2-a644-bf4e85a6e69e.MOBGHWFHHURZWVKE.SEARCH&ppt=None&ppn=None&ssid=5rhdlinmi80000001677004883073&qH=fbf1e18ecb52ad9f\n",
      "https://www.flipkart.com/apple-iphone-14-pro-max-gold-1-tb/p/itm652c9ff84d759?pid=MOBGHWFHPFG8VNXS&lid=LSTMOBGHWFHPFG8VNXSXNDZ3U&marketplace=FLIPKART&q=iphone14maxpro&store=tyy%2F4io&srno=s_1_9&otracker=search&fm=organic&iid=ba544097-1d87-42e2-a644-bf4e85a6e69e.MOBGHWFHPFG8VNXS.SEARCH&ppt=None&ppn=None&ssid=5rhdlinmi80000001677004883073&qH=fbf1e18ecb52ad9f\n",
      "https://www.flipkart.com/apple-iphone-14-pro-max-silver-512-gb/p/itm450e8757732f9?pid=MOBGHWFHEQA2GSCS&lid=LSTMOBGHWFHEQA2GSCSRTXNPU&marketplace=FLIPKART&q=iphone14maxpro&store=tyy%2F4io&srno=s_1_10&otracker=search&fm=organic&iid=ba544097-1d87-42e2-a644-bf4e85a6e69e.MOBGHWFHEQA2GSCS.SEARCH&ppt=None&ppn=None&ssid=5rhdlinmi80000001677004883073&qH=fbf1e18ecb52ad9f\n",
      "https://www.flipkart.com/apple-iphone-14-pro-max-gold-512-gb/p/itm6ab4bc3095a65?pid=MOBGHWFHZAXBEPXV&lid=LSTMOBGHWFHZAXBEPXVDYYT8X&marketplace=FLIPKART&q=iphone14maxpro&store=tyy%2F4io&srno=s_1_11&otracker=search&fm=organic&iid=ba544097-1d87-42e2-a644-bf4e85a6e69e.MOBGHWFHZAXBEPXV.SEARCH&ppt=None&ppn=None&ssid=5rhdlinmi80000001677004883073&qH=fbf1e18ecb52ad9f\n",
      "https://www.flipkart.com/apple-iphone-14-pro-max-space-black-256-gb/p/itm8a92b3d600e04?pid=MOBGHWFHSEZUKWDM&lid=LSTMOBGHWFHSEZUKWDMSHQUPT&marketplace=FLIPKART&q=iphone14maxpro&store=tyy%2F4io&srno=s_1_12&otracker=search&fm=organic&iid=ba544097-1d87-42e2-a644-bf4e85a6e69e.MOBGHWFHSEZUKWDM.SEARCH&ppt=None&ppn=None&ssid=5rhdlinmi80000001677004883073&qH=fbf1e18ecb52ad9f\n",
      "https://www.flipkart.com/apple-iphone-14-pro-max-gold-256-gb/p/itmd21bfa03be8c2?pid=MOBGHWFHZVHJM4HZ&lid=LSTMOBGHWFHZVHJM4HZLWF9MT&marketplace=FLIPKART&q=iphone14maxpro&store=tyy%2F4io&srno=s_1_13&otracker=search&fm=organic&iid=ba544097-1d87-42e2-a644-bf4e85a6e69e.MOBGHWFHZVHJM4HZ.SEARCH&ppt=None&ppn=None&ssid=5rhdlinmi80000001677004883073&qH=fbf1e18ecb52ad9f\n",
      "https://www.flipkart.com/apple-iphone-14-pro-max-deep-purple-1-tb/p/itm325420078c46e?pid=MOBGHWFH7STEFFVC&lid=LSTMOBGHWFH7STEFFVCFQXUES&marketplace=FLIPKART&q=iphone14maxpro&store=tyy%2F4io&srno=s_1_14&otracker=search&fm=organic&iid=ba544097-1d87-42e2-a644-bf4e85a6e69e.MOBGHWFH7STEFFVC.SEARCH&ppt=None&ppn=None&ssid=5rhdlinmi80000001677004883073&qH=fbf1e18ecb52ad9f\n",
      "https://www.flipkart.com/apple-iphone-14-pro-max-space-black-512-gb/p/itm68fe95bfc58dd?pid=MOBGHWFHSTGZHYAT&lid=LSTMOBGHWFHSTGZHYATDCZBHP&marketplace=FLIPKART&q=iphone14maxpro&store=tyy%2F4io&srno=s_1_15&otracker=search&fm=organic&iid=ba544097-1d87-42e2-a644-bf4e85a6e69e.MOBGHWFHSTGZHYAT.SEARCH&ppt=None&ppn=None&ssid=5rhdlinmi80000001677004883073&qH=fbf1e18ecb52ad9f\n",
      "https://www.flipkart.com/apple-iphone-14-pro-max-silver-256-gb/p/itm111e35f4e1caa?pid=MOBGHWFHBERP6PNS&lid=LSTMOBGHWFHBERP6PNSLVMTQZ&marketplace=FLIPKART&q=iphone14maxpro&store=tyy%2F4io&srno=s_1_16&otracker=search&fm=organic&iid=ba544097-1d87-42e2-a644-bf4e85a6e69e.MOBGHWFHBERP6PNS.SEARCH&ppt=None&ppn=None&ssid=5rhdlinmi80000001677004883073&qH=fbf1e18ecb52ad9f\n",
      "https://www.flipkart.com/apple-iphone-12-pro-max-silver-512-gb/p/itm5d3d37892544f?pid=MOBFWBYZW38NGPNM&lid=LSTMOBFWBYZW38NGPNMWD1NPD&marketplace=FLIPKART&q=iphone14maxpro&store=tyy%2F4io&srno=s_1_17&otracker=search&fm=organic&iid=ba544097-1d87-42e2-a644-bf4e85a6e69e.MOBFWBYZW38NGPNM.SEARCH&ppt=None&ppn=None&ssid=5rhdlinmi80000001677004883073&qH=fbf1e18ecb52ad9f\n",
      "https://www.flipkart.com/apple-iphone-12-pro-max-pacific-blue-256-gb/p/itm3a0860c94250e?pid=MOBFWBYZ8STJXCVT&lid=LSTMOBFWBYZ8STJXCVTQTZADP&marketplace=FLIPKART&q=iphone14maxpro&store=tyy%2F4io&srno=s_1_18&otracker=search&fm=organic&iid=ba544097-1d87-42e2-a644-bf4e85a6e69e.MOBFWBYZ8STJXCVT.SEARCH&ppt=None&ppn=None&ssid=5rhdlinmi80000001677004883073&qH=fbf1e18ecb52ad9f\n",
      "https://www.flipkart.com/apple-iphone-12-pro-max-gold-512-gb/p/itmd164e2fef2871?pid=MOBFWBYZ4AG3FGNW&lid=LSTMOBFWBYZ4AG3FGNWL6UEHL&marketplace=FLIPKART&q=iphone14maxpro&store=tyy%2F4io&srno=s_1_19&otracker=search&fm=organic&iid=ba544097-1d87-42e2-a644-bf4e85a6e69e.MOBFWBYZ4AG3FGNW.SEARCH&ppt=None&ppn=None&ssid=5rhdlinmi80000001677004883073&qH=fbf1e18ecb52ad9f\n",
      "https://www.flipkart.com/apple-iphone-12-pro-max-graphite-128-gb/p/itm973c298184f51?pid=MOBFWBYZFDGQSDWS&lid=LSTMOBFWBYZFDGQSDWS6UBAEI&marketplace=FLIPKART&q=iphone14maxpro&store=tyy%2F4io&srno=s_1_20&otracker=search&fm=organic&iid=ba544097-1d87-42e2-a644-bf4e85a6e69e.MOBFWBYZFDGQSDWS.SEARCH&ppt=None&ppn=None&ssid=5rhdlinmi80000001677004883073&qH=fbf1e18ecb52ad9f\n",
      "https://www.flipkart.com/apple-iphone-12-pro-max-gold-128-gb/p/itme3ae592065711?pid=MOBFWBYZQVKT77YH&lid=LSTMOBFWBYZQVKT77YHP1ERRT&marketplace=FLIPKART&q=iphone14maxpro&store=tyy%2F4io&srno=s_1_21&otracker=search&fm=organic&iid=ba544097-1d87-42e2-a644-bf4e85a6e69e.MOBFWBYZQVKT77YH.SEARCH&ppt=None&ppn=None&ssid=5rhdlinmi80000001677004883073&qH=fbf1e18ecb52ad9f\n",
      "https://www.flipkart.com/apple-iphone-12-pro-max-graphite-512-gb/p/itm52a5e8e630441?pid=MOBFWBYZZZ6DWWFZ&lid=LSTMOBFWBYZZZ6DWWFZJWJVPK&marketplace=FLIPKART&q=iphone14maxpro&store=tyy%2F4io&srno=s_1_22&otracker=search&fm=organic&iid=ba544097-1d87-42e2-a644-bf4e85a6e69e.MOBFWBYZZZ6DWWFZ.SEARCH&ppt=None&ppn=None&ssid=5rhdlinmi80000001677004883073&qH=fbf1e18ecb52ad9f\n",
      "https://www.flipkart.com/apple-iphone-12-pro-max-silver-128-gb/p/itm5a51ba742a17e?pid=MOBFWBYZNSNVGGZC&lid=LSTMOBFWBYZNSNVGGZCTPGZZU&marketplace=FLIPKART&q=iphone14maxpro&store=tyy%2F4io&srno=s_1_23&otracker=search&fm=organic&iid=ba544097-1d87-42e2-a644-bf4e85a6e69e.MOBFWBYZNSNVGGZC.SEARCH&ppt=None&ppn=None&ssid=5rhdlinmi80000001677004883073&qH=fbf1e18ecb52ad9f\n",
      "https://www.flipkart.com/apple-iphone-12-pro-max-silver-256-gb/p/itm30faf74442adb?pid=MOBFWBYZZH4AM8FE&lid=LSTMOBFWBYZZH4AM8FETYFBOG&marketplace=FLIPKART&q=iphone14maxpro&store=tyy%2F4io&srno=s_1_24&otracker=search&fm=organic&iid=ba544097-1d87-42e2-a644-bf4e85a6e69e.MOBFWBYZZH4AM8FE.SEARCH&ppt=None&ppn=None&ssid=5rhdlinmi80000001677004883073&qH=fbf1e18ecb52ad9f\n"
     ]
    },
    {
     "ename": "AttributeError",
     "evalue": "'NoneType' object has no attribute 'a'",
     "output_type": "error",
     "traceback": [
      "\u001b[0;31m---------------------------------------------------------------------------\u001b[0m",
      "\u001b[0;31mAttributeError\u001b[0m                            Traceback (most recent call last)",
      "Cell \u001b[0;32mIn[37], line 2\u001b[0m\n\u001b[1;32m      1\u001b[0m \u001b[38;5;28;01mfor\u001b[39;00m i \u001b[38;5;129;01min\u001b[39;00m bigbox:\n\u001b[0;32m----> 2\u001b[0m     \u001b[38;5;28mprint\u001b[39m(\u001b[38;5;124m\"\u001b[39m\u001b[38;5;124mhttps://www.flipkart.com\u001b[39m\u001b[38;5;124m\"\u001b[39m\u001b[38;5;241m+\u001b[39m\u001b[43mi\u001b[49m\u001b[38;5;241;43m.\u001b[39;49m\u001b[43mdiv\u001b[49m\u001b[38;5;241;43m.\u001b[39;49m\u001b[43mdiv\u001b[49m\u001b[38;5;241;43m.\u001b[39;49m\u001b[43mdiv\u001b[49m\u001b[38;5;241;43m.\u001b[39;49m\u001b[43ma\u001b[49m[\u001b[38;5;124m\"\u001b[39m\u001b[38;5;124mhref\u001b[39m\u001b[38;5;124m\"\u001b[39m])\n",
      "\u001b[0;31mAttributeError\u001b[0m: 'NoneType' object has no attribute 'a'"
     ]
    }
   ],
   "source": [
    "for i in bigbox:\n",
    "    print(\"https://www.flipkart.com\"+i.div.div.div.a[\"href\"])"
   ]
  },
  {
   "cell_type": "code",
   "execution_count": 40,
   "id": "6fdf71e2-271c-43fb-94a1-51e24a43847e",
   "metadata": {},
   "outputs": [
    {
     "data": {
      "text/plain": [
       "'https://www.flipkart.com/apple-iphone-14-pro-max-gold-128-gb/p/itm898d084d8a65f?pid=MOBGHWFHGDS3H5S9&lid=LSTMOBGHWFHGDS3H5S9JO90DA&marketplace=FLIPKART&q=iphone14maxpro&store=tyy%2F4io&srno=s_1_1&otracker=search&fm=organic&iid=ba544097-1d87-42e2-a644-bf4e85a6e69e.MOBGHWFHGDS3H5S9.SEARCH&ppt=None&ppn=None&ssid=5rhdlinmi80000001677004883073&qH=fbf1e18ecb52ad9f'"
      ]
     },
     "execution_count": 40,
     "metadata": {},
     "output_type": "execute_result"
    }
   ],
   "source": [
    "productlink"
   ]
  },
  {
   "cell_type": "code",
   "execution_count": 39,
   "id": "667b7a4c-27cf-45c5-a1f8-a546e3e12b16",
   "metadata": {},
   "outputs": [],
   "source": [
    "product_request=requests.get(productlink)"
   ]
  },
  {
   "cell_type": "code",
   "execution_count": 45,
   "id": "c57a6bf3-eeee-4474-9a2a-a53da002efdd",
   "metadata": {},
   "outputs": [],
   "source": [
    "product_html=bs(product_request.text,'html.parser')"
   ]
  },
  {
   "cell_type": "code",
   "execution_count": 47,
   "id": "e685ead0-971c-4982-a10a-2e94b40501b8",
   "metadata": {},
   "outputs": [],
   "source": [
    "comment_box=product_html.find_all(\"div\",{\"class\":\"_16PBlm\"})"
   ]
  },
  {
   "cell_type": "code",
   "execution_count": 48,
   "id": "0d401ec1-08d0-4cef-8fe8-819d200f2b6f",
   "metadata": {},
   "outputs": [
    {
     "data": {
      "text/plain": [
       "11"
      ]
     },
     "execution_count": 48,
     "metadata": {},
     "output_type": "execute_result"
    }
   ],
   "source": [
    "len(comment_box)"
   ]
  },
  {
   "cell_type": "code",
   "execution_count": 52,
   "id": "686ff833-dcb4-4b88-b416-18b1f26aa079",
   "metadata": {},
   "outputs": [
    {
     "data": {
      "text/plain": [
       "'Sandhya Rani Mohapatra'"
      ]
     },
     "execution_count": 52,
     "metadata": {},
     "output_type": "execute_result"
    }
   ],
   "source": [
    "comment_box[0].div.div.find_all(\"p\",{\"class\":\"_2sc7ZR _2V5EHH\"})[0].text"
   ]
  },
  {
   "cell_type": "code",
   "execution_count": 53,
   "id": "071a2705-a9d4-4ba4-a268-b9050c6c3982",
   "metadata": {},
   "outputs": [
    {
     "name": "stdout",
     "output_type": "stream",
     "text": [
      "Sandhya Rani Mohapatra\n",
      "Jeevan Batla\n",
      "Priyam Gupta\n",
      "Abhishek Pushker\n",
      "Sumit Uttam\n",
      "Flipkart Customer\n",
      "Flipkart Customer\n",
      "dipam\n",
      "Taniya Poddar\n",
      "New world Order NWO\n"
     ]
    },
    {
     "ename": "AttributeError",
     "evalue": "'NoneType' object has no attribute 'div'",
     "output_type": "error",
     "traceback": [
      "\u001b[0;31m---------------------------------------------------------------------------\u001b[0m",
      "\u001b[0;31mAttributeError\u001b[0m                            Traceback (most recent call last)",
      "Cell \u001b[0;32mIn[53], line 2\u001b[0m\n\u001b[1;32m      1\u001b[0m \u001b[38;5;28;01mfor\u001b[39;00m i \u001b[38;5;129;01min\u001b[39;00m comment_box:\n\u001b[0;32m----> 2\u001b[0m     \u001b[38;5;28mprint\u001b[39m(\u001b[43mi\u001b[49m\u001b[38;5;241;43m.\u001b[39;49m\u001b[43mdiv\u001b[49m\u001b[38;5;241;43m.\u001b[39;49m\u001b[43mdiv\u001b[49m\u001b[38;5;241m.\u001b[39mfind_all(\u001b[38;5;124m\"\u001b[39m\u001b[38;5;124mp\u001b[39m\u001b[38;5;124m\"\u001b[39m,{\u001b[38;5;124m\"\u001b[39m\u001b[38;5;124mclass\u001b[39m\u001b[38;5;124m\"\u001b[39m:\u001b[38;5;124m\"\u001b[39m\u001b[38;5;124m_2sc7ZR _2V5EHH\u001b[39m\u001b[38;5;124m\"\u001b[39m})[\u001b[38;5;241m0\u001b[39m]\u001b[38;5;241m.\u001b[39mtext)\n",
      "\u001b[0;31mAttributeError\u001b[0m: 'NoneType' object has no attribute 'div'"
     ]
    }
   ],
   "source": [
    "for i in comment_box:\n",
    "    print(i.div.div.find_all(\"p\",{\"class\":\"_2sc7ZR _2V5EHH\"})[0].text)"
   ]
  },
  {
   "cell_type": "code",
   "execution_count": 58,
   "id": "50be2c43-41b7-4255-9fcb-b7dec798d370",
   "metadata": {},
   "outputs": [
    {
     "data": {
      "text/plain": [
       "'5'"
      ]
     },
     "execution_count": 58,
     "metadata": {},
     "output_type": "execute_result"
    }
   ],
   "source": [
    "comment_box[0].div.find_all(\"div\",{\"class\":\"_3LWZlK _1BLPMq\"})[0].text"
   ]
  },
  {
   "cell_type": "code",
   "execution_count": 63,
   "id": "e494771d-4b42-4eaf-93a7-d7eea69d83fc",
   "metadata": {},
   "outputs": [
    {
     "name": "stdout",
     "output_type": "stream",
     "text": [
      "5\n",
      "5\n",
      "5\n",
      "4\n",
      "5\n",
      "5\n",
      "5\n",
      "5\n",
      "5\n",
      "5\n"
     ]
    },
    {
     "ename": "AttributeError",
     "evalue": "'NoneType' object has no attribute 'find_all'",
     "output_type": "error",
     "traceback": [
      "\u001b[0;31m---------------------------------------------------------------------------\u001b[0m",
      "\u001b[0;31mAttributeError\u001b[0m                            Traceback (most recent call last)",
      "Cell \u001b[0;32mIn[63], line 2\u001b[0m\n\u001b[1;32m      1\u001b[0m \u001b[38;5;28;01mfor\u001b[39;00m i \u001b[38;5;129;01min\u001b[39;00m comment_box:\n\u001b[0;32m----> 2\u001b[0m     \u001b[38;5;28mprint\u001b[39m(\u001b[43mi\u001b[49m\u001b[38;5;241;43m.\u001b[39;49m\u001b[43mdiv\u001b[49m\u001b[38;5;241;43m.\u001b[39;49m\u001b[43mfind_all\u001b[49m(\u001b[38;5;124m\"\u001b[39m\u001b[38;5;124mdiv\u001b[39m\u001b[38;5;124m\"\u001b[39m,{\u001b[38;5;124m\"\u001b[39m\u001b[38;5;124mclass\u001b[39m\u001b[38;5;124m\"\u001b[39m:\u001b[38;5;124m\"\u001b[39m\u001b[38;5;124m_3LWZlK _1BLPMq\u001b[39m\u001b[38;5;124m\"\u001b[39m})[\u001b[38;5;241m0\u001b[39m]\u001b[38;5;241m.\u001b[39mtext)\n",
      "\u001b[0;31mAttributeError\u001b[0m: 'NoneType' object has no attribute 'find_all'"
     ]
    }
   ],
   "source": [
    "for i in comment_box:\n",
    "    print(i.div.find_all(\"div\",{\"class\":\"_3LWZlK _1BLPMq\"})[0].text)"
   ]
  },
  {
   "cell_type": "code",
   "execution_count": 60,
   "id": "5dffccef-ec98-4017-b3e9-2e36b995e666",
   "metadata": {},
   "outputs": [
    {
     "data": {
      "text/plain": [
       "'5'"
      ]
     },
     "execution_count": 60,
     "metadata": {},
     "output_type": "execute_result"
    }
   ],
   "source": [
    "comment_box[0].div.div.div.div.text"
   ]
  },
  {
   "cell_type": "code",
   "execution_count": 62,
   "id": "03167914-da59-4f22-a404-e329d1e23c86",
   "metadata": {},
   "outputs": [
    {
     "name": "stdout",
     "output_type": "stream",
     "text": [
      "5\n",
      "5\n",
      "5\n",
      "4\n",
      "5\n",
      "5\n",
      "5\n",
      "5\n",
      "5\n",
      "5\n"
     ]
    },
    {
     "ename": "AttributeError",
     "evalue": "'NoneType' object has no attribute 'div'",
     "output_type": "error",
     "traceback": [
      "\u001b[0;31m---------------------------------------------------------------------------\u001b[0m",
      "\u001b[0;31mAttributeError\u001b[0m                            Traceback (most recent call last)",
      "Cell \u001b[0;32mIn[62], line 2\u001b[0m\n\u001b[1;32m      1\u001b[0m \u001b[38;5;28;01mfor\u001b[39;00m i \u001b[38;5;129;01min\u001b[39;00m comment_box:\n\u001b[0;32m----> 2\u001b[0m     \u001b[38;5;28mprint\u001b[39m(\u001b[43mi\u001b[49m\u001b[38;5;241;43m.\u001b[39;49m\u001b[43mdiv\u001b[49m\u001b[38;5;241;43m.\u001b[39;49m\u001b[43mdiv\u001b[49m\u001b[38;5;241m.\u001b[39mdiv\u001b[38;5;241m.\u001b[39mdiv\u001b[38;5;241m.\u001b[39mtext)\n",
      "\u001b[0;31mAttributeError\u001b[0m: 'NoneType' object has no attribute 'div'"
     ]
    }
   ],
   "source": [
    "for i in comment_box:\n",
    "    print(i.div.div.div.div.text)"
   ]
  },
  {
   "cell_type": "code",
   "execution_count": 66,
   "id": "dc07f221-7158-43de-9de5-244b9d72bb56",
   "metadata": {},
   "outputs": [
    {
     "data": {
      "text/plain": [
       "'Just wow!'"
      ]
     },
     "execution_count": 66,
     "metadata": {},
     "output_type": "execute_result"
    }
   ],
   "source": [
    "comment_box[0].div.find_all(\"p\",{\"class\":\"_2-N8zT\"})[0].text"
   ]
  },
  {
   "cell_type": "code",
   "execution_count": 69,
   "id": "f129194c-a170-405b-b74e-3b1ec8afb119",
   "metadata": {},
   "outputs": [
    {
     "data": {
      "text/plain": [
       "'Just wow!'"
      ]
     },
     "execution_count": 69,
     "metadata": {},
     "output_type": "execute_result"
    }
   ],
   "source": [
    "comment_box[0].div.div.div.find_all(\"p\",{\"class\":\"_2-N8zT\"})[0].text"
   ]
  },
  {
   "cell_type": "code",
   "execution_count": 71,
   "id": "22fcf0a8-4e81-4ad7-838d-9b1e8476050c",
   "metadata": {},
   "outputs": [
    {
     "data": {
      "text/plain": [
       "'Just wow!'"
      ]
     },
     "execution_count": 71,
     "metadata": {},
     "output_type": "execute_result"
    }
   ],
   "source": [
    "comment_box[0].div.div.div.p.text"
   ]
  },
  {
   "cell_type": "code",
   "execution_count": 72,
   "id": "ab326746-96bf-47b5-8f0a-1a47326f98f1",
   "metadata": {},
   "outputs": [
    {
     "name": "stdout",
     "output_type": "stream",
     "text": [
      "Just wow!\n",
      "Terrific purchase\n",
      "Great product\n",
      "Very Good\n",
      "Super!\n",
      "Worth every penny\n",
      "Fabulous!\n",
      "Highly recommended\n",
      "Classy product\n",
      "Brilliant\n"
     ]
    },
    {
     "ename": "AttributeError",
     "evalue": "'NoneType' object has no attribute 'div'",
     "output_type": "error",
     "traceback": [
      "\u001b[0;31m---------------------------------------------------------------------------\u001b[0m",
      "\u001b[0;31mAttributeError\u001b[0m                            Traceback (most recent call last)",
      "Cell \u001b[0;32mIn[72], line 2\u001b[0m\n\u001b[1;32m      1\u001b[0m \u001b[38;5;28;01mfor\u001b[39;00m i \u001b[38;5;129;01min\u001b[39;00m comment_box:\n\u001b[0;32m----> 2\u001b[0m     \u001b[38;5;28mprint\u001b[39m(\u001b[43mi\u001b[49m\u001b[38;5;241;43m.\u001b[39;49m\u001b[43mdiv\u001b[49m\u001b[38;5;241;43m.\u001b[39;49m\u001b[43mdiv\u001b[49m\u001b[38;5;241m.\u001b[39mdiv\u001b[38;5;241m.\u001b[39mp\u001b[38;5;241m.\u001b[39mtext)\n",
      "\u001b[0;31mAttributeError\u001b[0m: 'NoneType' object has no attribute 'div'"
     ]
    }
   ],
   "source": [
    "for i in comment_box:\n",
    "    print(i.div.div.div.p.text)"
   ]
  },
  {
   "cell_type": "code",
   "execution_count": 75,
   "id": "2cfb3ce0-071c-4e73-b58c-a1140bc2cb22",
   "metadata": {},
   "outputs": [
    {
     "data": {
      "text/plain": [
       "'Finally after long wait I got my 512 GB IPhone 14 Pro Max, Deep Purple Colour. Superb Camera quality. Looks Premium. Upgraded from IPhone XR. Battery backup is nice. Thank you Flipkart for timely delivery.READ MORE'"
      ]
     },
     "execution_count": 75,
     "metadata": {},
     "output_type": "execute_result"
    }
   ],
   "source": [
    "comment_box[0].div.div.find_all(\"div\",{\"class\":\"\"})[0].text"
   ]
  },
  {
   "cell_type": "code",
   "execution_count": 76,
   "id": "1db1735d-0256-4dc1-9b0e-39db829a33ae",
   "metadata": {},
   "outputs": [
    {
     "name": "stdout",
     "output_type": "stream",
     "text": [
      "Finally after long wait I got my 512 GB IPhone 14 Pro Max, Deep Purple Colour. Superb Camera quality. Looks Premium. Upgraded from IPhone XR. Battery backup is nice. Thank you Flipkart for timely delivery.READ MORE\n",
      "Madly in love with the phone performance is blazing fast I love the pro motion display and dynamic island works as advertised I am in love with that feature 😍 I would like to thank Flipkart for organising the stock for me and delivering my phone on time before the delivery dateREAD MORE\n",
      "One of the best Smartphone you can buy right now.Let's start with the Pros of the phone:-Dynamic Island is a joy-Always-on screen is gorgeous-Exquisitely premium design-Beautiful 120Hz display-Incredible 48+12+12+12 MP camera system-Blistering performance-Outstanding battery life-Robust iOS 16 softwareNow let's talk a little about the Cons:-One of the heaviest phones you can buy-ExpensiveREAD MORE\n",
      "I think there is much hype created for the camera and the dynamic island. If I talk about camera, I have gotten better images with iPhone 13 in comparison to iPhone 14 Pro Max. Design and build is damn good for sure. Display is crisp and clear. Feels premium when you hold it. But it is heavy, so could feel a lot of weight in your hands. Sound is great with the onboard speakers. It is loud and clear. However if you want to feel bass do use a headphone or AirPods.READ MORE\n",
      "I purchased iphone first time. I loved the camera quality. But I would ask apple to please provide a feature guide. So we know how to utilize iphone fully and feel like it's worth paying lacs of rupees.READ MORE\n",
      "The phone is amazing and thank you Flipkart for the safe and timely delivery 😍READ MORE\n",
      "Awsum Perfect product from apple 👍🏼READ MORE\n",
      "Very nice 👌 Awesome 👌READ MORE\n",
      "Awesome camera quality. Just love it.READ MORE\n",
      "Bought 1TB pro Max .... Op product..... Delivered safely and effectively... Thank you ❤️READ MORE\n"
     ]
    },
    {
     "ename": "AttributeError",
     "evalue": "'NoneType' object has no attribute 'div'",
     "output_type": "error",
     "traceback": [
      "\u001b[0;31m---------------------------------------------------------------------------\u001b[0m",
      "\u001b[0;31mAttributeError\u001b[0m                            Traceback (most recent call last)",
      "Cell \u001b[0;32mIn[76], line 2\u001b[0m\n\u001b[1;32m      1\u001b[0m \u001b[38;5;28;01mfor\u001b[39;00m i \u001b[38;5;129;01min\u001b[39;00m comment_box:\n\u001b[0;32m----> 2\u001b[0m     \u001b[38;5;28mprint\u001b[39m(\u001b[43mi\u001b[49m\u001b[38;5;241;43m.\u001b[39;49m\u001b[43mdiv\u001b[49m\u001b[38;5;241;43m.\u001b[39;49m\u001b[43mdiv\u001b[49m\u001b[38;5;241m.\u001b[39mfind_all(\u001b[38;5;124m\"\u001b[39m\u001b[38;5;124mdiv\u001b[39m\u001b[38;5;124m\"\u001b[39m,{\u001b[38;5;124m\"\u001b[39m\u001b[38;5;124mclass\u001b[39m\u001b[38;5;124m\"\u001b[39m:\u001b[38;5;124m\"\u001b[39m\u001b[38;5;124m\"\u001b[39m})[\u001b[38;5;241m0\u001b[39m]\u001b[38;5;241m.\u001b[39mtext)\n",
      "\u001b[0;31mAttributeError\u001b[0m: 'NoneType' object has no attribute 'div'"
     ]
    }
   ],
   "source": [
    "for i in comment_box:\n",
    "    print(i.div.div.find_all(\"div\",{\"class\":\"\"})[0].text)"
   ]
  },
  {
   "cell_type": "code",
   "execution_count": null,
   "id": "e61ed04f-35ec-4b3d-8ad6-619b88d0f456",
   "metadata": {},
   "outputs": [],
   "source": []
  }
 ],
 "metadata": {
  "kernelspec": {
   "display_name": "Python 3 (ipykernel)",
   "language": "python",
   "name": "python3"
  },
  "language_info": {
   "codemirror_mode": {
    "name": "ipython",
    "version": 3
   },
   "file_extension": ".py",
   "mimetype": "text/x-python",
   "name": "python",
   "nbconvert_exporter": "python",
   "pygments_lexer": "ipython3",
   "version": "3.10.8"
  }
 },
 "nbformat": 4,
 "nbformat_minor": 5
}
