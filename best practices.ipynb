{
 "cells": [
  {
   "cell_type": "code",
   "execution_count": 3,
   "id": "0dbd2e13-4f90-4f22-a3fa-1052c09275f9",
   "metadata": {},
   "outputs": [
    {
     "name": "stdout",
     "output_type": "stream",
     "text": [
      "division by zero\n"
     ]
    }
   ],
   "source": [
    "#always use a specific exception\n",
    "try:\n",
    "    10/0\n",
    "except Exception as e:  #this is not production grade code\n",
    "    print(e)"
   ]
  },
  {
   "cell_type": "code",
   "execution_count": 5,
   "id": "b74b9757-b907-4dd5-bb20-318f0d1fee28",
   "metadata": {},
   "outputs": [
    {
     "name": "stdout",
     "output_type": "stream",
     "text": [
      "division by zero\n"
     ]
    }
   ],
   "source": [
    "try:\n",
    "    10/0\n",
    "except ZeroDivisionError as e:  #this is specific error..best practice\n",
    "    print(e)"
   ]
  },
  {
   "cell_type": "code",
   "execution_count": 6,
   "id": "f7150a15-8e33-4753-934d-8f96c54894ec",
   "metadata": {},
   "outputs": [
    {
     "name": "stdout",
     "output_type": "stream",
     "text": [
      "this is my zero division errpr  division by zero\n"
     ]
    }
   ],
   "source": [
    "#always print a valis messasge\n",
    "try:\n",
    "    10/0\n",
    "except ZeroDivisionError as e:\n",
    "    print(\"this is my zero division errpr \",e)"
   ]
  },
  {
   "cell_type": "code",
   "execution_count": 7,
   "id": "12632bd7-4198-4b9d-99f3-da9b067e3374",
   "metadata": {},
   "outputs": [],
   "source": [
    "#always try to log\n",
    "import logging\n",
    "logging.basicConfig(filename=\"error.log\",level=logging.ERROR)\n",
    "try:\n",
    "    10/0\n",
    "except ZeroDivisionError as e:\n",
    "    logging.error(\"this is a zero division error: {}\".format(e))\n"
   ]
  },
  {
   "cell_type": "code",
   "execution_count": 12,
   "id": "627ae455-397d-48e5-8ddb-537b3255261e",
   "metadata": {},
   "outputs": [],
   "source": [
    "#always avoid writing multiple exception handling\n",
    "import logging\n",
    "logging.basicConfig(filename=\"error_test.log\",level=logging.ERROR)\n",
    "try:\n",
    "    10/0\n",
    "except FileNotFoundError as e:\n",
    "    logging.error(\"this is my file not found error: {}\".format(e))\n",
    "except ZeroDivisionError as v:\n",
    "    logging.error(\"this is my zero division error: {}\".format(v))"
   ]
  },
  {
   "cell_type": "code",
   "execution_count": 13,
   "id": "ab1ba9ed-964c-41a7-bc24-c8c0c6cb44a0",
   "metadata": {},
   "outputs": [],
   "source": [
    "#Wprepare a proper documentation"
   ]
  },
  {
   "cell_type": "code",
   "execution_count": 17,
   "id": "639d557c-9539-4f62-bd3e-ff2c4fc98bce",
   "metadata": {},
   "outputs": [],
   "source": [
    "#clean up all the resources\n",
    "\n",
    "try:\n",
    "    with open(\"test.txt\",\"w\") as f:\n",
    "        f.write(\"this is my message to file\")\n",
    "except FileNotFounderror as e:\n",
    "    logging.error(\"this is my file not found error {}\".format(e))\n",
    "finally:\n",
    "    f.close()"
   ]
  },
  {
   "cell_type": "code",
   "execution_count": null,
   "id": "b164404d-195d-40f2-8dab-dd45c13fbf4e",
   "metadata": {},
   "outputs": [],
   "source": []
  }
 ],
 "metadata": {
  "kernelspec": {
   "display_name": "Python 3 (ipykernel)",
   "language": "python",
   "name": "python3"
  },
  "language_info": {
   "codemirror_mode": {
    "name": "ipython",
    "version": 3
   },
   "file_extension": ".py",
   "mimetype": "text/x-python",
   "name": "python",
   "nbconvert_exporter": "python",
   "pygments_lexer": "ipython3",
   "version": "3.10.8"
  }
 },
 "nbformat": 4,
 "nbformat_minor": 5
}
