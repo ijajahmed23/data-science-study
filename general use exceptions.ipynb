{
 "cells": [
  {
   "cell_type": "code",
   "execution_count": 1,
   "id": "86d1eb99-da08-45f6-9b63-9c9e163cfa8a",
   "metadata": {},
   "outputs": [],
   "source": [
    "class validateage(Exception):\n",
    "    def __init__(self,msg):\n",
    "        self.msg=msg"
   ]
  },
  {
   "cell_type": "code",
   "execution_count": 2,
   "id": "998e9a6d-3cba-45bf-b74b-236cef507c46",
   "metadata": {},
   "outputs": [],
   "source": [
    "def validate_age(age):\n",
    "    if age<=0:\n",
    "        raise validateage(\"age vcannot be negative\")\n",
    "    elif age>200:\n",
    "        raise validateage(\"age too high\")\n",
    "    else:\n",
    "        raise validateage(\"yes, valid age!\")"
   ]
  },
  {
   "cell_type": "code",
   "execution_count": 3,
   "id": "e4f0a39c-b5ca-464f-829a-d61fa46f21a1",
   "metadata": {},
   "outputs": [
    {
     "name": "stdin",
     "output_type": "stream",
     "text": [
      "Enter your age: 10\n"
     ]
    },
    {
     "name": "stdout",
     "output_type": "stream",
     "text": [
      "yes, valid age!\n",
      "this will always be executed\n"
     ]
    }
   ],
   "source": [
    "try:\n",
    "    n=int(input(\"Enter your age:\"))\n",
    "    validate_age(n)\n",
    "except validateage as v:\n",
    "    print(v)\n",
    "finally:\n",
    "    print(\"this will always be executed\")"
   ]
  },
  {
   "cell_type": "code",
   "execution_count": 4,
   "id": "ae835bbc-8996-4827-8e6c-79c28b3cb1d9",
   "metadata": {},
   "outputs": [
    {
     "name": "stdout",
     "output_type": "stream",
     "text": [
      "division by zero\n"
     ]
    }
   ],
   "source": [
    "try:\n",
    "    a=10\n",
    "    10/0\n",
    "except ZeroDivisionError as e:\n",
    "    print(e)"
   ]
  },
  {
   "cell_type": "code",
   "execution_count": 6,
   "id": "4b3a2c63-ff0a-4154-af0f-0d87041ae6b0",
   "metadata": {},
   "outputs": [
    {
     "name": "stdout",
     "output_type": "stream",
     "text": [
      "invalid literal for int() with base 10: 'ijaj'\n"
     ]
    }
   ],
   "source": [
    "try:\n",
    "    int(\"ijaj\")\n",
    "except (ValueError, TypeError) as e:\n",
    "    print(e)"
   ]
  },
  {
   "cell_type": "code",
   "execution_count": 7,
   "id": "d0925587-4d82-4a50-9272-f4452651ad2e",
   "metadata": {},
   "outputs": [
    {
     "name": "stdout",
     "output_type": "stream",
     "text": [
      "No module named 'ijaj'\n"
     ]
    }
   ],
   "source": [
    "try:\n",
    "    import ijaj\n",
    "except ImportError as e:\n",
    "    print(e)"
   ]
  },
  {
   "cell_type": "code",
   "execution_count": 8,
   "id": "e902f281-5056-46ff-a3e2-5ab0daf6b952",
   "metadata": {},
   "outputs": [
    {
     "name": "stdout",
     "output_type": "stream",
     "text": [
      "'key2'\n"
     ]
    }
   ],
   "source": [
    "try:\n",
    "    d={1:[3,4,5,6],\"key\":\"ijaj\"}\n",
    "    d[\"key2\"]\n",
    "except KeyError as e:\n",
    "    print(e)\n",
    "       "
   ]
  },
  {
   "cell_type": "code",
   "execution_count": 9,
   "id": "a69333df-56e8-4332-9845-329a01fdc626",
   "metadata": {},
   "outputs": [
    {
     "name": "stdout",
     "output_type": "stream",
     "text": [
      "'str' object has no attribute 'test'\n"
     ]
    }
   ],
   "source": [
    "try:\n",
    "    \"ijaj\".test()\n",
    "except AttributeError as e:\n",
    "    print(e)"
   ]
  },
  {
   "cell_type": "code",
   "execution_count": 11,
   "id": "ecaee0bd-4dae-4335-b571-d448c1a64f1f",
   "metadata": {},
   "outputs": [
    {
     "name": "stdout",
     "output_type": "stream",
     "text": [
      "list index out of range\n"
     ]
    }
   ],
   "source": [
    "try:\n",
    "    l=[1,2,3,4]\n",
    "    l[10]\n",
    "except IndexError as e:\n",
    "    print(e)"
   ]
  },
  {
   "cell_type": "code",
   "execution_count": 12,
   "id": "46dab0c0-049a-4076-8e18-26330475ac6e",
   "metadata": {},
   "outputs": [
    {
     "name": "stdout",
     "output_type": "stream",
     "text": [
      "unsupported operand type(s) for +: 'int' and 'str'\n"
     ]
    }
   ],
   "source": [
    "try:\n",
    "    123+\"ijaj\"\n",
    "except TypeError as e:\n",
    "    print(e)"
   ]
  },
  {
   "cell_type": "code",
   "execution_count": 13,
   "id": "2d97c085-c650-42c9-8623-35d92356a75f",
   "metadata": {},
   "outputs": [
    {
     "name": "stdout",
     "output_type": "stream",
     "text": [
      "[Errno 2] No such file or directory: 'test.txt'\n"
     ]
    }
   ],
   "source": [
    "try:\n",
    "    with open(\"test.txt\",\"r\") as f:\n",
    "        f.read()\n",
    "except FileNotFoundError as e:\n",
    "    print(e)"
   ]
  },
  {
   "cell_type": "code",
   "execution_count": 16,
   "id": "5c9ac89d-ed76-45f2-9d02-5e3536860559",
   "metadata": {},
   "outputs": [
    {
     "name": "stdout",
     "output_type": "stream",
     "text": [
      "test [Errno 2] No such file or directory: 'test.txt'\n"
     ]
    }
   ],
   "source": [
    "try:\n",
    "    with open(\"test.txt\",\"r\") as f:\n",
    "        f.read()\n",
    "except Exception as e:   #never write superclass in first place...keep superclass at end of all the errors if there is a doubt\n",
    "    print(\"test\",e)\n",
    "except FileNotFoundError as v:\n",
    "    print(\"this error is file not found error\"v)"
   ]
  },
  {
   "cell_type": "code",
   "execution_count": 18,
   "id": "89af7f20-34c1-423c-b899-0a3d45234c93",
   "metadata": {},
   "outputs": [],
   "source": [
    "def test(file):\n",
    "    try:\n",
    "        with open(file,\"r\") as f:\n",
    "            f.read()\n",
    "    except FileNotFoundError as e:\n",
    "        print(\"this is file not found error \",e)\n",
    "    except Exception as v:\n",
    "        print(\"this is exception error \",v)"
   ]
  },
  {
   "cell_type": "code",
   "execution_count": 19,
   "id": "f95bf8d6-6f31-418f-931a-3b61fe820678",
   "metadata": {},
   "outputs": [],
   "source": [
    "a=test(\"file.txt\")"
   ]
  },
  {
   "cell_type": "code",
   "execution_count": 20,
   "id": "f6d63a61-7c1d-4634-945d-229e1d07fba4",
   "metadata": {},
   "outputs": [],
   "source": []
  },
  {
   "cell_type": "code",
   "execution_count": null,
   "id": "cce452d9-4461-42ce-ae1c-960b0f549017",
   "metadata": {},
   "outputs": [],
   "source": []
  }
 ],
 "metadata": {
  "kernelspec": {
   "display_name": "Python 3 (ipykernel)",
   "language": "python",
   "name": "python3"
  },
  "language_info": {
   "codemirror_mode": {
    "name": "ipython",
    "version": 3
   },
   "file_extension": ".py",
   "mimetype": "text/x-python",
   "name": "python",
   "nbconvert_exporter": "python",
   "pygments_lexer": "ipython3",
   "version": "3.10.8"
  }
 },
 "nbformat": 4,
 "nbformat_minor": 5
}
