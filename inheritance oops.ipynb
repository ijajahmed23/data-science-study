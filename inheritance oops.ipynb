{
 "cells": [
  {
   "cell_type": "code",
   "execution_count": 1,
   "id": "eb892446-a420-4f51-8dd7-5f3f8a01a569",
   "metadata": {},
   "outputs": [],
   "source": [
    "class User:\n",
    "    \n",
    "    def login(self):\n",
    "        print(\"login\")\n",
    "        \n",
    "    def  register(self):\n",
    "        print(\"register\")\n",
    "        \n",
    "    \n",
    "class Student(User):  #Student class is a sub-class of User class....Student inherited(can access) from parent User.\n",
    "    \n",
    "    def enroll(self):\n",
    "        print(\"enroll\")\n",
    "        \n",
    "    def review(self):\n",
    "        print(\"review\")"
   ]
  },
  {
   "cell_type": "code",
   "execution_count": 2,
   "id": "701c2d8c-c593-4794-bcb7-de158af20e46",
   "metadata": {},
   "outputs": [],
   "source": [
    "stu1=Student()"
   ]
  },
  {
   "cell_type": "code",
   "execution_count": 3,
   "id": "c3a2f6b8-ff84-4a90-893a-1c01e2a0120b",
   "metadata": {},
   "outputs": [
    {
     "name": "stdout",
     "output_type": "stream",
     "text": [
      "enroll\n"
     ]
    }
   ],
   "source": [
    "stu1.enroll()"
   ]
  },
  {
   "cell_type": "code",
   "execution_count": 4,
   "id": "f600ffc5-6d5d-42e1-8767-3cb94b541988",
   "metadata": {},
   "outputs": [
    {
     "name": "stdout",
     "output_type": "stream",
     "text": [
      "login\n"
     ]
    }
   ],
   "source": [
    "stu1.login()"
   ]
  },
  {
   "cell_type": "code",
   "execution_count": 9,
   "id": "c9d58693-f523-42e8-af35-2332dcc33dba",
   "metadata": {},
   "outputs": [
    {
     "name": "stdout",
     "output_type": "stream",
     "text": [
      "register\n"
     ]
    }
   ],
   "source": [
    "stu1.register()"
   ]
  },
  {
   "cell_type": "code",
   "execution_count": 10,
   "id": "f7a063a6-c3ff-4e8a-8b05-8a1a52a21237",
   "metadata": {},
   "outputs": [
    {
     "name": "stdout",
     "output_type": "stream",
     "text": [
      "review\n"
     ]
    }
   ],
   "source": [
    "stu1.review()"
   ]
  },
  {
   "cell_type": "code",
   "execution_count": 5,
   "id": "c8a60894-b1d1-4b89-9733-70bc57e2e916",
   "metadata": {},
   "outputs": [],
   "source": [
    "usr=User()"
   ]
  },
  {
   "cell_type": "code",
   "execution_count": 6,
   "id": "8e743d25-6b7e-466e-bcda-2039b4fbfc42",
   "metadata": {},
   "outputs": [
    {
     "name": "stdout",
     "output_type": "stream",
     "text": [
      "login\n"
     ]
    }
   ],
   "source": [
    "usr.login()"
   ]
  },
  {
   "cell_type": "code",
   "execution_count": 7,
   "id": "c2b4361f-ca3b-43bf-b5e9-3b1f1fda9b6c",
   "metadata": {},
   "outputs": [
    {
     "name": "stdout",
     "output_type": "stream",
     "text": [
      "register\n"
     ]
    }
   ],
   "source": [
    "usr.register()"
   ]
  },
  {
   "cell_type": "code",
   "execution_count": 8,
   "id": "0a945a4a-ee80-4bac-9c1e-2cbfaa054ce4",
   "metadata": {},
   "outputs": [
    {
     "ename": "AttributeError",
     "evalue": "'User' object has no attribute 'enroll'",
     "output_type": "error",
     "traceback": [
      "\u001b[0;31m---------------------------------------------------------------------------\u001b[0m",
      "\u001b[0;31mAttributeError\u001b[0m                            Traceback (most recent call last)",
      "Cell \u001b[0;32mIn[8], line 1\u001b[0m\n\u001b[0;32m----> 1\u001b[0m \u001b[43musr\u001b[49m\u001b[38;5;241;43m.\u001b[39;49m\u001b[43menroll\u001b[49m()\n",
      "\u001b[0;31mAttributeError\u001b[0m: 'User' object has no attribute 'enroll'"
     ]
    }
   ],
   "source": [
    "usr.enroll()"
   ]
  },
  {
   "cell_type": "markdown",
   "id": "d5e90f1a-3d5f-46a2-8750-29dce1d4f93b",
   "metadata": {},
   "source": [
    "##Inheriting Constructor"
   ]
  },
  {
   "cell_type": "code",
   "execution_count": 1,
   "id": "92c6794f-4643-49bc-b8bc-95df01cc9ea3",
   "metadata": {},
   "outputs": [],
   "source": [
    "class Phone:\n",
    "    \n",
    "    def __init__(self,price,brand,camera):\n",
    "        print(\"inside phone constructor\")\n",
    "        self.price=price\n",
    "        self.brand=brand\n",
    "        self.camera=camera\n",
    "        \n",
    "    def buy(self):\n",
    "        print(\"buying a phone\")\n",
    "        \n",
    "    def return_phone(self):\n",
    "        print(\"returniong a phone\")\n",
    "        \n",
    "class FeaturePhone(Phone):\n",
    "    pass\n",
    "\n",
    "class SmartPhone(Phone):\n",
    "    pass\n",
    "\n",
    "\n",
    "    \n",
    "        \n",
    "        "
   ]
  },
  {
   "cell_type": "code",
   "execution_count": 2,
   "id": "d80c192e-69cc-4cb0-b94d-c2444d34c2fa",
   "metadata": {},
   "outputs": [
    {
     "name": "stdout",
     "output_type": "stream",
     "text": [
      "inside phone constructor\n"
     ]
    }
   ],
   "source": [
    "s=SmartPhone(100000,\"apple\",50)"
   ]
  },
  {
   "cell_type": "code",
   "execution_count": 3,
   "id": "90a2a18d-cc53-4a9d-9c16-13344ee1563d",
   "metadata": {},
   "outputs": [
    {
     "name": "stdout",
     "output_type": "stream",
     "text": [
      "buying a phone\n"
     ]
    }
   ],
   "source": [
    "s.buy()"
   ]
  },
  {
   "cell_type": "code",
   "execution_count": 13,
   "id": "2137c9c1-f8af-4d51-87c1-a9047a5a7e6c",
   "metadata": {},
   "outputs": [
    {
     "name": "stdout",
     "output_type": "stream",
     "text": [
      "apple\n"
     ]
    }
   ],
   "source": [
    "print(s.brand)"
   ]
  },
  {
   "cell_type": "markdown",
   "id": "3147bcd6-f373-4182-965c-2b78ea0f4465",
   "metadata": {},
   "source": [
    "##Inhereting private members"
   ]
  },
  {
   "cell_type": "code",
   "execution_count": 1,
   "id": "7664fd5a-351f-4053-bbba-ef660cbf0db7",
   "metadata": {},
   "outputs": [],
   "source": [
    "class Phone:\n",
    "    def __init__(self,brand,model,price):\n",
    "        print(\"inside phone constructor\")\n",
    "        self.__brand=brand\n",
    "        self.model=model\n",
    "        self.price=price\n",
    "        \n",
    "    def buy_phone(self):\n",
    "        print(\"buying a phone\")\n",
    "        \n",
    "    def return_phone(self):\n",
    "        print(\"returning a phone\")\n",
    "        \n",
    "class SmartPhone(Phone):\n",
    "    def buy_phone(self):                ###METHOD OVERRIDING(POLYMORPHISM)\n",
    "        print(\"buying a smartphone\")\n",
    "    \n",
    "class FeaturePhone(Phone):\n",
    "    pass"
   ]
  },
  {
   "cell_type": "code",
   "execution_count": 2,
   "id": "01e43b4e-90c9-4204-8d17-668c1d641cbf",
   "metadata": {},
   "outputs": [
    {
     "name": "stdout",
     "output_type": "stream",
     "text": [
      "inside phone constructor\n"
     ]
    }
   ],
   "source": [
    "a=FeaturePhone(\"oneplus\",\"nord 2\",30000)"
   ]
  },
  {
   "cell_type": "code",
   "execution_count": 3,
   "id": "9bf54965-8697-458c-8176-6afe7872ad3d",
   "metadata": {},
   "outputs": [
    {
     "ename": "AttributeError",
     "evalue": "'FeaturePhone' object has no attribute 'brand'",
     "output_type": "error",
     "traceback": [
      "\u001b[0;31m---------------------------------------------------------------------------\u001b[0m",
      "\u001b[0;31mAttributeError\u001b[0m                            Traceback (most recent call last)",
      "Cell \u001b[0;32mIn[3], line 1\u001b[0m\n\u001b[0;32m----> 1\u001b[0m \u001b[43ma\u001b[49m\u001b[38;5;241;43m.\u001b[39;49m\u001b[43mbrand\u001b[49m\n",
      "\u001b[0;31mAttributeError\u001b[0m: 'FeaturePhone' object has no attribute 'brand'"
     ]
    }
   ],
   "source": [
    "a.brand"
   ]
  },
  {
   "cell_type": "code",
   "execution_count": 12,
   "id": "379618c2-c613-437f-84fc-dd88c173a5ba",
   "metadata": {},
   "outputs": [
    {
     "data": {
      "text/plain": [
       "'nord 2'"
      ]
     },
     "execution_count": 12,
     "metadata": {},
     "output_type": "execute_result"
    }
   ],
   "source": [
    "a.model"
   ]
  },
  {
   "cell_type": "code",
   "execution_count": 13,
   "id": "f7e76e32-3de3-49c1-9269-09f135f2adc7",
   "metadata": {},
   "outputs": [
    {
     "data": {
      "text/plain": [
       "30000"
      ]
     },
     "execution_count": 13,
     "metadata": {},
     "output_type": "execute_result"
    }
   ],
   "source": [
    "a.price"
   ]
  },
  {
   "cell_type": "code",
   "execution_count": 14,
   "id": "b956fcc7-6ae8-4bbc-9eb9-75948e7a3541",
   "metadata": {},
   "outputs": [
    {
     "name": "stdout",
     "output_type": "stream",
     "text": [
      "buying a phone\n"
     ]
    }
   ],
   "source": [
    "a.buy_phone()"
   ]
  },
  {
   "cell_type": "code",
   "execution_count": 15,
   "id": "ff375133-bd7c-4f4b-8b3c-c22bd90ad483",
   "metadata": {},
   "outputs": [
    {
     "name": "stdout",
     "output_type": "stream",
     "text": [
      "inside phone constructor\n"
     ]
    }
   ],
   "source": [
    "b=SmartPhone(\"oneplus\",\"nord 2\",30000)"
   ]
  },
  {
   "cell_type": "code",
   "execution_count": 18,
   "id": "0ba27a7c-de10-422e-9b93-d8a8fc2cbddf",
   "metadata": {},
   "outputs": [
    {
     "data": {
      "text/plain": [
       "'oneplus'"
      ]
     },
     "execution_count": 18,
     "metadata": {},
     "output_type": "execute_result"
    }
   ],
   "source": [
    "b._Phone__brand"
   ]
  },
  {
   "cell_type": "code",
   "execution_count": 19,
   "id": "b8c0c811-e828-42b6-a6ac-751ab6fd300b",
   "metadata": {},
   "outputs": [
    {
     "data": {
      "text/plain": [
       "30000"
      ]
     },
     "execution_count": 19,
     "metadata": {},
     "output_type": "execute_result"
    }
   ],
   "source": [
    "b.price"
   ]
  },
  {
   "cell_type": "code",
   "execution_count": 4,
   "id": "6ba1f79d-4ff8-4889-a165-02da2b20b71e",
   "metadata": {},
   "outputs": [
    {
     "name": "stdout",
     "output_type": "stream",
     "text": [
      "inside phone constructor\n"
     ]
    }
   ],
   "source": [
    "c=SmartPhone(\"samsung\",\"latest\",40000)"
   ]
  },
  {
   "cell_type": "code",
   "execution_count": 5,
   "id": "beddca8b-1b14-4fa9-a0bb-0c4fb897d465",
   "metadata": {},
   "outputs": [
    {
     "name": "stdout",
     "output_type": "stream",
     "text": [
      "buying a smartphone\n"
     ]
    }
   ],
   "source": [
    "c.buy_phone()"
   ]
  },
  {
   "cell_type": "code",
   "execution_count": 22,
   "id": "27decf6a-f4b5-4f23-b7bd-b23d2b75370b",
   "metadata": {},
   "outputs": [
    {
     "name": "stdout",
     "output_type": "stream",
     "text": [
      "inside phone constructor\n"
     ]
    }
   ],
   "source": [
    "d=FeaturePhone(\"nokia\",\"latest\",10000)"
   ]
  },
  {
   "cell_type": "code",
   "execution_count": 23,
   "id": "c5bf1789-5a7d-49ce-a317-e86e5c664d14",
   "metadata": {},
   "outputs": [
    {
     "name": "stdout",
     "output_type": "stream",
     "text": [
      "buying a phone\n"
     ]
    }
   ],
   "source": [
    "d.buy_phone()"
   ]
  },
  {
   "cell_type": "markdown",
   "id": "52f22433-d6c3-45b1-8f98-503d9c13045b",
   "metadata": {},
   "source": [
    "##Example class parent"
   ]
  },
  {
   "cell_type": "code",
   "execution_count": 7,
   "id": "73187527-3d94-48d0-9618-b959e6d413c6",
   "metadata": {},
   "outputs": [],
   "source": [
    "class Parent:\n",
    "    def __init__(self,num):\n",
    "        self.__num=num\n",
    "        \n",
    "    def get_num(self):\n",
    "        return self.__num\n",
    "    \n",
    "class Child(Parent):\n",
    "    def show(self):\n",
    "        print(\"This is in child class\")\n",
    "        \n"
   ]
  },
  {
   "cell_type": "code",
   "execution_count": 8,
   "id": "35f5ad73-2ecf-4889-9d51-b22ab5dc03cb",
   "metadata": {},
   "outputs": [],
   "source": [
    "son=Child(100)"
   ]
  },
  {
   "cell_type": "code",
   "execution_count": 9,
   "id": "28678897-2827-4539-8761-edab420448f4",
   "metadata": {},
   "outputs": [
    {
     "data": {
      "text/plain": [
       "100"
      ]
     },
     "execution_count": 9,
     "metadata": {},
     "output_type": "execute_result"
    }
   ],
   "source": [
    "son.get_num()"
   ]
  },
  {
   "cell_type": "code",
   "execution_count": 10,
   "id": "b5ca2a7e-ec56-43f0-ac1c-108d559f22ab",
   "metadata": {},
   "outputs": [
    {
     "name": "stdout",
     "output_type": "stream",
     "text": [
      "This is in child class\n"
     ]
    }
   ],
   "source": [
    "son.show()"
   ]
  },
  {
   "cell_type": "markdown",
   "id": "ad335a00-f317-44e5-8b3d-1cdc853a2a08",
   "metadata": {},
   "source": [
    "##Example class parent 2"
   ]
  },
  {
   "cell_type": "code",
   "execution_count": 11,
   "id": "8f198eb7-a305-4587-b547-d220407c3312",
   "metadata": {},
   "outputs": [],
   "source": [
    "class Parent:\n",
    "    def __init__(self,num):\n",
    "        self.__num=num\n",
    "        \n",
    "    def get_num(self):\n",
    "        return self.__num\n",
    "    \n",
    "class Child(Parent):\n",
    "    def __init__(self,val,num):  #if child has its own constructor then parent's constructor doesn't execute and the __init__ function doesn'e get executed\n",
    "        self.__val=val\n",
    "        \n",
    "    def get_val(self):\n",
    "        return self.__val\n",
    "    \n"
   ]
  },
  {
   "cell_type": "code",
   "execution_count": 12,
   "id": "bf3df71a-c398-4b53-b8ea-162fface69d9",
   "metadata": {},
   "outputs": [],
   "source": [
    "son1=Child(100,50)"
   ]
  },
  {
   "cell_type": "code",
   "execution_count": 13,
   "id": "b8332aaa-412c-4db8-96dc-e890c8bc71e7",
   "metadata": {},
   "outputs": [
    {
     "ename": "AttributeError",
     "evalue": "'Child' object has no attribute '_Parent__num'",
     "output_type": "error",
     "traceback": [
      "\u001b[0;31m---------------------------------------------------------------------------\u001b[0m",
      "\u001b[0;31mAttributeError\u001b[0m                            Traceback (most recent call last)",
      "Cell \u001b[0;32mIn[13], line 1\u001b[0m\n\u001b[0;32m----> 1\u001b[0m \u001b[43mson1\u001b[49m\u001b[38;5;241;43m.\u001b[39;49m\u001b[43mget_num\u001b[49m\u001b[43m(\u001b[49m\u001b[43m)\u001b[49m\n",
      "Cell \u001b[0;32mIn[11], line 6\u001b[0m, in \u001b[0;36mParent.get_num\u001b[0;34m(self)\u001b[0m\n\u001b[1;32m      5\u001b[0m \u001b[38;5;28;01mdef\u001b[39;00m \u001b[38;5;21mget_num\u001b[39m(\u001b[38;5;28mself\u001b[39m):\n\u001b[0;32m----> 6\u001b[0m     \u001b[38;5;28;01mreturn\u001b[39;00m \u001b[38;5;28;43mself\u001b[39;49m\u001b[38;5;241;43m.\u001b[39;49m\u001b[43m__num\u001b[49m\n",
      "\u001b[0;31mAttributeError\u001b[0m: 'Child' object has no attribute '_Parent__num'"
     ]
    }
   ],
   "source": [
    "son1.get_num()"
   ]
  },
  {
   "cell_type": "code",
   "execution_count": 14,
   "id": "0907772d-155f-4a95-8f54-b1b4ffe3cef2",
   "metadata": {},
   "outputs": [
    {
     "data": {
      "text/plain": [
       "100"
      ]
     },
     "execution_count": 14,
     "metadata": {},
     "output_type": "execute_result"
    }
   ],
   "source": [
    "son1.get_val()"
   ]
  },
  {
   "cell_type": "markdown",
   "id": "c407df7e-963b-4620-a762-91dc9fb79e2a",
   "metadata": {},
   "source": [
    "##Example 3"
   ]
  },
  {
   "cell_type": "code",
   "execution_count": 15,
   "id": "98343de1-9f96-4fd7-8a99-03c116566ff5",
   "metadata": {},
   "outputs": [],
   "source": [
    "class A:\n",
    "    def __init__(self):\n",
    "        self.var1=100\n",
    "        \n",
    "    def display1(self,var1):\n",
    "        print(\"Class A: \",self.var1)\n",
    "        \n",
    "    \n",
    "class B(A):\n",
    "    def display2(self,var1):\n",
    "        print(\"Class B: \",self.var1)\n",
    "        \n",
    "\n",
    "        "
   ]
  },
  {
   "cell_type": "code",
   "execution_count": 16,
   "id": "6c8f44ec-2b8b-4b6d-bcab-171490dd1351",
   "metadata": {},
   "outputs": [],
   "source": [
    "obj=B()"
   ]
  },
  {
   "cell_type": "code",
   "execution_count": 17,
   "id": "8db4efae-1324-45e7-a86f-ec05848d2b51",
   "metadata": {},
   "outputs": [
    {
     "name": "stdout",
     "output_type": "stream",
     "text": [
      "Class A:  100\n"
     ]
    }
   ],
   "source": [
    "obj.display1(5)"
   ]
  },
  {
   "cell_type": "code",
   "execution_count": 18,
   "id": "a1af2a99-89c1-426a-94e1-9bc966bf8dcc",
   "metadata": {},
   "outputs": [
    {
     "name": "stdout",
     "output_type": "stream",
     "text": [
      "Class B:  100\n"
     ]
    }
   ],
   "source": [
    "obj.display2(5)"
   ]
  },
  {
   "cell_type": "code",
   "execution_count": 47,
   "id": "2f3425cf-9bf8-41cd-9d2f-c152d404298c",
   "metadata": {},
   "outputs": [],
   "source": [
    "obj2=B()"
   ]
  },
  {
   "cell_type": "code",
   "execution_count": 48,
   "id": "e624a45e-7168-434a-ae61-e50b4a988c3b",
   "metadata": {},
   "outputs": [
    {
     "name": "stdout",
     "output_type": "stream",
     "text": [
      "Class A:  100\n"
     ]
    }
   ],
   "source": [
    "obj2.display1(5)"
   ]
  },
  {
   "cell_type": "code",
   "execution_count": 19,
   "id": "cd6a3719-d072-4616-a36b-5101f9362795",
   "metadata": {},
   "outputs": [
    {
     "ename": "TypeError",
     "evalue": "A.__init__() takes 1 positional argument but 2 were given",
     "output_type": "error",
     "traceback": [
      "\u001b[0;31m---------------------------------------------------------------------------\u001b[0m",
      "\u001b[0;31mTypeError\u001b[0m                                 Traceback (most recent call last)",
      "Cell \u001b[0;32mIn[19], line 1\u001b[0m\n\u001b[0;32m----> 1\u001b[0m obj2\u001b[38;5;241m=\u001b[39m\u001b[43mB\u001b[49m\u001b[43m(\u001b[49m\u001b[38;5;241;43m5\u001b[39;49m\u001b[43m)\u001b[49m\n",
      "\u001b[0;31mTypeError\u001b[0m: A.__init__() takes 1 positional argument but 2 were given"
     ]
    }
   ],
   "source": [
    "obj2=B(5)"
   ]
  },
  {
   "cell_type": "code",
   "execution_count": 25,
   "id": "7028f5fe-959f-41f9-acac-44e329e9dccf",
   "metadata": {},
   "outputs": [],
   "source": [
    "class A:\n",
    "    def __init__(self,var2):\n",
    "        self.var2=var2\n",
    "        self.var1=100\n",
    "        \n",
    "    def display1(self,var1):\n",
    "        print(\"Class A: \",self.var1)\n",
    "        \n",
    "    \n",
    "class B(A):\n",
    "    def display2(self,var2):\n",
    "        print(\"Class B: \",self.var2)\n",
    "        \n",
    "\n",
    "        "
   ]
  },
  {
   "cell_type": "code",
   "execution_count": 21,
   "id": "aa24add2-ebd8-4a84-bdd6-0753f655bd7d",
   "metadata": {},
   "outputs": [],
   "source": [
    "a=B(50)"
   ]
  },
  {
   "cell_type": "code",
   "execution_count": 22,
   "id": "a51e0e30-61ee-4459-8600-46b24a7d32a7",
   "metadata": {},
   "outputs": [
    {
     "name": "stdout",
     "output_type": "stream",
     "text": [
      "Class A:  100\n"
     ]
    }
   ],
   "source": [
    "a.display1(3)"
   ]
  },
  {
   "cell_type": "code",
   "execution_count": 23,
   "id": "47e869cb-5f56-47dc-9724-b47cd81e8056",
   "metadata": {},
   "outputs": [
    {
     "name": "stdout",
     "output_type": "stream",
     "text": [
      "Class B:  50\n"
     ]
    }
   ],
   "source": [
    "a.display2(3)"
   ]
  },
  {
   "cell_type": "markdown",
   "id": "a7403982-3511-4a8b-a96e-245a1286f159",
   "metadata": {},
   "source": [
    "##Example Super"
   ]
  },
  {
   "cell_type": "code",
   "execution_count": 26,
   "id": "f533161d-e482-4dd1-9d47-8f27f3ac2157",
   "metadata": {},
   "outputs": [],
   "source": [
    "class Phone:\n",
    "    def __init__(self,brand,model,price):\n",
    "        print(\"inside phone condtructor\")\n",
    "        self.brand=brand\n",
    "        self.model=model\n",
    "        self.price=price\n",
    "        \n",
    "    def buy_phone(self):\n",
    "        print(\"buying a phone\")\n",
    "        \n",
    "    def return_phone(self):\n",
    "        print(\"return phone\")\n",
    "        \n",
    "class SmartPhone(Phone):\n",
    "    \n",
    "    def buy_phone(self):\n",
    "        print(\"buying a smartphone\")\n",
    "        super().buy_phone()          ##super() makes the overridding by child on parent reverse...it gives back access to the parent method in child class\n",
    "        \n",
    "class FeaturePhone(Phone):\n",
    "    pass\n",
    "        "
   ]
  },
  {
   "cell_type": "code",
   "execution_count": 27,
   "id": "4a213a6f-fd2a-40fa-9456-08f185edebe5",
   "metadata": {},
   "outputs": [
    {
     "name": "stdout",
     "output_type": "stream",
     "text": [
      "inside phone condtructor\n"
     ]
    }
   ],
   "source": [
    "b=SmartPhone(\"oneplus\",\"nord 2\",30000)"
   ]
  },
  {
   "cell_type": "code",
   "execution_count": 28,
   "id": "65611ff9-8428-4d20-9ad5-1edd09216afe",
   "metadata": {},
   "outputs": [
    {
     "name": "stdout",
     "output_type": "stream",
     "text": [
      "buying a smartphone\n",
      "buying a phone\n"
     ]
    }
   ],
   "source": [
    "b.buy_phone()"
   ]
  },
  {
   "cell_type": "code",
   "execution_count": 72,
   "id": "f24beee1-804d-48bc-910e-76abdbd426ce",
   "metadata": {},
   "outputs": [],
   "source": [
    "##super can access parent's methods and constructors...atribiutes we cannot access"
   ]
  },
  {
   "cell_type": "code",
   "execution_count": 29,
   "id": "f3081562-6223-414e-92ca-cacf1ca8f7f4",
   "metadata": {},
   "outputs": [],
   "source": [
    "class Phone:\n",
    "    \n",
    "    def __init__(self,brand,model,price):\n",
    "        print(\"inside phone constructor\")\n",
    "        self.brand=brand\n",
    "        self.model=model\n",
    "        self.price=price\n",
    "        \n",
    "    def buy_phone(self):\n",
    "        print(\"buying a phone\")\n",
    "        \n",
    "    def return_phone(self):\n",
    "        print(\"returning phone\")\n",
    "        \n",
    "class SmartPhone(Phone):\n",
    "    \n",
    "    def __init__(self,brand,model,price,os,ram):\n",
    "        super().__init__(brand,model,price)\n",
    "        self.os=os\n",
    "        self.ram=ram\n",
    "        print(\"inside smartphone constructor\")\n",
    "        \n",
    "    def ShowOs(self):\n",
    "        print(f\"OS: {self.os}\")\n",
    "        \n",
    "        \n",
    "        "
   ]
  },
  {
   "cell_type": "code",
   "execution_count": 30,
   "id": "f4e54c98-de5e-4d51-a539-659c0beda912",
   "metadata": {},
   "outputs": [
    {
     "name": "stdout",
     "output_type": "stream",
     "text": [
      "inside phone constructor\n",
      "inside smartphone constructor\n"
     ]
    }
   ],
   "source": [
    "m=SmartPhone(\"oneplus\",\"nord 2\",30000,\"android\",16)"
   ]
  },
  {
   "cell_type": "code",
   "execution_count": 31,
   "id": "e297b6cc-6c2a-4057-924b-52c5b5570637",
   "metadata": {},
   "outputs": [
    {
     "name": "stdout",
     "output_type": "stream",
     "text": [
      "OS: android\n"
     ]
    }
   ],
   "source": [
    "m.ShowOs()"
   ]
  },
  {
   "cell_type": "code",
   "execution_count": 32,
   "id": "6756fbda-faf9-49b1-8474-11643d57b93d",
   "metadata": {},
   "outputs": [
    {
     "data": {
      "text/plain": [
       "'oneplus'"
      ]
     },
     "execution_count": 32,
     "metadata": {},
     "output_type": "execute_result"
    }
   ],
   "source": [
    "m.brand"
   ]
  },
  {
   "cell_type": "code",
   "execution_count": 86,
   "id": "551fef83-8409-4e93-9dbe-212e945063ea",
   "metadata": {},
   "outputs": [
    {
     "data": {
      "text/plain": [
       "'nord 2'"
      ]
     },
     "execution_count": 86,
     "metadata": {},
     "output_type": "execute_result"
    }
   ],
   "source": [
    "m.model"
   ]
  },
  {
   "cell_type": "code",
   "execution_count": 87,
   "id": "97c911e1-75c0-4f9c-8bd9-27b784b48efc",
   "metadata": {},
   "outputs": [
    {
     "data": {
      "text/plain": [
       "30000"
      ]
     },
     "execution_count": 87,
     "metadata": {},
     "output_type": "execute_result"
    }
   ],
   "source": [
    "m.price"
   ]
  },
  {
   "cell_type": "code",
   "execution_count": 33,
   "id": "ceffe469-a704-4e7c-abf7-b219fe482780",
   "metadata": {},
   "outputs": [
    {
     "data": {
      "text/plain": [
       "16"
      ]
     },
     "execution_count": 33,
     "metadata": {},
     "output_type": "execute_result"
    }
   ],
   "source": [
    "m.ram"
   ]
  },
  {
   "cell_type": "code",
   "execution_count": 34,
   "id": "8638971b-d6fd-4e61-93c3-f5dc7ee4a406",
   "metadata": {},
   "outputs": [
    {
     "name": "stdout",
     "output_type": "stream",
     "text": [
      "returning phone\n"
     ]
    }
   ],
   "source": [
    "m.return_phone()"
   ]
  },
  {
   "cell_type": "markdown",
   "id": "da5e3f57-1d9c-49bf-ba06-1a9ce0acbf2f",
   "metadata": {},
   "source": [
    "##Super Example 2"
   ]
  },
  {
   "cell_type": "code",
   "execution_count": 36,
   "id": "953ef0d8-a2ca-4397-8e92-c4beb1e3a617",
   "metadata": {},
   "outputs": [],
   "source": [
    "class Parent:\n",
    "    \n",
    "    def __init__(self,num):\n",
    "        self.__num=num\n",
    "        \n",
    "    def get_num(self):\n",
    "        return self.__num\n",
    "    \n",
    "class Child(Parent):\n",
    "    \n",
    "    def __init__(self,num,val):\n",
    "        super().__init__(num)\n",
    "        self.__val=val\n",
    "        \n",
    "    def get_val(self):\n",
    "        return self.__val"
   ]
  },
  {
   "cell_type": "code",
   "execution_count": 37,
   "id": "c4279e9d-b901-43af-b5dc-ed760e80ada4",
   "metadata": {},
   "outputs": [],
   "source": [
    "son=Child(50,100)"
   ]
  },
  {
   "cell_type": "code",
   "execution_count": 40,
   "id": "25ae40ac-2e8e-4126-835d-eeca173f06c1",
   "metadata": {},
   "outputs": [
    {
     "data": {
      "text/plain": [
       "50"
      ]
     },
     "execution_count": 40,
     "metadata": {},
     "output_type": "execute_result"
    }
   ],
   "source": [
    "son.get_num()"
   ]
  },
  {
   "cell_type": "code",
   "execution_count": 39,
   "id": "ea5bc853-ebd9-46ee-a565-e88fee23edfe",
   "metadata": {},
   "outputs": [
    {
     "data": {
      "text/plain": [
       "100"
      ]
     },
     "execution_count": 39,
     "metadata": {},
     "output_type": "execute_result"
    }
   ],
   "source": [
    "son.get_val()"
   ]
  },
  {
   "cell_type": "code",
   "execution_count": 44,
   "id": "be269381-1d68-4b03-a1ec-8044e8e14dce",
   "metadata": {},
   "outputs": [],
   "source": [
    "class Parent:\n",
    "    def __init__(self):\n",
    "        self.num=100\n",
    "        \n",
    "class Child(Parent):\n",
    "    \n",
    "    def __init__(self):\n",
    "        super().__init__()\n",
    "        self.var=200\n",
    "        \n",
    "    def show(self):\n",
    "        print(self.num)\n",
    "        print(self.var)\n"
   ]
  },
  {
   "cell_type": "code",
   "execution_count": 42,
   "id": "0719c3bc-9f59-4a16-acf7-1a098382d595",
   "metadata": {},
   "outputs": [],
   "source": [
    "son=Child()"
   ]
  },
  {
   "cell_type": "code",
   "execution_count": 43,
   "id": "087fdad8-816a-415f-9c96-be06344a40b3",
   "metadata": {},
   "outputs": [
    {
     "name": "stdout",
     "output_type": "stream",
     "text": [
      "100\n",
      "200\n"
     ]
    }
   ],
   "source": [
    "son.show()"
   ]
  },
  {
   "cell_type": "markdown",
   "id": "4a72daae-1e6c-4630-99f6-804f701e74a9",
   "metadata": {},
   "source": [
    "\n",
    "###5 types of inheritance:\n",
    "###1. single level\n",
    "###2. multi level\n",
    "###3. hierarchical - 1 parent, multiple children\n",
    "###4. multiple - many parents, 1 child\n",
    "###5. hybrid - mix of these\n"
   ]
  },
  {
   "cell_type": "markdown",
   "id": "ebb20efe-df77-4a8b-91d4-212f93eb374b",
   "metadata": {},
   "source": [
    "##single level inheritance example"
   ]
  },
  {
   "cell_type": "code",
   "execution_count": 46,
   "id": "7cfb6afd-1074-41eb-ac12-afa3fa0f9de6",
   "metadata": {},
   "outputs": [],
   "source": [
    "class Phone:\n",
    "    def __init__(self,brand,model,price):\n",
    "        self.brand=brand\n",
    "        self.model=model\n",
    "        self.price=price\n",
    "    \n",
    "    def buy(self):\n",
    "        print(\"buying phone\")\n",
    "        \n",
    "        \n",
    "    def return_phone(self):\n",
    "        print(\"returning phone\")\n",
    "        \n",
    "class SmartPhone(Phone):\n",
    "    pass"
   ]
  },
  {
   "cell_type": "code",
   "execution_count": 47,
   "id": "cc2e6106-11ba-4f8b-95c7-e09d93fa1578",
   "metadata": {},
   "outputs": [],
   "source": [
    "a=SmartPhone(\"oneplus\",\"nord 2\",30000)"
   ]
  },
  {
   "cell_type": "code",
   "execution_count": 48,
   "id": "2b89b37a-10e5-4809-a8e3-59cf7b935090",
   "metadata": {},
   "outputs": [
    {
     "data": {
      "text/plain": [
       "'oneplus'"
      ]
     },
     "execution_count": 48,
     "metadata": {},
     "output_type": "execute_result"
    }
   ],
   "source": [
    "a.brand"
   ]
  },
  {
   "cell_type": "markdown",
   "id": "5b84bef9-865c-44d9-85ff-4fc06270d7a2",
   "metadata": {},
   "source": [
    "#multi level inheritance example"
   ]
  },
  {
   "cell_type": "code",
   "execution_count": 50,
   "id": "6d19edf4-e8b3-4de8-984d-78d2a62be6cc",
   "metadata": {},
   "outputs": [],
   "source": [
    "class Product:\n",
    "    def review(self):\n",
    "        print(\"product customer review\")\n",
    "    \n",
    "class Phone(Product):\n",
    "    def __init__(self,brand,model,price):\n",
    "        self.brand=brand\n",
    "        self.model=model\n",
    "        self.price=price\n",
    "        \n",
    "    def buy(self):\n",
    "        print(\"buying a phone\")\n",
    "        \n",
    "    def return_phone(self):\n",
    "        print(\"return phone\")\n",
    "        \n",
    "class SmartPhone(Phone):\n",
    "    def show_os(self):\n",
    "        print(\"os is latest\")"
   ]
  },
  {
   "cell_type": "code",
   "execution_count": 51,
   "id": "86e75970-01df-4ed3-b46f-e88572c9073b",
   "metadata": {},
   "outputs": [],
   "source": [
    "e=SmartPhone(\"oneplus\",\"z2\",40000)"
   ]
  },
  {
   "cell_type": "code",
   "execution_count": 55,
   "id": "887bab55-e2ad-4bf1-a4b8-81924e9d5021",
   "metadata": {},
   "outputs": [
    {
     "name": "stdout",
     "output_type": "stream",
     "text": [
      "os is latest\n"
     ]
    }
   ],
   "source": [
    "e.show_os()"
   ]
  },
  {
   "cell_type": "code",
   "execution_count": 56,
   "id": "41e5837e-abc7-46ac-ba0e-4150d917beec",
   "metadata": {},
   "outputs": [],
   "source": [
    "d=Phone(\"Nokia\",\"m13\",10000)"
   ]
  },
  {
   "cell_type": "code",
   "execution_count": 57,
   "id": "a4dc4ae4-3c24-402d-9e1a-aca9b44aa6b4",
   "metadata": {},
   "outputs": [
    {
     "name": "stdout",
     "output_type": "stream",
     "text": [
      "return phone\n"
     ]
    }
   ],
   "source": [
    "d.return_phone()"
   ]
  },
  {
   "cell_type": "markdown",
   "id": "7eabf7b4-9f94-470f-a1cd-ed046155d631",
   "metadata": {},
   "source": [
    "##Hierarchical inheritance example"
   ]
  },
  {
   "cell_type": "code",
   "execution_count": 1,
   "id": "64da4330-c710-4cca-90bc-02c6eb832159",
   "metadata": {},
   "outputs": [],
   "source": [
    "class Phone:\n",
    "    def __init__(self,brand,model,price):\n",
    "        self.brand=brand\n",
    "        self.model=model\n",
    "        self.price=price\n",
    "        \n",
    "    def buy(self):\n",
    "        print(\"buying phone\")\n",
    "        \n",
    "    def return_phone(self):\n",
    "        print(\"returning phone\")\n",
    "        \n",
    "class SmartPhone(Phone):\n",
    "    pass\n",
    "\n",
    "class FeaturePhone(Phone):\n",
    "    pass"
   ]
  },
  {
   "cell_type": "code",
   "execution_count": 2,
   "id": "9de7fde8-763d-4319-804d-31cba0bbe63d",
   "metadata": {},
   "outputs": [],
   "source": [
    "a=SmartPhone(\"12\",\"23\",456)"
   ]
  },
  {
   "cell_type": "code",
   "execution_count": 61,
   "id": "a3174552-2b6a-40cf-96d5-0a5592ce2785",
   "metadata": {},
   "outputs": [
    {
     "name": "stdout",
     "output_type": "stream",
     "text": [
      "returning phone\n"
     ]
    }
   ],
   "source": [
    "a.return_phone()"
   ]
  },
  {
   "cell_type": "code",
   "execution_count": 62,
   "id": "56969a9a-4aaf-4fb2-be64-1c2c1e6a676e",
   "metadata": {},
   "outputs": [
    {
     "data": {
      "text/plain": [
       "'23'"
      ]
     },
     "execution_count": 62,
     "metadata": {},
     "output_type": "execute_result"
    }
   ],
   "source": [
    "a.model"
   ]
  },
  {
   "cell_type": "code",
   "execution_count": 63,
   "id": "746dba64-e546-46cc-9b8b-a78f2b93876e",
   "metadata": {},
   "outputs": [],
   "source": [
    "b=FeaturePhone(\"23\",\"45\",567)"
   ]
  },
  {
   "cell_type": "markdown",
   "id": "580f42f1-e104-4c1b-89b4-8153b725fd89",
   "metadata": {},
   "source": [
    "##Multiple inheritance example"
   ]
  },
  {
   "cell_type": "code",
   "execution_count": 10,
   "id": "7535a38f-5489-4258-b452-5b88b98a2289",
   "metadata": {},
   "outputs": [],
   "source": [
    "class Phone:\n",
    "    def __init__(self,brand,model,price):\n",
    "        print(\"inside phone constructor\")\n",
    "        self.brand=brand\n",
    "        self.model=model\n",
    "        self.price=price\n",
    "        \n",
    "    def buy(self):\n",
    "        print(\"buying phopne\")\n",
    "        \n",
    "    def return_phone(self):\n",
    "        print(\"returning phone\")\n",
    "        \n",
    "    \n",
    "class Product:\n",
    "    def review(self):\n",
    "        print(\"Customer review\")\n",
    "        \n",
    "class SmartPhone(Phone,Product):\n",
    "    pass"
   ]
  },
  {
   "cell_type": "code",
   "execution_count": 11,
   "id": "48c93cc8-d04e-45a6-9662-2d5d06bf23b7",
   "metadata": {},
   "outputs": [
    {
     "name": "stdout",
     "output_type": "stream",
     "text": [
      "inside phone constructor\n"
     ]
    }
   ],
   "source": [
    "p=SmartPhone(\"nokia\",\"guru\",7000)"
   ]
  },
  {
   "cell_type": "code",
   "execution_count": 12,
   "id": "b6ebfed8-ced6-46ed-b10b-e6ac164abdd4",
   "metadata": {},
   "outputs": [
    {
     "name": "stdout",
     "output_type": "stream",
     "text": [
      "Customer review\n"
     ]
    }
   ],
   "source": [
    "p.review()"
   ]
  },
  {
   "cell_type": "code",
   "execution_count": 13,
   "id": "925d83d4-395b-4e0b-a235-e6d3af1de8d5",
   "metadata": {},
   "outputs": [
    {
     "name": "stdout",
     "output_type": "stream",
     "text": [
      "buying phopne\n"
     ]
    }
   ],
   "source": [
    "p.buy()"
   ]
  },
  {
   "cell_type": "code",
   "execution_count": 15,
   "id": "a4c5e43f-7613-41d5-9603-3c58024bcf71",
   "metadata": {},
   "outputs": [],
   "source": [
    "class Phone:\n",
    "    def __init__(self,brand,model,price):\n",
    "        print(\"inside phone constructor\")\n",
    "        self.brand=brand\n",
    "        self.model=model\n",
    "        self.price=price\n",
    "        \n",
    "    def buy(self):\n",
    "        print(\"buying phopne\")\n",
    "        \n",
    "    def return_phone(self):\n",
    "        print(\"returning phone\")\n",
    "        \n",
    "    \n",
    "class Product:\n",
    "    def buy(self):\n",
    "        print(\"buying a product\")\n",
    "        \n",
    "class SmartPhone(Phone,Product): ##phone is written before product hence phone class's buy method is executed\n",
    "    pass"
   ]
  },
  {
   "cell_type": "code",
   "execution_count": 16,
   "id": "e8718f04-6d58-41c8-b2c1-3a4224f9c16c",
   "metadata": {},
   "outputs": [
    {
     "name": "stdout",
     "output_type": "stream",
     "text": [
      "inside phone constructor\n"
     ]
    }
   ],
   "source": [
    "p=SmartPhone(\"nokia\",\"guru\",7000)"
   ]
  },
  {
   "cell_type": "code",
   "execution_count": 17,
   "id": "126dc367-0834-41b1-987c-a6d63760b974",
   "metadata": {},
   "outputs": [
    {
     "name": "stdout",
     "output_type": "stream",
     "text": [
      "buying phopne\n"
     ]
    }
   ],
   "source": [
    "p.buy()"
   ]
  },
  {
   "cell_type": "code",
   "execution_count": 19,
   "id": "7d5f8332-ee07-4220-bd5e-d10debd308bc",
   "metadata": {},
   "outputs": [],
   "source": [
    "class Phone:\n",
    "    def __init__(self,brand,model,price):\n",
    "        print(\"inside phone constructor\")\n",
    "        self.brand=brand\n",
    "        self.model=model\n",
    "        self.price=price\n",
    "        \n",
    "    def buy(self):\n",
    "        print(\"buying phopne\")\n",
    "        \n",
    "    def return_phone(self):\n",
    "        print(\"returning phone\")\n",
    "        \n",
    "    \n",
    "class Product:\n",
    "    def buy(self):\n",
    "        print(\"buying a product\")\n",
    "        \n",
    "class SmartPhone(Product,Phone): ##product is written before phone hence product class's buy method is executed --MRO\n",
    "    pass"
   ]
  },
  {
   "cell_type": "code",
   "execution_count": 20,
   "id": "1ec95aef-b6a9-47fd-aa97-569d23b4a2e7",
   "metadata": {},
   "outputs": [
    {
     "name": "stdout",
     "output_type": "stream",
     "text": [
      "inside phone constructor\n"
     ]
    }
   ],
   "source": [
    "n=SmartPhone(\"nokia\",\"guru\",7000)"
   ]
  },
  {
   "cell_type": "code",
   "execution_count": 21,
   "id": "75617715-c215-4ac5-ba2a-de6d20d14a2a",
   "metadata": {},
   "outputs": [
    {
     "name": "stdout",
     "output_type": "stream",
     "text": [
      "buying a product\n"
     ]
    }
   ],
   "source": [
    "n.buy()"
   ]
  },
  {
   "cell_type": "markdown",
   "id": "5d09dcf9-3f86-41c1-a533-5881ef9f98b0",
   "metadata": {},
   "source": [
    "##Example on types"
   ]
  },
  {
   "cell_type": "code",
   "execution_count": 24,
   "id": "2e8b654e-171d-43cd-8699-41214968146e",
   "metadata": {},
   "outputs": [],
   "source": [
    "class A:\n",
    "    \n",
    "    def m1(self):\n",
    "        return 20\n",
    "    \n",
    "class B(A):\n",
    "    def m1(self):\n",
    "        return 30\n",
    "    \n",
    "    def m2(self):\n",
    "        return 40\n",
    "    \n",
    "class C(B):\n",
    "    def m2(self):\n",
    "        return 20\n",
    "    "
   ]
  },
  {
   "cell_type": "code",
   "execution_count": 25,
   "id": "53391e06-3374-4ce1-a43e-2340dca6fcf4",
   "metadata": {},
   "outputs": [],
   "source": [
    "a=A()\n",
    "b=B()\n",
    "c=C()"
   ]
  },
  {
   "cell_type": "code",
   "execution_count": 26,
   "id": "73b6a934-bef8-4450-adc6-ed02f6de0289",
   "metadata": {},
   "outputs": [
    {
     "name": "stdout",
     "output_type": "stream",
     "text": [
      "70\n"
     ]
    }
   ],
   "source": [
    "print(a.m1()+c.m1()+c.m2())"
   ]
  },
  {
   "cell_type": "markdown",
   "id": "4a5fc15d-e80c-458d-bc07-c4f1148b42bb",
   "metadata": {},
   "source": [
    "##inheritance last example"
   ]
  },
  {
   "cell_type": "code",
   "execution_count": 36,
   "id": "4fd19e0e-dbe0-439e-8573-056ea9b91ddb",
   "metadata": {},
   "outputs": [],
   "source": [
    "class A:\n",
    "    \n",
    "    def m1(self):\n",
    "        return 20\n",
    "    \n",
    "class B(A):\n",
    "    \n",
    "    def m1(self):\n",
    "        val=super().m1()+30\n",
    "        return val\n",
    "    \n",
    "class C(B):\n",
    "    \n",
    "    def m1(self):\n",
    "        val=self.m1()+20\n",
    "        return val\n",
    "    "
   ]
  },
  {
   "cell_type": "code",
   "execution_count": 34,
   "id": "23875ab7-4268-46ee-88a3-21220724ebd2",
   "metadata": {},
   "outputs": [],
   "source": [
    "obj=C()"
   ]
  },
  {
   "cell_type": "code",
   "execution_count": 35,
   "id": "f39216e2-539f-40c4-b17b-b38ac9602da1",
   "metadata": {},
   "outputs": [
    {
     "data": {
      "text/plain": [
       "<bound method C.m1 of <__main__.C object at 0x7f49f0595420>>"
      ]
     },
     "execution_count": 35,
     "metadata": {},
     "output_type": "execute_result"
    }
   ],
   "source": []
  },
  {
   "cell_type": "code",
   "execution_count": null,
   "id": "b7bf3526-90b0-4d4b-a629-6c0eb43df516",
   "metadata": {},
   "outputs": [],
   "source": []
  }
 ],
 "metadata": {
  "kernelspec": {
   "display_name": "Python 3 (ipykernel)",
   "language": "python",
   "name": "python3"
  },
  "language_info": {
   "codemirror_mode": {
    "name": "ipython",
    "version": 3
   },
   "file_extension": ".py",
   "mimetype": "text/x-python",
   "name": "python",
   "nbconvert_exporter": "python",
   "pygments_lexer": "ipython3",
   "version": "3.10.8"
  }
 },
 "nbformat": 4,
 "nbformat_minor": 5
}
