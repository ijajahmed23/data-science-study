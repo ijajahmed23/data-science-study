{
 "cells": [
  {
   "cell_type": "code",
   "execution_count": 2,
   "id": "fd9fc02f-b813-4552-bee4-1d2fe9c2d6d5",
   "metadata": {},
   "outputs": [
    {
     "data": {
      "text/plain": [
       "False"
      ]
     },
     "execution_count": 2,
     "metadata": {},
     "output_type": "execute_result"
    }
   ],
   "source": [
    "not True"
   ]
  },
  {
   "cell_type": "code",
   "execution_count": 3,
   "id": "349fc25d-0233-4ec0-b463-e6d0eef6c347",
   "metadata": {},
   "outputs": [
    {
     "data": {
      "text/plain": [
       "False"
      ]
     },
     "execution_count": 3,
     "metadata": {},
     "output_type": "execute_result"
    }
   ],
   "source": [
    "bool(0)"
   ]
  },
  {
   "cell_type": "code",
   "execution_count": 4,
   "id": "3f70da6a-152f-431c-b017-79211e89aef2",
   "metadata": {},
   "outputs": [
    {
     "data": {
      "text/plain": [
       "0"
      ]
     },
     "execution_count": 4,
     "metadata": {},
     "output_type": "execute_result"
    }
   ],
   "source": [
    "int(bool(0))"
   ]
  },
  {
   "cell_type": "code",
   "execution_count": 8,
   "id": "3e144668-84bf-4241-b476-208b3459da9e",
   "metadata": {},
   "outputs": [
    {
     "data": {
      "text/plain": [
       "int"
      ]
     },
     "execution_count": 8,
     "metadata": {},
     "output_type": "execute_result"
    }
   ],
   "source": [
    "type(int(bool(-3)))"
   ]
  },
  {
   "cell_type": "code",
   "execution_count": 9,
   "id": "0fe74035-f87f-457f-892d-5af4ec6a46e2",
   "metadata": {},
   "outputs": [
    {
     "data": {
      "text/plain": [
       "True"
      ]
     },
     "execution_count": 9,
     "metadata": {},
     "output_type": "execute_result"
    }
   ],
   "source": [
    "not int(bool(0))"
   ]
  },
  {
   "cell_type": "code",
   "execution_count": 10,
   "id": "ea47d07a-536e-463f-8bbd-67380eae7bdd",
   "metadata": {},
   "outputs": [
    {
     "data": {
      "text/plain": [
       "False"
      ]
     },
     "execution_count": 10,
     "metadata": {},
     "output_type": "execute_result"
    }
   ],
   "source": [
    "not 1"
   ]
  },
  {
   "cell_type": "code",
   "execution_count": 11,
   "id": "ddce845f-a115-4047-ba91-08a066a3e1f5",
   "metadata": {},
   "outputs": [
    {
     "data": {
      "text/plain": [
       "True"
      ]
     },
     "execution_count": 11,
     "metadata": {},
     "output_type": "execute_result"
    }
   ],
   "source": [
    "not 0"
   ]
  },
  {
   "cell_type": "code",
   "execution_count": 13,
   "id": "bdee729c-4eb0-40c1-ae94-7a9479b9b5d2",
   "metadata": {},
   "outputs": [
    {
     "data": {
      "text/plain": [
       "True"
      ]
     },
     "execution_count": 13,
     "metadata": {},
     "output_type": "execute_result"
    }
   ],
   "source": [
    "not int(0)"
   ]
  },
  {
   "cell_type": "code",
   "execution_count": 14,
   "id": "8371b590-5aa7-45b3-a741-8e9b8080c3d7",
   "metadata": {},
   "outputs": [
    {
     "data": {
      "text/plain": [
       "0"
      ]
     },
     "execution_count": 14,
     "metadata": {},
     "output_type": "execute_result"
    }
   ],
   "source": [
    "int(0)"
   ]
  },
  {
   "cell_type": "code",
   "execution_count": 18,
   "id": "1f686534-7abc-4329-ab11-6dc7874ae217",
   "metadata": {},
   "outputs": [
    {
     "name": "stdout",
     "output_type": "stream",
     "text": [
      "boolean value of 1 is True\n",
      "negation of 0 is True\n",
      " negation value of 1 is False\n"
     ]
    }
   ],
   "source": [
    "zero=0\n",
    "one=1\n",
    "print(f\"boolean value of {one} is {bool(one)}\")\n",
    "print(f\"negation of {zero} is {not(zero)}\\n negation value of {one} is {not(one)}\")"
   ]
  },
  {
   "cell_type": "code",
   "execution_count": 19,
   "id": "a430607b-ed1d-46fe-83be-9513c4d72394",
   "metadata": {},
   "outputs": [
    {
     "data": {
      "text/plain": [
       "False"
      ]
     },
     "execution_count": 19,
     "metadata": {},
     "output_type": "execute_result"
    }
   ],
   "source": [
    "not -5"
   ]
  },
  {
   "cell_type": "code",
   "execution_count": 20,
   "id": "ec93ae9d-8d8c-4078-820e-7af297241316",
   "metadata": {},
   "outputs": [
    {
     "data": {
      "text/plain": [
       "False"
      ]
     },
     "execution_count": 20,
     "metadata": {},
     "output_type": "execute_result"
    }
   ],
   "source": [
    "not 5"
   ]
  },
  {
   "cell_type": "markdown",
   "id": "af9d18ae-2d93-4352-9e62-23ae9462883f",
   "metadata": {},
   "source": [
    "##LOGICAL AND"
   ]
  },
  {
   "cell_type": "code",
   "execution_count": 22,
   "id": "c3b52189-adc6-4ab9-aea0-61676effc333",
   "metadata": {},
   "outputs": [
    {
     "name": "stdout",
     "output_type": "stream",
     "text": [
      "dish prepared was good : False\n"
     ]
    }
   ],
   "source": [
    "VEGETABLES= True\n",
    "SALT= False\n",
    "DISH=VEGETABLES and SALT\n",
    "print(f\"dish prepared was good : {DISH}\")"
   ]
  },
  {
   "cell_type": "code",
   "execution_count": 27,
   "id": "9eab74a2-1582-4bc2-8028-3f464a8e5577",
   "metadata": {},
   "outputs": [
    {
     "name": "stdout",
     "output_type": "stream",
     "text": [
      "1\n",
      "False\n",
      "True\n"
     ]
    }
   ],
   "source": [
    "True * False\n",
    "print(True*True)\n",
    "print( not True)\n",
    "print(not True or True)"
   ]
  },
  {
   "cell_type": "code",
   "execution_count": 28,
   "id": "c66b7012-9238-4b32-a810-191c26508d9a",
   "metadata": {},
   "outputs": [
    {
     "data": {
      "text/plain": [
       "True"
      ]
     },
     "execution_count": 28,
     "metadata": {},
     "output_type": "execute_result"
    }
   ],
   "source": [
    "not(True)*False"
   ]
  },
  {
   "cell_type": "code",
   "execution_count": 31,
   "id": "8a082736-585d-4712-9873-2d9961c15758",
   "metadata": {},
   "outputs": [
    {
     "data": {
      "text/plain": [
       "True"
      ]
     },
     "execution_count": 31,
     "metadata": {},
     "output_type": "execute_result"
    }
   ],
   "source": [
    "not True * False"
   ]
  },
  {
   "cell_type": "code",
   "execution_count": 29,
   "id": "3f986d3a-2e2d-4de1-b44a-6b7ada8c9d3c",
   "metadata": {},
   "outputs": [
    {
     "data": {
      "text/plain": [
       "0"
      ]
     },
     "execution_count": 29,
     "metadata": {},
     "output_type": "execute_result"
    }
   ],
   "source": [
    "(not(True))*False"
   ]
  },
  {
   "cell_type": "code",
   "execution_count": 30,
   "id": "1a674216-9877-4927-863a-304f8039d629",
   "metadata": {},
   "outputs": [
    {
     "name": "stdout",
     "output_type": "stream",
     "text": [
      "7\n",
      "9\n"
     ]
    }
   ],
   "source": [
    "print(1+2*3)\n",
    "print((1+2)*3)"
   ]
  },
  {
   "cell_type": "code",
   "execution_count": 33,
   "id": "6563ec47-c44c-4423-929d-32796cdccfbc",
   "metadata": {},
   "outputs": [
    {
     "data": {
      "text/plain": [
       "True"
      ]
     },
     "execution_count": 33,
     "metadata": {},
     "output_type": "execute_result"
    }
   ],
   "source": [
    "not(False)*False==True"
   ]
  },
  {
   "cell_type": "code",
   "execution_count": 35,
   "id": "7cc98e5d-6146-4786-ba00-6d183bed9d4f",
   "metadata": {},
   "outputs": [
    {
     "name": "stdout",
     "output_type": "stream",
     "text": [
      "True\n"
     ]
    }
   ],
   "source": [
    "print(not(False)*False)"
   ]
  },
  {
   "cell_type": "code",
   "execution_count": 36,
   "id": "55a1efb0-16df-46a9-9bc3-e5e1df5f281e",
   "metadata": {},
   "outputs": [
    {
     "name": "stdout",
     "output_type": "stream",
     "text": [
      "0\n"
     ]
    }
   ],
   "source": [
    "print((not(False))*False)"
   ]
  },
  {
   "cell_type": "code",
   "execution_count": 43,
   "id": "3aad173b-274a-4db7-b7e1-d14b8b28fa4e",
   "metadata": {},
   "outputs": [
    {
     "name": "stdout",
     "output_type": "stream",
     "text": [
      "True\n"
     ]
    }
   ],
   "source": [
    "lst_a=[1,2,3,4]\n",
    "lst_b=[1,2,3,4]\n",
    "print(lst_a==lst_b)\n",
    "#lst_a=lst_b"
   ]
  },
  {
   "cell_type": "code",
   "execution_count": 46,
   "id": "55ff4985-0f86-408d-aeac-66055c85de07",
   "metadata": {},
   "outputs": [
    {
     "name": "stdout",
     "output_type": "stream",
     "text": [
      "140013462073536\n",
      "140013462068672\n",
      "False\n",
      "True\n",
      "False\n"
     ]
    }
   ],
   "source": [
    "print(id(lst_a))\n",
    "print(id(lst_b))\n",
    "print(lst_a is lst_b)\n",
    "print(lst_a is not lst_b)\n",
    "print(lst_a != lst_b)"
   ]
  },
  {
   "cell_type": "code",
   "execution_count": 48,
   "id": "95550d9b-b48d-4836-ae49-9f257c4cf14e",
   "metadata": {},
   "outputs": [
    {
     "name": "stdout",
     "output_type": "stream",
     "text": [
      "140013817626896\n",
      "140013817626896\n",
      "True\n"
     ]
    }
   ],
   "source": [
    "a=2\n",
    "b=2\n",
    "print(id(a))\n",
    "print(id(b))\n",
    "print(a==b)"
   ]
  },
  {
   "cell_type": "code",
   "execution_count": 50,
   "id": "4ce545f0-3df2-4b0f-a22d-542c7bf906cf",
   "metadata": {},
   "outputs": [
    {
     "name": "stdout",
     "output_type": "stream",
     "text": [
      "140013460664816 140013460664816\n",
      "True\n"
     ]
    }
   ],
   "source": [
    "str1=\"ijaj\"\n",
    "str2=\"ijaj\"\n",
    "print(id(str1),id(str2))\n",
    "print(str1 is str2)"
   ]
  },
  {
   "cell_type": "code",
   "execution_count": 51,
   "id": "ac76e52f-263a-43e7-b321-7902d42666f0",
   "metadata": {},
   "outputs": [
    {
     "name": "stdout",
     "output_type": "stream",
     "text": [
      "[10, 2, 3, 4]\n"
     ]
    }
   ],
   "source": [
    "lst_a[0]=10\n",
    "print(lst_a)"
   ]
  },
  {
   "cell_type": "code",
   "execution_count": 52,
   "id": "14005508-5ac9-4fde-a8d4-959e7d8dc656",
   "metadata": {},
   "outputs": [
    {
     "ename": "TypeError",
     "evalue": "'str' object does not support item assignment",
     "output_type": "error",
     "traceback": [
      "\u001b[0;31m---------------------------------------------------------------------------\u001b[0m",
      "\u001b[0;31mTypeError\u001b[0m                                 Traceback (most recent call last)",
      "Cell \u001b[0;32mIn[52], line 1\u001b[0m\n\u001b[0;32m----> 1\u001b[0m \u001b[43mstr1\u001b[49m\u001b[43m[\u001b[49m\u001b[38;5;241;43m0\u001b[39;49m\u001b[43m]\u001b[49m\u001b[38;5;241m=\u001b[39m\u001b[38;5;124m\"\u001b[39m\u001b[38;5;124mN\u001b[39m\u001b[38;5;124m\"\u001b[39m\n",
      "\u001b[0;31mTypeError\u001b[0m: 'str' object does not support item assignment"
     ]
    }
   ],
   "source": [
    "str1[0]=\"N\" #strinng is immutable #since list is mutable, id of same list is not same"
   ]
  },
  {
   "cell_type": "code",
   "execution_count": 53,
   "id": "68bb3fd9-3251-4432-ac44-dc53a2206941",
   "metadata": {},
   "outputs": [],
   "source": [
    "##ARITHEMETIC OPERATION"
   ]
  },
  {
   "cell_type": "code",
   "execution_count": 56,
   "id": "ff1278bc-f5d2-4889-a99b-3f0689b10f17",
   "metadata": {},
   "outputs": [
    {
     "name": "stdout",
     "output_type": "stream",
     "text": [
      "0\n",
      "2\n",
      "11\n"
     ]
    }
   ],
   "source": [
    "a=27\n",
    "b=65\n",
    "print(a//b)\n",
    "print(b//a)\n",
    "print(b%a)"
   ]
  },
  {
   "cell_type": "markdown",
   "id": "a710bdf5-b9c5-4f91-a29c-24e8c8dc6b8b",
   "metadata": {},
   "source": [
    "##BITWISE OPERATORS"
   ]
  },
  {
   "cell_type": "code",
   "execution_count": 57,
   "id": "c14dea5e-de7c-48ef-bc54-c324ee04d437",
   "metadata": {},
   "outputs": [
    {
     "name": "stdout",
     "output_type": "stream",
     "text": [
      "0b1010\n"
     ]
    }
   ],
   "source": [
    "var=10\n",
    "print(bin(var))"
   ]
  },
  {
   "cell_type": "code",
   "execution_count": 60,
   "id": "d613f0aa-e8e2-4111-b813-1446513c7ab6",
   "metadata": {},
   "outputs": [
    {
     "data": {
      "text/plain": [
       "-11"
      ]
     },
     "execution_count": 60,
     "metadata": {},
     "output_type": "execute_result"
    }
   ],
   "source": [
    "~var"
   ]
  },
  {
   "cell_type": "code",
   "execution_count": 62,
   "id": "8da64e06-de7e-4644-9785-f31c5aeb8bfc",
   "metadata": {},
   "outputs": [
    {
     "name": "stdout",
     "output_type": "stream",
     "text": [
      "5\n",
      "20\n"
     ]
    }
   ],
   "source": [
    "print(var>>1)\n",
    "print(var<<1)"
   ]
  },
  {
   "cell_type": "markdown",
   "id": "668c21df-4ac0-471f-b7b2-9110286f6658",
   "metadata": {},
   "source": [
    "# STRINGS"
   ]
  },
  {
   "cell_type": "code",
   "execution_count": 63,
   "id": "6c84ec90-850e-4fbe-9bd6-9b0b85f2bf0a",
   "metadata": {},
   "outputs": [],
   "source": [
    "str1=\"welcome to data sciencve world\""
   ]
  },
  {
   "cell_type": "code",
   "execution_count": 64,
   "id": "51b0c4a4-1cee-4444-a0dc-66880634a042",
   "metadata": {},
   "outputs": [
    {
     "data": {
      "text/plain": [
       "str"
      ]
     },
     "execution_count": 64,
     "metadata": {},
     "output_type": "execute_result"
    }
   ],
   "source": [
    "type(str1)"
   ]
  },
  {
   "cell_type": "code",
   "execution_count": 66,
   "id": "2258bed1-3227-4ef2-a77d-3a6f99ebc196",
   "metadata": {},
   "outputs": [
    {
     "ename": "NameError",
     "evalue": "name 'count' is not defined",
     "output_type": "error",
     "traceback": [
      "\u001b[0;31m---------------------------------------------------------------------------\u001b[0m",
      "\u001b[0;31mNameError\u001b[0m                                 Traceback (most recent call last)",
      "Cell \u001b[0;32mIn[66], line 1\u001b[0m\n\u001b[0;32m----> 1\u001b[0m \u001b[43mcount\u001b[49m(\u001b[38;5;124m\"\u001b[39m\u001b[38;5;124mstr1\u001b[39m\u001b[38;5;124m\"\u001b[39m)\n",
      "\u001b[0;31mNameError\u001b[0m: name 'count' is not defined"
     ]
    }
   ],
   "source": [
    "count(\"str1\")"
   ]
  },
  {
   "cell_type": "code",
   "execution_count": 67,
   "id": "847175fb-c599-448c-ab92-8b35b259fb05",
   "metadata": {},
   "outputs": [
    {
     "ename": "TypeError",
     "evalue": "'str' object does not support item assignment",
     "output_type": "error",
     "traceback": [
      "\u001b[0;31m---------------------------------------------------------------------------\u001b[0m",
      "\u001b[0;31mTypeError\u001b[0m                                 Traceback (most recent call last)",
      "Cell \u001b[0;32mIn[67], line 1\u001b[0m\n\u001b[0;32m----> 1\u001b[0m \u001b[43mstr1\u001b[49m\u001b[43m[\u001b[49m\u001b[38;5;241;43m2\u001b[39;49m\u001b[43m]\u001b[49m\u001b[38;5;241m=\u001b[39m\u001b[38;5;124m\"\u001b[39m\u001b[38;5;124manb\u001b[39m\u001b[38;5;124m\"\u001b[39m\n",
      "\u001b[0;31mTypeError\u001b[0m: 'str' object does not support item assignment"
     ]
    }
   ],
   "source": [
    "str1[2]=\"anb\""
   ]
  },
  {
   "cell_type": "code",
   "execution_count": 68,
   "id": "56dc6fe9-6c7c-4048-91f8-64c59c02c779",
   "metadata": {},
   "outputs": [
    {
     "data": {
      "text/plain": [
       "['__add__',\n",
       " '__class__',\n",
       " '__contains__',\n",
       " '__delattr__',\n",
       " '__dir__',\n",
       " '__doc__',\n",
       " '__eq__',\n",
       " '__format__',\n",
       " '__ge__',\n",
       " '__getattribute__',\n",
       " '__getitem__',\n",
       " '__getnewargs__',\n",
       " '__gt__',\n",
       " '__hash__',\n",
       " '__init__',\n",
       " '__init_subclass__',\n",
       " '__iter__',\n",
       " '__le__',\n",
       " '__len__',\n",
       " '__lt__',\n",
       " '__mod__',\n",
       " '__mul__',\n",
       " '__ne__',\n",
       " '__new__',\n",
       " '__reduce__',\n",
       " '__reduce_ex__',\n",
       " '__repr__',\n",
       " '__rmod__',\n",
       " '__rmul__',\n",
       " '__setattr__',\n",
       " '__sizeof__',\n",
       " '__str__',\n",
       " '__subclasshook__',\n",
       " 'capitalize',\n",
       " 'casefold',\n",
       " 'center',\n",
       " 'count',\n",
       " 'encode',\n",
       " 'endswith',\n",
       " 'expandtabs',\n",
       " 'find',\n",
       " 'format',\n",
       " 'format_map',\n",
       " 'index',\n",
       " 'isalnum',\n",
       " 'isalpha',\n",
       " 'isascii',\n",
       " 'isdecimal',\n",
       " 'isdigit',\n",
       " 'isidentifier',\n",
       " 'islower',\n",
       " 'isnumeric',\n",
       " 'isprintable',\n",
       " 'isspace',\n",
       " 'istitle',\n",
       " 'isupper',\n",
       " 'join',\n",
       " 'ljust',\n",
       " 'lower',\n",
       " 'lstrip',\n",
       " 'maketrans',\n",
       " 'partition',\n",
       " 'removeprefix',\n",
       " 'removesuffix',\n",
       " 'replace',\n",
       " 'rfind',\n",
       " 'rindex',\n",
       " 'rjust',\n",
       " 'rpartition',\n",
       " 'rsplit',\n",
       " 'rstrip',\n",
       " 'split',\n",
       " 'splitlines',\n",
       " 'startswith',\n",
       " 'strip',\n",
       " 'swapcase',\n",
       " 'title',\n",
       " 'translate',\n",
       " 'upper',\n",
       " 'zfill']"
      ]
     },
     "execution_count": 68,
     "metadata": {},
     "output_type": "execute_result"
    }
   ],
   "source": [
    "welcome=\"Hello world\"\n",
    "dir(welcome)"
   ]
  },
  {
   "cell_type": "code",
   "execution_count": 72,
   "id": "a06bf28e-10bd-4f6b-a39d-84a7e994af15",
   "metadata": {},
   "outputs": [],
   "source": [
    "string=\"welcome to myu world\""
   ]
  },
  {
   "cell_type": "code",
   "execution_count": 73,
   "id": "57055006-27d4-4299-b1ac-df544488c9c9",
   "metadata": {},
   "outputs": [
    {
     "data": {
      "text/plain": [
       "'w'"
      ]
     },
     "execution_count": 73,
     "metadata": {},
     "output_type": "execute_result"
    }
   ],
   "source": [
    "string[0]"
   ]
  },
  {
   "cell_type": "code",
   "execution_count": 75,
   "id": "aa75f10f-fbe5-4dee-adcc-3b18c723edf7",
   "metadata": {},
   "outputs": [
    {
     "data": {
      "text/plain": [
       "'me to myu world'"
      ]
     },
     "execution_count": 75,
     "metadata": {},
     "output_type": "execute_result"
    }
   ],
   "source": [
    "string[5:]"
   ]
  },
  {
   "cell_type": "code",
   "execution_count": 76,
   "id": "44d07e85-52a9-4ed8-82d0-1e27c6161475",
   "metadata": {},
   "outputs": [
    {
     "data": {
      "text/plain": [
       "'d'"
      ]
     },
     "execution_count": 76,
     "metadata": {},
     "output_type": "execute_result"
    }
   ],
   "source": [
    "string[-1]"
   ]
  },
  {
   "cell_type": "code",
   "execution_count": 82,
   "id": "f4cc58f3-4a0f-4d5c-8d4d-776db3b4a213",
   "metadata": {},
   "outputs": [
    {
     "data": {
      "text/plain": [
       "'u wo'"
      ]
     },
     "execution_count": 82,
     "metadata": {},
     "output_type": "execute_result"
    }
   ],
   "source": [
    "string[-7:-3]"
   ]
  },
  {
   "cell_type": "code",
   "execution_count": 83,
   "id": "f9ba1455-dc9a-4edc-9764-23c439b17dbc",
   "metadata": {},
   "outputs": [
    {
     "data": {
      "text/plain": [
       "'welcome to myu worl'"
      ]
     },
     "execution_count": 83,
     "metadata": {},
     "output_type": "execute_result"
    }
   ],
   "source": [
    "string[:-1]"
   ]
  },
  {
   "cell_type": "code",
   "execution_count": 87,
   "id": "c9fe57e2-8e72-432a-ab32-ac1ec4aadf35",
   "metadata": {},
   "outputs": [
    {
     "data": {
      "text/plain": [
       "'dlrow uym ot emoclew'"
      ]
     },
     "execution_count": 87,
     "metadata": {},
     "output_type": "execute_result"
    }
   ],
   "source": [
    "string[::-1]  ##reverse a string"
   ]
  },
  {
   "cell_type": "code",
   "execution_count": 88,
   "id": "c009cb16-954f-4267-ae07-6bf6b899cbc0",
   "metadata": {},
   "outputs": [
    {
     "data": {
      "text/plain": [
       "'drwumo mce'"
      ]
     },
     "execution_count": 88,
     "metadata": {},
     "output_type": "execute_result"
    }
   ],
   "source": [
    "string[::-2]"
   ]
  },
  {
   "cell_type": "code",
   "execution_count": 89,
   "id": "ffd3f697-2fef-49f9-9775-ce28c8b25056",
   "metadata": {},
   "outputs": [
    {
     "data": {
      "text/plain": [
       "'wloet y ol'"
      ]
     },
     "execution_count": 89,
     "metadata": {},
     "output_type": "execute_result"
    }
   ],
   "source": [
    "string[::2]"
   ]
  },
  {
   "cell_type": "code",
   "execution_count": 91,
   "id": "693381d6-71b9-4897-a3e4-5d35e20f21b0",
   "metadata": {},
   "outputs": [
    {
     "data": {
      "text/plain": [
       "'welcome to myu world'"
      ]
     },
     "execution_count": 91,
     "metadata": {},
     "output_type": "execute_result"
    }
   ],
   "source": [
    "string[::]"
   ]
  },
  {
   "cell_type": "code",
   "execution_count": 90,
   "id": "ca22f580-8af2-443f-ac8a-ca144fe27915",
   "metadata": {},
   "outputs": [
    {
     "data": {
      "text/plain": [
       "'ce'"
      ]
     },
     "execution_count": 90,
     "metadata": {},
     "output_type": "execute_result"
    }
   ],
   "source": [
    "string[3::-2]"
   ]
  },
  {
   "cell_type": "code",
   "execution_count": 95,
   "id": "0d2004bf-4476-4e69-83dd-dc07941b878d",
   "metadata": {},
   "outputs": [
    {
     "name": "stdout",
     "output_type": "stream",
     "text": [
      "Science \n",
      "Science \n",
      "ecneicS\n"
     ]
    }
   ],
   "source": [
    "course_name=\"Data Science Masters\"\n",
    "print(course_name[5:13:1])\n",
    "print(course_name[5:13])\n",
    "print(course_name[11:4:-1])"
   ]
  },
  {
   "cell_type": "code",
   "execution_count": 98,
   "id": "1a1293fc-b9c2-4859-bfce-62d1bf276e02",
   "metadata": {},
   "outputs": [
    {
     "data": {
      "text/plain": [
       "'Data Science Masters Course'"
      ]
     },
     "execution_count": 98,
     "metadata": {},
     "output_type": "execute_result"
    }
   ],
   "source": [
    "course_name+\" Course\""
   ]
  },
  {
   "cell_type": "code",
   "execution_count": 100,
   "id": "46415325-b766-419b-823f-ea576b02ed14",
   "metadata": {},
   "outputs": [
    {
     "data": {
      "text/plain": [
       "'Data Science Masters Data Science Masters Data Science Masters Data Science Masters Data Science Masters '"
      ]
     },
     "execution_count": 100,
     "metadata": {},
     "output_type": "execute_result"
    }
   ],
   "source": [
    "(course_name+\" \")*5"
   ]
  },
  {
   "cell_type": "code",
   "execution_count": 101,
   "id": "816b9c32-4416-4e9b-bb1e-edcdb738f0ad",
   "metadata": {},
   "outputs": [
    {
     "data": {
      "text/plain": [
       "20"
      ]
     },
     "execution_count": 101,
     "metadata": {},
     "output_type": "execute_result"
    }
   ],
   "source": [
    "len(course_name)"
   ]
  },
  {
   "cell_type": "code",
   "execution_count": 102,
   "id": "ef359374-80e2-4fde-9bea-46b1ecee7941",
   "metadata": {},
   "outputs": [
    {
     "data": {
      "text/plain": [
       "9"
      ]
     },
     "execution_count": 102,
     "metadata": {},
     "output_type": "execute_result"
    }
   ],
   "source": [
    "course_name.find(\"n\")"
   ]
  },
  {
   "cell_type": "code",
   "execution_count": 103,
   "id": "737d223d-fe2d-4253-9204-515168d243b2",
   "metadata": {},
   "outputs": [
    {
     "data": {
      "text/plain": [
       "3"
      ]
     },
     "execution_count": 103,
     "metadata": {},
     "output_type": "execute_result"
    }
   ],
   "source": [
    "course_name.find(\"a\",2,10)"
   ]
  },
  {
   "cell_type": "code",
   "execution_count": 104,
   "id": "5833c90c-9a77-4d42-b431-73c2f1a0b706",
   "metadata": {},
   "outputs": [
    {
     "data": {
      "text/plain": [
       "3"
      ]
     },
     "execution_count": 104,
     "metadata": {},
     "output_type": "execute_result"
    }
   ],
   "source": [
    "course_name.count(\"a\")"
   ]
  },
  {
   "cell_type": "code",
   "execution_count": 105,
   "id": "7d27f9b1-68b9-43e4-ac05-3bc54422a74b",
   "metadata": {},
   "outputs": [
    {
     "data": {
      "text/plain": [
       "2"
      ]
     },
     "execution_count": 105,
     "metadata": {},
     "output_type": "execute_result"
    }
   ],
   "source": [
    "course_name.count(\" \")"
   ]
  },
  {
   "cell_type": "code",
   "execution_count": 107,
   "id": "00a7a0ab-fb68-4b14-865e-e97b89f0baff",
   "metadata": {},
   "outputs": [
    {
     "data": {
      "text/plain": [
       "21"
      ]
     },
     "execution_count": 107,
     "metadata": {},
     "output_type": "execute_result"
    }
   ],
   "source": [
    "course_name.count(\"\")"
   ]
  },
  {
   "cell_type": "markdown",
   "id": "6a58f950-f6cc-4250-a93d-8621250792e0",
   "metadata": {},
   "source": [
    "###STRING SPLIT FUNCTION"
   ]
  },
  {
   "cell_type": "code",
   "execution_count": 106,
   "id": "8e5af272-068b-41e0-82f5-574ec91c8465",
   "metadata": {},
   "outputs": [
    {
     "data": {
      "text/plain": [
       "['Data', 'Science', 'Masters']"
      ]
     },
     "execution_count": 106,
     "metadata": {},
     "output_type": "execute_result"
    }
   ],
   "source": [
    "course_name.split(\" \") ##split creates a list"
   ]
  },
  {
   "cell_type": "code",
   "execution_count": 108,
   "id": "6682aa82-6474-454b-8a6e-83de9fa48387",
   "metadata": {},
   "outputs": [
    {
     "data": {
      "text/plain": [
       "['Data Science Ma', 'ter', '']"
      ]
     },
     "execution_count": 108,
     "metadata": {},
     "output_type": "execute_result"
    }
   ],
   "source": [
    "course_name.split(\"s\")"
   ]
  },
  {
   "cell_type": "code",
   "execution_count": 109,
   "id": "2199d268-90fc-4b43-9f1e-4d2fadbb562e",
   "metadata": {},
   "outputs": [
    {
     "data": {
      "text/plain": [
       "['Data ', 'cience Masters']"
      ]
     },
     "execution_count": 109,
     "metadata": {},
     "output_type": "execute_result"
    }
   ],
   "source": [
    "course_name.split(\"S\")"
   ]
  },
  {
   "cell_type": "code",
   "execution_count": 110,
   "id": "109aa8a3-c40d-49bb-9e80-9a5dc9b57331",
   "metadata": {},
   "outputs": [
    {
     "data": {
      "text/plain": [
       "('Data ', 'S', 'cience Masters')"
      ]
     },
     "execution_count": 110,
     "metadata": {},
     "output_type": "execute_result"
    }
   ],
   "source": [
    " course_name.partition(\"S\")"
   ]
  },
  {
   "cell_type": "code",
   "execution_count": 111,
   "id": "a675a64f-de80-4ee9-93f7-db5d6d59d10a",
   "metadata": {},
   "outputs": [
    {
     "data": {
      "text/plain": [
       "('Data Science Ma', 's', 'ters')"
      ]
     },
     "execution_count": 111,
     "metadata": {},
     "output_type": "execute_result"
    }
   ],
   "source": [
    "course_name.partition(\"s\")"
   ]
  },
  {
   "cell_type": "markdown",
   "id": "fced3f18-0980-4c0a-b750-e2927a10be10",
   "metadata": {
    "jp-MarkdownHeadingCollapsed": true,
    "tags": []
   },
   "source": [
    "##STRING CASE"
   ]
  },
  {
   "cell_type": "code",
   "execution_count": 112,
   "id": "83905ca8-3a96-49ec-a39c-169daac445af",
   "metadata": {},
   "outputs": [
    {
     "data": {
      "text/plain": [
       "'data science masters'"
      ]
     },
     "execution_count": 112,
     "metadata": {},
     "output_type": "execute_result"
    }
   ],
   "source": [
    "course_name.lower()"
   ]
  },
  {
   "cell_type": "code",
   "execution_count": 113,
   "id": "420928b6-4643-467a-8af9-5d1d29c46340",
   "metadata": {},
   "outputs": [
    {
     "data": {
      "text/plain": [
       "'Data Science Masters'"
      ]
     },
     "execution_count": 113,
     "metadata": {},
     "output_type": "execute_result"
    }
   ],
   "source": [
    "course_name.title()"
   ]
  },
  {
   "cell_type": "code",
   "execution_count": 114,
   "id": "95ce42d1-2c84-4a90-893f-d476ff1597fb",
   "metadata": {},
   "outputs": [
    {
     "data": {
      "text/plain": [
       "'DATA SCIENCE MASTERS'"
      ]
     },
     "execution_count": 114,
     "metadata": {},
     "output_type": "execute_result"
    }
   ],
   "source": [
    "course_name.upper()"
   ]
  },
  {
   "cell_type": "code",
   "execution_count": 115,
   "id": "f8ca9971-6977-45f4-b9be-7a67ab80d9f4",
   "metadata": {},
   "outputs": [
    {
     "data": {
      "text/plain": [
       "'dATA sCIENCE mASTERS'"
      ]
     },
     "execution_count": 115,
     "metadata": {},
     "output_type": "execute_result"
    }
   ],
   "source": [
    "course_name.swapcase()"
   ]
  },
  {
   "cell_type": "code",
   "execution_count": null,
   "id": "cbe089b0-3e58-4c08-a30a-5c843d288345",
   "metadata": {},
   "outputs": [],
   "source": []
  }
 ],
 "metadata": {
  "kernelspec": {
   "display_name": "Python 3 (ipykernel)",
   "language": "python",
   "name": "python3"
  },
  "language_info": {
   "codemirror_mode": {
    "name": "ipython",
    "version": 3
   },
   "file_extension": ".py",
   "mimetype": "text/x-python",
   "name": "python",
   "nbconvert_exporter": "python",
   "pygments_lexer": "ipython3",
   "version": "3.10.8"
  }
 },
 "nbformat": 4,
 "nbformat_minor": 5
}
