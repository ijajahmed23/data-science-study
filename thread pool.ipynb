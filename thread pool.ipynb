{
 "cells": [
  {
   "cell_type": "code",
   "execution_count": 1,
   "id": "999925ac-3743-423e-a930-cf9dacf9738a",
   "metadata": {},
   "outputs": [],
   "source": [
    "#using thread.start()...thread creation takes a huge time also with increasing number of threads cpu performance becomes slower"
   ]
  },
  {
   "cell_type": "code",
   "execution_count": 2,
   "id": "2ab5688f-ec0c-4b50-a03f-0fd06c6b6f64",
   "metadata": {},
   "outputs": [
    {
     "name": "stdout",
     "output_type": "stream",
     "text": [
      "Main thread ended in 0.0001747608184814453 seconds\n"
     ]
    }
   ],
   "source": [
    "from time import time,sleep\n",
    "import threading\n",
    "\n",
    "start_time=time()\n",
    "def something(id):\n",
    "    print(f\"Going to sleep...{id}\")\n",
    "    sleep(1)\n",
    "    return f\"Woken up...{id}\"\n",
    "    \n",
    "end_time=time()\n",
    "print(f\"Main thread ended in {end_time-start_time} seconds\")"
   ]
  },
  {
   "cell_type": "code",
   "execution_count": null,
   "id": "f5712104-86ef-4e3d-a28c-b8f0b7dbf00b",
   "metadata": {},
   "outputs": [],
   "source": []
  }
 ],
 "metadata": {
  "kernelspec": {
   "display_name": "Python 3 (ipykernel)",
   "language": "python",
   "name": "python3"
  },
  "language_info": {
   "codemirror_mode": {
    "name": "ipython",
    "version": 3
   },
   "file_extension": ".py",
   "mimetype": "text/x-python",
   "name": "python",
   "nbconvert_exporter": "python",
   "pygments_lexer": "ipython3",
   "version": "3.10.8"
  }
 },
 "nbformat": 4,
 "nbformat_minor": 5
}
