{
 "cells": [
  {
   "cell_type": "code",
   "execution_count": 1,
   "id": "a2125dce-3841-459e-ba59-8df8812c0801",
   "metadata": {},
   "outputs": [],
   "source": [
    "t=()"
   ]
  },
  {
   "cell_type": "code",
   "execution_count": 2,
   "id": "78637612-08b2-46a4-985f-a83d945f49bd",
   "metadata": {},
   "outputs": [
    {
     "data": {
      "text/plain": [
       "tuple"
      ]
     },
     "execution_count": 2,
     "metadata": {},
     "output_type": "execute_result"
    }
   ],
   "source": [
    "type(t)"
   ]
  },
  {
   "cell_type": "code",
   "execution_count": 5,
   "id": "d0bed977-124b-4fe1-bf62-6cc8df4af731",
   "metadata": {},
   "outputs": [],
   "source": [
    "t1=(1,2,3,4,2+4j,\"ijaj\",True)"
   ]
  },
  {
   "cell_type": "code",
   "execution_count": 4,
   "id": "584b583d-2b18-44c2-8e56-ba4a08967f82",
   "metadata": {},
   "outputs": [
    {
     "data": {
      "text/plain": [
       "(1, 2, 3, 4, (2+4j), 'ijaj', True)"
      ]
     },
     "execution_count": 4,
     "metadata": {},
     "output_type": "execute_result"
    }
   ],
   "source": [
    "t1"
   ]
  },
  {
   "cell_type": "code",
   "execution_count": 5,
   "id": "69cc11c0-c714-4d0d-a3fe-e732e00cbc02",
   "metadata": {},
   "outputs": [
    {
     "data": {
      "text/plain": [
       "tuple"
      ]
     },
     "execution_count": 5,
     "metadata": {},
     "output_type": "execute_result"
    }
   ],
   "source": [
    "type(t1)"
   ]
  },
  {
   "cell_type": "code",
   "execution_count": 1,
   "id": "3bc80323-f316-4cb3-b4a0-0ecdc80648fb",
   "metadata": {},
   "outputs": [],
   "source": [
    "l=[1,2,3,4]"
   ]
  },
  {
   "cell_type": "code",
   "execution_count": 2,
   "id": "6d768b66-b5f2-42cd-8236-ef84c4da33cf",
   "metadata": {},
   "outputs": [
    {
     "data": {
      "text/plain": [
       "list"
      ]
     },
     "execution_count": 2,
     "metadata": {},
     "output_type": "execute_result"
    }
   ],
   "source": [
    "type(l)"
   ]
  },
  {
   "cell_type": "code",
   "execution_count": 6,
   "id": "16153ba5-73ed-49ae-b142-505072dbfc19",
   "metadata": {},
   "outputs": [
    {
     "data": {
      "text/plain": [
       "(1, 2, 3, 4, (2+4j), 'ijaj', True)"
      ]
     },
     "execution_count": 6,
     "metadata": {},
     "output_type": "execute_result"
    }
   ],
   "source": [
    "t1"
   ]
  },
  {
   "cell_type": "code",
   "execution_count": 7,
   "id": "00a2da0e-247f-4485-bf43-c0332c0edfcf",
   "metadata": {},
   "outputs": [
    {
     "data": {
      "text/plain": [
       "1"
      ]
     },
     "execution_count": 7,
     "metadata": {},
     "output_type": "execute_result"
    }
   ],
   "source": [
    "t1[0]"
   ]
  },
  {
   "cell_type": "code",
   "execution_count": 9,
   "id": "7bb8d1b4-47a7-431d-8493-a93c4c01d3e5",
   "metadata": {},
   "outputs": [
    {
     "data": {
      "text/plain": [
       "True"
      ]
     },
     "execution_count": 9,
     "metadata": {},
     "output_type": "execute_result"
    }
   ],
   "source": [
    "t1[-1]"
   ]
  },
  {
   "cell_type": "code",
   "execution_count": 10,
   "id": "612dfa7b-d964-431e-899d-9a80fe8b391c",
   "metadata": {},
   "outputs": [
    {
     "data": {
      "text/plain": [
       "(True, 'ijaj', (2+4j), 4, 3, 2, 1)"
      ]
     },
     "execution_count": 10,
     "metadata": {},
     "output_type": "execute_result"
    }
   ],
   "source": [
    "t1[::-1]"
   ]
  },
  {
   "cell_type": "code",
   "execution_count": 13,
   "id": "86f22305-9fdd-42d6-8eec-b588ae7bba16",
   "metadata": {},
   "outputs": [],
   "source": [
    "t1=t1[::-1]"
   ]
  },
  {
   "cell_type": "code",
   "execution_count": 14,
   "id": "b3be291f-02ec-43cf-b856-1bf3d99d222a",
   "metadata": {},
   "outputs": [
    {
     "data": {
      "text/plain": [
       "(True, 'ijaj', (2+4j), 4, 3, 2, 1)"
      ]
     },
     "execution_count": 14,
     "metadata": {},
     "output_type": "execute_result"
    }
   ],
   "source": [
    "t1"
   ]
  },
  {
   "cell_type": "code",
   "execution_count": 15,
   "id": "42601d5a-0dd9-4591-9363-d74608e13824",
   "metadata": {},
   "outputs": [
    {
     "data": {
      "text/plain": [
       "(True, 'ijaj', (2+4j))"
      ]
     },
     "execution_count": 15,
     "metadata": {},
     "output_type": "execute_result"
    }
   ],
   "source": [
    "t1[0:3:1]"
   ]
  },
  {
   "cell_type": "code",
   "execution_count": 16,
   "id": "95d73321-7795-4642-81d8-c3d4c422b5b6",
   "metadata": {},
   "outputs": [
    {
     "data": {
      "text/plain": [
       "(True, 'ijaj', (2+4j))"
      ]
     },
     "execution_count": 16,
     "metadata": {},
     "output_type": "execute_result"
    }
   ],
   "source": [
    "t1[0:3]"
   ]
  },
  {
   "cell_type": "code",
   "execution_count": 17,
   "id": "a151f797-9810-4fd6-96ec-54ff1fed9a83",
   "metadata": {},
   "outputs": [
    {
     "data": {
      "text/plain": [
       "tuple"
      ]
     },
     "execution_count": 17,
     "metadata": {},
     "output_type": "execute_result"
    }
   ],
   "source": [
    "type(t1[0:3])"
   ]
  },
  {
   "cell_type": "code",
   "execution_count": 18,
   "id": "88adfb48-2ee7-458f-b6c7-bc7a44fffe8b",
   "metadata": {},
   "outputs": [
    {
     "data": {
      "text/plain": [
       "1"
      ]
     },
     "execution_count": 18,
     "metadata": {},
     "output_type": "execute_result"
    }
   ],
   "source": [
    "t1.count(4)"
   ]
  },
  {
   "cell_type": "code",
   "execution_count": 19,
   "id": "07b6613b-24fb-40c4-a4e9-6d52cba25cd5",
   "metadata": {},
   "outputs": [
    {
     "data": {
      "text/plain": [
       "3"
      ]
     },
     "execution_count": 19,
     "metadata": {},
     "output_type": "execute_result"
    }
   ],
   "source": [
    "t1.index(4)"
   ]
  },
  {
   "cell_type": "code",
   "execution_count": 20,
   "id": "c9963020-afea-4b0c-b6b6-4128ae405ea9",
   "metadata": {},
   "outputs": [
    {
     "data": {
      "text/plain": [
       "0"
      ]
     },
     "execution_count": 20,
     "metadata": {},
     "output_type": "execute_result"
    }
   ],
   "source": [
    "t1.count(\"abc\")"
   ]
  },
  {
   "cell_type": "code",
   "execution_count": 21,
   "id": "0955b4cb-377f-462e-b1b7-c130d82063a9",
   "metadata": {},
   "outputs": [
    {
     "ename": "ValueError",
     "evalue": "tuple.index(x): x not in tuple",
     "output_type": "error",
     "traceback": [
      "\u001b[0;31m---------------------------------------------------------------------------\u001b[0m",
      "\u001b[0;31mValueError\u001b[0m                                Traceback (most recent call last)",
      "Cell \u001b[0;32mIn[21], line 1\u001b[0m\n\u001b[0;32m----> 1\u001b[0m \u001b[43mt1\u001b[49m\u001b[38;5;241;43m.\u001b[39;49m\u001b[43mindex\u001b[49m\u001b[43m(\u001b[49m\u001b[38;5;124;43m\"\u001b[39;49m\u001b[38;5;124;43mabc\u001b[39;49m\u001b[38;5;124;43m\"\u001b[39;49m\u001b[43m)\u001b[49m\n",
      "\u001b[0;31mValueError\u001b[0m: tuple.index(x): x not in tuple"
     ]
    }
   ],
   "source": [
    "t1.index(\"abc\")"
   ]
  },
  {
   "cell_type": "code",
   "execution_count": 23,
   "id": "9f9df674-d319-409c-87c2-12f7bfc769e3",
   "metadata": {},
   "outputs": [
    {
     "data": {
      "text/plain": [
       "0"
      ]
     },
     "execution_count": 23,
     "metadata": {},
     "output_type": "execute_result"
    }
   ],
   "source": [
    "t1.index(1) #since internally system has 1 stored for True"
   ]
  },
  {
   "cell_type": "code",
   "execution_count": 24,
   "id": "0a7ac533-a34a-43d7-a975-20afc9ca5413",
   "metadata": {},
   "outputs": [
    {
     "data": {
      "text/plain": [
       "2"
      ]
     },
     "execution_count": 24,
     "metadata": {},
     "output_type": "execute_result"
    }
   ],
   "source": [
    "t1.count(True)"
   ]
  },
  {
   "cell_type": "code",
   "execution_count": 25,
   "id": "8f655475-fd1a-442a-918a-990fbb23fe35",
   "metadata": {},
   "outputs": [
    {
     "data": {
      "text/plain": [
       "2"
      ]
     },
     "execution_count": 25,
     "metadata": {},
     "output_type": "execute_result"
    }
   ],
   "source": [
    "t1.count(1)"
   ]
  },
  {
   "cell_type": "code",
   "execution_count": 26,
   "id": "f0e74b1e-5066-478d-923c-9583a0566daa",
   "metadata": {},
   "outputs": [
    {
     "data": {
      "text/plain": [
       "[1, 2, 3, 4]"
      ]
     },
     "execution_count": 26,
     "metadata": {},
     "output_type": "execute_result"
    }
   ],
   "source": [
    "l"
   ]
  },
  {
   "cell_type": "code",
   "execution_count": 27,
   "id": "992e075d-9df3-4acc-aa84-aa1d010c4ad2",
   "metadata": {},
   "outputs": [
    {
     "ename": "TypeError",
     "evalue": "'tuple' object does not support item assignment",
     "output_type": "error",
     "traceback": [
      "\u001b[0;31m---------------------------------------------------------------------------\u001b[0m",
      "\u001b[0;31mTypeError\u001b[0m                                 Traceback (most recent call last)",
      "Cell \u001b[0;32mIn[27], line 1\u001b[0m\n\u001b[0;32m----> 1\u001b[0m \u001b[43mt1\u001b[49m\u001b[43m[\u001b[49m\u001b[38;5;241;43m0\u001b[39;49m\u001b[43m]\u001b[49m\u001b[38;5;241m=\u001b[39m\u001b[38;5;241m345\u001b[39m\n",
      "\u001b[0;31mTypeError\u001b[0m: 'tuple' object does not support item assignment"
     ]
    }
   ],
   "source": [
    "t1[0]=345 #tuple is immutable "
   ]
  },
  {
   "cell_type": "code",
   "execution_count": 30,
   "id": "b28d8f49-935b-4812-b91f-5558c6132d1a",
   "metadata": {},
   "outputs": [],
   "source": [
    "l[0]=100 #list is mutable"
   ]
  },
  {
   "cell_type": "code",
   "execution_count": 29,
   "id": "1a3ce7ea-bd47-4499-be76-768a7d041b11",
   "metadata": {},
   "outputs": [
    {
     "data": {
      "text/plain": [
       "[100, 2, 3, 4]"
      ]
     },
     "execution_count": 29,
     "metadata": {},
     "output_type": "execute_result"
    }
   ],
   "source": [
    "l"
   ]
  },
  {
   "cell_type": "code",
   "execution_count": 31,
   "id": "f2fcbcde-4cc0-49dd-93c4-9e50a2ebeba6",
   "metadata": {},
   "outputs": [
    {
     "name": "stdout",
     "output_type": "stream",
     "text": [
      "True ijaj (2+4j) 4 3 2 1 "
     ]
    }
   ],
   "source": [
    "for i in t1:\n",
    "    print(i,end=\" \")"
   ]
  },
  {
   "cell_type": "code",
   "execution_count": 32,
   "id": "5043d3f2-c04a-4ca6-a669-1f9741ae0998",
   "metadata": {},
   "outputs": [
    {
     "name": "stdout",
     "output_type": "stream",
     "text": [
      "True datatype =  <class 'bool'>\n",
      "ijaj datatype =  <class 'str'>\n",
      "(2+4j) datatype =  <class 'complex'>\n",
      "4 datatype =  <class 'int'>\n",
      "3 datatype =  <class 'int'>\n",
      "2 datatype =  <class 'int'>\n",
      "1 datatype =  <class 'int'>\n"
     ]
    }
   ],
   "source": [
    "for i in t1:\n",
    "    print(i, \"datatype = \",type(i))"
   ]
  },
  {
   "cell_type": "code",
   "execution_count": 33,
   "id": "730a3e07-134a-4d3a-8d4f-615ff2614210",
   "metadata": {},
   "outputs": [],
   "source": [
    "t2=(1,2,3,4)"
   ]
  },
  {
   "cell_type": "code",
   "execution_count": 34,
   "id": "c24e24ad-663e-4726-a632-92a1de95acce",
   "metadata": {},
   "outputs": [
    {
     "data": {
      "text/plain": [
       "(1, 2, 3, 4, 1, 2, 3, 4, 1, 2, 3, 4)"
      ]
     },
     "execution_count": 34,
     "metadata": {},
     "output_type": "execute_result"
    }
   ],
   "source": [
    "t2*3"
   ]
  },
  {
   "cell_type": "code",
   "execution_count": 35,
   "id": "00a4053d-61fd-4a47-9008-254540922bef",
   "metadata": {},
   "outputs": [
    {
     "data": {
      "text/plain": [
       "4"
      ]
     },
     "execution_count": 35,
     "metadata": {},
     "output_type": "execute_result"
    }
   ],
   "source": [
    "max(t2)"
   ]
  },
  {
   "cell_type": "code",
   "execution_count": 36,
   "id": "dee9c9bf-d8d7-47a5-85e3-52e55321eb78",
   "metadata": {},
   "outputs": [
    {
     "data": {
      "text/plain": [
       "1"
      ]
     },
     "execution_count": 36,
     "metadata": {},
     "output_type": "execute_result"
    }
   ],
   "source": [
    "min(t2)"
   ]
  },
  {
   "cell_type": "code",
   "execution_count": 37,
   "id": "e71280e2-8484-441b-bcd1-3723c9ca9623",
   "metadata": {},
   "outputs": [],
   "source": [
    "t1=(1,2,3,4)\n",
    "t2=(4,5,6,7)"
   ]
  },
  {
   "cell_type": "code",
   "execution_count": 38,
   "id": "0dcd09d0-9447-4483-9286-e9a7d2e29385",
   "metadata": {},
   "outputs": [],
   "source": [
    "t3=(t1,t2)"
   ]
  },
  {
   "cell_type": "code",
   "execution_count": 39,
   "id": "710bc31e-e4a8-4de1-883f-2f557833fd0c",
   "metadata": {},
   "outputs": [
    {
     "data": {
      "text/plain": [
       "((1, 2, 3, 4), (4, 5, 6, 7))"
      ]
     },
     "execution_count": 39,
     "metadata": {},
     "output_type": "execute_result"
    }
   ],
   "source": [
    "t3"
   ]
  },
  {
   "cell_type": "code",
   "execution_count": 40,
   "id": "16ff72db-9ed3-4c12-9d99-bc986e04464b",
   "metadata": {},
   "outputs": [],
   "source": [
    "t4=((1,3,4),[1,3,4,\"ijaj\"])"
   ]
  },
  {
   "cell_type": "code",
   "execution_count": 41,
   "id": "3ae793e5-49e5-465f-a017-79b859ff6408",
   "metadata": {},
   "outputs": [
    {
     "data": {
      "text/plain": [
       "((1, 3, 4), [1, 3, 4, 'ijaj'])"
      ]
     },
     "execution_count": 41,
     "metadata": {},
     "output_type": "execute_result"
    }
   ],
   "source": [
    "t4"
   ]
  },
  {
   "cell_type": "code",
   "execution_count": 42,
   "id": "372b842a-2345-43aa-8a18-79cf6d3f2dac",
   "metadata": {},
   "outputs": [],
   "source": [
    "del t4"
   ]
  },
  {
   "cell_type": "code",
   "execution_count": 43,
   "id": "b98779a1-1d40-41eb-919f-5cd94ad46823",
   "metadata": {},
   "outputs": [
    {
     "ename": "NameError",
     "evalue": "name 't4' is not defined",
     "output_type": "error",
     "traceback": [
      "\u001b[0;31m---------------------------------------------------------------------------\u001b[0m",
      "\u001b[0;31mNameError\u001b[0m                                 Traceback (most recent call last)",
      "Cell \u001b[0;32mIn[43], line 1\u001b[0m\n\u001b[0;32m----> 1\u001b[0m \u001b[43mt4\u001b[49m\n",
      "\u001b[0;31mNameError\u001b[0m: name 't4' is not defined"
     ]
    }
   ],
   "source": [
    "t4"
   ]
  },
  {
   "cell_type": "code",
   "execution_count": 44,
   "id": "5d98274c-5104-428e-9aef-f512353d7fe7",
   "metadata": {},
   "outputs": [
    {
     "data": {
      "text/plain": [
       "(1, 2, 3, 4)"
      ]
     },
     "execution_count": 44,
     "metadata": {},
     "output_type": "execute_result"
    }
   ],
   "source": [
    "t1"
   ]
  },
  {
   "cell_type": "code",
   "execution_count": 46,
   "id": "c2049a73-9264-4ba4-bb4c-2746dec00638",
   "metadata": {},
   "outputs": [
    {
     "ename": "SyntaxError",
     "evalue": "invalid syntax (2409445981.py, line 1)",
     "output_type": "error",
     "traceback": [
      "\u001b[0;36m  Cell \u001b[0;32mIn[46], line 1\u001b[0;36m\u001b[0m\n\u001b[0;31m    t1.count(:)\u001b[0m\n\u001b[0m             ^\u001b[0m\n\u001b[0;31mSyntaxError\u001b[0m\u001b[0;31m:\u001b[0m invalid syntax\n"
     ]
    }
   ],
   "source": [
    "t1.count(:)"
   ]
  },
  {
   "cell_type": "code",
   "execution_count": 47,
   "id": "d90ab5fd-69dc-4b23-8637-30a0daf9f200",
   "metadata": {},
   "outputs": [
    {
     "data": {
      "text/plain": [
       "4"
      ]
     },
     "execution_count": 47,
     "metadata": {},
     "output_type": "execute_result"
    }
   ],
   "source": [
    "len(t1)"
   ]
  },
  {
   "cell_type": "code",
   "execution_count": 48,
   "id": "30bca563-3deb-4b9e-b905-7397eb721aa5",
   "metadata": {},
   "outputs": [
    {
     "name": "stdout",
     "output_type": "stream",
     "text": [
      "1\n",
      "2\n",
      "3\n",
      "4\n"
     ]
    }
   ],
   "source": [
    "for i in t1:\n",
    "    print(i)"
   ]
  },
  {
   "cell_type": "code",
   "execution_count": 49,
   "id": "c597e1f4-fbe8-438e-b57c-907cdb8f9cec",
   "metadata": {},
   "outputs": [
    {
     "data": {
      "text/plain": [
       "False"
      ]
     },
     "execution_count": 49,
     "metadata": {},
     "output_type": "execute_result"
    }
   ],
   "source": [
    "\"ijaj\" in t1"
   ]
  },
  {
   "cell_type": "code",
   "execution_count": 50,
   "id": "a22626b7-5034-4391-9b8d-e9d85330763e",
   "metadata": {},
   "outputs": [
    {
     "data": {
      "text/plain": [
       "True"
      ]
     },
     "execution_count": 50,
     "metadata": {},
     "output_type": "execute_result"
    }
   ],
   "source": [
    "2 in t1"
   ]
  },
  {
   "cell_type": "code",
   "execution_count": null,
   "id": "b67b5e70-fcd0-48a9-aef3-e40919c2938d",
   "metadata": {},
   "outputs": [],
   "source": []
  }
 ],
 "metadata": {
  "kernelspec": {
   "display_name": "Python 3 (ipykernel)",
   "language": "python",
   "name": "python3"
  },
  "language_info": {
   "codemirror_mode": {
    "name": "ipython",
    "version": 3
   },
   "file_extension": ".py",
   "mimetype": "text/x-python",
   "name": "python",
   "nbconvert_exporter": "python",
   "pygments_lexer": "ipython3",
   "version": "3.10.8"
  }
 },
 "nbformat": 4,
 "nbformat_minor": 5
}
