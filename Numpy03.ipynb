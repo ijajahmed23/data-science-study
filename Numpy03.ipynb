{
 "cells": [
  {
   "cell_type": "code",
   "execution_count": 1,
   "id": "e786cf0d-1f7e-4551-99ac-db69ad095821",
   "metadata": {},
   "outputs": [],
   "source": [
    "import numpy as np"
   ]
  },
  {
   "cell_type": "code",
   "execution_count": 2,
   "id": "d7d9fbdb-4eab-4d3c-a729-b8dadebcd3dd",
   "metadata": {},
   "outputs": [],
   "source": [
    "#Numpy - Array Manipulation"
   ]
  },
  {
   "cell_type": "code",
   "execution_count": 5,
   "id": "6cfb3684-4fa0-48e1-8e8c-e47dbcc94125",
   "metadata": {},
   "outputs": [],
   "source": [
    "arr=np.random.randint(1,10, (4,4))"
   ]
  },
  {
   "cell_type": "code",
   "execution_count": 6,
   "id": "1c509ff1-abc8-4cee-b170-e16cafba2306",
   "metadata": {},
   "outputs": [
    {
     "data": {
      "text/plain": [
       "array([[4, 1, 3, 1],\n",
       "       [1, 8, 2, 6],\n",
       "       [8, 4, 6, 4],\n",
       "       [4, 2, 6, 5]])"
      ]
     },
     "execution_count": 6,
     "metadata": {},
     "output_type": "execute_result"
    }
   ],
   "source": [
    "arr"
   ]
  },
  {
   "cell_type": "code",
   "execution_count": 7,
   "id": "985a0509-a86c-4b5d-85d2-081caa21e35a",
   "metadata": {},
   "outputs": [
    {
     "data": {
      "text/plain": [
       "array([[4, 1],\n",
       "       [3, 1],\n",
       "       [1, 8],\n",
       "       [2, 6],\n",
       "       [8, 4],\n",
       "       [6, 4],\n",
       "       [4, 2],\n",
       "       [6, 5]])"
      ]
     },
     "execution_count": 7,
     "metadata": {},
     "output_type": "execute_result"
    }
   ],
   "source": [
    "arr.reshape(8,2)"
   ]
  },
  {
   "cell_type": "code",
   "execution_count": 8,
   "id": "06c7540f-fb50-4aea-8297-dab65e77e547",
   "metadata": {},
   "outputs": [
    {
     "data": {
      "text/plain": [
       "array([[4, 1, 8, 4],\n",
       "       [1, 8, 4, 2],\n",
       "       [3, 2, 6, 6],\n",
       "       [1, 6, 4, 5]])"
      ]
     },
     "execution_count": 8,
     "metadata": {},
     "output_type": "execute_result"
    }
   ],
   "source": [
    "arr.T"
   ]
  },
  {
   "cell_type": "code",
   "execution_count": 9,
   "id": "d11de61c-114c-4d1c-a7e4-96f436daa2e3",
   "metadata": {},
   "outputs": [
    {
     "data": {
      "text/plain": [
       "array([4, 1, 3, 1, 1, 8, 2, 6, 8, 4, 6, 4, 4, 2, 6, 5])"
      ]
     },
     "execution_count": 9,
     "metadata": {},
     "output_type": "execute_result"
    }
   ],
   "source": [
    "arr.flatten()"
   ]
  },
  {
   "cell_type": "code",
   "execution_count": 12,
   "id": "20ce6725-e250-4d9e-9d07-25013eb0f4cc",
   "metadata": {},
   "outputs": [
    {
     "data": {
      "text/plain": [
       "array([[[4, 1, 3, 1]],\n",
       "\n",
       "       [[1, 8, 2, 6]],\n",
       "\n",
       "       [[8, 4, 6, 4]],\n",
       "\n",
       "       [[4, 2, 6, 5]]])"
      ]
     },
     "execution_count": 12,
     "metadata": {},
     "output_type": "execute_result"
    }
   ],
   "source": [
    "np.expand_dims(arr,axis=1)\n",
    "#columnwise expanded"
   ]
  },
  {
   "cell_type": "code",
   "execution_count": 14,
   "id": "e3cead1c-f126-4e35-b3dd-1700c1787bda",
   "metadata": {},
   "outputs": [
    {
     "data": {
      "text/plain": [
       "array([[[4, 1, 3, 1],\n",
       "        [1, 8, 2, 6],\n",
       "        [8, 4, 6, 4],\n",
       "        [4, 2, 6, 5]]])"
      ]
     },
     "execution_count": 14,
     "metadata": {},
     "output_type": "execute_result"
    }
   ],
   "source": [
    "np.expand_dims(arr,axis=0)"
   ]
  },
  {
   "cell_type": "code",
   "execution_count": 16,
   "id": "1957a29d-7e17-416f-b342-76da83e89ec7",
   "metadata": {},
   "outputs": [],
   "source": [
    "data=np.array([[1],[2],[3]])"
   ]
  },
  {
   "cell_type": "code",
   "execution_count": 17,
   "id": "1d82f919-3d89-484d-a4b3-6fc603747c9a",
   "metadata": {},
   "outputs": [
    {
     "data": {
      "text/plain": [
       "array([[1],\n",
       "       [2],\n",
       "       [3]])"
      ]
     },
     "execution_count": 17,
     "metadata": {},
     "output_type": "execute_result"
    }
   ],
   "source": [
    "data"
   ]
  },
  {
   "cell_type": "code",
   "execution_count": 18,
   "id": "0ab95a18-49fd-4e83-bd01-c7d3cdfd59d3",
   "metadata": {},
   "outputs": [
    {
     "data": {
      "text/plain": [
       "array([1, 2, 3])"
      ]
     },
     "execution_count": 18,
     "metadata": {},
     "output_type": "execute_result"
    }
   ],
   "source": [
    "np.squeeze(data)"
   ]
  },
  {
   "cell_type": "code",
   "execution_count": 19,
   "id": "eec17891-c702-426b-b745-aaf7a85a94df",
   "metadata": {},
   "outputs": [
    {
     "data": {
      "text/plain": [
       "array([1, 1, 2, 2, 3, 3])"
      ]
     },
     "execution_count": 19,
     "metadata": {},
     "output_type": "execute_result"
    }
   ],
   "source": [
    "np.repeat(data,2)"
   ]
  },
  {
   "cell_type": "code",
   "execution_count": 22,
   "id": "d0093d74-451d-4e50-83d5-4414ecb82563",
   "metadata": {},
   "outputs": [
    {
     "data": {
      "text/plain": [
       "array([[2],\n",
       "       [3],\n",
       "       [1]])"
      ]
     },
     "execution_count": 22,
     "metadata": {},
     "output_type": "execute_result"
    }
   ],
   "source": [
    "np.roll(data,2)\n",
    "#each address incremented by +2...1(0)=1(2),2(1)=2(3=1),3(2)=3(4=2)"
   ]
  },
  {
   "cell_type": "code",
   "execution_count": 23,
   "id": "9351c32a-d092-4b14-8719-3739073b0b05",
   "metadata": {},
   "outputs": [
    {
     "data": {
      "text/plain": [
       "array([[1, 0, 0, 0],\n",
       "       [0, 2, 0, 0],\n",
       "       [0, 0, 3, 0],\n",
       "       [0, 0, 0, 4]])"
      ]
     },
     "execution_count": 23,
     "metadata": {},
     "output_type": "execute_result"
    }
   ],
   "source": [
    "np.diag(np.array([1,2,3,4]))"
   ]
  },
  {
   "cell_type": "code",
   "execution_count": 24,
   "id": "80b0505c-a4d1-4d24-a3ab-3f23de88ab17",
   "metadata": {},
   "outputs": [],
   "source": [
    "#Numpy - Binary Operations"
   ]
  },
  {
   "cell_type": "code",
   "execution_count": 27,
   "id": "55876ab9-68a2-4997-9e0f-c3bbe865e4e2",
   "metadata": {},
   "outputs": [],
   "source": [
    "arr1=np.random.randint(1,10, (3,4))\n",
    "arr2=np.random.randint(1,10, (3,4))"
   ]
  },
  {
   "cell_type": "code",
   "execution_count": 28,
   "id": "5266b6ad-6139-4fe2-a8d8-9cd3f787aa53",
   "metadata": {},
   "outputs": [
    {
     "data": {
      "text/plain": [
       "array([[1, 9, 7, 1],\n",
       "       [6, 9, 6, 5],\n",
       "       [3, 9, 2, 5]])"
      ]
     },
     "execution_count": 28,
     "metadata": {},
     "output_type": "execute_result"
    }
   ],
   "source": [
    "arr1"
   ]
  },
  {
   "cell_type": "code",
   "execution_count": 29,
   "id": "dd18abb1-d1bc-4b83-9ea8-1725caddca7b",
   "metadata": {},
   "outputs": [
    {
     "data": {
      "text/plain": [
       "array([[6, 2, 7, 8],\n",
       "       [2, 1, 2, 5],\n",
       "       [2, 8, 5, 2]])"
      ]
     },
     "execution_count": 29,
     "metadata": {},
     "output_type": "execute_result"
    }
   ],
   "source": [
    "arr2"
   ]
  },
  {
   "cell_type": "code",
   "execution_count": 30,
   "id": "6405f505-63b9-47d4-a461-a0cd9ea81587",
   "metadata": {},
   "outputs": [
    {
     "data": {
      "text/plain": [
       "array([[ 7, 11, 14,  9],\n",
       "       [ 8, 10,  8, 10],\n",
       "       [ 5, 17,  7,  7]])"
      ]
     },
     "execution_count": 30,
     "metadata": {},
     "output_type": "execute_result"
    }
   ],
   "source": [
    "arr1+arr2"
   ]
  },
  {
   "cell_type": "code",
   "execution_count": 31,
   "id": "85746069-2274-4614-a5f4-4a7d22c7a1cc",
   "metadata": {},
   "outputs": [
    {
     "data": {
      "text/plain": [
       "array([[ 6, 18, 49,  8],\n",
       "       [12,  9, 12, 25],\n",
       "       [ 6, 72, 10, 10]])"
      ]
     },
     "execution_count": 31,
     "metadata": {},
     "output_type": "execute_result"
    }
   ],
   "source": [
    "arr1*arr2"
   ]
  },
  {
   "cell_type": "code",
   "execution_count": 32,
   "id": "2c402ad5-a0ad-496d-8f66-6b0c1e4e4ca6",
   "metadata": {},
   "outputs": [
    {
     "data": {
      "text/plain": [
       "array([[0.16666667, 4.5       , 1.        , 0.125     ],\n",
       "       [3.        , 9.        , 3.        , 1.        ],\n",
       "       [1.5       , 1.125     , 0.4       , 2.5       ]])"
      ]
     },
     "execution_count": 32,
     "metadata": {},
     "output_type": "execute_result"
    }
   ],
   "source": [
    "arr1/arr2"
   ]
  },
  {
   "cell_type": "code",
   "execution_count": 36,
   "id": "9066f1dc-841f-420d-9d84-e520f04fda3c",
   "metadata": {},
   "outputs": [
    {
     "data": {
      "text/plain": [
       "array([[       1,       81,   823543,        1],\n",
       "       [      36,        9,       36,     3125],\n",
       "       [       9, 43046721,       32,       25]])"
      ]
     },
     "execution_count": 36,
     "metadata": {},
     "output_type": "execute_result"
    }
   ],
   "source": [
    "arr1**arr2"
   ]
  },
  {
   "cell_type": "code",
   "execution_count": 37,
   "id": "bbc8a528-5a60-4e18-ac1d-422d399526ba",
   "metadata": {},
   "outputs": [
    {
     "data": {
      "text/plain": [
       "array([[ -2, -10,  -8,  -2],\n",
       "       [ -7, -10,  -7,  -6],\n",
       "       [ -4, -10,  -3,  -6]])"
      ]
     },
     "execution_count": 37,
     "metadata": {},
     "output_type": "execute_result"
    }
   ],
   "source": [
    "~arr1"
   ]
  },
  {
   "cell_type": "code",
   "execution_count": 38,
   "id": "7f892c78-192e-42e9-aab3-13f95403e4d1",
   "metadata": {},
   "outputs": [
    {
     "data": {
      "text/plain": [
       "array([[1, 9, 7, 1],\n",
       "       [6, 9, 6, 5],\n",
       "       [3, 9, 2, 5]])"
      ]
     },
     "execution_count": 38,
     "metadata": {},
     "output_type": "execute_result"
    }
   ],
   "source": [
    "arr1"
   ]
  },
  {
   "cell_type": "code",
   "execution_count": 39,
   "id": "e4104e1c-8afe-4e2f-ab8b-b3d236dab776",
   "metadata": {},
   "outputs": [
    {
     "data": {
      "text/plain": [
       "array([[False,  True, False, False],\n",
       "       [ True,  True,  True, False],\n",
       "       [ True,  True, False,  True]])"
      ]
     },
     "execution_count": 39,
     "metadata": {},
     "output_type": "execute_result"
    }
   ],
   "source": [
    "arr1>arr2"
   ]
  },
  {
   "cell_type": "code",
   "execution_count": 40,
   "id": "6b4afed2-5cd3-416e-9449-598daf16f497",
   "metadata": {},
   "outputs": [],
   "source": [
    "#Numpy - String Functions"
   ]
  },
  {
   "cell_type": "code",
   "execution_count": 41,
   "id": "a176735d-87bb-4b79-8a17-731ce261e5ab",
   "metadata": {},
   "outputs": [],
   "source": [
    "arr=np.array(['ijaj','ahmed'])"
   ]
  },
  {
   "cell_type": "code",
   "execution_count": 42,
   "id": "5290c80e-a0cc-4f15-98d4-40b6c0ea7bfb",
   "metadata": {},
   "outputs": [
    {
     "data": {
      "text/plain": [
       "array(['ijaj', 'ahmed'], dtype='<U5')"
      ]
     },
     "execution_count": 42,
     "metadata": {},
     "output_type": "execute_result"
    }
   ],
   "source": [
    "arr"
   ]
  },
  {
   "cell_type": "code",
   "execution_count": 43,
   "id": "75d5ce41-4f9b-48ba-ba47-d35c1875e8f5",
   "metadata": {},
   "outputs": [
    {
     "data": {
      "text/plain": [
       "array(['IJAJ', 'AHMED'], dtype='<U5')"
      ]
     },
     "execution_count": 43,
     "metadata": {},
     "output_type": "execute_result"
    }
   ],
   "source": [
    "np.char.upper(arr)"
   ]
  },
  {
   "cell_type": "code",
   "execution_count": 44,
   "id": "0d55f272-2459-44d0-87dd-a403847481ae",
   "metadata": {},
   "outputs": [
    {
     "data": {
      "text/plain": [
       "array(['Ijaj', 'Ahmed'], dtype='<U5')"
      ]
     },
     "execution_count": 44,
     "metadata": {},
     "output_type": "execute_result"
    }
   ],
   "source": [
    "np.char.capitalize(arr)"
   ]
  },
  {
   "cell_type": "code",
   "execution_count": 45,
   "id": "3d2072a4-b373-4e45-9981-f61407363ac8",
   "metadata": {},
   "outputs": [
    {
     "data": {
      "text/plain": [
       "array(['Ijaj', 'Ahmed'], dtype='<U5')"
      ]
     },
     "execution_count": 45,
     "metadata": {},
     "output_type": "execute_result"
    }
   ],
   "source": [
    "np.char.title(arr)"
   ]
  },
  {
   "cell_type": "code",
   "execution_count": 46,
   "id": "b65f1108-499b-4b4b-a4a7-a63f41efc52e",
   "metadata": {},
   "outputs": [],
   "source": [
    "#Numpy - Mathematical Functions"
   ]
  },
  {
   "cell_type": "code",
   "execution_count": 47,
   "id": "4e911de5-ca31-447e-9e09-cbd868f6165c",
   "metadata": {},
   "outputs": [
    {
     "data": {
      "text/plain": [
       "array([[1, 9, 7, 1],\n",
       "       [6, 9, 6, 5],\n",
       "       [3, 9, 2, 5]])"
      ]
     },
     "execution_count": 47,
     "metadata": {},
     "output_type": "execute_result"
    }
   ],
   "source": [
    "arr1"
   ]
  },
  {
   "cell_type": "code",
   "execution_count": 48,
   "id": "58c3a9f9-c4b7-4dae-b586-618646cbac87",
   "metadata": {},
   "outputs": [
    {
     "data": {
      "text/plain": [
       "array([[ 0.84147098,  0.41211849,  0.6569866 ,  0.84147098],\n",
       "       [-0.2794155 ,  0.41211849, -0.2794155 , -0.95892427],\n",
       "       [ 0.14112001,  0.41211849,  0.90929743, -0.95892427]])"
      ]
     },
     "execution_count": 48,
     "metadata": {},
     "output_type": "execute_result"
    }
   ],
   "source": [
    "np.sin(arr1)"
   ]
  },
  {
   "cell_type": "code",
   "execution_count": 49,
   "id": "6b505308-dc87-4478-ba0e-9db6ce14c162",
   "metadata": {},
   "outputs": [
    {
     "data": {
      "text/plain": [
       "array([[ 0.54030231, -0.91113026,  0.75390225,  0.54030231],\n",
       "       [ 0.96017029, -0.91113026,  0.96017029,  0.28366219],\n",
       "       [-0.9899925 , -0.91113026, -0.41614684,  0.28366219]])"
      ]
     },
     "execution_count": 49,
     "metadata": {},
     "output_type": "execute_result"
    }
   ],
   "source": [
    "np.cos(arr1)"
   ]
  },
  {
   "cell_type": "code",
   "execution_count": 50,
   "id": "b1e5916f-d814-40a5-b9a8-199715afb72d",
   "metadata": {},
   "outputs": [
    {
     "data": {
      "text/plain": [
       "array([[ 1.55740772, -0.45231566,  0.87144798,  1.55740772],\n",
       "       [-0.29100619, -0.45231566, -0.29100619, -3.38051501],\n",
       "       [-0.14254654, -0.45231566, -2.18503986, -3.38051501]])"
      ]
     },
     "execution_count": 50,
     "metadata": {},
     "output_type": "execute_result"
    }
   ],
   "source": [
    "np.tan(arr1)"
   ]
  },
  {
   "cell_type": "code",
   "execution_count": 51,
   "id": "83bfb4d2-3f7b-42b7-a1e1-d5fbb24f2442",
   "metadata": {},
   "outputs": [
    {
     "data": {
      "text/plain": [
       "array([[0.        , 0.95424251, 0.84509804, 0.        ],\n",
       "       [0.77815125, 0.95424251, 0.77815125, 0.69897   ],\n",
       "       [0.47712125, 0.95424251, 0.30103   , 0.69897   ]])"
      ]
     },
     "execution_count": 51,
     "metadata": {},
     "output_type": "execute_result"
    }
   ],
   "source": [
    "np.log10(arr1)"
   ]
  },
  {
   "cell_type": "code",
   "execution_count": 52,
   "id": "f656c421-8546-45cb-b66d-ddb2a959e4f2",
   "metadata": {},
   "outputs": [
    {
     "data": {
      "text/plain": [
       "array([[2.71828183e+00, 8.10308393e+03, 1.09663316e+03, 2.71828183e+00],\n",
       "       [4.03428793e+02, 8.10308393e+03, 4.03428793e+02, 1.48413159e+02],\n",
       "       [2.00855369e+01, 8.10308393e+03, 7.38905610e+00, 1.48413159e+02]])"
      ]
     },
     "execution_count": 52,
     "metadata": {},
     "output_type": "execute_result"
    }
   ],
   "source": [
    "np.exp(arr1)"
   ]
  },
  {
   "cell_type": "code",
   "execution_count": 54,
   "id": "24380d51-10bc-42e3-a825-71a8dc1c4911",
   "metadata": {},
   "outputs": [
    {
     "data": {
      "text/plain": [
       "array([[ 1, 81, 49,  1],\n",
       "       [36, 81, 36, 25],\n",
       "       [ 9, 81,  4, 25]])"
      ]
     },
     "execution_count": 54,
     "metadata": {},
     "output_type": "execute_result"
    }
   ],
   "source": [
    "np.power(arr1,2)\n",
    "#power of 2"
   ]
  },
  {
   "cell_type": "code",
   "execution_count": 55,
   "id": "067e0c12-4664-4db7-89bb-9c0985695b82",
   "metadata": {},
   "outputs": [
    {
     "data": {
      "text/plain": [
       "5.25"
      ]
     },
     "execution_count": 55,
     "metadata": {},
     "output_type": "execute_result"
    }
   ],
   "source": [
    "np.mean(arr1)"
   ]
  },
  {
   "cell_type": "code",
   "execution_count": 56,
   "id": "cf5f6bf2-af35-4bf8-8cf1-b13cfa124706",
   "metadata": {},
   "outputs": [
    {
     "data": {
      "text/plain": [
       "5.5"
      ]
     },
     "execution_count": 56,
     "metadata": {},
     "output_type": "execute_result"
    }
   ],
   "source": [
    "np.median(arr1)"
   ]
  },
  {
   "cell_type": "code",
   "execution_count": 57,
   "id": "c0b8a6ba-a2df-428e-86ac-41af52b1224e",
   "metadata": {},
   "outputs": [
    {
     "ename": "AttributeError",
     "evalue": "module 'numpy' has no attribute 'mode'",
     "output_type": "error",
     "traceback": [
      "\u001b[0;31m---------------------------------------------------------------------------\u001b[0m",
      "\u001b[0;31mAttributeError\u001b[0m                            Traceback (most recent call last)",
      "Cell \u001b[0;32mIn[57], line 1\u001b[0m\n\u001b[0;32m----> 1\u001b[0m \u001b[43mnp\u001b[49m\u001b[38;5;241;43m.\u001b[39;49m\u001b[43mmode\u001b[49m(arr1)\n",
      "File \u001b[0;32m/opt/conda/lib/python3.10/site-packages/numpy/__init__.py:311\u001b[0m, in \u001b[0;36m__getattr__\u001b[0;34m(attr)\u001b[0m\n\u001b[1;32m    308\u001b[0m     \u001b[38;5;28;01mfrom\u001b[39;00m \u001b[38;5;21;01m.\u001b[39;00m\u001b[38;5;21;01mtesting\u001b[39;00m \u001b[38;5;28;01mimport\u001b[39;00m Tester\n\u001b[1;32m    309\u001b[0m     \u001b[38;5;28;01mreturn\u001b[39;00m Tester\n\u001b[0;32m--> 311\u001b[0m \u001b[38;5;28;01mraise\u001b[39;00m \u001b[38;5;167;01mAttributeError\u001b[39;00m(\u001b[38;5;124m\"\u001b[39m\u001b[38;5;124mmodule \u001b[39m\u001b[38;5;132;01m{!r}\u001b[39;00m\u001b[38;5;124m has no attribute \u001b[39m\u001b[38;5;124m\"\u001b[39m\n\u001b[1;32m    312\u001b[0m                      \u001b[38;5;124m\"\u001b[39m\u001b[38;5;132;01m{!r}\u001b[39;00m\u001b[38;5;124m\"\u001b[39m\u001b[38;5;241m.\u001b[39mformat(\u001b[38;5;18m__name__\u001b[39m, attr))\n",
      "\u001b[0;31mAttributeError\u001b[0m: module 'numpy' has no attribute 'mode'"
     ]
    }
   ],
   "source": [
    "np.mode(arr1)"
   ]
  },
  {
   "cell_type": "code",
   "execution_count": 58,
   "id": "7b12864b-9ca4-4bda-83f1-8742a5eed171",
   "metadata": {},
   "outputs": [
    {
     "data": {
      "text/plain": [
       "2.8613807855648994"
      ]
     },
     "execution_count": 58,
     "metadata": {},
     "output_type": "execute_result"
    }
   ],
   "source": [
    "np.std(arr1)"
   ]
  },
  {
   "cell_type": "code",
   "execution_count": 59,
   "id": "8fce10fa-06c9-45f0-836b-6604390c4a1b",
   "metadata": {},
   "outputs": [
    {
     "data": {
      "text/plain": [
       "8.1875"
      ]
     },
     "execution_count": 59,
     "metadata": {},
     "output_type": "execute_result"
    }
   ],
   "source": [
    "np.var(arr1)"
   ]
  },
  {
   "cell_type": "code",
   "execution_count": 60,
   "id": "9e2d0350-9b61-43f0-af71-fa8a49be50c6",
   "metadata": {},
   "outputs": [
    {
     "data": {
      "text/plain": [
       "1"
      ]
     },
     "execution_count": 60,
     "metadata": {},
     "output_type": "execute_result"
    }
   ],
   "source": [
    "np.min(arr1)"
   ]
  },
  {
   "cell_type": "code",
   "execution_count": 61,
   "id": "fbacb2fb-c844-4203-88e6-381291f263f2",
   "metadata": {},
   "outputs": [
    {
     "data": {
      "text/plain": [
       "9"
      ]
     },
     "execution_count": 61,
     "metadata": {},
     "output_type": "execute_result"
    }
   ],
   "source": [
    "np.max(arr1)"
   ]
  },
  {
   "cell_type": "code",
   "execution_count": 62,
   "id": "60c89247-f10d-487f-b8f6-70f109f8c7e4",
   "metadata": {},
   "outputs": [],
   "source": [
    "#Numpy - Arithmetic Operations"
   ]
  },
  {
   "cell_type": "code",
   "execution_count": 63,
   "id": "acf05301-6b9d-4e4f-904b-738f7d3f66eb",
   "metadata": {},
   "outputs": [
    {
     "data": {
      "text/plain": [
       "array([[1, 9, 7, 1],\n",
       "       [6, 9, 6, 5],\n",
       "       [3, 9, 2, 5]])"
      ]
     },
     "execution_count": 63,
     "metadata": {},
     "output_type": "execute_result"
    }
   ],
   "source": [
    "arr1"
   ]
  },
  {
   "cell_type": "code",
   "execution_count": 64,
   "id": "bceeda2e-eacb-4572-9b65-d03958b1d236",
   "metadata": {},
   "outputs": [
    {
     "data": {
      "text/plain": [
       "array([[6, 2, 7, 8],\n",
       "       [2, 1, 2, 5],\n",
       "       [2, 8, 5, 2]])"
      ]
     },
     "execution_count": 64,
     "metadata": {},
     "output_type": "execute_result"
    }
   ],
   "source": [
    "arr2"
   ]
  },
  {
   "cell_type": "code",
   "execution_count": 65,
   "id": "a23b66fc-590b-4bec-8394-a5d0fec0a438",
   "metadata": {},
   "outputs": [
    {
     "data": {
      "text/plain": [
       "array([[-5,  7,  0, -7],\n",
       "       [ 4,  8,  4,  0],\n",
       "       [ 1,  1, -3,  3]])"
      ]
     },
     "execution_count": 65,
     "metadata": {},
     "output_type": "execute_result"
    }
   ],
   "source": [
    "arr1-arr2"
   ]
  },
  {
   "cell_type": "code",
   "execution_count": 66,
   "id": "b8cd37a2-9202-4f05-9d44-4188740f99ea",
   "metadata": {},
   "outputs": [
    {
     "data": {
      "text/plain": [
       "array([[-5,  7,  0, -7],\n",
       "       [ 4,  8,  4,  0],\n",
       "       [ 1,  1, -3,  3]])"
      ]
     },
     "execution_count": 66,
     "metadata": {},
     "output_type": "execute_result"
    }
   ],
   "source": [
    "np.subtract(arr1,arr2)"
   ]
  },
  {
   "cell_type": "code",
   "execution_count": 67,
   "id": "ace60b52-73f1-4300-bfff-0dc8840deebc",
   "metadata": {},
   "outputs": [
    {
     "data": {
      "text/plain": [
       "array([[ 6, 18, 49,  8],\n",
       "       [12,  9, 12, 25],\n",
       "       [ 6, 72, 10, 10]])"
      ]
     },
     "execution_count": 67,
     "metadata": {},
     "output_type": "execute_result"
    }
   ],
   "source": [
    "np.multiply(arr1,arr2)"
   ]
  },
  {
   "cell_type": "code",
   "execution_count": 68,
   "id": "409a657d-2c70-477a-a1f6-2c8f1edefa1b",
   "metadata": {},
   "outputs": [
    {
     "data": {
      "text/plain": [
       "array([[1, 1, 0, 1],\n",
       "       [0, 0, 0, 0],\n",
       "       [1, 1, 2, 1]])"
      ]
     },
     "execution_count": 68,
     "metadata": {},
     "output_type": "execute_result"
    }
   ],
   "source": [
    "np.mod(arr1,arr2)"
   ]
  },
  {
   "cell_type": "code",
   "execution_count": 69,
   "id": "ad1b98ea-4da6-4fdb-bbf3-95d19cb61c38",
   "metadata": {},
   "outputs": [
    {
     "data": {
      "text/plain": [
       "array([[       1,       81,   823543,        1],\n",
       "       [      36,        9,       36,     3125],\n",
       "       [       9, 43046721,       32,       25]])"
      ]
     },
     "execution_count": 69,
     "metadata": {},
     "output_type": "execute_result"
    }
   ],
   "source": [
    "np.power(arr1,arr2)"
   ]
  },
  {
   "cell_type": "code",
   "execution_count": 70,
   "id": "62d29886-0611-4258-b089-b527d2721135",
   "metadata": {},
   "outputs": [
    {
     "data": {
      "text/plain": [
       "array([[2.44948974, 1.41421356, 2.64575131, 2.82842712],\n",
       "       [1.41421356, 1.        , 1.41421356, 2.23606798],\n",
       "       [1.41421356, 2.82842712, 2.23606798, 1.41421356]])"
      ]
     },
     "execution_count": 70,
     "metadata": {},
     "output_type": "execute_result"
    }
   ],
   "source": [
    "np.sqrt(arr2)"
   ]
  },
  {
   "cell_type": "code",
   "execution_count": 71,
   "id": "7ea335fb-e95d-45db-9c98-02a383ff2bd4",
   "metadata": {},
   "outputs": [],
   "source": [
    "#Numpy - Statistical functions"
   ]
  },
  {
   "cell_type": "code",
   "execution_count": 72,
   "id": "0f5c55c8-34cd-4c67-8773-71d01ffc046f",
   "metadata": {},
   "outputs": [
    {
     "data": {
      "text/plain": [
       "array([[1, 9, 7, 1],\n",
       "       [6, 9, 6, 5],\n",
       "       [3, 9, 2, 5]])"
      ]
     },
     "execution_count": 72,
     "metadata": {},
     "output_type": "execute_result"
    }
   ],
   "source": [
    "arr1"
   ]
  },
  {
   "cell_type": "code",
   "execution_count": 73,
   "id": "0a61c05b-0237-42c9-8955-080ab7c75c13",
   "metadata": {},
   "outputs": [
    {
     "data": {
      "text/plain": [
       "5.25"
      ]
     },
     "execution_count": 73,
     "metadata": {},
     "output_type": "execute_result"
    }
   ],
   "source": [
    "np.mean(arr1)"
   ]
  },
  {
   "cell_type": "code",
   "execution_count": 74,
   "id": "0421e997-c3fc-492d-b458-a9753c27b204",
   "metadata": {},
   "outputs": [
    {
     "data": {
      "text/plain": [
       "2.8613807855648994"
      ]
     },
     "execution_count": 74,
     "metadata": {},
     "output_type": "execute_result"
    }
   ],
   "source": [
    "np.std(arr1)"
   ]
  },
  {
   "cell_type": "code",
   "execution_count": 75,
   "id": "94e7809e-c123-4333-a8ee-02cb46c2c9ad",
   "metadata": {},
   "outputs": [
    {
     "data": {
      "text/plain": [
       "5.5"
      ]
     },
     "execution_count": 75,
     "metadata": {},
     "output_type": "execute_result"
    }
   ],
   "source": [
    "np.median(arr1)"
   ]
  },
  {
   "cell_type": "code",
   "execution_count": null,
   "id": "1a06fa4d-4cb1-4feb-81c0-22fe00ccc079",
   "metadata": {},
   "outputs": [],
   "source": []
  }
 ],
 "metadata": {
  "kernelspec": {
   "display_name": "Python 3 (ipykernel)",
   "language": "python",
   "name": "python3"
  },
  "language_info": {
   "codemirror_mode": {
    "name": "ipython",
    "version": 3
   },
   "file_extension": ".py",
   "mimetype": "text/x-python",
   "name": "python",
   "nbconvert_exporter": "python",
   "pygments_lexer": "ipython3",
   "version": "3.10.8"
  }
 },
 "nbformat": 4,
 "nbformat_minor": 5
}
