{
 "cells": [
  {
   "cell_type": "code",
   "execution_count": 1,
   "id": "0106f3e7-ef9f-4135-82aa-f4a712f5c68b",
   "metadata": {},
   "outputs": [],
   "source": [
    "a=1"
   ]
  },
  {
   "cell_type": "code",
   "execution_count": 2,
   "id": "d17fb3e2-1cbe-4be7-9dd4-76ca0debefb8",
   "metadata": {},
   "outputs": [
    {
     "name": "stdout",
     "output_type": "stream",
     "text": [
      "<class 'int'>\n"
     ]
    }
   ],
   "source": [
    "print(type(a))"
   ]
  },
  {
   "cell_type": "code",
   "execution_count": 3,
   "id": "32fce17a-bca3-436c-8857-9d3c235e7d88",
   "metadata": {},
   "outputs": [
    {
     "name": "stdout",
     "output_type": "stream",
     "text": [
      "<class 'str'>\n"
     ]
    }
   ],
   "source": [
    "print(type(\"ijaj\"))"
   ]
  },
  {
   "cell_type": "code",
   "execution_count": 5,
   "id": "fba1f27c-ea17-4a07-97dd-08756388ef5d",
   "metadata": {},
   "outputs": [],
   "source": [
    "class test:\n",
    "    pass"
   ]
  },
  {
   "cell_type": "code",
   "execution_count": 6,
   "id": "e4c180e3-4d10-4233-aeb6-209f356b24d3",
   "metadata": {},
   "outputs": [],
   "source": [
    "a=test()"
   ]
  },
  {
   "cell_type": "code",
   "execution_count": 7,
   "id": "aa957b9a-a238-4e58-9f37-a2e76b23b892",
   "metadata": {},
   "outputs": [
    {
     "data": {
      "text/plain": [
       "__main__.test"
      ]
     },
     "execution_count": 7,
     "metadata": {},
     "output_type": "execute_result"
    }
   ],
   "source": [
    "type(a)"
   ]
  },
  {
   "cell_type": "code",
   "execution_count": 10,
   "id": "a223f921-65b2-4877-9535-0ea475b781da",
   "metadata": {},
   "outputs": [
    {
     "name": "stdout",
     "output_type": "stream",
     "text": [
      "<class '__main__.test'>\n"
     ]
    }
   ],
   "source": [
    "print(type(a))  #a is an object/instance/variable of class \"test\""
   ]
  },
  {
   "cell_type": "code",
   "execution_count": 19,
   "id": "3ed43259-73b4-45de-8e60-5a0ed6d9f9e7",
   "metadata": {},
   "outputs": [],
   "source": [
    "class ijaj:\n",
    "    \n",
    "    def welcome_msg(self):   #we have to write self to bind this particular function to this class otherwise when calling this fumction\n",
    "        #computer doesn't know this function is bound to this particular class\n",
    "        print(\"welcome to my world\")"
   ]
  },
  {
   "cell_type": "code",
   "execution_count": 20,
   "id": "4f7179e9-1d49-4596-90b7-3e3088fe0936",
   "metadata": {},
   "outputs": [],
   "source": [
    "rohan=ijaj()"
   ]
  },
  {
   "cell_type": "code",
   "execution_count": 16,
   "id": "bf21efdb-49cd-40f7-83b8-ba42dcabc9fd",
   "metadata": {},
   "outputs": [
    {
     "name": "stdout",
     "output_type": "stream",
     "text": [
      "welcome to my world\n"
     ]
    }
   ],
   "source": [
    "rohan.welcome_msg()"
   ]
  },
  {
   "cell_type": "code",
   "execution_count": 17,
   "id": "0ffe0279-33a3-4659-a856-cbb4c3968477",
   "metadata": {},
   "outputs": [],
   "source": [
    "sohan=ijaj()"
   ]
  },
  {
   "cell_type": "code",
   "execution_count": 18,
   "id": "f099c1b3-a6e8-4d06-b2ce-6335cb952994",
   "metadata": {},
   "outputs": [
    {
     "name": "stdout",
     "output_type": "stream",
     "text": [
      "welcome to my world\n"
     ]
    }
   ],
   "source": [
    "sohan.welcome_msg()"
   ]
  },
  {
   "cell_type": "code",
   "execution_count": 25,
   "id": "1b8ddcf5-bf8b-4e5f-b395-0afaeb40a9d6",
   "metadata": {},
   "outputs": [],
   "source": [
    "#constructors help my class to take data and assign the class to it\n",
    "#  __init__ is the constructor in python"
   ]
  },
  {
   "cell_type": "code",
   "execution_count": 2,
   "id": "4580aa69-254b-48f5-b3de-0db8510ce648",
   "metadata": {},
   "outputs": [],
   "source": [
    "class pwskills:\n",
    "    def __init__(self,phone_number,email_id,student_id):\n",
    "        self.phone_number=phone_number\n",
    "        self.email_id=email_id\n",
    "        self.student_id=student_id\n",
    "        \n",
    "    def return_student_details(self):\n",
    "        return self.phone_number,self.email_id,self.student_id"
   ]
  },
  {
   "cell_type": "code",
   "execution_count": 4,
   "id": "e01293bc-d90d-4251-b7e9-0bde32dffab4",
   "metadata": {},
   "outputs": [
    {
     "ename": "TypeError",
     "evalue": "pwskills.__init__() missing 2 required positional arguments: 'email_id' and 'student_id'",
     "output_type": "error",
     "traceback": [
      "\u001b[0;31m---------------------------------------------------------------------------\u001b[0m",
      "\u001b[0;31mTypeError\u001b[0m                                 Traceback (most recent call last)",
      "Cell \u001b[0;32mIn[4], line 1\u001b[0m\n\u001b[0;32m----> 1\u001b[0m rohan\u001b[38;5;241m=\u001b[39m\u001b[43mpwskills\u001b[49m\u001b[43m(\u001b[49m\u001b[38;5;241;43m1\u001b[39;49m\u001b[43m)\u001b[49m\n",
      "\u001b[0;31mTypeError\u001b[0m: pwskills.__init__() missing 2 required positional arguments: 'email_id' and 'student_id'"
     ]
    }
   ],
   "source": [
    "rohan=pwskills(1)"
   ]
  },
  {
   "cell_type": "code",
   "execution_count": 5,
   "id": "bc166dee-f618-4f71-92f9-32b39fc961ab",
   "metadata": {},
   "outputs": [],
   "source": [
    "rohan=pwskills(8250952582,\"rohan@gmail.com\",14)"
   ]
  },
  {
   "cell_type": "code",
   "execution_count": 9,
   "id": "aa103490-9356-443b-a06f-65b950dcb60b",
   "metadata": {},
   "outputs": [
    {
     "name": "stdout",
     "output_type": "stream",
     "text": [
      "8250952582\n",
      "rohan@gmail.com\n",
      "14\n"
     ]
    }
   ],
   "source": [
    "print(rohan.phone_number)\n",
    "print(rohan.email_id)\n",
    "print(rohan.student_id)"
   ]
  },
  {
   "cell_type": "code",
   "execution_count": 10,
   "id": "81f37d4d-8c6d-4296-a649-619e4c60f671",
   "metadata": {},
   "outputs": [
    {
     "data": {
      "text/plain": [
       "(8250952582, 'rohan@gmail.com', 14)"
      ]
     },
     "execution_count": 10,
     "metadata": {},
     "output_type": "execute_result"
    }
   ],
   "source": [
    "rohan.return_student_details()"
   ]
  },
  {
   "cell_type": "code",
   "execution_count": 11,
   "id": "14475203-e0c5-4257-9bb3-1211e875076e",
   "metadata": {},
   "outputs": [],
   "source": [
    "sohan=pwskills(\"876874637855\",\"kjhdnd\",\"hjgdud\")"
   ]
  },
  {
   "cell_type": "code",
   "execution_count": 12,
   "id": "18b7af50-4680-4296-bfb0-cdf24d9f615b",
   "metadata": {},
   "outputs": [
    {
     "data": {
      "text/plain": [
       "'hjgdud'"
      ]
     },
     "execution_count": 12,
     "metadata": {},
     "output_type": "execute_result"
    }
   ],
   "source": [
    "sohan.student_id"
   ]
  },
  {
   "cell_type": "code",
   "execution_count": 13,
   "id": "3d224c5f-dc75-4ef1-b5f7-de536fb78af4",
   "metadata": {},
   "outputs": [
    {
     "data": {
      "text/plain": [
       "('876874637855', 'kjhdnd', 'hjgdud')"
      ]
     },
     "execution_count": 13,
     "metadata": {},
     "output_type": "execute_result"
    }
   ],
   "source": [
    "sohan.return_student_details()"
   ]
  },
  {
   "cell_type": "code",
   "execution_count": 24,
   "id": "00995c42-acaf-4ed0-9e18-de55393a00b9",
   "metadata": {},
   "outputs": [],
   "source": [
    "class pwskills1:\n",
    "    \n",
    "    def __init__(ijaj,name1,dept1,year1):\n",
    "        ijaj.name=name1\n",
    "        ijaj.dept=dept1\n",
    "        ijaj.year=year1\n",
    "    \n",
    "    def return_student_details(ijaj):\n",
    "        return ijaj.name,ijaj.dept,ijaj.year"
   ]
  },
  {
   "cell_type": "code",
   "execution_count": 26,
   "id": "b5c67918-f5ac-498c-8df6-39848cbb64db",
   "metadata": {},
   "outputs": [],
   "source": [
    "ijaj=pwskills1(\"ijaj\",\"etce\",2019)\n",
    "putu=pwskills1(\"putu\",\"cse\",2019)"
   ]
  },
  {
   "cell_type": "code",
   "execution_count": 21,
   "id": "073cb502-e5a4-45d3-be49-a3801435189f",
   "metadata": {},
   "outputs": [
    {
     "data": {
      "text/plain": [
       "('ijaj', 'etce', 2019)"
      ]
     },
     "execution_count": 21,
     "metadata": {},
     "output_type": "execute_result"
    }
   ],
   "source": [
    "ijaj.return_student_details()"
   ]
  },
  {
   "cell_type": "code",
   "execution_count": 27,
   "id": "55bea757-10ad-494c-92a4-4b1fe5ea98d4",
   "metadata": {},
   "outputs": [
    {
     "data": {
      "text/plain": [
       "('putu', 'cse', 2019)"
      ]
     },
     "execution_count": 27,
     "metadata": {},
     "output_type": "execute_result"
    }
   ],
   "source": [
    "putu.return_student_details()"
   ]
  },
  {
   "cell_type": "code",
   "execution_count": null,
   "id": "9aec2d46-d944-4873-89e0-89fa7ae2d94b",
   "metadata": {},
   "outputs": [],
   "source": []
  }
 ],
 "metadata": {
  "kernelspec": {
   "display_name": "Python 3 (ipykernel)",
   "language": "python",
   "name": "python3"
  },
  "language_info": {
   "codemirror_mode": {
    "name": "ipython",
    "version": 3
   },
   "file_extension": ".py",
   "mimetype": "text/x-python",
   "name": "python",
   "nbconvert_exporter": "python",
   "pygments_lexer": "ipython3",
   "version": "3.10.8"
  }
 },
 "nbformat": 4,
 "nbformat_minor": 5
}
