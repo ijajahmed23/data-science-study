{
 "cells": [
  {
   "cell_type": "code",
   "execution_count": 1,
   "id": "2926727f-b8b8-47e8-97f3-2be80e8c9d3b",
   "metadata": {},
   "outputs": [],
   "source": [
    "import io"
   ]
  },
  {
   "cell_type": "code",
   "execution_count": 3,
   "id": "19cbdb3a-9758-47b8-ab58-ff0c563cfb8a",
   "metadata": {},
   "outputs": [],
   "source": [
    "with open(\"buffered.bin\",\"wb\") as f:\n",
    "    file=io.BufferedWriter(f)\n",
    "    file.write(b\"For many years we Communists have struggled for a cultural revolution as well as for a political and economic revolution, and our aim is to build a new society and a new state for the Chinese nation. That new society and new state will have not only a new politics and a new economy but a new culture. In other words, not only do we want to change a China that is politically oppressed and economically exploited into a China that is politically free and economically prosperous, we also want to change the China which is being kept ignorant and backward under the sway of the old culture into an enlightened and progressive China under the sway of a new culture. In short, we want to build a new China. Our aim in the cultural sphere is to build a new Chinese national culture.\\n\")\n",
    "    file.write(b\"this is second line\")\n",
    "    file.flush()"
   ]
  },
  {
   "cell_type": "code",
   "execution_count": 9,
   "id": "f368df2b-03a8-4e3c-b080-6e05bb987a22",
   "metadata": {},
   "outputs": [
    {
     "name": "stdout",
     "output_type": "stream",
     "text": [
      "b'For many years we Communists have struggled for a cultural revolution as well as for a political and economic revolution, and our aim is to build a new society and a new state for the Chinese nation. That new society and new state will have not only a new politics and a new economy but a new culture. In other words, not only do we want to change a China that is politically oppressed and economically exploited into a China that is politically free and economically prosperous, we also want to change the China which is being kept ignorant and backward under the sway of the old culture into an enlightened and progressive China under the sway of a new culture. In short, we want to build a new China. Our aim in the cultural sphere is to build a new Chinese national culture.\\nthis is second line'\n"
     ]
    }
   ],
   "source": [
    "with open(\"buffered.bin\",\"rb\") as f:\n",
    "    file=io.BufferedReader(f)\n",
    "    data=file.read()\n",
    "    print(data)"
   ]
  },
  {
   "cell_type": "code",
   "execution_count": 10,
   "id": "f354a218-14bf-4b79-aab7-c3dddc2fea7b",
   "metadata": {},
   "outputs": [
    {
     "data": {
      "text/plain": [
       "b'For many years we Communists have struggled for a cultural revolution as well as for a political and economic revolution, and our aim is to build a new society and a new state for the Chinese nation. That new society and new state will have not only a new politics and a new economy but a new culture. In other words, not only do we want to change a China that is politically oppressed and economically exploited into a China that is politically free and economically prosperous, we also want to change the China which is being kept ignorant and backward under the sway of the old culture into an enlightened and progressive China under the sway of a new culture. In short, we want to build a new China. Our aim in the cultural sphere is to build a new Chinese national culture.\\nthis is second line'"
      ]
     },
     "execution_count": 10,
     "metadata": {},
     "output_type": "execute_result"
    }
   ],
   "source": [
    "data"
   ]
  },
  {
   "cell_type": "code",
   "execution_count": null,
   "id": "4204bc01-5068-46a3-b4a1-bc395fd8c9ce",
   "metadata": {},
   "outputs": [],
   "source": []
  }
 ],
 "metadata": {
  "kernelspec": {
   "display_name": "Python 3 (ipykernel)",
   "language": "python",
   "name": "python3"
  },
  "language_info": {
   "codemirror_mode": {
    "name": "ipython",
    "version": 3
   },
   "file_extension": ".py",
   "mimetype": "text/x-python",
   "name": "python",
   "nbconvert_exporter": "python",
   "pygments_lexer": "ipython3",
   "version": "3.10.8"
  }
 },
 "nbformat": 4,
 "nbformat_minor": 5
}
