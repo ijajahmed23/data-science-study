{
 "cells": [
  {
   "cell_type": "code",
   "execution_count": 1,
   "id": "1d71baee-3388-458c-84d3-24688e8a05be",
   "metadata": {},
   "outputs": [],
   "source": [
    "def test():\n",
    "    print(\"start of fn\")\n",
    "    print(4+5)\n",
    "    print(\"end of fun\")"
   ]
  },
  {
   "cell_type": "code",
   "execution_count": 2,
   "id": "80128b92-b26a-406d-ad79-e89a6729d482",
   "metadata": {},
   "outputs": [
    {
     "name": "stdout",
     "output_type": "stream",
     "text": [
      "start of fn\n",
      "9\n",
      "end of fun\n"
     ]
    }
   ],
   "source": [
    "test()"
   ]
  },
  {
   "cell_type": "code",
   "execution_count": 4,
   "id": "68f8ca42-17b9-4716-bea6-07dc286b8d50",
   "metadata": {},
   "outputs": [],
   "source": [
    "def deco(func):\n",
    "    def inner_deco():\n",
    "        print(\"start of fn\")\n",
    "        func()\n",
    "        print(\"end of fun\")\n",
    "        \n",
    "    return inner_deco"
   ]
  },
  {
   "cell_type": "code",
   "execution_count": 5,
   "id": "ba919588-2ee2-48ae-b820-c4c19d36b910",
   "metadata": {},
   "outputs": [],
   "source": [
    "def test1():\n",
    "    print(4+5)"
   ]
  },
  {
   "cell_type": "code",
   "execution_count": 6,
   "id": "dbe719e8-349e-4263-8535-c5bb7adb4a93",
   "metadata": {},
   "outputs": [
    {
     "name": "stdout",
     "output_type": "stream",
     "text": [
      "9\n"
     ]
    }
   ],
   "source": [
    "test1()"
   ]
  },
  {
   "cell_type": "code",
   "execution_count": 7,
   "id": "73c653b1-6d08-4725-bebf-b6b40d66453c",
   "metadata": {},
   "outputs": [],
   "source": [
    "@deco\n",
    "def test1():\n",
    "    print(4+5)"
   ]
  },
  {
   "cell_type": "code",
   "execution_count": 8,
   "id": "8969e63d-3d7f-409e-b298-9da023b1c5ca",
   "metadata": {},
   "outputs": [
    {
     "name": "stdout",
     "output_type": "stream",
     "text": [
      "start of fn\n",
      "9\n",
      "end of fun\n"
     ]
    }
   ],
   "source": [
    "test1()"
   ]
  },
  {
   "cell_type": "code",
   "execution_count": 9,
   "id": "5de1acf3-b865-4029-91f7-c76300fb93fc",
   "metadata": {},
   "outputs": [],
   "source": [
    "import time"
   ]
  },
  {
   "cell_type": "code",
   "execution_count": 10,
   "id": "3be0f664-cf85-444e-b06c-946d5ddabb17",
   "metadata": {},
   "outputs": [],
   "source": [
    "import time\n",
    "def timer_test(func):\n",
    "    def inner_timer_test():\n",
    "        start=time.time()\n",
    "        func()\n",
    "        end=time.time()\n",
    "        print(end-start)\n",
    "    return inner_timer_test\n"
   ]
  },
  {
   "cell_type": "code",
   "execution_count": 11,
   "id": "a7f21ead-3bde-4c24-9642-4e0cafacc259",
   "metadata": {},
   "outputs": [],
   "source": [
    "@timer_test\n",
    "def test2():\n",
    "    print(32+67)"
   ]
  },
  {
   "cell_type": "code",
   "execution_count": 12,
   "id": "9c6e9139-39a2-4000-97b2-d9685edbddd9",
   "metadata": {},
   "outputs": [
    {
     "name": "stdout",
     "output_type": "stream",
     "text": [
      "99\n",
      "4.38690185546875e-05\n"
     ]
    }
   ],
   "source": [
    "test2()"
   ]
  },
  {
   "cell_type": "code",
   "execution_count": 15,
   "id": "a37676fd-038d-46db-9038-2a696d513e62",
   "metadata": {},
   "outputs": [],
   "source": [
    "@timer_test\n",
    "def test3():\n",
    "    for i in range(1000000000):\n",
    "        pass"
   ]
  },
  {
   "cell_type": "code",
   "execution_count": 16,
   "id": "aed10902-cace-47f8-999b-a723facf2761",
   "metadata": {},
   "outputs": [
    {
     "name": "stdout",
     "output_type": "stream",
     "text": [
      "26.035691499710083\n"
     ]
    }
   ],
   "source": [
    "test3()"
   ]
  },
  {
   "cell_type": "code",
   "execution_count": 17,
   "id": "fb864b51-72d1-4ef7-b313-55494841d6e2",
   "metadata": {},
   "outputs": [],
   "source": [
    "def repeat(fun):\n",
    "    def inner_repeat():\n",
    "        print(\"start of function\")\n",
    "        fun()\n",
    "        print(\"end of function\")\n",
    "    return inner_repeat"
   ]
  },
  {
   "cell_type": "code",
   "execution_count": 20,
   "id": "74be2f36-b85f-4065-b5c3-e2b6546a9d1c",
   "metadata": {},
   "outputs": [],
   "source": [
    "def repeat_test():\n",
    "    print(34+45)"
   ]
  },
  {
   "cell_type": "code",
   "execution_count": 24,
   "id": "df12a061-bc5b-4f71-a0c7-5b53a32a5430",
   "metadata": {},
   "outputs": [],
   "source": [
    "@repeat\n",
    "def test_repeat():\n",
    "    print(4+9)"
   ]
  },
  {
   "cell_type": "code",
   "execution_count": 25,
   "id": "40b9cc06-04df-4786-b31e-c0815d0fdef2",
   "metadata": {},
   "outputs": [
    {
     "name": "stdout",
     "output_type": "stream",
     "text": [
      "start of function\n",
      "13\n",
      "end of function\n"
     ]
    }
   ],
   "source": [
    "test_repeat()"
   ]
  },
  {
   "cell_type": "code",
   "execution_count": 33,
   "id": "b3988695-5b0e-4b02-be35-f246789112ce",
   "metadata": {},
   "outputs": [],
   "source": [
    "import time\n",
    "def timer(func):\n",
    "    def inner_timer():\n",
    "        start=time.time()\n",
    "        func()\n",
    "        end=time.time()\n",
    "        print(end-start)\n",
    "    return inner_timer"
   ]
  },
  {
   "cell_type": "code",
   "execution_count": 34,
   "id": "6ecc3cac-8553-4a2c-8068-a6d3c88522f1",
   "metadata": {},
   "outputs": [],
   "source": [
    "@timer\n",
    "def timer_test():\n",
    "    for i in range(200000):\n",
    "        pass"
   ]
  },
  {
   "cell_type": "code",
   "execution_count": null,
   "id": "71ebccfb-0dac-4585-83cc-fe5ccddd83f9",
   "metadata": {},
   "outputs": [],
   "source": []
  }
 ],
 "metadata": {
  "kernelspec": {
   "display_name": "Python 3 (ipykernel)",
   "language": "python",
   "name": "python3"
  },
  "language_info": {
   "codemirror_mode": {
    "name": "ipython",
    "version": 3
   },
   "file_extension": ".py",
   "mimetype": "text/x-python",
   "name": "python",
   "nbconvert_exporter": "python",
   "pygments_lexer": "ipython3",
   "version": "3.10.8"
  }
 },
 "nbformat": 4,
 "nbformat_minor": 5
}
