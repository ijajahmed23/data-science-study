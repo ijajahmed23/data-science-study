{
 "cells": [
  {
   "cell_type": "code",
   "execution_count": 1,
   "id": "dcd8d4dd-cb0d-4857-8a56-8e63bb8699a0",
   "metadata": {},
   "outputs": [
    {
     "name": "stdout",
     "output_type": "stream",
     "text": [
      "0\n"
     ]
    }
   ],
   "source": [
    "def flatten_and_multiply(lst):\n",
    "  flat_list = []\n",
    "\n",
    "  def flatten(lst):\n",
    "    for item in lst:\n",
    "      if isinstance(item, (int, float)):\n",
    "        flat_list.append(item)\n",
    "      elif isinstance(item, (list, tuple, set)):\n",
    "        flatten(item)\n",
    "      elif isinstance(item, dict):\n",
    "        flatten(item.values())\n",
    "\n",
    "  flatten(lst)\n",
    "  result = 1\n",
    "  for item in flat_list:\n",
    "    result *= item\n",
    "  return result\n",
    "\n",
    "list1 = [1,2,3,4, [44,55,66, True], False, (34,56,78,89,34), {1,2,3,3,2,1}, {1:34, \"key2\": [55, 67, 78, 89], 4: (45, 22, 61, 34)}, [56, 'data science'], 'Machine Learning']\n",
    "print(flatten_and_multiply(list1))\n"
   ]
  },
  {
   "cell_type": "code",
   "execution_count": 2,
   "id": "a5174b38-5117-40fa-83a0-82d449f3bcb6",
   "metadata": {},
   "outputs": [],
   "source": [
    "def flatten_and_multiply(lst):\n",
    "  flat_list = []\n",
    "\n",
    "  def flatten(lst):\n",
    "    for item in lst:\n",
    "      if isinstance(item, (int, float)):\n",
    "        flat_list.append(item)\n",
    "      elif isinstance(item, (list, tuple, set)):\n",
    "        flatten(item)\n",
    "      elif isinstance(item, dict):\n",
    "        flatten(item.values())\n",
    "\n",
    "  flatten(lst)\n",
    "  result = 1\n",
    "  for item in flat_list:\n",
    "    result *= item\n",
    "  return result\n"
   ]
  },
  {
   "cell_type": "code",
   "execution_count": 3,
   "id": "6f779bd3-2ac4-49a9-9987-c8bcaec937a6",
   "metadata": {},
   "outputs": [],
   "source": [
    "list1 = [1,2,3,4, [44,55,66, True], False, (34,56,78,89,34), {1,2,3,3,2,1}, {1:34, \"key2\": [55, 67, 78, 89], 4: (45, 22, 61, 34)}, [56, 'data science'], 'Machine Learning']\n",
    "\n"
   ]
  },
  {
   "cell_type": "code",
   "execution_count": 4,
   "id": "bb3aa0fc-0673-445d-baed-ad0b394470cf",
   "metadata": {},
   "outputs": [
    {
     "ename": "NameError",
     "evalue": "name 'flatten' is not defined",
     "output_type": "error",
     "traceback": [
      "\u001b[0;31m---------------------------------------------------------------------------\u001b[0m",
      "\u001b[0;31mNameError\u001b[0m                                 Traceback (most recent call last)",
      "Cell \u001b[0;32mIn[4], line 1\u001b[0m\n\u001b[0;32m----> 1\u001b[0m \u001b[43mflatten\u001b[49m(lst1)\n",
      "\u001b[0;31mNameError\u001b[0m: name 'flatten' is not defined"
     ]
    }
   ],
   "source": [
    "flatten(lst1)"
   ]
  },
  {
   "cell_type": "code",
   "execution_count": null,
   "id": "30ef8ed2-06b9-49a3-bbc7-cc347349b054",
   "metadata": {},
   "outputs": [],
   "source": []
  }
 ],
 "metadata": {
  "kernelspec": {
   "display_name": "Python 3 (ipykernel)",
   "language": "python",
   "name": "python3"
  },
  "language_info": {
   "codemirror_mode": {
    "name": "ipython",
    "version": 3
   },
   "file_extension": ".py",
   "mimetype": "text/x-python",
   "name": "python",
   "nbconvert_exporter": "python",
   "pygments_lexer": "ipython3",
   "version": "3.10.8"
  }
 },
 "nbformat": 4,
 "nbformat_minor": 5
}
