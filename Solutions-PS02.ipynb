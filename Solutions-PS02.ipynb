{
 "cells": [
  {
   "cell_type": "code",
   "execution_count": 1,
   "id": "44a14711-0828-4e4b-8136-d932a3a65564",
   "metadata": {},
   "outputs": [
    {
     "data": {
      "text/plain": [
       "'Q1.Create a list in python using the followings: 2,3,4,5,6,7 with variable ‘a’ Add ‘mango to the above list Also \\nadd banana, grapes & orange in the list insert apple in the 5th position of a variable ‘a’ Remove last item from the list'"
      ]
     },
     "execution_count": 1,
     "metadata": {},
     "output_type": "execute_result"
    }
   ],
   "source": [
    "'''Q1.Create a list in python using the followings: 2,3,4,5,6,7 with variable ‘a’ Add ‘mango to the above list Also \n",
    "add banana, grapes & orange in the list insert apple in the 5th position of a variable ‘a’ Remove last item from the list'''"
   ]
  },
  {
   "cell_type": "code",
   "execution_count": 17,
   "id": "31cb5953-cc89-4034-b70c-d83df8d5563d",
   "metadata": {},
   "outputs": [
    {
     "name": "stdout",
     "output_type": "stream",
     "text": [
      "[2, 3, 4, 5, 'apple', 6, 7, 'mango', 'banana', 'grapes']\n"
     ]
    }
   ],
   "source": [
    "l=[2,3,4,5,6,7]\n",
    "l.append('mango')\n",
    "l.extend(['banana','grapes','orange'])\n",
    "l.insert(4,'apple')\n",
    "l.pop()\n",
    "print(l)"
   ]
  },
  {
   "cell_type": "code",
   "execution_count": 18,
   "id": "977b595b-cb98-4c96-8c57-afe913c5b516",
   "metadata": {},
   "outputs": [
    {
     "data": {
      "text/plain": [
       "'L = [1,2,3,4,5,6,7] Using the above list slice from 1:4'"
      ]
     },
     "execution_count": 18,
     "metadata": {},
     "output_type": "execute_result"
    }
   ],
   "source": [
    "'''L = [1,2,3,4,5,6,7] Using the above list slice from 1:4'''"
   ]
  },
  {
   "cell_type": "code",
   "execution_count": 22,
   "id": "6d94d3bf-8196-467f-8079-02344c83ea35",
   "metadata": {},
   "outputs": [
    {
     "data": {
      "text/plain": [
       "[2, 3, 4]"
      ]
     },
     "execution_count": 22,
     "metadata": {},
     "output_type": "execute_result"
    }
   ],
   "source": [
    "l=[1,2,3,4,5,6,7]\n",
    "l[1:4]"
   ]
  },
  {
   "cell_type": "code",
   "execution_count": 23,
   "id": "4d829a23-8200-47b4-ad7e-fd9227317e68",
   "metadata": {},
   "outputs": [
    {
     "data": {
      "text/plain": [
       "'Q3.Reverse the order of given string L = [4,5,6,8,3]'"
      ]
     },
     "execution_count": 23,
     "metadata": {},
     "output_type": "execute_result"
    }
   ],
   "source": [
    "'''Q3.Reverse the order of given string L = [4,5,6,8,3]'''"
   ]
  },
  {
   "cell_type": "code",
   "execution_count": 32,
   "id": "0d23b03a-ce1c-44ad-921e-37098843b393",
   "metadata": {},
   "outputs": [
    {
     "data": {
      "text/plain": [
       "[3, 8, 6, 5, 4]"
      ]
     },
     "execution_count": 32,
     "metadata": {},
     "output_type": "execute_result"
    }
   ],
   "source": [
    "L=[4,5,6,8,3]\n",
    "L.reverse()\n",
    "L"
   ]
  },
  {
   "cell_type": "code",
   "execution_count": 33,
   "id": "1a2219c6-5010-4b5c-9a1a-9f13f2105cf7",
   "metadata": {},
   "outputs": [
    {
     "data": {
      "text/plain": [
       "'Q4.Use list comprehension to square the given list L=[2,4,7,3,6,8]'"
      ]
     },
     "execution_count": 33,
     "metadata": {},
     "output_type": "execute_result"
    }
   ],
   "source": [
    "'''Q4.Use list comprehension to square the given list L=[2,4,7,3,6,8]'''"
   ]
  },
  {
   "cell_type": "code",
   "execution_count": 34,
   "id": "d73b0547-11e0-42d3-9ada-25056da401b7",
   "metadata": {},
   "outputs": [
    {
     "data": {
      "text/plain": [
       "'Q5.Create a function that takes in a tuple of integers and returns the sum of the integers. Test the function with a tuple of your choice.'"
      ]
     },
     "execution_count": 34,
     "metadata": {},
     "output_type": "execute_result"
    }
   ],
   "source": [
    "'''Q5.Create a function that takes in a tuple of integers and returns the sum of the integers. Test the function with a tuple of your choice.'''"
   ]
  },
  {
   "cell_type": "code",
   "execution_count": 38,
   "id": "95b1a09b-1ff0-4a23-85e0-9ffff173456b",
   "metadata": {},
   "outputs": [
    {
     "name": "stdin",
     "output_type": "stream",
     "text": [
      "Enter tuple:  (3, 9)\n"
     ]
    },
    {
     "ename": "TypeError",
     "evalue": "unsupported operand type(s) for +: 'int' and 'str'",
     "output_type": "error",
     "traceback": [
      "\u001b[0;31m---------------------------------------------------------------------------\u001b[0m",
      "\u001b[0;31mTypeError\u001b[0m                                 Traceback (most recent call last)",
      "Cell \u001b[0;32mIn[38], line 4\u001b[0m\n\u001b[1;32m      2\u001b[0m     \u001b[38;5;28;01mreturn\u001b[39;00m \u001b[38;5;28msum\u001b[39m(n)\n\u001b[1;32m      3\u001b[0m t\u001b[38;5;241m=\u001b[39m\u001b[38;5;28minput\u001b[39m(\u001b[38;5;124m\"\u001b[39m\u001b[38;5;124mEnter tuple: \u001b[39m\u001b[38;5;124m\"\u001b[39m)\n\u001b[0;32m----> 4\u001b[0m \u001b[38;5;28mprint\u001b[39m(\u001b[43msum_tuple\u001b[49m\u001b[43m(\u001b[49m\u001b[43mt\u001b[49m\u001b[43m)\u001b[49m)\n",
      "Cell \u001b[0;32mIn[38], line 2\u001b[0m, in \u001b[0;36msum_tuple\u001b[0;34m(n)\u001b[0m\n\u001b[1;32m      1\u001b[0m \u001b[38;5;28;01mdef\u001b[39;00m \u001b[38;5;21msum_tuple\u001b[39m(n):\n\u001b[0;32m----> 2\u001b[0m     \u001b[38;5;28;01mreturn\u001b[39;00m \u001b[38;5;28;43msum\u001b[39;49m\u001b[43m(\u001b[49m\u001b[43mn\u001b[49m\u001b[43m)\u001b[49m\n",
      "\u001b[0;31mTypeError\u001b[0m: unsupported operand type(s) for +: 'int' and 'str'"
     ]
    }
   ],
   "source": [
    "def sum_tuple(n):\n",
    "    return sum(n)\n",
    "t=input(\"Enter tuple: \")\n",
    "print(sum_tuple(t))"
   ]
  },
  {
   "cell_type": "code",
   "execution_count": 42,
   "id": "81a37419-0e46-4335-b1e0-7ab316a28662",
   "metadata": {},
   "outputs": [
    {
     "name": "stdout",
     "output_type": "stream",
     "text": [
      "21\n"
     ]
    }
   ],
   "source": [
    "def sum_tuple(t):\n",
    "    \"\"\"\n",
    "    Takes a tuple of integers and returns the sum of its elements.\n",
    "    \"\"\"\n",
    "    return sum(t)\n",
    "\n",
    "# Test the function with a tuple of integers\n",
    "my_tuple = (1,2,3,4,5,6)\n",
    "print(sum_tuple(my_tuple))"
   ]
  },
  {
   "cell_type": "code",
   "execution_count": 43,
   "id": "17671357-3a01-4884-8460-ba8ace8a33d7",
   "metadata": {},
   "outputs": [
    {
     "data": {
      "text/plain": [
       "'Q6.Create two sets of your favorite fruits, and use the union() method to combine them into a single set. Print the resulting set to the console.'"
      ]
     },
     "execution_count": 43,
     "metadata": {},
     "output_type": "execute_result"
    }
   ],
   "source": [
    "'''Q6.Create two sets of your favorite fruits, and use the union() method to combine them into a single set. Print the resulting set to the console.'''"
   ]
  },
  {
   "cell_type": "code",
   "execution_count": 44,
   "id": "cb622a06-4d3a-46da-9374-245c553baf21",
   "metadata": {},
   "outputs": [
    {
     "name": "stdout",
     "output_type": "stream",
     "text": [
      "{'banana', 'apple', 'orange', 'mango', 'pear', 'grape'}\n"
     ]
    }
   ],
   "source": [
    "fruits1={'apple','banana','pear'}\n",
    "fruits2={'orange','grape','mango'}\n",
    "combined_fruits=fruits1.union(fruits2)\n",
    "print(combined_fruits)"
   ]
  },
  {
   "cell_type": "code",
   "execution_count": 45,
   "id": "ce3cfec0-e0cf-467c-890e-7752d64ce3a5",
   "metadata": {},
   "outputs": [
    {
     "data": {
      "text/plain": [
       "'Q7.Create a set of random words, and use the add() method to add a new word to the set. Print the resulting set to the console.'"
      ]
     },
     "execution_count": 45,
     "metadata": {},
     "output_type": "execute_result"
    }
   ],
   "source": [
    "'''Q7.Create a set of random words, and use the add() method to add a new word to the set. Print the resulting set to the console.'''"
   ]
  },
  {
   "cell_type": "code",
   "execution_count": 55,
   "id": "dd805ed3-0809-4626-aaec-47892aac8b10",
   "metadata": {},
   "outputs": [
    {
     "name": "stdout",
     "output_type": "stream",
     "text": [
      "{'rana', 'ijaj', 'ahmed', 'putu'}\n"
     ]
    }
   ],
   "source": [
    "set1={'rana','ijaj','ahmed'}\n",
    "set1.add('putu')\n",
    "print(set1)"
   ]
  },
  {
   "cell_type": "code",
   "execution_count": 56,
   "id": "d9245092-3ffe-43f9-bc62-d90ace4ca4de",
   "metadata": {},
   "outputs": [
    {
     "data": {
      "text/plain": [
       "'Q8.Create a set of your favorite animals, and use the remove() method to remove one animal from the set. Print the resulting set to the console.'"
      ]
     },
     "execution_count": 56,
     "metadata": {},
     "output_type": "execute_result"
    }
   ],
   "source": [
    "'''Q8.Create a set of your favorite animals, and use the remove() method to remove one animal from the set. Print the resulting set to the console.'''"
   ]
  },
  {
   "cell_type": "code",
   "execution_count": 57,
   "id": "05c595df-8f46-4b2d-9d49-16b0e514c371",
   "metadata": {},
   "outputs": [
    {
     "name": "stdout",
     "output_type": "stream",
     "text": [
      "{'tiger', 'hati', 'kukur'}\n"
     ]
    }
   ],
   "source": [
    "animals={'tiger','lion','kukur','hati'}\n",
    "animals.remove('lion')\n",
    "print(animals)"
   ]
  },
  {
   "cell_type": "code",
   "execution_count": 58,
   "id": "34dce5b9-8599-48c4-8be4-5f03afdc9f81",
   "metadata": {},
   "outputs": [
    {
     "data": {
      "text/plain": [
       "'Q9.favorite_books = {\"1984\", \"To Kill a Mockingbird\", \"Pride and Prejudice\"} favorite_movies = [\"The Shawshank Redemption\", \"The Godfather\", \"The Dark Knight\"] Use the zip() function to combine the book set and movie list into a list of tuples representing book/movie pairs. Print the resulting list.'"
      ]
     },
     "execution_count": 58,
     "metadata": {},
     "output_type": "execute_result"
    }
   ],
   "source": [
    "'''Q9.favorite_books = {\"1984\", \"To Kill a Mockingbird\", \"Pride and Prejudice\"} favorite_movies = [\"The Shawshank Redemption\", \"The Godfather\", \"The Dark Knight\"] Use the zip() function to combine the book set and movie list into a list of tuples representing book/movie pairs. Print the resulting list.'''"
   ]
  },
  {
   "cell_type": "code",
   "execution_count": 62,
   "id": "afb0ea7a-6d31-4613-bcfa-a9f8ee87e937",
   "metadata": {},
   "outputs": [
    {
     "name": "stdout",
     "output_type": "stream",
     "text": [
      "[('To Kill a Mockingbird', 'The Shawshank Redemption'), ('Pride and Prejudice', 'The Godfather'), ('1984', 'The Dark Knight')]\n"
     ]
    }
   ],
   "source": [
    "# Create a set of favorite books and a list of favorite movies\n",
    "favorite_books = {\"1984\", \"To Kill a Mockingbird\", \"Pride and Prejudice\"}\n",
    "favorite_movies = [\"The Shawshank Redemption\", \"The Godfather\", \"The Dark Knight\"]\n",
    "\n",
    "# Combine the book set and movie list into a list of tuples using the zip() function\n",
    "book_movie_pairs = list(zip(favorite_books, favorite_movies))\n",
    "\n",
    "# Print the resulting list\n",
    "#for i in book_movie_pairs:\n",
    " #   print(i)\n",
    "print(book_movie_pairs)"
   ]
  },
  {
   "cell_type": "code",
   "execution_count": 63,
   "id": "3f7de0c3-eab0-4bdd-8543-572fbcf10e0e",
   "metadata": {},
   "outputs": [
    {
     "data": {
      "text/plain": [
       "'Q10.Write a Python program to find the difference between consecutive numbers in a list.'"
      ]
     },
     "execution_count": 63,
     "metadata": {},
     "output_type": "execute_result"
    }
   ],
   "source": [
    "'''Q10.Write a Python program to find the difference between consecutive numbers in a list.'''"
   ]
  },
  {
   "cell_type": "code",
   "execution_count": 64,
   "id": "88580105-3ba2-4ea5-86c8-2c044e1a7737",
   "metadata": {},
   "outputs": [
    {
     "name": "stdout",
     "output_type": "stream",
     "text": [
      "[2, 3, 6, 7]\n"
     ]
    }
   ],
   "source": [
    "def consecutive_difference(lst):\n",
    "    diff_lst = []\n",
    "    for i in range(len(lst)-1):\n",
    "        diff_lst.append(abs(lst[i] - lst[i+1]))\n",
    "    return diff_lst\n",
    "\n",
    "# Example usage\n",
    "my_list = [3, 5, 2, 8, 1]\n",
    "diff_list = consecutive_difference(my_list)\n",
    "print(diff_list)\n",
    "\n",
    "#note:The consecutive_difference() function takes a list as input and returns a list of differences between consecutive numbers"
   ]
  },
  {
   "cell_type": "code",
   "execution_count": 74,
   "id": "40d41a0c-5c4c-4805-bf2b-4d0f2645d6d6",
   "metadata": {},
   "outputs": [
    {
     "name": "stdout",
     "output_type": "stream",
     "text": [
      "[2, 2, 4, 6]\n"
     ]
    }
   ],
   "source": [
    "def consec_diff(lst):\n",
    "    diff_lst=[]\n",
    "    for i in range(len(lst)-1):\n",
    "        diff_lst.append(abs(lst[i]-lst[i+1]))\n",
    "    return diff_lst\n",
    "\n",
    "my_list=[1,3,5,9,15]\n",
    "print(consec_diff(my_list))"
   ]
  },
  {
   "cell_type": "code",
   "execution_count": null,
   "id": "8fcaf590-b338-4835-b85f-1d0ee7aacd7c",
   "metadata": {},
   "outputs": [],
   "source": []
  }
 ],
 "metadata": {
  "kernelspec": {
   "display_name": "Python 3 (ipykernel)",
   "language": "python",
   "name": "python3"
  },
  "language_info": {
   "codemirror_mode": {
    "name": "ipython",
    "version": 3
   },
   "file_extension": ".py",
   "mimetype": "text/x-python",
   "name": "python",
   "nbconvert_exporter": "python",
   "pygments_lexer": "ipython3",
   "version": "3.10.8"
  }
 },
 "nbformat": 4,
 "nbformat_minor": 5
}
