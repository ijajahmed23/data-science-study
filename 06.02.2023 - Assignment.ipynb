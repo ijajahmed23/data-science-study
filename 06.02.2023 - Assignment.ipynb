{
 "cells": [
  {
   "cell_type": "code",
   "execution_count": 8,
   "id": "b3d82b4e-49f9-421a-9f9c-44d0d755aedd",
   "metadata": {},
   "outputs": [],
   "source": [
    "def flat_list_product(lst):\n",
    "    # Create a flat list by concatenating all sublists, tuples and sets in the list\n",
    "    flat_list = []\n",
    "    for item in lst:\n",
    "        if type(item) == list:\n",
    "            flat_list += item\n",
    "        elif type(item) == tuple or type(item) == set:\n",
    "            flat_list += list(item)\n",
    "        else:\n",
    "            flat_list.append(item)\n",
    "    \n",
    "    # Initialize a product variable to 1\n",
    "    product = 1\n",
    "    \n",
    "    # Loop through the flat list and multiply each item by the product\n",
    "    for item in flat_list:\n",
    "        # Only consider numerical values for multiplication\n",
    "        if type(item) in [int, float]:\n",
    "            product *= item\n",
    "    \n",
    "    return product"
   ]
  },
  {
   "cell_type": "code",
   "execution_count": 9,
   "id": "5457466e-da88-481b-8851-1fbdcec4e13d",
   "metadata": {},
   "outputs": [
    {
     "name": "stdout",
     "output_type": "stream",
     "text": [
      "578815684656168960\n"
     ]
    }
   ],
   "source": [
    "list1 = [1,2,3,4, [44,55,66, True], False, (34,56,78,89,34), {1,2,3,3,2,1}, {1:34, \"key2\": [55, 67, 78, 89], 4: (45,22, 61, 34)}, [56, 'data science'], 'Machine Learning']\n",
    "result = flat_list_product(list1)\n",
    "print(result)\n"
   ]
  },
  {
   "cell_type": "code",
   "execution_count": 10,
   "id": "9aa6dce3-4005-4f56-a776-41872cfdb348",
   "metadata": {},
   "outputs": [
    {
     "ename": "NameError",
     "evalue": "name 'flat_list' is not defined",
     "output_type": "error",
     "traceback": [
      "\u001b[0;31m---------------------------------------------------------------------------\u001b[0m",
      "\u001b[0;31mNameError\u001b[0m                                 Traceback (most recent call last)",
      "Cell \u001b[0;32mIn[10], line 1\u001b[0m\n\u001b[0;32m----> 1\u001b[0m \u001b[43mflat_list\u001b[49m\n",
      "\u001b[0;31mNameError\u001b[0m: name 'flat_list' is not defined"
     ]
    }
   ],
   "source": [
    "flat_list"
   ]
  },
  {
   "cell_type": "code",
   "execution_count": 6,
   "id": "7b82ce65-8237-4ee8-97b4-81a978940d8c",
   "metadata": {},
   "outputs": [],
   "source": [
    "lst=[1,2,3,4, [44,55,66, True], False, (34,56,78,89,34), {1,2,3,3,2,1}, {1:34, \"key2\": [55, 67, 78, 89], 4: (45,22, 61, 34)}, [56, 'data science'], 'Machine Learning']\n",
    "flat_list = []\n"
   ]
  },
  {
   "cell_type": "code",
   "execution_count": 7,
   "id": "26dff851-6603-4ba4-8356-1e3e3cd7a8f2",
   "metadata": {},
   "outputs": [
    {
     "data": {
      "text/plain": [
       "[1,\n",
       " 2,\n",
       " 3,\n",
       " 4,\n",
       " [44, 55, 66, True],\n",
       " False,\n",
       " (34, 56, 78, 89, 34),\n",
       " {1, 2, 3},\n",
       " {1: 34, 'key2': [55, 67, 78, 89], 4: (45, 22, 61, 34)},\n",
       " [56, 'data science'],\n",
       " 'Machine Learning']"
      ]
     },
     "execution_count": 7,
     "metadata": {},
     "output_type": "execute_result"
    }
   ],
   "source": [
    "lst"
   ]
  },
  {
   "cell_type": "code",
   "execution_count": 8,
   "id": "111cf5e6-1642-478d-bdf4-2a611e517a86",
   "metadata": {},
   "outputs": [
    {
     "data": {
      "text/plain": [
       "[]"
      ]
     },
     "execution_count": 8,
     "metadata": {},
     "output_type": "execute_result"
    }
   ],
   "source": [
    "flat_list"
   ]
  },
  {
   "cell_type": "code",
   "execution_count": 11,
   "id": "1f681d5a-2e36-40de-8d78-e3b0a9ecb115",
   "metadata": {},
   "outputs": [
    {
     "name": "stdout",
     "output_type": "stream",
     "text": [
      "1\n",
      "2\n",
      "3\n",
      "4\n",
      "[44, 55, 66, True]\n",
      "False\n",
      "(34, 56, 78, 89, 34)\n",
      "{1, 2, 3}\n",
      "{1: 34, 'key2': [55, 67, 78, 89], 4: (45, 22, 61, 34)}\n",
      "[56, 'data science']\n",
      "Machine Learning\n"
     ]
    }
   ],
   "source": [
    "for i in lst:\n",
    "    print(i)"
   ]
  },
  {
   "cell_type": "code",
   "execution_count": 56,
   "id": "541c215e-6f31-4008-8d78-a2c766b49e4b",
   "metadata": {},
   "outputs": [
    {
     "name": "stdout",
     "output_type": "stream",
     "text": [
      "<class 'set'>\n",
      "<class 'tuple'>\n",
      "[1, 2, 3]\n",
      "[1, 2, 3]\n"
     ]
    }
   ],
   "source": [
    "flat_list=[]\n",
    "set1={1,2,3}\n",
    "print(type(set1))\n",
    "tup=(1,2,3)\n",
    "print(type(tup))\n",
    "print(list(tup))\n",
    "print(list(set1))\n"
   ]
  },
  {
   "cell_type": "code",
   "execution_count": 57,
   "id": "63370ba7-3da4-4a0f-9cc3-6c2971a1f8ee",
   "metadata": {},
   "outputs": [],
   "source": [
    "for i in lst:\n",
    "    if type(i)==list:\n",
    "        #flat_list.append(i)\n",
    "        flat_list+=i\n",
    "    elif type(i)==set or type(i)==tuple:\n",
    "        flat_list=flat_list+list(i)\n",
    "    else: \n",
    "        flat_list.append(i)\n",
    "        \n",
    "    #else:\n",
    "     #   pass"
   ]
  },
  {
   "cell_type": "code",
   "execution_count": 60,
   "id": "b8229cde-027f-4de7-8208-2402d2875da2",
   "metadata": {},
   "outputs": [
    {
     "name": "stdout",
     "output_type": "stream",
     "text": [
      "1\n",
      "2\n",
      "3\n",
      "4\n",
      "44\n",
      "55\n",
      "66\n",
      "34\n",
      "56\n",
      "78\n",
      "89\n",
      "34\n",
      "56\n"
     ]
    }
   ],
   "source": [
    "prod=1\n",
    "for j in flat_list:\n",
    "    if type(j)==int or type(j)==float:\n",
    "        print(j)\n",
    "        prod=prod*j"
   ]
  },
  {
   "cell_type": "code",
   "execution_count": 59,
   "id": "93f2457f-8ec3-4655-8619-198f338bffc7",
   "metadata": {},
   "outputs": [
    {
     "data": {
      "text/plain": [
       "96469280776028160"
      ]
     },
     "execution_count": 59,
     "metadata": {},
     "output_type": "execute_result"
    }
   ],
   "source": [
    "prod"
   ]
  },
  {
   "cell_type": "code",
   "execution_count": 53,
   "id": "d14aa91d-ccbe-42a2-b5c5-35eb8b3a12cc",
   "metadata": {},
   "outputs": [],
   "source": [
    "flat_list\n",
    "for i in lst:\n",
    "    flat_list.append(i)"
   ]
  },
  {
   "cell_type": "code",
   "execution_count": 54,
   "id": "e52aeecd-a0e2-4cca-b25d-663550784685",
   "metadata": {},
   "outputs": [
    {
     "data": {
      "text/plain": [
       "[1,\n",
       " 2,\n",
       " 3,\n",
       " 4,\n",
       " [44, 55, 66, True],\n",
       " False,\n",
       " (34, 56, 78, 89, 34),\n",
       " {1, 2, 3},\n",
       " {1: 34, 'key2': [55, 67, 78, 89], 4: (45, 22, 61, 34)},\n",
       " [56, 'data science'],\n",
       " 'Machine Learning']"
      ]
     },
     "execution_count": 54,
     "metadata": {},
     "output_type": "execute_result"
    }
   ],
   "source": [
    "flat_list"
   ]
  },
  {
   "cell_type": "code",
   "execution_count": null,
   "id": "fbf047a7-333b-4a61-bf64-8a33db96eaa6",
   "metadata": {},
   "outputs": [],
   "source": []
  }
 ],
 "metadata": {
  "kernelspec": {
   "display_name": "Python 3 (ipykernel)",
   "language": "python",
   "name": "python3"
  },
  "language_info": {
   "codemirror_mode": {
    "name": "ipython",
    "version": 3
   },
   "file_extension": ".py",
   "mimetype": "text/x-python",
   "name": "python",
   "nbconvert_exporter": "python",
   "pygments_lexer": "ipython3",
   "version": "3.10.8"
  }
 },
 "nbformat": 4,
 "nbformat_minor": 5
}
