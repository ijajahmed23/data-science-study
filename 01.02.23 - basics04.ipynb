{
 "cells": [
  {
   "cell_type": "code",
   "execution_count": 7,
   "id": "1454259c-f7b2-430c-b500-32364a010790",
   "metadata": {},
   "outputs": [
    {
     "name": "stdout",
     "output_type": "stream",
     "text": [
      "dATA sCIENCE mASTER\n",
      "Data Science Master\n",
      "Data science master\n"
     ]
    }
   ],
   "source": [
    "name='Data Science Master'\n",
    "print(name.swapcase())\n",
    "print(name.title())\n",
    "print(name.capitalize())"
   ]
  },
  {
   "cell_type": "code",
   "execution_count": 6,
   "id": "410edeb9-1e27-4b00-a4e2-de85255b9d70",
   "metadata": {},
   "outputs": [
    {
     "name": "stdin",
     "output_type": "stream",
     "text": [
      "enter number of steps:  5\n"
     ]
    },
    {
     "name": "stdout",
     "output_type": "stream",
     "text": [
      "     * \n",
      "    *** \n",
      "   ***** \n",
      "  ******* \n",
      " ********* \n"
     ]
    }
   ],
   "source": [
    "n=int(input(\"enter number of steps: \"))\n",
    "for i in range(n):\n",
    "    print(\" \"*(n-i),end=\"\")\n",
    "    for j in range(2*i+1):\n",
    "        print(\"*\",end=\"\")\n",
    "    print(\" \")\n"
   ]
  },
  {
   "cell_type": "code",
   "execution_count": 8,
   "id": "d7139222-7568-47d1-b097-3215e039b5d8",
   "metadata": {},
   "outputs": [
    {
     "data": {
      "text/plain": [
       "'retsaM ecneicS ataD'"
      ]
     },
     "execution_count": 8,
     "metadata": {},
     "output_type": "execute_result"
    }
   ],
   "source": [
    "name[::-1]"
   ]
  },
  {
   "cell_type": "code",
   "execution_count": 9,
   "id": "070ea340-07a4-4269-b3cd-84ff91bc806c",
   "metadata": {},
   "outputs": [
    {
     "data": {
      "text/plain": [
       "<reversed at 0x7f17917404f0>"
      ]
     },
     "execution_count": 9,
     "metadata": {},
     "output_type": "execute_result"
    }
   ],
   "source": [
    "reversed(name)"
   ]
  },
  {
   "cell_type": "code",
   "execution_count": 11,
   "id": "0a417608-ea69-4578-a5ea-59feeedacb5d",
   "metadata": {},
   "outputs": [
    {
     "data": {
      "text/plain": [
       "'r e t s a M   e c n e i c S   a t a D'"
      ]
     },
     "execution_count": 11,
     "metadata": {},
     "output_type": "execute_result"
    }
   ],
   "source": [
    "\" \".join(reversed(name))"
   ]
  },
  {
   "cell_type": "code",
   "execution_count": 12,
   "id": "2e630f00-fc9d-430e-8d5e-8c1236a5e854",
   "metadata": {},
   "outputs": [
    {
     "data": {
      "text/plain": [
       "'rmanaemanatmanasmanaamanaMmana manaemanacmananmanaemanaimanacmanaSmana manaamanatmanaamanaD'"
      ]
     },
     "execution_count": 12,
     "metadata": {},
     "output_type": "execute_result"
    }
   ],
   "source": [
    "\"mana\".join(reversed(name))"
   ]
  },
  {
   "cell_type": "code",
   "execution_count": 13,
   "id": "53926b4e-c1a5-4ba2-8e6b-53d1d2f15b1e",
   "metadata": {},
   "outputs": [
    {
     "data": {
      "text/plain": [
       "'a b c d'"
      ]
     },
     "execution_count": 13,
     "metadata": {},
     "output_type": "execute_result"
    }
   ],
   "source": [
    "\" \".join(\"abcd\")"
   ]
  },
  {
   "cell_type": "code",
   "execution_count": 14,
   "id": "46a9daf6-987b-4824-bf15-e33f0acdccad",
   "metadata": {},
   "outputs": [
    {
     "data": {
      "text/plain": [
       "'t n a'"
      ]
     },
     "execution_count": 14,
     "metadata": {},
     "output_type": "execute_result"
    }
   ],
   "source": [
    "\" \".join(reversed(\"ant\"))"
   ]
  },
  {
   "cell_type": "code",
   "execution_count": 16,
   "id": "84e98477-36d9-4aec-b07c-ebd64519a47d",
   "metadata": {},
   "outputs": [
    {
     "data": {
      "text/plain": [
       "['t', 'n', 'a']"
      ]
     },
     "execution_count": 16,
     "metadata": {},
     "output_type": "execute_result"
    }
   ],
   "source": [
    "list(reversed(\"ant\"))"
   ]
  },
  {
   "cell_type": "code",
   "execution_count": 17,
   "id": "538208e8-cd99-4d6a-b558-c20ff6c98aa1",
   "metadata": {},
   "outputs": [
    {
     "data": {
      "text/plain": [
       "'iabcjabcaabcjabc abciabcsabc abcaabc abcbabcoabcy'"
      ]
     },
     "execution_count": 17,
     "metadata": {},
     "output_type": "execute_result"
    }
   ],
   "source": [
    "str1=\"ijaj is a boy\"\n",
    "\"abc\".join(str1)"
   ]
  },
  {
   "cell_type": "markdown",
   "id": "bb149cb2-ecb7-4655-9520-96fd42e77cfa",
   "metadata": {},
   "source": [
    "##REMOVING CHARACTERS"
   ]
  },
  {
   "cell_type": "code",
   "execution_count": 20,
   "id": "6c1983e7-f901-4173-ba0d-dd02cbecbce4",
   "metadata": {},
   "outputs": [
    {
     "name": "stdout",
     "output_type": "stream",
     "text": [
      "retsaM ecneicS ataD"
     ]
    }
   ],
   "source": [
    "for i in list(reversed(name)):\n",
    "    print(i,end=\"\")"
   ]
  },
  {
   "cell_type": "code",
   "execution_count": 21,
   "id": "0726c989-ab3d-470a-9798-35c1286fb83c",
   "metadata": {},
   "outputs": [],
   "source": [
    "string_a=\" ijaj \""
   ]
  },
  {
   "cell_type": "code",
   "execution_count": 23,
   "id": "f017efb6-3789-40ce-b450-97144e0aff84",
   "metadata": {},
   "outputs": [
    {
     "data": {
      "text/plain": [
       "'ijaj'"
      ]
     },
     "execution_count": 23,
     "metadata": {},
     "output_type": "execute_result"
    }
   ],
   "source": [
    "string_a.strip(\" \")"
   ]
  },
  {
   "cell_type": "code",
   "execution_count": 24,
   "id": "40cd1b42-95e7-4d51-bf5e-b2e6d9af89d3",
   "metadata": {},
   "outputs": [
    {
     "data": {
      "text/plain": [
       "'ijaj '"
      ]
     },
     "execution_count": 24,
     "metadata": {},
     "output_type": "execute_result"
    }
   ],
   "source": [
    "string_a.lstrip(\" \")"
   ]
  },
  {
   "cell_type": "code",
   "execution_count": 27,
   "id": "6acab760-2342-4a93-a1e9-c7a972f812ca",
   "metadata": {},
   "outputs": [
    {
     "data": {
      "text/plain": [
       "' ijaj'"
      ]
     },
     "execution_count": 27,
     "metadata": {},
     "output_type": "execute_result"
    }
   ],
   "source": [
    "string_a.rstrip(\" \")"
   ]
  },
  {
   "cell_type": "code",
   "execution_count": 28,
   "id": "549131cd-034e-4cb4-b922-f90d57f129a5",
   "metadata": {},
   "outputs": [
    {
     "data": {
      "text/plain": [
       "'cheers from you'"
      ]
     },
     "execution_count": 28,
     "metadata": {},
     "output_type": "execute_result"
    }
   ],
   "source": [
    "string_n=\"cheers to you\"\n",
    "string_n.replace(\"to\",\"from\")"
   ]
  },
  {
   "cell_type": "code",
   "execution_count": 31,
   "id": "556c67fa-c9fa-419c-a2d8-a6c3b543085c",
   "metadata": {},
   "outputs": [],
   "source": [
    "var_a=string_n.replace(\"ee\",\"oo\")"
   ]
  },
  {
   "cell_type": "code",
   "execution_count": 32,
   "id": "89f5ade5-6e3f-415d-ab50-4ab81e03a3c0",
   "metadata": {},
   "outputs": [
    {
     "name": "stdout",
     "output_type": "stream",
     "text": [
      "139739201655664\n",
      "139739205594800\n"
     ]
    }
   ],
   "source": [
    "print(id(var_a))\n",
    "print(id(string_n))"
   ]
  },
  {
   "cell_type": "code",
   "execution_count": 34,
   "id": "62e8ff67-d976-4228-b250-c638d2ad440f",
   "metadata": {},
   "outputs": [
    {
     "data": {
      "text/plain": [
       "'hello\\tWorld'"
      ]
     },
     "execution_count": 34,
     "metadata": {},
     "output_type": "execute_result"
    }
   ],
   "source": [
    "'hello\\tWorld'"
   ]
  },
  {
   "cell_type": "code",
   "execution_count": 35,
   "id": "49764e95-22eb-4373-985d-e034e67398d7",
   "metadata": {},
   "outputs": [
    {
     "data": {
      "text/plain": [
       "'hello   World'"
      ]
     },
     "execution_count": 35,
     "metadata": {},
     "output_type": "execute_result"
    }
   ],
   "source": [
    "'hello\\tWorld'.expandtabs()"
   ]
  },
  {
   "cell_type": "code",
   "execution_count": 36,
   "id": "444b69d4-168f-4307-95e3-60af98f28259",
   "metadata": {},
   "outputs": [
    {
     "data": {
      "text/plain": [
       "'welcome to class.welcome to data science masters'"
      ]
     },
     "execution_count": 36,
     "metadata": {},
     "output_type": "execute_result"
    }
   ],
   "source": [
    "str1=\"welcome to class.welcome to ata cience masters\"\n",
    "str1.replace(\"ata\",\"data\").replace(\"cience\",\"science\")"
   ]
  },
  {
   "cell_type": "code",
   "execution_count": 37,
   "id": "865e6c88-2b1b-4af2-88a1-18adbda4eeb4",
   "metadata": {},
   "outputs": [
    {
     "name": "stdout",
     "output_type": "stream",
     "text": [
      "False\n",
      "True\n",
      "False\n"
     ]
    }
   ],
   "source": [
    "print(str1.isupper())\n",
    "print(str1.islower())\n",
    "print(str1.isspace())"
   ]
  },
  {
   "cell_type": "code",
   "execution_count": 38,
   "id": "182e8129-ad3f-4993-b8e3-c37b971b4353",
   "metadata": {},
   "outputs": [
    {
     "data": {
      "text/plain": [
       "True"
      ]
     },
     "execution_count": 38,
     "metadata": {},
     "output_type": "execute_result"
    }
   ],
   "source": [
    "\" \".isspace()"
   ]
  },
  {
   "cell_type": "code",
   "execution_count": 42,
   "id": "5883ec08-c9a6-483d-a00a-d8469009ae75",
   "metadata": {},
   "outputs": [
    {
     "name": "stdout",
     "output_type": "stream",
     "text": [
      "hello\n"
     ]
    }
   ],
   "source": [
    "if \" \".isspace():\n",
    "    print(\"hello\")"
   ]
  },
  {
   "cell_type": "code",
   "execution_count": 45,
   "id": "0dbe7eaa-1aed-4577-accd-58b914304577",
   "metadata": {},
   "outputs": [
    {
     "data": {
      "text/plain": [
       "True"
      ]
     },
     "execution_count": 45,
     "metadata": {},
     "output_type": "execute_result"
    }
   ],
   "source": [
    "str1.endswith(\"s\")"
   ]
  },
  {
   "cell_type": "code",
   "execution_count": 46,
   "id": "5ef237d9-d397-4da8-99ca-828b65ffd11a",
   "metadata": {},
   "outputs": [
    {
     "data": {
      "text/plain": [
       "True"
      ]
     },
     "execution_count": 46,
     "metadata": {},
     "output_type": "execute_result"
    }
   ],
   "source": [
    "str1.startswith(\"w\")"
   ]
  },
  {
   "cell_type": "code",
   "execution_count": 48,
   "id": "e5a39e24-7034-4cf7-b1ab-853d30ec88da",
   "metadata": {},
   "outputs": [
    {
     "data": {
      "text/plain": [
       "False"
      ]
     },
     "execution_count": 48,
     "metadata": {},
     "output_type": "execute_result"
    }
   ],
   "source": [
    "str1.isalnum()"
   ]
  },
  {
   "cell_type": "code",
   "execution_count": 50,
   "id": "70e3923a-b426-4848-80bd-f40ce5cb788d",
   "metadata": {},
   "outputs": [
    {
     "data": {
      "text/plain": [
       "True"
      ]
     },
     "execution_count": 50,
     "metadata": {},
     "output_type": "execute_result"
    }
   ],
   "source": [
    "str2=\"ab123\"\n",
    "str2.isalnum()"
   ]
  },
  {
   "cell_type": "code",
   "execution_count": 51,
   "id": "7feef5bd-79ea-430d-a8d6-f7478aec2ce1",
   "metadata": {},
   "outputs": [
    {
     "name": "stdout",
     "output_type": "stream",
     "text": [
      "ab123"
     ]
    }
   ],
   "source": [
    "for i in str2:\n",
    "    print(i,end=\"\")"
   ]
  },
  {
   "cell_type": "code",
   "execution_count": 52,
   "id": "c32489d5-626c-45f6-be56-a2134ba985ee",
   "metadata": {},
   "outputs": [
    {
     "name": "stdout",
     "output_type": "stream",
     "text": [
      "5\n"
     ]
    }
   ],
   "source": [
    "count=0\n",
    "for i in str2:\n",
    "    count=count+1\n",
    "print(count)\n",
    "    "
   ]
  },
  {
   "cell_type": "code",
   "execution_count": 53,
   "id": "c3582a1b-a294-458b-870e-a429c26fb22c",
   "metadata": {},
   "outputs": [
    {
     "data": {
      "text/plain": [
       "5"
      ]
     },
     "execution_count": 53,
     "metadata": {},
     "output_type": "execute_result"
    }
   ],
   "source": [
    "len(str2)"
   ]
  },
  {
   "cell_type": "code",
   "execution_count": 56,
   "id": "0fc27625-c488-45c8-8f0f-ab2fedaaf707",
   "metadata": {},
   "outputs": [
    {
     "name": "stdout",
     "output_type": "stream",
     "text": [
      "0 = a\n",
      "1 = b\n",
      "2 = 1\n",
      "3 = 2\n",
      "4 = 3\n"
     ]
    }
   ],
   "source": [
    "for i in range(len(str2)):\n",
    "    print(i,\"=\",str2[i])"
   ]
  },
  {
   "cell_type": "code",
   "execution_count": 55,
   "id": "fd592a19-f292-4fa3-8569-ed2262ed1994",
   "metadata": {},
   "outputs": [
    {
     "data": {
      "text/plain": [
       "range(0, 5)"
      ]
     },
     "execution_count": 55,
     "metadata": {},
     "output_type": "execute_result"
    }
   ],
   "source": [
    "range(len(str2))"
   ]
  },
  {
   "cell_type": "code",
   "execution_count": 57,
   "id": "d8188806-cb8a-4e8e-a75d-3bfb129a7055",
   "metadata": {},
   "outputs": [
    {
     "data": {
      "text/plain": [
       "4"
      ]
     },
     "execution_count": 57,
     "metadata": {},
     "output_type": "execute_result"
    }
   ],
   "source": [
    "len(str2)-1"
   ]
  },
  {
   "cell_type": "code",
   "execution_count": 63,
   "id": "11b99761-e68a-4265-b598-127b4009dc45",
   "metadata": {},
   "outputs": [
    {
     "name": "stdout",
     "output_type": "stream",
     "text": [
      "4 = 3\n",
      "3 = 2\n",
      "2 = 1\n",
      "1 = b\n",
      "0 = a\n"
     ]
    }
   ],
   "source": [
    "for i in range(len(str2)-1,-1,-1):\n",
    "    print(i,\"=\",str2[i])"
   ]
  },
  {
   "cell_type": "code",
   "execution_count": 2,
   "id": "f76f7cee-972a-451a-94e1-78d07674167d",
   "metadata": {},
   "outputs": [],
   "source": [
    "str2=\"myworld\""
   ]
  },
  {
   "cell_type": "code",
   "execution_count": 5,
   "id": "a67eb625-265e-4ebe-a880-9c4ba472b62a",
   "metadata": {},
   "outputs": [
    {
     "name": "stdout",
     "output_type": "stream",
     "text": [
      "6 = d\n",
      "5 = l\n",
      "4 = r\n",
      "3 = o\n",
      "2 = w\n",
      "1 = y\n",
      "0 = m\n"
     ]
    }
   ],
   "source": [
    "ch=len(str2)-1\n",
    "while ch>=0:\n",
    "    print(ch,\"=\",str2[ch])\n",
    "    ch=ch-1"
   ]
  },
  {
   "cell_type": "code",
   "execution_count": 9,
   "id": "b4e2dd68-b4cc-45f4-b8bb-b24e0ea09bce",
   "metadata": {},
   "outputs": [
    {
     "name": "stdout",
     "output_type": "stream",
     "text": [
      "dlrowym"
     ]
    }
   ],
   "source": [
    "for i in range(len(str2)):\n",
    "    print(str2[len(str2)-1-i],end=\"\")"
   ]
  },
  {
   "cell_type": "code",
   "execution_count": 14,
   "id": "b81892bc-fc51-47db-bab1-c2996ad8d412",
   "metadata": {},
   "outputs": [
    {
     "name": "stdin",
     "output_type": "stream",
     "text": [
      "Enter string:  banana\n"
     ]
    },
    {
     "name": "stdout",
     "output_type": "stream",
     "text": [
      "b is not a vowel\n",
      "a is a vowel\n",
      "n is not a vowel\n",
      "a is a vowel\n",
      "n is not a vowel\n",
      "a is a vowel\n"
     ]
    }
   ],
   "source": [
    "vowels=\"aAeEiIoOuU\"\n",
    "n=str(input(\"Enter string: \"))\n",
    "for i in n:\n",
    "    if i in vowels:\n",
    "        print(\"{} is a vowel\".format(i))\n",
    "    else:\n",
    "        print(\"{} is not a vowel\".format(i))"
   ]
  },
  {
   "cell_type": "markdown",
   "id": "af7b424b-e175-4a9c-aefd-a6248431a715",
   "metadata": {},
   "source": [
    "##LIST"
   ]
  },
  {
   "cell_type": "code",
   "execution_count": 15,
   "id": "59c3ed9c-692d-4359-9e10-cc5ca386c1eb",
   "metadata": {},
   "outputs": [
    {
     "data": {
      "text/plain": [
       "list"
      ]
     },
     "execution_count": 15,
     "metadata": {},
     "output_type": "execute_result"
    }
   ],
   "source": [
    "type([])"
   ]
  },
  {
   "cell_type": "code",
   "execution_count": 19,
   "id": "06cc30a6-097a-4c01-8249-e2dcc5153010",
   "metadata": {},
   "outputs": [],
   "source": [
    "lst=[\"ijaj\",\"ahmed\",25]\n",
    "str1=\"my name is ijaj\""
   ]
  },
  {
   "cell_type": "code",
   "execution_count": 20,
   "id": "842c8f7d-56ab-441f-8e99-c43a4ffdd794",
   "metadata": {},
   "outputs": [
    {
     "data": {
      "text/plain": [
       "['m', 'y', ' ', 'n', 'a', 'm', 'e', ' ', 'i', 's', ' ', 'i', 'j', 'a', 'j']"
      ]
     },
     "execution_count": 20,
     "metadata": {},
     "output_type": "execute_result"
    }
   ],
   "source": [
    "list(str1)"
   ]
  },
  {
   "cell_type": "code",
   "execution_count": 21,
   "id": "37ac41e4-760f-4548-af6a-8fc2654ba76c",
   "metadata": {},
   "outputs": [
    {
     "data": {
      "text/plain": [
       "['my', 'name', 'is', 'ijaj']"
      ]
     },
     "execution_count": 21,
     "metadata": {},
     "output_type": "execute_result"
    }
   ],
   "source": [
    "list(str1.split(\" \"))"
   ]
  },
  {
   "cell_type": "code",
   "execution_count": 23,
   "id": "1cdcc955-9f62-462c-b3e5-3bb1b7540450",
   "metadata": {},
   "outputs": [],
   "source": [
    "lst1=str1.split(\" \") ##split function always returns a list as output"
   ]
  },
  {
   "cell_type": "code",
   "execution_count": 24,
   "id": "5c6ea26c-cd34-4d14-89a0-8ab358b14463",
   "metadata": {},
   "outputs": [
    {
     "data": {
      "text/plain": [
       "['my', 'name', 'is', 'ijaj']"
      ]
     },
     "execution_count": 24,
     "metadata": {},
     "output_type": "execute_result"
    }
   ],
   "source": [
    "lst1"
   ]
  },
  {
   "cell_type": "code",
   "execution_count": 25,
   "id": "9e5e72bc-ce3d-43eb-96b9-45d72d8989c4",
   "metadata": {},
   "outputs": [
    {
     "data": {
      "text/plain": [
       "'my'"
      ]
     },
     "execution_count": 25,
     "metadata": {},
     "output_type": "execute_result"
    }
   ],
   "source": [
    "lst1[0]"
   ]
  },
  {
   "cell_type": "code",
   "execution_count": 26,
   "id": "ea561123-e469-4d2c-964a-e39eee23925f",
   "metadata": {},
   "outputs": [],
   "source": [
    "lst1[0]=\"your\""
   ]
  },
  {
   "cell_type": "code",
   "execution_count": 27,
   "id": "dfe65473-69a4-49f2-b473-f4d5a47ea1cd",
   "metadata": {},
   "outputs": [
    {
     "data": {
      "text/plain": [
       "['your', 'name', 'is', 'ijaj']"
      ]
     },
     "execution_count": 27,
     "metadata": {},
     "output_type": "execute_result"
    }
   ],
   "source": [
    "lst1"
   ]
  },
  {
   "cell_type": "code",
   "execution_count": 28,
   "id": "49a67135-38ca-4398-80b4-ed83b33c27a7",
   "metadata": {},
   "outputs": [
    {
     "data": {
      "text/plain": [
       "['name', 'is', 'ijaj']"
      ]
     },
     "execution_count": 28,
     "metadata": {},
     "output_type": "execute_result"
    }
   ],
   "source": [
    "lst1[1:]"
   ]
  },
  {
   "cell_type": "code",
   "execution_count": 37,
   "id": "211cb7ef-7d4c-4ef7-9505-2c3185d44338",
   "metadata": {},
   "outputs": [
    {
     "data": {
      "text/plain": [
       "['ijaj', 'name']"
      ]
     },
     "execution_count": 37,
     "metadata": {},
     "output_type": "execute_result"
    }
   ],
   "source": [
    "lst1[::-2]"
   ]
  },
  {
   "cell_type": "code",
   "execution_count": 38,
   "id": "0345f50f-3afc-4747-bb9a-8da57207974b",
   "metadata": {},
   "outputs": [
    {
     "data": {
      "text/plain": [
       "['your', 'name', 'is', 'ijaj', 'no', 'u']"
      ]
     },
     "execution_count": 38,
     "metadata": {},
     "output_type": "execute_result"
    }
   ],
   "source": [
    "lst1+[\"no\",\"u\"]"
   ]
  },
  {
   "cell_type": "code",
   "execution_count": 43,
   "id": "780c6843-2a70-4f4b-aeb0-3b25ceac3dac",
   "metadata": {},
   "outputs": [],
   "source": [
    "lst2=lst1+[[\"no\",\"u\"]]"
   ]
  },
  {
   "cell_type": "code",
   "execution_count": 44,
   "id": "c881fe82-2a89-4025-9cf5-f22cdeb68b6a",
   "metadata": {},
   "outputs": [
    {
     "data": {
      "text/plain": [
       "'no'"
      ]
     },
     "execution_count": 44,
     "metadata": {},
     "output_type": "execute_result"
    }
   ],
   "source": [
    "lst2[4][0]"
   ]
  },
  {
   "cell_type": "code",
   "execution_count": 45,
   "id": "b86ad40a-eaf1-4104-9c5b-38c875a3823f",
   "metadata": {},
   "outputs": [
    {
     "data": {
      "text/plain": [
       "'no'"
      ]
     },
     "execution_count": 45,
     "metadata": {},
     "output_type": "execute_result"
    }
   ],
   "source": [
    "lst2[-1][0]"
   ]
  },
  {
   "cell_type": "code",
   "execution_count": 46,
   "id": "e2d7f318-ac43-4112-aaf0-43ad5125706b",
   "metadata": {},
   "outputs": [
    {
     "data": {
      "text/plain": [
       "['your', 'name', 'is', 'ijaj', 'your', 'name', 'is', 'ijaj']"
      ]
     },
     "execution_count": 46,
     "metadata": {},
     "output_type": "execute_result"
    }
   ],
   "source": [
    "lst1*2"
   ]
  },
  {
   "cell_type": "code",
   "execution_count": 52,
   "id": "81630cd0-5e7e-4a66-9653-8f5f7b58c201",
   "metadata": {},
   "outputs": [
    {
     "name": "stdout",
     "output_type": "stream",
     "text": [
      "is\n"
     ]
    }
   ],
   "source": [
    "for element in lst1:\n",
    "    if element==\"is\":\n",
    "        print(element)\n",
    "        break"
   ]
  },
  {
   "cell_type": "code",
   "execution_count": 53,
   "id": "7a1fd143-3606-4383-bad1-60e7b80c3184",
   "metadata": {},
   "outputs": [
    {
     "data": {
      "text/plain": [
       "True"
      ]
     },
     "execution_count": 53,
     "metadata": {},
     "output_type": "execute_result"
    }
   ],
   "source": [
    "lst=[1,2,3,4]\n",
    "4 in lst"
   ]
  },
  {
   "cell_type": "code",
   "execution_count": 54,
   "id": "99dddaf1-bc4e-4106-bb76-8ff2446ae945",
   "metadata": {},
   "outputs": [
    {
     "name": "stdout",
     "output_type": "stream",
     "text": [
      "4\n",
      "ijaj\n"
     ]
    }
   ],
   "source": [
    "print(max(lst))\n",
    "print(min(lst1))"
   ]
  },
  {
   "cell_type": "code",
   "execution_count": 55,
   "id": "5bc1755e-6708-4c0d-879d-f1e243abaca4",
   "metadata": {},
   "outputs": [],
   "source": [
    "lst.append(\"ijaj\")"
   ]
  },
  {
   "cell_type": "code",
   "execution_count": 56,
   "id": "637629c5-6e0c-4d1e-805e-e25459ce77b4",
   "metadata": {},
   "outputs": [
    {
     "data": {
      "text/plain": [
       "[1, 2, 3, 4, 'ijaj']"
      ]
     },
     "execution_count": 56,
     "metadata": {},
     "output_type": "execute_result"
    }
   ],
   "source": [
    "lst"
   ]
  },
  {
   "cell_type": "code",
   "execution_count": 57,
   "id": "84c90596-7ad8-44ee-849d-c7f0334e563d",
   "metadata": {},
   "outputs": [],
   "source": [
    "lst.append([\"ijaj\",\"ahmed\"])"
   ]
  },
  {
   "cell_type": "code",
   "execution_count": 58,
   "id": "3cfc0555-6b80-4e5a-853b-b44e94d0f2e9",
   "metadata": {},
   "outputs": [
    {
     "data": {
      "text/plain": [
       "[1, 2, 3, 4, 'ijaj', ['ijaj', 'ahmed']]"
      ]
     },
     "execution_count": 58,
     "metadata": {},
     "output_type": "execute_result"
    }
   ],
   "source": [
    "lst"
   ]
  },
  {
   "cell_type": "code",
   "execution_count": 59,
   "id": "397b5fe5-88ba-4a8f-9f33-711235a3c83a",
   "metadata": {},
   "outputs": [
    {
     "data": {
      "text/plain": [
       "['ijaj', 'ahmed']"
      ]
     },
     "execution_count": 59,
     "metadata": {},
     "output_type": "execute_result"
    }
   ],
   "source": [
    "lst.pop()"
   ]
  },
  {
   "cell_type": "code",
   "execution_count": 60,
   "id": "b10e4c92-4386-4120-8c9e-567348e46e78",
   "metadata": {},
   "outputs": [
    {
     "data": {
      "text/plain": [
       "[1, 2, 3, 4, 'ijaj']"
      ]
     },
     "execution_count": 60,
     "metadata": {},
     "output_type": "execute_result"
    }
   ],
   "source": [
    "lst"
   ]
  },
  {
   "cell_type": "code",
   "execution_count": 61,
   "id": "9e8c4b20-7dc9-4d67-adca-260a259aa654",
   "metadata": {},
   "outputs": [
    {
     "data": {
      "text/plain": [
       "3"
      ]
     },
     "execution_count": 61,
     "metadata": {},
     "output_type": "execute_result"
    }
   ],
   "source": [
    "lst.pop(2)"
   ]
  },
  {
   "cell_type": "code",
   "execution_count": 62,
   "id": "e9391dc4-fba8-449c-ad6b-af1dc021c46c",
   "metadata": {},
   "outputs": [
    {
     "data": {
      "text/plain": [
       "[1, 2, 4, 'ijaj']"
      ]
     },
     "execution_count": 62,
     "metadata": {},
     "output_type": "execute_result"
    }
   ],
   "source": [
    "lst"
   ]
  },
  {
   "cell_type": "code",
   "execution_count": 63,
   "id": "f8706f72-fb80-4f83-ba94-82c98d7a1ca9",
   "metadata": {},
   "outputs": [
    {
     "data": {
      "text/plain": [
       "1"
      ]
     },
     "execution_count": 63,
     "metadata": {},
     "output_type": "execute_result"
    }
   ],
   "source": [
    "remove_element=lst.pop(0)\n",
    "remove_element"
   ]
  },
  {
   "cell_type": "code",
   "execution_count": 64,
   "id": "f0dd2284-3bc7-44c9-ad88-5daa5e6c9377",
   "metadata": {},
   "outputs": [
    {
     "ename": "IndexError",
     "evalue": "list index out of range",
     "output_type": "error",
     "traceback": [
      "\u001b[0;31m---------------------------------------------------------------------------\u001b[0m",
      "\u001b[0;31mIndexError\u001b[0m                                Traceback (most recent call last)",
      "Cell \u001b[0;32mIn[64], line 1\u001b[0m\n\u001b[0;32m----> 1\u001b[0m \u001b[43mlst\u001b[49m\u001b[43m[\u001b[49m\u001b[38;5;241;43m100\u001b[39;49m\u001b[43m]\u001b[49m\n",
      "\u001b[0;31mIndexError\u001b[0m: list index out of range"
     ]
    }
   ],
   "source": [
    "lst[100]"
   ]
  },
  {
   "cell_type": "code",
   "execution_count": 65,
   "id": "9eea4790-b33e-4d6d-b9d5-2926f5f5e557",
   "metadata": {},
   "outputs": [],
   "source": [
    "new_list=['q','e','f','s','t','u']"
   ]
  },
  {
   "cell_type": "code",
   "execution_count": 66,
   "id": "ab6693da-2de3-4d94-83ec-0bad1880d365",
   "metadata": {},
   "outputs": [],
   "source": [
    "new_list.reverse()"
   ]
  },
  {
   "cell_type": "code",
   "execution_count": 67,
   "id": "5722dbba-5ca0-478d-8bf6-157514d91d55",
   "metadata": {},
   "outputs": [
    {
     "data": {
      "text/plain": [
       "['u', 't', 's', 'f', 'e', 'q']"
      ]
     },
     "execution_count": 67,
     "metadata": {},
     "output_type": "execute_result"
    }
   ],
   "source": [
    "new_list"
   ]
  },
  {
   "cell_type": "code",
   "execution_count": 68,
   "id": "a456c6d8-0dc2-4156-93a1-a0adab03eed3",
   "metadata": {},
   "outputs": [],
   "source": [
    "new_list.sort()"
   ]
  },
  {
   "cell_type": "code",
   "execution_count": 69,
   "id": "71e2805e-50f4-4f46-b034-89b76828f7ac",
   "metadata": {},
   "outputs": [
    {
     "data": {
      "text/plain": [
       "['e', 'f', 'q', 's', 't', 'u']"
      ]
     },
     "execution_count": 69,
     "metadata": {},
     "output_type": "execute_result"
    }
   ],
   "source": [
    "new_list"
   ]
  },
  {
   "cell_type": "markdown",
   "id": "75fef795-376c-4258-971b-a10b087599cc",
   "metadata": {},
   "source": [
    "##NESTED LIST"
   ]
  },
  {
   "cell_type": "code",
   "execution_count": 1,
   "id": "ba2f0238-be27-4058-9ed6-d7a8dad0fcf6",
   "metadata": {},
   "outputs": [],
   "source": [
    "lst_1=[1,2,3]\n",
    "lst_2=[4,5,6]\n",
    "lst_3=[7,8,9]\n",
    "matrix=[lst_1,lst_2,lst_3] #make a list of list to create matrix"
   ]
  },
  {
   "cell_type": "code",
   "execution_count": 2,
   "id": "6d693614-e36b-47ce-96b0-ce93246cef1f",
   "metadata": {},
   "outputs": [
    {
     "data": {
      "text/plain": [
       "[[1, 2, 3], [4, 5, 6], [7, 8, 9]]"
      ]
     },
     "execution_count": 2,
     "metadata": {},
     "output_type": "execute_result"
    }
   ],
   "source": [
    "matrix"
   ]
  },
  {
   "cell_type": "code",
   "execution_count": 4,
   "id": "8b514f27-c2c9-4384-bd61-f01aad8941dc",
   "metadata": {},
   "outputs": [
    {
     "data": {
      "text/plain": [
       "6"
      ]
     },
     "execution_count": 4,
     "metadata": {},
     "output_type": "execute_result"
    }
   ],
   "source": [
    "matrix[1][2]"
   ]
  },
  {
   "cell_type": "code",
   "execution_count": 5,
   "id": "69dc7a5a-1f0e-47f4-91ff-d0bf4d836049",
   "metadata": {},
   "outputs": [
    {
     "data": {
      "text/plain": [
       "6"
      ]
     },
     "execution_count": 5,
     "metadata": {},
     "output_type": "execute_result"
    }
   ],
   "source": [
    "matrix[-2][2]"
   ]
  },
  {
   "cell_type": "code",
   "execution_count": 6,
   "id": "c67c761c-c8f8-494e-acb2-56fb59798c62",
   "metadata": {},
   "outputs": [
    {
     "data": {
      "text/plain": [
       "[8, 9]"
      ]
     },
     "execution_count": 6,
     "metadata": {},
     "output_type": "execute_result"
    }
   ],
   "source": [
    "matrix[2][1:]"
   ]
  },
  {
   "cell_type": "code",
   "execution_count": 7,
   "id": "951ac6f9-312f-4afc-9352-bca607018311",
   "metadata": {},
   "outputs": [
    {
     "data": {
      "text/plain": [
       "[[1, 2, 3], [4, 5, 6], [7, 8, 9]]"
      ]
     },
     "execution_count": 7,
     "metadata": {},
     "output_type": "execute_result"
    }
   ],
   "source": [
    "matrix[:]"
   ]
  },
  {
   "cell_type": "code",
   "execution_count": 8,
   "id": "a0e6c039-f8ca-4036-807c-ea3234528f07",
   "metadata": {},
   "outputs": [
    {
     "data": {
      "text/plain": [
       "[1, 2, 3]"
      ]
     },
     "execution_count": 8,
     "metadata": {},
     "output_type": "execute_result"
    }
   ],
   "source": [
    "matrix[0:][0]"
   ]
  },
  {
   "cell_type": "markdown",
   "id": "e59bb942-bf08-4477-97d0-7527045c681e",
   "metadata": {},
   "source": [
    "##LIST COMPREHENSION"
   ]
  },
  {
   "cell_type": "code",
   "execution_count": 9,
   "id": "c5fe18d7-a638-4eed-ac17-accdafb3c448",
   "metadata": {},
   "outputs": [
    {
     "data": {
      "text/plain": [
       "[0, 1, 2, 3, 4, 5, 6, 7, 8, 9, 10, 11, 12, 13, 14, 15, 16, 17, 18, 19]"
      ]
     },
     "execution_count": 9,
     "metadata": {},
     "output_type": "execute_result"
    }
   ],
   "source": [
    "[i for i in range(20)]"
   ]
  },
  {
   "cell_type": "code",
   "execution_count": 10,
   "id": "1cd9ffca-ac59-4258-8331-d36f78975f4a",
   "metadata": {},
   "outputs": [
    {
     "data": {
      "text/plain": [
       "[0, '', 2, '', 4, '', 6, '', 8, '', 10, '', 12, '', 14, '', 16, '', 18, '']"
      ]
     },
     "execution_count": 10,
     "metadata": {},
     "output_type": "execute_result"
    }
   ],
   "source": [
    "[i if i%2==0 else \"\" for i in range(20)]"
   ]
  },
  {
   "cell_type": "code",
   "execution_count": 18,
   "id": "b477db33-5728-4fe4-9a6b-37f6b47aacae",
   "metadata": {},
   "outputs": [
    {
     "data": {
      "text/plain": [
       "[0,\n",
       " 'odd',\n",
       " 2,\n",
       " 'odd',\n",
       " 4,\n",
       " 'odd',\n",
       " 6,\n",
       " 'odd',\n",
       " 8,\n",
       " 'odd',\n",
       " 10,\n",
       " 'odd',\n",
       " 12,\n",
       " 'odd',\n",
       " 14,\n",
       " 'odd',\n",
       " 16,\n",
       " 'odd',\n",
       " 18,\n",
       " 'odd']"
      ]
     },
     "execution_count": 18,
     "metadata": {},
     "output_type": "execute_result"
    }
   ],
   "source": [
    "[i if i%2==0 else \"odd\" for i in range(20)]"
   ]
  },
  {
   "cell_type": "code",
   "execution_count": null,
   "id": "1d13fcfc-a114-490a-9d57-0958e66ee719",
   "metadata": {},
   "outputs": [
    {
     "data": {
      "text/plain": [
       "[0, 1, 2, 3, 4, 5, 6, 7, 8, 9, 10, 11, 12, 13, 14, 15, 16, 17, 18, 19]"
      ]
     },
     "execution_count": 16,
     "metadata": {},
     "output_type": "execute_result"
    }
   ],
   "source": [
    "[i for i in range(0,20)]"
   ]
  },
  {
   "cell_type": "code",
   "execution_count": 19,
   "id": "5d2e394e-e052-4401-bed9-bcc87db3f15a",
   "metadata": {},
   "outputs": [],
   "source": [
    "lst=[1,2,3,4,5,6,7,8]"
   ]
  },
  {
   "cell_type": "code",
   "execution_count": 21,
   "id": "2d0a882e-b093-4c4d-800d-b91aec444ae1",
   "metadata": {},
   "outputs": [
    {
     "name": "stdout",
     "output_type": "stream",
     "text": [
      "even sum:  20\n",
      "odd sum:  16\n"
     ]
    }
   ],
   "source": [
    "odd_sum=0\n",
    "even_sum=0\n",
    "for i in lst:\n",
    "    if i%2==0:\n",
    "        #even_sum=even_sum+i\n",
    "        even_sum+=i\n",
    "    else:\n",
    "        odd_sum=odd_sum+i\n",
    "print(\"even sum: \",even_sum)\n",
    "print(\"odd sum: \",odd_sum)"
   ]
  },
  {
   "cell_type": "code",
   "execution_count": 22,
   "id": "cb701e05-190d-4875-b3ac-db8040e4aaaa",
   "metadata": {},
   "outputs": [
    {
     "name": "stdout",
     "output_type": "stream",
     "text": [
      "20\n",
      "16\n"
     ]
    }
   ],
   "source": [
    "even_sum=sum([i for i in lst if i%2==0])\n",
    "odd_sum=sum([i for i in lst if i%2!=0])\n",
    "print(even_sum)\n",
    "print(odd_sum)"
   ]
  },
  {
   "cell_type": "code",
   "execution_count": 25,
   "id": "cab88076-0c2b-4c83-974a-82ef08a7e35f",
   "metadata": {},
   "outputs": [
    {
     "name": "stdout",
     "output_type": "stream",
     "text": [
      "[1, 2, 3, 4, 5, 6, 7, 8, 9, 10]\n",
      "[1, 4, 9, 16, 25, 36, 49, 64, 81, 100]\n",
      "[1, 4, 9, 16, 25, 36, 49, 64, 81, 100]\n"
     ]
    }
   ],
   "source": [
    "lst1=[1,2,3,4,5,6,7,8,9,10]\n",
    "lst2=[i*i for i in lst1]\n",
    "lst3=[i**2 for i in lst1]\n",
    "print(lst1)\n",
    "print(lst2)\n",
    "print(lst3)"
   ]
  },
  {
   "cell_type": "code",
   "execution_count": 26,
   "id": "7bb5a37f-aa1a-4497-919f-c9f42d3451dd",
   "metadata": {},
   "outputs": [
    {
     "name": "stdout",
     "output_type": "stream",
     "text": [
      "[1, 2, 3]\n"
     ]
    }
   ],
   "source": [
    "numbers=[-2,-1,0,1,2,3]\n",
    "pos_numbers=[i for i in numbers if i>0]\n",
    "print(pos_numbers)"
   ]
  },
  {
   "cell_type": "code",
   "execution_count": 27,
   "id": "e2e26e3b-b063-40ce-ad31-c23e98b61668",
   "metadata": {},
   "outputs": [
    {
     "name": "stdout",
     "output_type": "stream",
     "text": [
      "['a', 'b', 'c', 'd']\n"
     ]
    }
   ],
   "source": [
    "words=['apple','banana','cherry','date']\n",
    "letters=[i[0] for i in words]\n",
    "print(letters)"
   ]
  },
  {
   "cell_type": "code",
   "execution_count": 28,
   "id": "4918f758-2553-40c1-a724-fc8074ac2c35",
   "metadata": {},
   "outputs": [
    {
     "ename": "NameError",
     "evalue": "name 'temp' is not defined",
     "output_type": "error",
     "traceback": [
      "\u001b[0;31m---------------------------------------------------------------------------\u001b[0m",
      "\u001b[0;31mNameError\u001b[0m                                 Traceback (most recent call last)",
      "Cell \u001b[0;32mIn[28], line 1\u001b[0m\n\u001b[0;32m----> 1\u001b[0m (\u001b[38;5;241m9\u001b[39m\u001b[38;5;241m/\u001b[39m\u001b[38;5;241m5\u001b[39m)\u001b[38;5;241m*\u001b[39m\u001b[43mtemp\u001b[49m\u001b[38;5;241m+\u001b[39m\u001b[38;5;241m32\u001b[39m\n",
      "\u001b[0;31mNameError\u001b[0m: name 'temp' is not defined"
     ]
    }
   ],
   "source": [
    "(9/5)*temp+32"
   ]
  },
  {
   "cell_type": "code",
   "execution_count": 29,
   "id": "dc654709-20df-480a-b38a-dfc1c168f7f1",
   "metadata": {},
   "outputs": [],
   "source": [
    "celsius_temp=[0,10,20,30,40,50]  ##celsius to fahrenhait"
   ]
  },
  {
   "cell_type": "code",
   "execution_count": 30,
   "id": "fd930fe7-eefb-425b-8c51-0ce2341cd172",
   "metadata": {},
   "outputs": [
    {
     "name": "stdout",
     "output_type": "stream",
     "text": [
      "[32.0, 50.0, 68.0, 86.0, 104.0, 122.0]\n"
     ]
    }
   ],
   "source": [
    "fah_temp=[i*(9/5)+32 for i in celsius_temp]\n",
    "print(fah_temp)"
   ]
  },
  {
   "cell_type": "code",
   "execution_count": 32,
   "id": "02ad98c5-058b-49ba-af96-5520d04fb072",
   "metadata": {},
   "outputs": [],
   "source": [
    "##FLATTEN A LIST of lists USING LIST COMPREHENSION\n",
    "lists=[[1,2,3],[4,5,6],[7,8,9]]"
   ]
  },
  {
   "cell_type": "code",
   "execution_count": 44,
   "id": "1b73f668-1dfa-4794-b2f0-ef5fd9672eb7",
   "metadata": {},
   "outputs": [
    {
     "name": "stdout",
     "output_type": "stream",
     "text": [
      "[1, 2, 3, 4, 5, 6, 7, 8, 9]\n"
     ]
    }
   ],
   "source": [
    "flat_list=[j for i in lists for j in i]\n",
    "print(flat_list)"
   ]
  },
  {
   "cell_type": "code",
   "execution_count": 45,
   "id": "d769068c-80da-4432-bbb1-43526e6d0d06",
   "metadata": {},
   "outputs": [
    {
     "name": "stdout",
     "output_type": "stream",
     "text": [
      "1 2 3 4 5 6 7 8 9 "
     ]
    }
   ],
   "source": [
    "for i in lists:\n",
    "    for j in i:\n",
    "        print(j,end=\" \")"
   ]
  },
  {
   "cell_type": "code",
   "execution_count": 46,
   "id": "d4d94339-9fc9-4abc-8cbb-a4b385c17746",
   "metadata": {},
   "outputs": [
    {
     "data": {
      "text/plain": [
       "[1, 2, 3, 4, 5, 6, 7, 8, 9]"
      ]
     },
     "execution_count": 46,
     "metadata": {},
     "output_type": "execute_result"
    }
   ],
   "source": [
    "[num for sublist in lists for num in sublist]"
   ]
  },
  {
   "cell_type": "code",
   "execution_count": 47,
   "id": "5184cc42-b4a7-4ac9-9f75-1933e85a83f7",
   "metadata": {},
   "outputs": [],
   "source": [
    "#create a list of only prime numbers from a list\n",
    "numbers=[1,2,3,4,5,6,7,8,9]"
   ]
  },
  {
   "cell_type": "code",
   "execution_count": 53,
   "id": "499696c3-cfc4-41f2-9506-c8425068a880",
   "metadata": {},
   "outputs": [
    {
     "name": "stdout",
     "output_type": "stream",
     "text": [
      "[1, 2, 3, 4, 5, 6, 7, 8, 9, 2, 4, 6, 8, 3, 6, 9, 4, 8, 5, 6, 7, 8, 9]\n"
     ]
    }
   ],
   "source": [
    "prime_num=[i for j in numbers for i in numbers if i%j==0]\n",
    "print(prime_num)"
   ]
  },
  {
   "cell_type": "code",
   "execution_count": 54,
   "id": "c6098a9d-1f8d-4bb0-968a-b96055aecdb5",
   "metadata": {},
   "outputs": [],
   "source": [
    "#create a list of all the possible combinations of 2 elements from a list\n",
    "numbers=[1,2,3,4,5]"
   ]
  },
  {
   "cell_type": "code",
   "execution_count": null,
   "id": "c9498a80-af2b-4d29-abf9-2cecf0973037",
   "metadata": {},
   "outputs": [],
   "source": []
  }
 ],
 "metadata": {
  "kernelspec": {
   "display_name": "Python 3 (ipykernel)",
   "language": "python",
   "name": "python3"
  },
  "language_info": {
   "codemirror_mode": {
    "name": "ipython",
    "version": 3
   },
   "file_extension": ".py",
   "mimetype": "text/x-python",
   "name": "python",
   "nbconvert_exporter": "python",
   "pygments_lexer": "ipython3",
   "version": "3.10.8"
  }
 },
 "nbformat": 4,
 "nbformat_minor": 5
}
