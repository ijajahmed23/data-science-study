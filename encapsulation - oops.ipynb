{
 "cells": [
  {
   "cell_type": "code",
   "execution_count": 1,
   "id": "3324c9b6-5c1f-4fa5-be0c-773b5ba2b0e3",
   "metadata": {},
   "outputs": [],
   "source": [
    "#variables within constructor are called instannce variable. \n",
    "#for all objects instance variable's value is diferent.\n",
    "\n",
    "#ATM\n",
    "#we have to hide data members in class"
   ]
  },
  {
   "cell_type": "code",
   "execution_count": 1,
   "id": "bf2a4058-4b79-4fc2-a7fe-1dcbe61fb27c",
   "metadata": {},
   "outputs": [],
   "source": [
    "class Atm:\n",
    "    \n",
    "    def __init__(self):\n",
    "        self.__pin=\"\"  #__ for hiding data members...data encapsulation\n",
    "        self.__balance=0\n",
    "        \n",
    "        self.__menu()\n",
    "        \n",
    "    def __menu(self):\n",
    "        user_input=int(input(\"\"\"\n",
    "        1. 1 to create pin\n",
    "        2. 2 to deposit\n",
    "        3. 3 to withdraw\n",
    "        4. 4 to check balance\n",
    "        5. 5 to exit\n",
    "        \"\"\"))\n",
    "        \n",
    "        if user_input==1:\n",
    "            self.CreatePin()\n",
    "        elif user_input==2:\n",
    "            self.DepositAmount()\n",
    "        elif user_input==3:\n",
    "            self.WithdrawAmount()\n",
    "        elif user_input==4:\n",
    "            self.ShowBalanace()\n",
    "        else:\n",
    "            print(\"bye\")\n",
    "            \n",
    "    \n",
    "    def GetPin(self):\n",
    "        return self.__pin\n",
    "    \n",
    "    def SetPin(self,new_pin):\n",
    "        if type(new_pin)==str:\n",
    "            self.__pin=new_pin\n",
    "            print(\"pin changed\")\n",
    "        else:\n",
    "            print(\"not allowed\")\n",
    "                 \n",
    "    def CreatePin(self):\n",
    "        self.__pin=(input(\"enter pin to set: \"))\n",
    "        print(\"pin set successfully\")\n",
    "        \n",
    "    def DepositAmount(self):\n",
    "        temp=input(\"enter pin: \")\n",
    "        if temp==self.__pin:\n",
    "            n=int(input(\"eneter amount: \"))\n",
    "            self.__balance+=n\n",
    "            print(\"deposit successful\")\n",
    "        else:\n",
    "            print(\"wrong pin\")\n",
    "    \n",
    "    def WithdrawAmount(self):\n",
    "        temp=input(\"enter pin: \")\n",
    "        if temp==self.__pin:\n",
    "            n=int(input(\"eneter amount: \"))\n",
    "            if n<=self.__balance:\n",
    "                self.__balance-=n\n",
    "                print(\"withdraw successful\")\n",
    "            else:\n",
    "                print(\"insufficient balance\")\n",
    "            \n",
    "        else:\n",
    "            print(\"wrong pin\")\n",
    "        \n",
    "    def ShowBalanace(self):\n",
    "        n=int(input(\"enter pin: \"))\n",
    "        if int(n)==int(self.__pin):\n",
    "            print(\"balance: {}\".format(self.__balance))\n",
    "        else:\n",
    "            print(\"wrong pin\")\n",
    "    \n",
    "            \n",
    "        "
   ]
  },
  {
   "cell_type": "code",
   "execution_count": 14,
   "id": "c95c1241-e337-4f3f-91d0-4e6553a1481c",
   "metadata": {},
   "outputs": [
    {
     "name": "stdin",
     "output_type": "stream",
     "text": [
      "\n",
      "        1. 1 to create pin\n",
      "        2. 2 to deposit\n",
      "        3. 3 to withdraw\n",
      "        4. 4 to check balance\n",
      "        5. 5 to exit\n",
      "         2\n",
      "eneter amount:  4000\n"
     ]
    }
   ],
   "source": [
    "a=Atm(1234,34)"
   ]
  },
  {
   "cell_type": "code",
   "execution_count": 15,
   "id": "365a86e0-7021-4e1f-b0cb-6d04c522c494",
   "metadata": {},
   "outputs": [
    {
     "data": {
      "text/plain": [
       "4000"
      ]
     },
     "execution_count": 15,
     "metadata": {},
     "output_type": "execute_result"
    }
   ],
   "source": [
    "a.balance"
   ]
  },
  {
   "cell_type": "code",
   "execution_count": 2,
   "id": "7bb8eb12-1e1a-4788-a3f2-bec2a509fa3a",
   "metadata": {},
   "outputs": [
    {
     "name": "stdin",
     "output_type": "stream",
     "text": [
      "\n",
      "        1. 1 to create pin\n",
      "        2. 2 to deposit\n",
      "        3. 3 to withdraw\n",
      "        4. 4 to check balance\n",
      "        5. 5 to exit\n",
      "         1\n",
      "enter pin to set:  1234\n"
     ]
    },
    {
     "name": "stdout",
     "output_type": "stream",
     "text": [
      "pin set successfully\n"
     ]
    }
   ],
   "source": [
    "sbi=Atm()"
   ]
  },
  {
   "cell_type": "code",
   "execution_count": 3,
   "id": "3140cd70-250a-4aa2-bd0c-dc7616d1b8cf",
   "metadata": {},
   "outputs": [
    {
     "name": "stdin",
     "output_type": "stream",
     "text": [
      "enter pin:  1234\n",
      "eneter amount:  25000\n"
     ]
    },
    {
     "name": "stdout",
     "output_type": "stream",
     "text": [
      "deposit successful\n"
     ]
    }
   ],
   "source": [
    "sbi.DepositAmount()"
   ]
  },
  {
   "cell_type": "code",
   "execution_count": 4,
   "id": "991e44da-eef1-4bec-83f2-ca5748bff8d0",
   "metadata": {},
   "outputs": [
    {
     "name": "stdin",
     "output_type": "stream",
     "text": [
      "enter pin:  1234\n"
     ]
    },
    {
     "name": "stdout",
     "output_type": "stream",
     "text": [
      "balance: 25000\n"
     ]
    }
   ],
   "source": [
    "sbi.ShowBalanace()"
   ]
  },
  {
   "cell_type": "code",
   "execution_count": 5,
   "id": "e2cde362-c234-429a-8ab5-08d5d064a4b8",
   "metadata": {},
   "outputs": [
    {
     "name": "stdin",
     "output_type": "stream",
     "text": [
      "enter pin to set:  2345\n"
     ]
    },
    {
     "name": "stdout",
     "output_type": "stream",
     "text": [
      "pin set successfully\n"
     ]
    }
   ],
   "source": [
    "sbi.CreatePin()"
   ]
  },
  {
   "cell_type": "code",
   "execution_count": 23,
   "id": "07261eaf-a473-448e-b2d9-a736d6144d23",
   "metadata": {},
   "outputs": [
    {
     "name": "stdin",
     "output_type": "stream",
     "text": [
      "enter pin:  2345\n"
     ]
    },
    {
     "name": "stdout",
     "output_type": "stream",
     "text": [
      "wrong pin\n"
     ]
    }
   ],
   "source": [
    "sbi.ShowBalanace()"
   ]
  },
  {
   "cell_type": "code",
   "execution_count": 8,
   "id": "7b97394b-c676-4dd7-97bf-2393d4df3f54",
   "metadata": {},
   "outputs": [
    {
     "name": "stdout",
     "output_type": "stream",
     "text": [
      "pin changed\n"
     ]
    }
   ],
   "source": [
    "sbi.SetPin('2345')"
   ]
  },
  {
   "cell_type": "code",
   "execution_count": 28,
   "id": "aeda13d5-8415-4992-9741-3f4df1d94b5f",
   "metadata": {},
   "outputs": [
    {
     "name": "stdin",
     "output_type": "stream",
     "text": [
      "\n",
      "        1. 1 to create pin\n",
      "        2. 2 to deposit\n",
      "        3. 3 to withdraw\n",
      "        4. 4 to check balance\n",
      "        5. 5 to exit\n",
      "         1\n",
      "enter pin to set:  1234\n"
     ]
    },
    {
     "name": "stdout",
     "output_type": "stream",
     "text": [
      "pin set successfully\n"
     ]
    }
   ],
   "source": [
    "hdfc=Atm()"
   ]
  },
  {
   "cell_type": "code",
   "execution_count": 29,
   "id": "0e2f1596-32e5-4aeb-aed3-1993999bfe00",
   "metadata": {},
   "outputs": [
    {
     "name": "stdin",
     "output_type": "stream",
     "text": [
      "enter pin to set:  2345\n"
     ]
    },
    {
     "name": "stdout",
     "output_type": "stream",
     "text": [
      "pin set successfully\n"
     ]
    }
   ],
   "source": [
    "hdfc.CreatePin()\n"
   ]
  },
  {
   "cell_type": "code",
   "execution_count": 30,
   "id": "f09848b0-b2cf-45c3-8a77-cef2b765cccf",
   "metadata": {},
   "outputs": [
    {
     "data": {
      "text/plain": [
       "'2345'"
      ]
     },
     "execution_count": 30,
     "metadata": {},
     "output_type": "execute_result"
    }
   ],
   "source": [
    "hdfc.pin"
   ]
  },
  {
   "cell_type": "code",
   "execution_count": 31,
   "id": "884d420b-fcfa-42a5-bbe0-c79c6077a197",
   "metadata": {},
   "outputs": [
    {
     "name": "stdin",
     "output_type": "stream",
     "text": [
      "enter pin:  2345\n"
     ]
    },
    {
     "name": "stdout",
     "output_type": "stream",
     "text": [
      "balance: 0\n"
     ]
    }
   ],
   "source": [
    "hdfc.ShowBalanace()\n"
   ]
  },
  {
   "cell_type": "code",
   "execution_count": 32,
   "id": "971be352-fa5c-43e1-90c0-bee268f24bee",
   "metadata": {},
   "outputs": [
    {
     "name": "stdin",
     "output_type": "stream",
     "text": [
      "\n",
      "        1. 1 to create pin\n",
      "        2. 2 to deposit\n",
      "        3. 3 to withdraw\n",
      "        4. 4 to check balance\n",
      "        5. 5 to exit\n",
      "         1\n",
      "enter pin to set:  1234\n"
     ]
    },
    {
     "name": "stdout",
     "output_type": "stream",
     "text": [
      "pin set successfully\n"
     ]
    }
   ],
   "source": [
    "pnb=Atm()"
   ]
  },
  {
   "cell_type": "code",
   "execution_count": 34,
   "id": "ac833604-1f25-4545-8aee-f4593a87131b",
   "metadata": {},
   "outputs": [],
   "source": [
    "pnb.balance=5000"
   ]
  },
  {
   "cell_type": "code",
   "execution_count": 35,
   "id": "ea620192-c73b-485a-b490-7984d29b6316",
   "metadata": {},
   "outputs": [
    {
     "data": {
      "text/plain": [
       "5000"
      ]
     },
     "execution_count": 35,
     "metadata": {},
     "output_type": "execute_result"
    }
   ],
   "source": [
    "pnb.balance"
   ]
  },
  {
   "cell_type": "code",
   "execution_count": 36,
   "id": "4c6f71ee-f8c6-49ef-86ed-56289a9fcce4",
   "metadata": {},
   "outputs": [
    {
     "name": "stdin",
     "output_type": "stream",
     "text": [
      "\n",
      "        1. 1 to create pin\n",
      "        2. 2 to deposit\n",
      "        3. 3 to withdraw\n",
      "        4. 4 to check balance\n",
      "        5. 5 to exit\n",
      "         1\n",
      "enter pin to set:  2345\n"
     ]
    },
    {
     "name": "stdout",
     "output_type": "stream",
     "text": [
      "pin set successfully\n"
     ]
    }
   ],
   "source": [
    "abc=Atm()"
   ]
  },
  {
   "cell_type": "code",
   "execution_count": 42,
   "id": "dae12f16-4507-4a6e-9340-90a1ed175d88",
   "metadata": {},
   "outputs": [
    {
     "ename": "AttributeError",
     "evalue": "'Atm' object has no attribute '_Atm__menu'",
     "output_type": "error",
     "traceback": [
      "\u001b[0;31m---------------------------------------------------------------------------\u001b[0m",
      "\u001b[0;31mAttributeError\u001b[0m                            Traceback (most recent call last)",
      "Cell \u001b[0;32mIn[42], line 1\u001b[0m\n\u001b[0;32m----> 1\u001b[0m bcd\u001b[38;5;241m=\u001b[39m\u001b[43mAtm\u001b[49m\u001b[43m(\u001b[49m\u001b[43m)\u001b[49m\n",
      "Cell \u001b[0;32mIn[41], line 7\u001b[0m, in \u001b[0;36mAtm.__init__\u001b[0;34m(self)\u001b[0m\n\u001b[1;32m      4\u001b[0m \u001b[38;5;28mself\u001b[39m\u001b[38;5;241m.\u001b[39m__pin\u001b[38;5;241m=\u001b[39m\u001b[38;5;124m\"\u001b[39m\u001b[38;5;124m\"\u001b[39m\n\u001b[1;32m      5\u001b[0m \u001b[38;5;28mself\u001b[39m\u001b[38;5;241m.\u001b[39m__balance\u001b[38;5;241m=\u001b[39m\u001b[38;5;241m0\u001b[39m\n\u001b[0;32m----> 7\u001b[0m \u001b[38;5;28;43mself\u001b[39;49m\u001b[38;5;241;43m.\u001b[39;49m\u001b[43m__menu\u001b[49m()\n",
      "\u001b[0;31mAttributeError\u001b[0m: 'Atm' object has no attribute '_Atm__menu'"
     ]
    }
   ],
   "source": [
    "bcd=Atm()"
   ]
  },
  {
   "cell_type": "code",
   "execution_count": 45,
   "id": "8ff7af5f-b18f-40db-8a2d-8cf8fe01ab2a",
   "metadata": {},
   "outputs": [
    {
     "name": "stdin",
     "output_type": "stream",
     "text": [
      "\n",
      "        1. 1 to create pin\n",
      "        2. 2 to deposit\n",
      "        3. 3 to withdraw\n",
      "        4. 4 to check balance\n",
      "        5. 5 to exit\n",
      "         1\n",
      "enter pin to set:  1234\n"
     ]
    },
    {
     "name": "stdout",
     "output_type": "stream",
     "text": [
      "pin set successfully\n"
     ]
    }
   ],
   "source": [
    "asd=Atm()"
   ]
  },
  {
   "cell_type": "code",
   "execution_count": 50,
   "id": "f78bceb3-891e-4d40-a313-58443bd09b57",
   "metadata": {},
   "outputs": [
    {
     "name": "stdin",
     "output_type": "stream",
     "text": [
      "\n",
      "        1. 1 to create pin\n",
      "        2. 2 to deposit\n",
      "        3. 3 to withdraw\n",
      "        4. 4 to check balance\n",
      "        5. 5 to exit\n",
      "         1\n",
      "enter pin to set:  1234\n"
     ]
    },
    {
     "name": "stdout",
     "output_type": "stream",
     "text": [
      "pin set successfully\n"
     ]
    }
   ],
   "source": [
    "asd=Atm()"
   ]
  },
  {
   "cell_type": "code",
   "execution_count": 51,
   "id": "9d2111b2-f5a3-45e0-89e8-992fda83eb15",
   "metadata": {},
   "outputs": [
    {
     "data": {
      "text/plain": [
       "'1234'"
      ]
     },
     "execution_count": 51,
     "metadata": {},
     "output_type": "execute_result"
    }
   ],
   "source": [
    "asd.GetPin()"
   ]
  },
  {
   "cell_type": "code",
   "execution_count": 53,
   "id": "3cc5a2f0-c281-46cf-b14e-46be5ca92935",
   "metadata": {},
   "outputs": [
    {
     "name": "stdout",
     "output_type": "stream",
     "text": [
      "pin changed\n"
     ]
    }
   ],
   "source": [
    "asd.SetPin(2345)"
   ]
  },
  {
   "cell_type": "code",
   "execution_count": 54,
   "id": "dc5b81b8-1d48-4ff7-8382-a0b8997a1d53",
   "metadata": {},
   "outputs": [
    {
     "data": {
      "text/plain": [
       "2345"
      ]
     },
     "execution_count": 54,
     "metadata": {},
     "output_type": "execute_result"
    }
   ],
   "source": [
    "asd.GetPin()"
   ]
  },
  {
   "cell_type": "code",
   "execution_count": 57,
   "id": "62b11c3c-9dcd-472c-b841-7e750933ec7a",
   "metadata": {},
   "outputs": [
    {
     "name": "stdout",
     "output_type": "stream",
     "text": [
      "pin changed\n"
     ]
    }
   ],
   "source": [
    "asd.SetPin(5.6)"
   ]
  },
  {
   "cell_type": "code",
   "execution_count": 58,
   "id": "94292918-ec43-4c42-92a8-e82cfd58cc4f",
   "metadata": {},
   "outputs": [
    {
     "name": "stdin",
     "output_type": "stream",
     "text": [
      "\n",
      "        1. 1 to create pin\n",
      "        2. 2 to deposit\n",
      "        3. 3 to withdraw\n",
      "        4. 4 to check balance\n",
      "        5. 5 to exit\n",
      "         1\n",
      "enter pin to set:  1234\n"
     ]
    },
    {
     "name": "stdout",
     "output_type": "stream",
     "text": [
      "pin set successfully\n"
     ]
    }
   ],
   "source": [
    "dsa=Atm()"
   ]
  },
  {
   "cell_type": "code",
   "execution_count": 59,
   "id": "28808345-7a17-46b9-9278-e38995705e9c",
   "metadata": {},
   "outputs": [
    {
     "data": {
      "text/plain": [
       "'1234'"
      ]
     },
     "execution_count": 59,
     "metadata": {},
     "output_type": "execute_result"
    }
   ],
   "source": [
    "dsa.GetPin()"
   ]
  },
  {
   "cell_type": "code",
   "execution_count": 61,
   "id": "e671d2ce-ce81-493c-a8c3-84a2ad07cf96",
   "metadata": {},
   "outputs": [
    {
     "name": "stdout",
     "output_type": "stream",
     "text": [
      "pin changed\n"
     ]
    }
   ],
   "source": [
    "dsa.SetPin(\"2345\")"
   ]
  },
  {
   "cell_type": "code",
   "execution_count": 62,
   "id": "e050d60a-f4f3-47cb-a403-de98a9cec10a",
   "metadata": {},
   "outputs": [
    {
     "data": {
      "text/plain": [
       "'2345'"
      ]
     },
     "execution_count": 62,
     "metadata": {},
     "output_type": "execute_result"
    }
   ],
   "source": [
    "dsa.GetPin()"
   ]
  },
  {
   "cell_type": "code",
   "execution_count": null,
   "id": "83d1dd18-fce6-4548-b64c-a1e04b8131d9",
   "metadata": {},
   "outputs": [],
   "source": []
  }
 ],
 "metadata": {
  "kernelspec": {
   "display_name": "Python 3 (ipykernel)",
   "language": "python",
   "name": "python3"
  },
  "language_info": {
   "codemirror_mode": {
    "name": "ipython",
    "version": 3
   },
   "file_extension": ".py",
   "mimetype": "text/x-python",
   "name": "python",
   "nbconvert_exporter": "python",
   "pygments_lexer": "ipython3",
   "version": "3.10.8"
  }
 },
 "nbformat": 4,
 "nbformat_minor": 5
}
